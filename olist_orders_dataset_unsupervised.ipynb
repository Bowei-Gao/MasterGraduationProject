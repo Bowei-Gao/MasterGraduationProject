{
 "cells": [
  {
   "attachments": {},
   "cell_type": "markdown",
   "id": "e38f652b48103b4f",
   "metadata": {
    "collapsed": false
   },
   "source": [
    "# Unsupervised"
   ]
  },
  {
   "attachments": {},
   "cell_type": "markdown",
   "id": "fe9c1c24882831e2",
   "metadata": {},
   "source": [
    "### Preprocess the dataset for clustering"
   ]
  },
  {
   "attachments": {},
   "cell_type": "markdown",
   "id": "6f9deedb030709bb",
   "metadata": {},
   "source": [
    "Create a balanced dataset."
   ]
  },
  {
   "cell_type": "code",
   "execution_count": 43,
   "id": "5abaa6513ce61aee",
   "metadata": {
    "ExecuteTime": {
     "end_time": "2023-11-06T17:41:36.219462Z",
     "start_time": "2023-11-06T17:41:36.206212Z"
    }
   },
   "outputs": [],
   "source": [
    "df_True = df[df.anomaly]\n",
    "df_False = df[df.anomaly==False]\n",
    "\n",
    "df_False = resample(df_False, replace=True, n_samples=df_True.shape[0])\n",
    "\n",
    "df_balanced = shuffle(pd.concat([df_True, df_False]))\n",
    "df_balanced.reset_index(drop=True, inplace=True)\n",
    "X_balanced = df_balanced.drop(['anomaly'], axis=1)\n",
    "y_balanced = df_balanced['anomaly']"
   ]
  },
  {
   "attachments": {},
   "cell_type": "markdown",
   "id": "d3ecbf13b830b91f",
   "metadata": {},
   "source": [
    "Using only selected features"
   ]
  },
  {
   "cell_type": "code",
   "execution_count": 44,
   "id": "3b4a2aca304c169a",
   "metadata": {
    "ExecuteTime": {
     "end_time": "2023-11-06T17:41:36.222616Z",
     "start_time": "2023-11-06T17:41:36.216001Z"
    }
   },
   "outputs": [],
   "source": [
    "X_balanced = pd.DataFrame(X_balanced[columns1])\n",
    "X = pd.DataFrame(X[columns1])"
   ]
  },
  {
   "attachments": {},
   "cell_type": "markdown",
   "id": "d18f0610ec25e8d2",
   "metadata": {},
   "source": [
    "Transform the features to follow a normal distribution"
   ]
  },
  {
   "cell_type": "code",
   "execution_count": 45,
   "id": "71bd7a59335ca009",
   "metadata": {
    "ExecuteTime": {
     "end_time": "2023-11-06T17:41:36.438312Z",
     "start_time": "2023-11-06T17:41:36.221305Z"
    }
   },
   "outputs": [],
   "source": [
    "from sklearn.preprocessing import QuantileTransformer\n",
    "\n",
    "qt = QuantileTransformer(output_distribution='normal')\n",
    "X_balanced = pd.DataFrame(qt.fit_transform(X_balanced), columns=columns1)\n",
    "X = pd.DataFrame(qt.fit_transform(X), columns=columns1)"
   ]
  },
  {
   "cell_type": "code",
   "execution_count": 49,
   "id": "b14a7bf69bd54e94",
   "metadata": {
    "ExecuteTime": {
     "end_time": "2023-11-06T10:57:19.416761Z",
     "start_time": "2023-11-06T10:57:19.413457Z"
    }
   },
   "outputs": [
    {
     "data": {
      "text/html": [
       "<div>\n",
       "<style scoped>\n",
       "    .dataframe tbody tr th:only-of-type {\n",
       "        vertical-align: middle;\n",
       "    }\n",
       "\n",
       "    .dataframe tbody tr th {\n",
       "        vertical-align: top;\n",
       "    }\n",
       "\n",
       "    .dataframe thead th {\n",
       "        text-align: right;\n",
       "    }\n",
       "</style>\n",
       "<table border=\"1\" class=\"dataframe\">\n",
       "  <thead>\n",
       "    <tr style=\"text-align: right;\">\n",
       "      <th></th>\n",
       "      <th>time_estimate_delivery</th>\n",
       "      <th>year</th>\n",
       "      <th>month</th>\n",
       "      <th>day</th>\n",
       "      <th>freight_value</th>\n",
       "      <th>seller_zip_code_prefix</th>\n",
       "      <th>seller_geolocation_lat</th>\n",
       "      <th>seller_geolocation_lng</th>\n",
       "      <th>customer_zip_code_prefix</th>\n",
       "      <th>customer_geolocation_lat</th>\n",
       "      <th>customer_geolocation_lng</th>\n",
       "      <th>distance</th>\n",
       "    </tr>\n",
       "  </thead>\n",
       "  <tbody>\n",
       "    <tr>\n",
       "      <th>0</th>\n",
       "      <td>-0.920412</td>\n",
       "      <td>-0.758004</td>\n",
       "      <td>1.016672</td>\n",
       "      <td>-1.659093</td>\n",
       "      <td>-1.307063</td>\n",
       "      <td>-0.411534</td>\n",
       "      <td>-0.967422</td>\n",
       "      <td>0.866189</td>\n",
       "      <td>-1.727428</td>\n",
       "      <td>-0.648586</td>\n",
       "      <td>0.085789</td>\n",
       "      <td>-1.430600</td>\n",
       "    </tr>\n",
       "    <tr>\n",
       "      <th>1</th>\n",
       "      <td>-0.429351</td>\n",
       "      <td>5.199338</td>\n",
       "      <td>0.307111</td>\n",
       "      <td>0.759677</td>\n",
       "      <td>0.810661</td>\n",
       "      <td>0.758004</td>\n",
       "      <td>1.684464</td>\n",
       "      <td>1.358913</td>\n",
       "      <td>0.569502</td>\n",
       "      <td>1.369978</td>\n",
       "      <td>0.471365</td>\n",
       "      <td>0.137889</td>\n",
       "    </tr>\n",
       "    <tr>\n",
       "      <th>2</th>\n",
       "      <td>0.739737</td>\n",
       "      <td>5.199338</td>\n",
       "      <td>0.595437</td>\n",
       "      <td>-0.687939</td>\n",
       "      <td>0.516485</td>\n",
       "      <td>0.156199</td>\n",
       "      <td>0.955471</td>\n",
       "      <td>-0.587964</td>\n",
       "      <td>0.933438</td>\n",
       "      <td>0.991512</td>\n",
       "      <td>-0.756400</td>\n",
       "      <td>0.292515</td>\n",
       "    </tr>\n",
       "    <tr>\n",
       "      <th>3</th>\n",
       "      <td>0.300542</td>\n",
       "      <td>-0.758004</td>\n",
       "      <td>1.312981</td>\n",
       "      <td>0.191865</td>\n",
       "      <td>1.103461</td>\n",
       "      <td>0.769761</td>\n",
       "      <td>1.649237</td>\n",
       "      <td>1.475269</td>\n",
       "      <td>0.680177</td>\n",
       "      <td>1.812669</td>\n",
       "      <td>2.136955</td>\n",
       "      <td>1.018518</td>\n",
       "    </tr>\n",
       "    <tr>\n",
       "      <th>4</th>\n",
       "      <td>-1.161976</td>\n",
       "      <td>5.199338</td>\n",
       "      <td>-1.169401</td>\n",
       "      <td>-0.241963</td>\n",
       "      <td>-1.307063</td>\n",
       "      <td>-0.497809</td>\n",
       "      <td>-0.370902</td>\n",
       "      <td>1.035790</td>\n",
       "      <td>-0.766037</td>\n",
       "      <td>-0.910895</td>\n",
       "      <td>0.203379</td>\n",
       "      <td>-1.310870</td>\n",
       "    </tr>\n",
       "    <tr>\n",
       "      <th>...</th>\n",
       "      <td>...</td>\n",
       "      <td>...</td>\n",
       "      <td>...</td>\n",
       "      <td>...</td>\n",
       "      <td>...</td>\n",
       "      <td>...</td>\n",
       "      <td>...</td>\n",
       "      <td>...</td>\n",
       "      <td>...</td>\n",
       "      <td>...</td>\n",
       "      <td>...</td>\n",
       "      <td>...</td>\n",
       "    </tr>\n",
       "    <tr>\n",
       "      <th>102275</th>\n",
       "      <td>0.300542</td>\n",
       "      <td>5.199338</td>\n",
       "      <td>-1.169401</td>\n",
       "      <td>-0.922330</td>\n",
       "      <td>0.618283</td>\n",
       "      <td>0.489307</td>\n",
       "      <td>0.625137</td>\n",
       "      <td>-1.475269</td>\n",
       "      <td>-0.632098</td>\n",
       "      <td>-1.099297</td>\n",
       "      <td>0.260089</td>\n",
       "      <td>0.045511</td>\n",
       "    </tr>\n",
       "    <tr>\n",
       "      <th>102276</th>\n",
       "      <td>1.109378</td>\n",
       "      <td>-0.758004</td>\n",
       "      <td>0.595437</td>\n",
       "      <td>1.194628</td>\n",
       "      <td>2.100262</td>\n",
       "      <td>-0.549574</td>\n",
       "      <td>-0.447305</td>\n",
       "      <td>0.854624</td>\n",
       "      <td>0.553133</td>\n",
       "      <td>0.956103</td>\n",
       "      <td>1.515500</td>\n",
       "      <td>-0.592435</td>\n",
       "    </tr>\n",
       "    <tr>\n",
       "      <th>102277</th>\n",
       "      <td>1.467860</td>\n",
       "      <td>5.199338</td>\n",
       "      <td>-5.199338</td>\n",
       "      <td>-0.687939</td>\n",
       "      <td>1.565654</td>\n",
       "      <td>0.868016</td>\n",
       "      <td>1.125776</td>\n",
       "      <td>1.164444</td>\n",
       "      <td>0.124629</td>\n",
       "      <td>0.278068</td>\n",
       "      <td>1.149613</td>\n",
       "      <td>1.342177</td>\n",
       "    </tr>\n",
       "    <tr>\n",
       "      <th>102278</th>\n",
       "      <td>1.467860</td>\n",
       "      <td>5.199338</td>\n",
       "      <td>-5.199338</td>\n",
       "      <td>-0.687939</td>\n",
       "      <td>1.565654</td>\n",
       "      <td>0.868016</td>\n",
       "      <td>1.125776</td>\n",
       "      <td>1.164444</td>\n",
       "      <td>0.124629</td>\n",
       "      <td>0.278068</td>\n",
       "      <td>1.149613</td>\n",
       "      <td>1.342177</td>\n",
       "    </tr>\n",
       "    <tr>\n",
       "      <th>102279</th>\n",
       "      <td>0.517790</td>\n",
       "      <td>5.199338</td>\n",
       "      <td>-0.797044</td>\n",
       "      <td>-0.687939</td>\n",
       "      <td>0.404774</td>\n",
       "      <td>0.121995</td>\n",
       "      <td>1.326194</td>\n",
       "      <td>-0.325577</td>\n",
       "      <td>1.136510</td>\n",
       "      <td>-1.296589</td>\n",
       "      <td>-1.075791</td>\n",
       "      <td>-0.305665</td>\n",
       "    </tr>\n",
       "  </tbody>\n",
       "</table>\n",
       "<p>102280 rows × 12 columns</p>\n",
       "</div>"
      ],
      "text/plain": [
       "        time_estimate_delivery      year     month       day  freight_value  \\\n",
       "0                    -0.920412 -0.758004  1.016672 -1.659093      -1.307063   \n",
       "1                    -0.429351  5.199338  0.307111  0.759677       0.810661   \n",
       "2                     0.739737  5.199338  0.595437 -0.687939       0.516485   \n",
       "3                     0.300542 -0.758004  1.312981  0.191865       1.103461   \n",
       "4                    -1.161976  5.199338 -1.169401 -0.241963      -1.307063   \n",
       "...                        ...       ...       ...       ...            ...   \n",
       "102275                0.300542  5.199338 -1.169401 -0.922330       0.618283   \n",
       "102276                1.109378 -0.758004  0.595437  1.194628       2.100262   \n",
       "102277                1.467860  5.199338 -5.199338 -0.687939       1.565654   \n",
       "102278                1.467860  5.199338 -5.199338 -0.687939       1.565654   \n",
       "102279                0.517790  5.199338 -0.797044 -0.687939       0.404774   \n",
       "\n",
       "        seller_zip_code_prefix  seller_geolocation_lat  \\\n",
       "0                    -0.411534               -0.967422   \n",
       "1                     0.758004                1.684464   \n",
       "2                     0.156199                0.955471   \n",
       "3                     0.769761                1.649237   \n",
       "4                    -0.497809               -0.370902   \n",
       "...                        ...                     ...   \n",
       "102275                0.489307                0.625137   \n",
       "102276               -0.549574               -0.447305   \n",
       "102277                0.868016                1.125776   \n",
       "102278                0.868016                1.125776   \n",
       "102279                0.121995                1.326194   \n",
       "\n",
       "        seller_geolocation_lng  customer_zip_code_prefix  \\\n",
       "0                     0.866189                 -1.727428   \n",
       "1                     1.358913                  0.569502   \n",
       "2                    -0.587964                  0.933438   \n",
       "3                     1.475269                  0.680177   \n",
       "4                     1.035790                 -0.766037   \n",
       "...                        ...                       ...   \n",
       "102275               -1.475269                 -0.632098   \n",
       "102276                0.854624                  0.553133   \n",
       "102277                1.164444                  0.124629   \n",
       "102278                1.164444                  0.124629   \n",
       "102279               -0.325577                  1.136510   \n",
       "\n",
       "        customer_geolocation_lat  customer_geolocation_lng  distance  \n",
       "0                      -0.648586                  0.085789 -1.430600  \n",
       "1                       1.369978                  0.471365  0.137889  \n",
       "2                       0.991512                 -0.756400  0.292515  \n",
       "3                       1.812669                  2.136955  1.018518  \n",
       "4                      -0.910895                  0.203379 -1.310870  \n",
       "...                          ...                       ...       ...  \n",
       "102275                 -1.099297                  0.260089  0.045511  \n",
       "102276                  0.956103                  1.515500 -0.592435  \n",
       "102277                  0.278068                  1.149613  1.342177  \n",
       "102278                  0.278068                  1.149613  1.342177  \n",
       "102279                 -1.296589                 -1.075791 -0.305665  \n",
       "\n",
       "[102280 rows x 12 columns]"
      ]
     },
     "execution_count": 49,
     "metadata": {},
     "output_type": "execute_result"
    }
   ],
   "source": [
    "X"
   ]
  },
  {
   "attachments": {},
   "cell_type": "markdown",
   "id": "9a38381c9ad8709c",
   "metadata": {},
   "source": [
    "### Visualization of clustering after PCA"
   ]
  },
  {
   "attachments": {},
   "cell_type": "markdown",
   "id": "b3cc9ddcf8ec2048",
   "metadata": {},
   "source": [
    "unbalanced"
   ]
  },
  {
   "cell_type": "code",
   "execution_count": 50,
   "id": "87b20e9f5a4317dc",
   "metadata": {
    "ExecuteTime": {
     "end_time": "2023-11-06T10:57:23.189983Z",
     "start_time": "2023-11-06T10:57:19.416869Z"
    }
   },
   "outputs": [
    {
     "data": {
      "text/plain": [
       "<Axes: xlabel='x', ylabel='y'>"
      ]
     },
     "execution_count": 50,
     "metadata": {},
     "output_type": "execute_result"
    },
    {
     "data": {
      "image/png": "[encoded data removed]",
      "text/plain": [
       "<Figure size 640x480 with 1 Axes>"
      ]
     },
     "metadata": {},
     "output_type": "display_data"
    }
   ],
   "source": [
    "from sklearn.decomposition import  PCA\n",
    "\n",
    "pca = PCA(n_components=2)\n",
    "pct = pca.fit_transform(X)\n",
    "\n",
    "colors = ['yellow' if elem else 'blue' for elem in y]\n",
    "\n",
    "data = pd.concat([pd.DataFrame(pct), pd.DataFrame(colors)], axis=1)\n",
    "\n",
    "data.columns = ['x', 'y', 'label']\n",
    "\n",
    "import seaborn as sns\n",
    "\n",
    "sns.scatterplot(data=data, x=\"x\", y=\"y\", hue=\"label\")"
   ]
  },
  {
   "attachments": {},
   "cell_type": "markdown",
   "id": "1dd8055dc1ca70ba",
   "metadata": {},
   "source": [
    "balanced"
   ]
  },
  {
   "cell_type": "code",
   "execution_count": 51,
   "id": "14952ff2d4470655",
   "metadata": {
    "ExecuteTime": {
     "end_time": "2023-11-06T10:57:24.540708Z",
     "start_time": "2023-11-06T10:57:23.200775Z"
    }
   },
   "outputs": [
    {
     "data": {
      "text/plain": [
       "<Axes: xlabel='x', ylabel='y'>"
      ]
     },
     "execution_count": 51,
     "metadata": {},
     "output_type": "execute_result"
    },
    {
     "data": {
      "image/png": "[encoded data removed]",
      "text/plain": [
       "<Figure size 640x480 with 1 Axes>"
      ]
     },
     "metadata": {},
     "output_type": "display_data"
    }
   ],
   "source": [
    "from sklearn.decomposition import  PCA\n",
    "\n",
    "pca_balanced = PCA(n_components=2)\n",
    "pct_balanced = pca_balanced.fit_transform(X_balanced)\n",
    "\n",
    "colors_balanced = ['yellow' if elem else 'blue' for elem in y_balanced]\n",
    "\n",
    "data_balanced = pd.concat([pd.DataFrame(pct_balanced), pd.DataFrame(colors_balanced)], axis=1)\n",
    "\n",
    "data_balanced.columns = ['x', 'y', 'label']\n",
    "\n",
    "sns.scatterplot(data=data_balanced, x=\"x\", y=\"y\", hue=\"label\")"
   ]
  },
  {
   "attachments": {},
   "cell_type": "markdown",
   "id": "48b99e689ea1fc4",
   "metadata": {},
   "source": [
    "### KMeans"
   ]
  },
  {
   "attachments": {},
   "cell_type": "markdown",
   "id": "644541c5b15dda31",
   "metadata": {},
   "source": [
    "#### Unbalanced KMeans"
   ]
  },
  {
   "cell_type": "code",
   "execution_count": 52,
   "id": "be24e2981d6ca692",
   "metadata": {
    "ExecuteTime": {
     "end_time": "2023-11-06T10:57:39.061671Z",
     "start_time": "2023-11-06T10:57:24.540350Z"
    }
   },
   "outputs": [
    {
     "name": "stderr",
     "output_type": "stream",
     "text": [
      "/Users/boweigao/miniconda3/lib/python3.11/site-packages/sklearn/cluster/_kmeans.py:1416: FutureWarning: The default value of `n_init` will change from 10 to 'auto' in 1.4. Set the value of `n_init` explicitly to suppress the warning\n",
      "  super()._check_params_vs_input(X, default_n_init=10)\n",
      "/Users/boweigao/miniconda3/lib/python3.11/site-packages/sklearn/cluster/_kmeans.py:1416: FutureWarning: The default value of `n_init` will change from 10 to 'auto' in 1.4. Set the value of `n_init` explicitly to suppress the warning\n",
      "  super()._check_params_vs_input(X, default_n_init=10)\n",
      "/Users/boweigao/miniconda3/lib/python3.11/site-packages/sklearn/cluster/_kmeans.py:1416: FutureWarning: The default value of `n_init` will change from 10 to 'auto' in 1.4. Set the value of `n_init` explicitly to suppress the warning\n",
      "  super()._check_params_vs_input(X, default_n_init=10)\n",
      "/Users/boweigao/miniconda3/lib/python3.11/site-packages/sklearn/cluster/_kmeans.py:1416: FutureWarning: The default value of `n_init` will change from 10 to 'auto' in 1.4. Set the value of `n_init` explicitly to suppress the warning\n",
      "  super()._check_params_vs_input(X, default_n_init=10)\n",
      "/Users/boweigao/miniconda3/lib/python3.11/site-packages/sklearn/cluster/_kmeans.py:1416: FutureWarning: The default value of `n_init` will change from 10 to 'auto' in 1.4. Set the value of `n_init` explicitly to suppress the warning\n",
      "  super()._check_params_vs_input(X, default_n_init=10)\n",
      "/Users/boweigao/miniconda3/lib/python3.11/site-packages/sklearn/cluster/_kmeans.py:1416: FutureWarning: The default value of `n_init` will change from 10 to 'auto' in 1.4. Set the value of `n_init` explicitly to suppress the warning\n",
      "  super()._check_params_vs_input(X, default_n_init=10)\n",
      "/Users/boweigao/miniconda3/lib/python3.11/site-packages/sklearn/cluster/_kmeans.py:1416: FutureWarning: The default value of `n_init` will change from 10 to 'auto' in 1.4. Set the value of `n_init` explicitly to suppress the warning\n",
      "  super()._check_params_vs_input(X, default_n_init=10)\n",
      "/Users/boweigao/miniconda3/lib/python3.11/site-packages/sklearn/cluster/_kmeans.py:1416: FutureWarning: The default value of `n_init` will change from 10 to 'auto' in 1.4. Set the value of `n_init` explicitly to suppress the warning\n",
      "  super()._check_params_vs_input(X, default_n_init=10)\n",
      "/Users/boweigao/miniconda3/lib/python3.11/site-packages/sklearn/cluster/_kmeans.py:1416: FutureWarning: The default value of `n_init` will change from 10 to 'auto' in 1.4. Set the value of `n_init` explicitly to suppress the warning\n",
      "  super()._check_params_vs_input(X, default_n_init=10)\n",
      "/Users/boweigao/miniconda3/lib/python3.11/site-packages/sklearn/cluster/_kmeans.py:1416: FutureWarning: The default value of `n_init` will change from 10 to 'auto' in 1.4. Set the value of `n_init` explicitly to suppress the warning\n",
      "  super()._check_params_vs_input(X, default_n_init=10)\n"
     ]
    },
    {
     "data": {
      "image/png": "[encoded data removed]",
      "text/plain": [
       "<Figure size 800x550 with 2 Axes>"
      ]
     },
     "metadata": {},
     "output_type": "display_data"
    },
    {
     "data": {
      "text/plain": [
       "<Axes: title={'center': 'Distortion Score Elbow for KMeans Clustering'}, xlabel='k', ylabel='distortion score'>"
      ]
     },
     "execution_count": 52,
     "metadata": {},
     "output_type": "execute_result"
    }
   ],
   "source": [
    "from sklearn.cluster import KMeans\n",
    "from yellowbrick.cluster import KElbowVisualizer\n",
    "\n",
    "# Instantiate the clustering model and visualizer\n",
    "model = KMeans()\n",
    "visualizer = KElbowVisualizer(model, k=(2, 12))\n",
    "\n",
    "visualizer.fit(X)        # Fit the data to the visualizer\n",
    "visualizer.show()        # Finalize and render the figure"
   ]
  },
  {
   "attachments": {},
   "cell_type": "markdown",
   "id": "6f0dec3f5a8462a3",
   "metadata": {},
   "source": [
    "The optimal number of clusters is 5."
   ]
  },
  {
   "cell_type": "code",
   "execution_count": 53,
   "id": "6e8f2376f8fe1ee",
   "metadata": {
    "ExecuteTime": {
     "end_time": "2023-11-06T10:57:40.983277Z",
     "start_time": "2023-11-06T10:57:39.061115Z"
    }
   },
   "outputs": [
    {
     "data": {
      "text/html": [
       "<div>\n",
       "<style scoped>\n",
       "    .dataframe tbody tr th:only-of-type {\n",
       "        vertical-align: middle;\n",
       "    }\n",
       "\n",
       "    .dataframe tbody tr th {\n",
       "        vertical-align: top;\n",
       "    }\n",
       "\n",
       "    .dataframe thead th {\n",
       "        text-align: right;\n",
       "    }\n",
       "</style>\n",
       "<table border=\"1\" class=\"dataframe\">\n",
       "  <thead>\n",
       "    <tr style=\"text-align: right;\">\n",
       "      <th></th>\n",
       "      <th></th>\n",
       "      <th>distance</th>\n",
       "    </tr>\n",
       "    <tr>\n",
       "      <th>cluster</th>\n",
       "      <th>anomaly</th>\n",
       "      <th></th>\n",
       "    </tr>\n",
       "  </thead>\n",
       "  <tbody>\n",
       "    <tr>\n",
       "      <th rowspan=\"2\" valign=\"top\">0.0</th>\n",
       "      <th>False</th>\n",
       "      <td>2.510670</td>\n",
       "    </tr>\n",
       "    <tr>\n",
       "      <th>True</th>\n",
       "      <td>2.493789</td>\n",
       "    </tr>\n",
       "    <tr>\n",
       "      <th rowspan=\"2\" valign=\"top\">1.0</th>\n",
       "      <th>False</th>\n",
       "      <td>3.060245</td>\n",
       "    </tr>\n",
       "    <tr>\n",
       "      <th>True</th>\n",
       "      <td>3.051738</td>\n",
       "    </tr>\n",
       "    <tr>\n",
       "      <th rowspan=\"2\" valign=\"top\">2.0</th>\n",
       "      <th>False</th>\n",
       "      <td>3.198685</td>\n",
       "    </tr>\n",
       "    <tr>\n",
       "      <th>True</th>\n",
       "      <td>3.225167</td>\n",
       "    </tr>\n",
       "    <tr>\n",
       "      <th rowspan=\"2\" valign=\"top\">3.0</th>\n",
       "      <th>False</th>\n",
       "      <td>3.438137</td>\n",
       "    </tr>\n",
       "    <tr>\n",
       "      <th>True</th>\n",
       "      <td>3.445700</td>\n",
       "    </tr>\n",
       "    <tr>\n",
       "      <th rowspan=\"2\" valign=\"top\">4.0</th>\n",
       "      <th>False</th>\n",
       "      <td>3.192853</td>\n",
       "    </tr>\n",
       "    <tr>\n",
       "      <th>True</th>\n",
       "      <td>3.171065</td>\n",
       "    </tr>\n",
       "  </tbody>\n",
       "</table>\n",
       "</div>"
      ],
      "text/plain": [
       "                 distance\n",
       "cluster anomaly          \n",
       "0.0     False    2.510670\n",
       "        True     2.493789\n",
       "1.0     False    3.060245\n",
       "        True     3.051738\n",
       "2.0     False    3.198685\n",
       "        True     3.225167\n",
       "3.0     False    3.438137\n",
       "        True     3.445700\n",
       "4.0     False    3.192853\n",
       "        True     3.171065"
      ]
     },
     "execution_count": 53,
     "metadata": {},
     "output_type": "execute_result"
    }
   ],
   "source": [
    "k_means = KMeans(init=\"k-means++\", n_clusters=5, n_init=10)\n",
    "k_means.fit(X)\n",
    "\n",
    "from sklearn.metrics.pairwise import pairwise_distances_argmin\n",
    "\n",
    "k_means_cluster_centers = k_means.cluster_centers_\n",
    "\n",
    "k_means_labels = pairwise_distances_argmin(X, k_means_cluster_centers)\n",
    "\n",
    "from sklearn.metrics.pairwise import pairwise_distances_argmin_min\n",
    "\n",
    "k_means_distances_df = pd.DataFrame(pairwise_distances_argmin_min(X, k_means_cluster_centers)).T\n",
    "k_means_distances_df.columns = ['cluster', 'distance']\n",
    "\n",
    "k_means_distances_df = pd.concat([k_means_distances_df, y], axis=1)\n",
    "k_means_distances_df.groupby(['cluster', 'anomaly']).mean()"
   ]
  },
  {
   "cell_type": "code",
   "execution_count": 54,
   "id": "fc40cf460d09ca45",
   "metadata": {
    "ExecuteTime": {
     "end_time": "2023-11-06T10:57:40.993469Z",
     "start_time": "2023-11-06T10:57:40.983115Z"
    }
   },
   "outputs": [
    {
     "data": {
      "text/html": [
       "<div>\n",
       "<style scoped>\n",
       "    .dataframe tbody tr th:only-of-type {\n",
       "        vertical-align: middle;\n",
       "    }\n",
       "\n",
       "    .dataframe tbody tr th {\n",
       "        vertical-align: top;\n",
       "    }\n",
       "\n",
       "    .dataframe thead th {\n",
       "        text-align: right;\n",
       "    }\n",
       "</style>\n",
       "<table border=\"1\" class=\"dataframe\">\n",
       "  <thead>\n",
       "    <tr style=\"text-align: right;\">\n",
       "      <th></th>\n",
       "      <th></th>\n",
       "      <th>distance</th>\n",
       "    </tr>\n",
       "    <tr>\n",
       "      <th>cluster</th>\n",
       "      <th>anomaly</th>\n",
       "      <th></th>\n",
       "    </tr>\n",
       "  </thead>\n",
       "  <tbody>\n",
       "    <tr>\n",
       "      <th rowspan=\"2\" valign=\"top\">0.0</th>\n",
       "      <th>False</th>\n",
       "      <td>14162</td>\n",
       "    </tr>\n",
       "    <tr>\n",
       "      <th>True</th>\n",
       "      <td>800</td>\n",
       "    </tr>\n",
       "    <tr>\n",
       "      <th rowspan=\"2\" valign=\"top\">1.0</th>\n",
       "      <th>False</th>\n",
       "      <td>5097</td>\n",
       "    </tr>\n",
       "    <tr>\n",
       "      <th>True</th>\n",
       "      <td>281</td>\n",
       "    </tr>\n",
       "    <tr>\n",
       "      <th rowspan=\"2\" valign=\"top\">2.0</th>\n",
       "      <th>False</th>\n",
       "      <td>28892</td>\n",
       "    </tr>\n",
       "    <tr>\n",
       "      <th>True</th>\n",
       "      <td>1631</td>\n",
       "    </tr>\n",
       "    <tr>\n",
       "      <th rowspan=\"2\" valign=\"top\">3.0</th>\n",
       "      <th>False</th>\n",
       "      <td>7169</td>\n",
       "    </tr>\n",
       "    <tr>\n",
       "      <th>True</th>\n",
       "      <td>434</td>\n",
       "    </tr>\n",
       "    <tr>\n",
       "      <th rowspan=\"2\" valign=\"top\">4.0</th>\n",
       "      <th>False</th>\n",
       "      <td>35203</td>\n",
       "    </tr>\n",
       "    <tr>\n",
       "      <th>True</th>\n",
       "      <td>2012</td>\n",
       "    </tr>\n",
       "  </tbody>\n",
       "</table>\n",
       "</div>"
      ],
      "text/plain": [
       "                 distance\n",
       "cluster anomaly          \n",
       "0.0     False       14162\n",
       "        True          800\n",
       "1.0     False        5097\n",
       "        True          281\n",
       "2.0     False       28892\n",
       "        True         1631\n",
       "3.0     False        7169\n",
       "        True          434\n",
       "4.0     False       35203\n",
       "        True         2012"
      ]
     },
     "execution_count": 54,
     "metadata": {},
     "output_type": "execute_result"
    }
   ],
   "source": [
    "k_means_distances_df.groupby(['cluster', 'anomaly']).count()"
   ]
  },
  {
   "attachments": {},
   "cell_type": "markdown",
   "id": "2cc4a4c289035a1",
   "metadata": {},
   "source": [
    "Kmeans doesn't provide any useful information."
   ]
  },
  {
   "attachments": {},
   "cell_type": "markdown",
   "id": "cf930ea62a2f0809",
   "metadata": {},
   "source": [
    "#### Balanced KMeans"
   ]
  },
  {
   "cell_type": "code",
   "execution_count": 55,
   "id": "2f6c9e78ecf998",
   "metadata": {
    "ExecuteTime": {
     "end_time": "2023-11-06T10:57:48.823212Z",
     "start_time": "2023-11-06T10:57:40.993780Z"
    }
   },
   "outputs": [
    {
     "name": "stderr",
     "output_type": "stream",
     "text": [
      "/Users/boweigao/miniconda3/lib/python3.11/site-packages/sklearn/cluster/_kmeans.py:1416: FutureWarning: The default value of `n_init` will change from 10 to 'auto' in 1.4. Set the value of `n_init` explicitly to suppress the warning\n",
      "  super()._check_params_vs_input(X, default_n_init=10)\n",
      "/Users/boweigao/miniconda3/lib/python3.11/site-packages/sklearn/cluster/_kmeans.py:1416: FutureWarning: The default value of `n_init` will change from 10 to 'auto' in 1.4. Set the value of `n_init` explicitly to suppress the warning\n",
      "  super()._check_params_vs_input(X, default_n_init=10)\n",
      "/Users/boweigao/miniconda3/lib/python3.11/site-packages/sklearn/cluster/_kmeans.py:1416: FutureWarning: The default value of `n_init` will change from 10 to 'auto' in 1.4. Set the value of `n_init` explicitly to suppress the warning\n",
      "  super()._check_params_vs_input(X, default_n_init=10)\n",
      "/Users/boweigao/miniconda3/lib/python3.11/site-packages/sklearn/cluster/_kmeans.py:1416: FutureWarning: The default value of `n_init` will change from 10 to 'auto' in 1.4. Set the value of `n_init` explicitly to suppress the warning\n",
      "  super()._check_params_vs_input(X, default_n_init=10)\n",
      "/Users/boweigao/miniconda3/lib/python3.11/site-packages/sklearn/cluster/_kmeans.py:1416: FutureWarning: The default value of `n_init` will change from 10 to 'auto' in 1.4. Set the value of `n_init` explicitly to suppress the warning\n",
      "  super()._check_params_vs_input(X, default_n_init=10)\n",
      "/Users/boweigao/miniconda3/lib/python3.11/site-packages/sklearn/cluster/_kmeans.py:1416: FutureWarning: The default value of `n_init` will change from 10 to 'auto' in 1.4. Set the value of `n_init` explicitly to suppress the warning\n",
      "  super()._check_params_vs_input(X, default_n_init=10)\n",
      "/Users/boweigao/miniconda3/lib/python3.11/site-packages/sklearn/cluster/_kmeans.py:1416: FutureWarning: The default value of `n_init` will change from 10 to 'auto' in 1.4. Set the value of `n_init` explicitly to suppress the warning\n",
      "  super()._check_params_vs_input(X, default_n_init=10)\n",
      "/Users/boweigao/miniconda3/lib/python3.11/site-packages/sklearn/cluster/_kmeans.py:1416: FutureWarning: The default value of `n_init` will change from 10 to 'auto' in 1.4. Set the value of `n_init` explicitly to suppress the warning\n",
      "  super()._check_params_vs_input(X, default_n_init=10)\n",
      "/Users/boweigao/miniconda3/lib/python3.11/site-packages/sklearn/cluster/_kmeans.py:1416: FutureWarning: The default value of `n_init` will change from 10 to 'auto' in 1.4. Set the value of `n_init` explicitly to suppress the warning\n",
      "  super()._check_params_vs_input(X, default_n_init=10)\n",
      "/Users/boweigao/miniconda3/lib/python3.11/site-packages/sklearn/cluster/_kmeans.py:1416: FutureWarning: The default value of `n_init` will change from 10 to 'auto' in 1.4. Set the value of `n_init` explicitly to suppress the warning\n",
      "  super()._check_params_vs_input(X, default_n_init=10)\n"
     ]
    },
    {
     "data": {
      "image/png": "[encoded data removed]",
      "text/plain": [
       "<Figure size 800x550 with 2 Axes>"
      ]
     },
     "metadata": {},
     "output_type": "display_data"
    },
    {
     "data": {
      "text/plain": [
       "<Axes: title={'center': 'Distortion Score Elbow for KMeans Clustering'}, xlabel='k', ylabel='distortion score'>"
      ]
     },
     "execution_count": 55,
     "metadata": {},
     "output_type": "execute_result"
    }
   ],
   "source": [
    "from sklearn.cluster import KMeans\n",
    "from yellowbrick.cluster import KElbowVisualizer\n",
    "\n",
    "# Instantiate the clustering model and visualizer\n",
    "model_balanced = KMeans()\n",
    "visualizer_balanced = KElbowVisualizer(model_balanced, k=(2, 12))\n",
    "\n",
    "visualizer_balanced.fit(X_balanced)        # Fit the data to the visualizer\n",
    "visualizer_balanced.show()        # Finalize and render the figure"
   ]
  },
  {
   "cell_type": "code",
   "execution_count": 56,
   "id": "4ed6562ed4e389eb",
   "metadata": {
    "ExecuteTime": {
     "end_time": "2023-11-06T10:57:49.258207Z",
     "start_time": "2023-11-06T10:57:48.824807Z"
    }
   },
   "outputs": [
    {
     "data": {
      "text/html": [
       "<div>\n",
       "<style scoped>\n",
       "    .dataframe tbody tr th:only-of-type {\n",
       "        vertical-align: middle;\n",
       "    }\n",
       "\n",
       "    .dataframe tbody tr th {\n",
       "        vertical-align: top;\n",
       "    }\n",
       "\n",
       "    .dataframe thead th {\n",
       "        text-align: right;\n",
       "    }\n",
       "</style>\n",
       "<table border=\"1\" class=\"dataframe\">\n",
       "  <thead>\n",
       "    <tr style=\"text-align: right;\">\n",
       "      <th></th>\n",
       "      <th></th>\n",
       "      <th>distance</th>\n",
       "    </tr>\n",
       "    <tr>\n",
       "      <th>cluster</th>\n",
       "      <th>anomaly</th>\n",
       "      <th></th>\n",
       "    </tr>\n",
       "  </thead>\n",
       "  <tbody>\n",
       "    <tr>\n",
       "      <th rowspan=\"2\" valign=\"top\">0.0</th>\n",
       "      <th>False</th>\n",
       "      <td>3.523941</td>\n",
       "    </tr>\n",
       "    <tr>\n",
       "      <th>True</th>\n",
       "      <td>3.357307</td>\n",
       "    </tr>\n",
       "    <tr>\n",
       "      <th rowspan=\"2\" valign=\"top\">1.0</th>\n",
       "      <th>False</th>\n",
       "      <td>3.286534</td>\n",
       "    </tr>\n",
       "    <tr>\n",
       "      <th>True</th>\n",
       "      <td>2.964347</td>\n",
       "    </tr>\n",
       "    <tr>\n",
       "      <th rowspan=\"2\" valign=\"top\">2.0</th>\n",
       "      <th>False</th>\n",
       "      <td>3.227315</td>\n",
       "    </tr>\n",
       "    <tr>\n",
       "      <th>True</th>\n",
       "      <td>3.103393</td>\n",
       "    </tr>\n",
       "    <tr>\n",
       "      <th rowspan=\"2\" valign=\"top\">3.0</th>\n",
       "      <th>False</th>\n",
       "      <td>2.606645</td>\n",
       "    </tr>\n",
       "    <tr>\n",
       "      <th>True</th>\n",
       "      <td>2.545354</td>\n",
       "    </tr>\n",
       "    <tr>\n",
       "      <th rowspan=\"2\" valign=\"top\">4.0</th>\n",
       "      <th>False</th>\n",
       "      <td>3.247581</td>\n",
       "    </tr>\n",
       "    <tr>\n",
       "      <th>True</th>\n",
       "      <td>2.839570</td>\n",
       "    </tr>\n",
       "  </tbody>\n",
       "</table>\n",
       "</div>"
      ],
      "text/plain": [
       "                 distance\n",
       "cluster anomaly          \n",
       "0.0     False    3.523941\n",
       "        True     3.357307\n",
       "1.0     False    3.286534\n",
       "        True     2.964347\n",
       "2.0     False    3.227315\n",
       "        True     3.103393\n",
       "3.0     False    2.606645\n",
       "        True     2.545354\n",
       "4.0     False    3.247581\n",
       "        True     2.839570"
      ]
     },
     "execution_count": 56,
     "metadata": {},
     "output_type": "execute_result"
    }
   ],
   "source": [
    "k_means_balanced = KMeans(init=\"k-means++\", n_clusters=5, n_init=10)\n",
    "k_means_balanced.fit(X_balanced)\n",
    "\n",
    "k_means_cluster_centers_balanced = k_means_balanced.cluster_centers_\n",
    "\n",
    "k_means_labels_balanced = pairwise_distances_argmin(X_balanced, k_means_cluster_centers_balanced)\n",
    "\n",
    "k_means_distances_df_balanced = pd.DataFrame(pairwise_distances_argmin_min(X_balanced, k_means_cluster_centers_balanced)).T\n",
    "k_means_distances_df_balanced.columns = ['cluster', 'distance']\n",
    "k_means_distances_df_balanced = pd.concat([k_means_distances_df_balanced, y_balanced], axis=1)\n",
    "k_means_distances_df_balanced.groupby(['cluster', 'anomaly']).mean()"
   ]
  },
  {
   "cell_type": "code",
   "execution_count": 57,
   "id": "1109dbe06c549048",
   "metadata": {
    "ExecuteTime": {
     "end_time": "2023-11-06T10:57:49.269329Z",
     "start_time": "2023-11-06T10:57:49.257838Z"
    }
   },
   "outputs": [
    {
     "data": {
      "text/html": [
       "<div>\n",
       "<style scoped>\n",
       "    .dataframe tbody tr th:only-of-type {\n",
       "        vertical-align: middle;\n",
       "    }\n",
       "\n",
       "    .dataframe tbody tr th {\n",
       "        vertical-align: top;\n",
       "    }\n",
       "\n",
       "    .dataframe thead th {\n",
       "        text-align: right;\n",
       "    }\n",
       "</style>\n",
       "<table border=\"1\" class=\"dataframe\">\n",
       "  <thead>\n",
       "    <tr style=\"text-align: right;\">\n",
       "      <th></th>\n",
       "      <th></th>\n",
       "      <th>distance</th>\n",
       "    </tr>\n",
       "    <tr>\n",
       "      <th>cluster</th>\n",
       "      <th>anomaly</th>\n",
       "      <th></th>\n",
       "    </tr>\n",
       "  </thead>\n",
       "  <tbody>\n",
       "    <tr>\n",
       "      <th rowspan=\"2\" valign=\"top\">0.0</th>\n",
       "      <th>False</th>\n",
       "      <td>452</td>\n",
       "    </tr>\n",
       "    <tr>\n",
       "      <th>True</th>\n",
       "      <td>339</td>\n",
       "    </tr>\n",
       "    <tr>\n",
       "      <th rowspan=\"2\" valign=\"top\">1.0</th>\n",
       "      <th>False</th>\n",
       "      <td>1577</td>\n",
       "    </tr>\n",
       "    <tr>\n",
       "      <th>True</th>\n",
       "      <td>2413</td>\n",
       "    </tr>\n",
       "    <tr>\n",
       "      <th rowspan=\"2\" valign=\"top\">2.0</th>\n",
       "      <th>False</th>\n",
       "      <td>2138</td>\n",
       "    </tr>\n",
       "    <tr>\n",
       "      <th>True</th>\n",
       "      <td>1622</td>\n",
       "    </tr>\n",
       "    <tr>\n",
       "      <th rowspan=\"2\" valign=\"top\">3.0</th>\n",
       "      <th>False</th>\n",
       "      <td>1025</td>\n",
       "    </tr>\n",
       "    <tr>\n",
       "      <th>True</th>\n",
       "      <td>788</td>\n",
       "    </tr>\n",
       "    <tr>\n",
       "      <th rowspan=\"2\" valign=\"top\">4.0</th>\n",
       "      <th>False</th>\n",
       "      <td>312</td>\n",
       "    </tr>\n",
       "    <tr>\n",
       "      <th>True</th>\n",
       "      <td>342</td>\n",
       "    </tr>\n",
       "  </tbody>\n",
       "</table>\n",
       "</div>"
      ],
      "text/plain": [
       "                 distance\n",
       "cluster anomaly          \n",
       "0.0     False         452\n",
       "        True          339\n",
       "1.0     False        1577\n",
       "        True         2413\n",
       "2.0     False        2138\n",
       "        True         1622\n",
       "3.0     False        1025\n",
       "        True          788\n",
       "4.0     False         312\n",
       "        True          342"
      ]
     },
     "execution_count": 57,
     "metadata": {},
     "output_type": "execute_result"
    }
   ],
   "source": [
    "k_means_distances_df_balanced.groupby(['cluster', 'anomaly']).count()"
   ]
  },
  {
   "attachments": {},
   "cell_type": "markdown",
   "id": "4a24ae6211516204",
   "metadata": {},
   "source": [
    "### Affinity Propagation"
   ]
  },
  {
   "attachments": {},
   "cell_type": "markdown",
   "id": "da45f33524382e85",
   "metadata": {},
   "source": [
    "#### Unbalanced"
   ]
  },
  {
   "attachments": {},
   "cell_type": "markdown",
   "id": "80bf9fa4a9ba1969",
   "metadata": {
    "collapsed": false
   },
   "source": [
    "Trying the algorithm on unbalanced dataset is computationally impossible and meaningless."
   ]
  },
  {
   "cell_type": "code",
   "execution_count": 58,
   "id": "eb339c4f27f12846",
   "metadata": {
    "ExecuteTime": {
     "end_time": "2023-11-06T10:57:49.433670Z",
     "start_time": "2023-11-06T10:57:49.270412Z"
    }
   },
   "outputs": [
    {
     "data": {
      "text/plain": [
       "'\\nfrom sklearn.cluster import AffinityPropagation\\n\\naf = AffinityPropagation(random_state=0).fit(X)\\ncluster_centers_indices = af.cluster_centers_indices_\\nlabels = af.labels_\\nlen(cluster_centers_indices)\\n'"
      ]
     },
     "execution_count": 58,
     "metadata": {},
     "output_type": "execute_result"
    }
   ],
   "source": [
    "'''\n",
    "from sklearn.cluster import AffinityPropagation\n",
    "\n",
    "af = AffinityPropagation(random_state=0).fit(X)\n",
    "cluster_centers_indices = af.cluster_centers_indices_\n",
    "labels = af.labels_\n",
    "len(cluster_centers_indices)\n",
    "'''"
   ]
  },
  {
   "attachments": {},
   "cell_type": "markdown",
   "id": "3fca04378c335230",
   "metadata": {},
   "source": []
  },
  {
   "attachments": {},
   "cell_type": "markdown",
   "id": "dcb4f6fbb2ce1f91",
   "metadata": {},
   "source": [
    "#### Balanced"
   ]
  },
  {
   "cell_type": "code",
   "execution_count": 60,
   "id": "11a68b39e711f930",
   "metadata": {
    "ExecuteTime": {
     "end_time": "2023-11-06T11:01:00.817035Z",
     "start_time": "2023-11-06T10:59:55.957889Z"
    }
   },
   "outputs": [
    {
     "data": {
      "text/plain": [
       "143"
      ]
     },
     "execution_count": 60,
     "metadata": {},
     "output_type": "execute_result"
    }
   ],
   "source": [
    "from sklearn.cluster import AffinityPropagation\n",
    "\n",
    "pca = PCA(n_components=5)\n",
    "pct_balanced = pca.fit_transform(X_balanced)\n",
    "af_balanced = AffinityPropagation(random_state=0).fit(pct_balanced)\n",
    "cluster_centers_indices_balanced = af_balanced.cluster_centers_indices_\n",
    "labels_balanced = af_balanced.labels_\n",
    "len(cluster_centers_indices_balanced)"
   ]
  },
  {
   "attachments": {},
   "cell_type": "markdown",
   "id": "d6a6a5a33122f4f3",
   "metadata": {
    "collapsed": false
   },
   "source": [
    "### Mean shift"
   ]
  },
  {
   "attachments": {},
   "cell_type": "markdown",
   "id": "20c5777194fb63a4",
   "metadata": {
    "collapsed": false
   },
   "source": [
    "#### Unbalanced"
   ]
  },
  {
   "cell_type": "code",
   "execution_count": 83,
   "id": "bc9b3860",
   "metadata": {
    "ExecuteTime": {
     "end_time": "2023-11-06T11:39:46.899898Z",
     "start_time": "2023-11-06T11:39:46.867638Z"
    }
   },
   "outputs": [
    {
     "data": {
      "text/plain": [
       "'\\nfrom sklearn.cluster import MeanShift, estimate_bandwidth\\n\\nbandwidth = estimate_bandwidth(X, quantile=0.3)\\n\\nms = MeanShift(bandwidth=bandwidth, bin_seeding=True)\\nms.fit(X)\\nlabels = ms.labels_\\ncluster_centers = ms.cluster_centers_\\n'"
      ]
     },
     "execution_count": 83,
     "metadata": {},
     "output_type": "execute_result"
    }
   ],
   "source": [
    "'''\n",
    "from sklearn.cluster import MeanShift, estimate_bandwidth\n",
    "\n",
    "bandwidth = estimate_bandwidth(X, quantile=0.3)\n",
    "\n",
    "ms = MeanShift(bandwidth=bandwidth, bin_seeding=True)\n",
    "ms.fit(X)\n",
    "labels = ms.labels_\n",
    "cluster_centers = ms.cluster_centers_\n",
    "'''"
   ]
  },
  {
   "cell_type": "code",
   "execution_count": null,
   "id": "b9521c7d7912d1f8",
   "metadata": {
    "ExecuteTime": {
     "end_time": "2023-11-06T11:09:50.420589Z",
     "start_time": "2023-11-06T11:09:50.396418Z"
    },
    "collapsed": false
   },
   "outputs": [],
   "source": [
    "'''\n",
    "mean_shift_distances_df = pd.DataFrame(pairwise_distances_argmin_min(X, cluster_centers)).T\n",
    "mean_shift_distances_df.columns = ['cluster', 'distance']\n",
    "mean_shift_distances_df = pd.concat([mean_shift_distances_df, y], axis=1)\n",
    "mean_shift_distances_df.groupby(['cluster', 'ontime']).mean()\n",
    "'''"
   ]
  },
  {
   "cell_type": "code",
   "execution_count": null,
   "id": "d32930296173628f",
   "metadata": {
    "ExecuteTime": {
     "start_time": "2023-11-06T11:09:50.396601Z"
    },
    "collapsed": false
   },
   "outputs": [],
   "source": [
    "# mean_shift_distances_df.groupby(['cluster', 'ontime']).count()"
   ]
  },
  {
   "attachments": {},
   "cell_type": "markdown",
   "id": "6219b311ce570d63",
   "metadata": {
    "collapsed": false
   },
   "source": []
  },
  {
   "attachments": {},
   "cell_type": "markdown",
   "id": "634807260c264e0c",
   "metadata": {
    "collapsed": false
   },
   "source": [
    "#### Balanced"
   ]
  },
  {
   "cell_type": "code",
   "execution_count": 62,
   "id": "fd7e02f4ab258187",
   "metadata": {
    "ExecuteTime": {
     "end_time": "2023-11-06T11:10:38.941369Z",
     "start_time": "2023-11-06T11:10:31.914571Z"
    },
    "collapsed": false
   },
   "outputs": [],
   "source": [
    "from sklearn.cluster import MeanShift, estimate_bandwidth\n",
    "\n",
    "bandwidth_balanced = estimate_bandwidth(X_balanced, quantile=0.3)\n",
    "\n",
    "ms_balanced = MeanShift(bandwidth=bandwidth_balanced, bin_seeding=True)\n",
    "ms_balanced.fit(X_balanced)\n",
    "labels_balanced = ms_balanced.labels_\n",
    "cluster_centers_balanced = ms_balanced.cluster_centers_"
   ]
  },
  {
   "cell_type": "code",
   "execution_count": 64,
   "id": "ce4ed777ed7b35a7",
   "metadata": {
    "ExecuteTime": {
     "end_time": "2023-11-06T11:10:51.423256Z",
     "start_time": "2023-11-06T11:10:51.315759Z"
    },
    "collapsed": false
   },
   "outputs": [
    {
     "data": {
      "text/html": [
       "<div>\n",
       "<style scoped>\n",
       "    .dataframe tbody tr th:only-of-type {\n",
       "        vertical-align: middle;\n",
       "    }\n",
       "\n",
       "    .dataframe tbody tr th {\n",
       "        vertical-align: top;\n",
       "    }\n",
       "\n",
       "    .dataframe thead th {\n",
       "        text-align: right;\n",
       "    }\n",
       "</style>\n",
       "<table border=\"1\" class=\"dataframe\">\n",
       "  <thead>\n",
       "    <tr style=\"text-align: right;\">\n",
       "      <th></th>\n",
       "      <th></th>\n",
       "      <th>distance</th>\n",
       "    </tr>\n",
       "    <tr>\n",
       "      <th>cluster</th>\n",
       "      <th>anomaly</th>\n",
       "      <th></th>\n",
       "    </tr>\n",
       "  </thead>\n",
       "  <tbody>\n",
       "    <tr>\n",
       "      <th rowspan=\"2\" valign=\"top\">0.0</th>\n",
       "      <th>False</th>\n",
       "      <td>3.712634</td>\n",
       "    </tr>\n",
       "    <tr>\n",
       "      <th>True</th>\n",
       "      <td>3.334037</td>\n",
       "    </tr>\n",
       "    <tr>\n",
       "      <th rowspan=\"2\" valign=\"top\">1.0</th>\n",
       "      <th>False</th>\n",
       "      <td>3.600907</td>\n",
       "    </tr>\n",
       "    <tr>\n",
       "      <th>True</th>\n",
       "      <td>3.519791</td>\n",
       "    </tr>\n",
       "  </tbody>\n",
       "</table>\n",
       "</div>"
      ],
      "text/plain": [
       "                 distance\n",
       "cluster anomaly          \n",
       "0.0     False    3.712634\n",
       "        True     3.334037\n",
       "1.0     False    3.600907\n",
       "        True     3.519791"
      ]
     },
     "execution_count": 64,
     "metadata": {},
     "output_type": "execute_result"
    }
   ],
   "source": [
    "mean_shift_distances_df_balanced = pd.DataFrame(pairwise_distances_argmin_min(X_balanced, cluster_centers_balanced)).T\n",
    "mean_shift_distances_df_balanced.columns = ['cluster', 'distance']\n",
    "mean_shift_distances_df_balanced = pd.concat([mean_shift_distances_df_balanced, y_balanced], axis=1)\n",
    "mean_shift_distances_df_balanced.groupby(['cluster', 'anomaly']).mean()"
   ]
  },
  {
   "cell_type": "code",
   "execution_count": 65,
   "id": "44b20459b7c5c3dd",
   "metadata": {
    "ExecuteTime": {
     "end_time": "2023-11-06T11:10:51.740922Z",
     "start_time": "2023-11-06T11:10:51.724452Z"
    },
    "collapsed": false
   },
   "outputs": [
    {
     "data": {
      "text/html": [
       "<div>\n",
       "<style scoped>\n",
       "    .dataframe tbody tr th:only-of-type {\n",
       "        vertical-align: middle;\n",
       "    }\n",
       "\n",
       "    .dataframe tbody tr th {\n",
       "        vertical-align: top;\n",
       "    }\n",
       "\n",
       "    .dataframe thead th {\n",
       "        text-align: right;\n",
       "    }\n",
       "</style>\n",
       "<table border=\"1\" class=\"dataframe\">\n",
       "  <thead>\n",
       "    <tr style=\"text-align: right;\">\n",
       "      <th></th>\n",
       "      <th></th>\n",
       "      <th>distance</th>\n",
       "    </tr>\n",
       "    <tr>\n",
       "      <th>cluster</th>\n",
       "      <th>anomaly</th>\n",
       "      <th></th>\n",
       "    </tr>\n",
       "  </thead>\n",
       "  <tbody>\n",
       "    <tr>\n",
       "      <th rowspan=\"2\" valign=\"top\">0.0</th>\n",
       "      <th>False</th>\n",
       "      <td>3018</td>\n",
       "    </tr>\n",
       "    <tr>\n",
       "      <th>True</th>\n",
       "      <td>3522</td>\n",
       "    </tr>\n",
       "    <tr>\n",
       "      <th rowspan=\"2\" valign=\"top\">1.0</th>\n",
       "      <th>False</th>\n",
       "      <td>2486</td>\n",
       "    </tr>\n",
       "    <tr>\n",
       "      <th>True</th>\n",
       "      <td>1982</td>\n",
       "    </tr>\n",
       "  </tbody>\n",
       "</table>\n",
       "</div>"
      ],
      "text/plain": [
       "                 distance\n",
       "cluster anomaly          \n",
       "0.0     False        3018\n",
       "        True         3522\n",
       "1.0     False        2486\n",
       "        True         1982"
      ]
     },
     "execution_count": 65,
     "metadata": {},
     "output_type": "execute_result"
    }
   ],
   "source": [
    "mean_shift_distances_df_balanced.groupby(['cluster', 'anomaly']).count()"
   ]
  },
  {
   "attachments": {},
   "cell_type": "markdown",
   "id": "99e585511f9c2375",
   "metadata": {
    "collapsed": false
   },
   "source": [
    "### Hierarchical clustering"
   ]
  },
  {
   "attachments": {},
   "cell_type": "markdown",
   "id": "b6685cf9ea084bfe",
   "metadata": {
    "collapsed": false
   },
   "source": [
    "#### Unbalanced"
   ]
  },
  {
   "cell_type": "code",
   "execution_count": null,
   "id": "6d7a4bf3fe5fe09c",
   "metadata": {
    "ExecuteTime": {
     "start_time": "2023-11-06T11:45:07.738841Z"
    },
    "collapsed": false
   },
   "outputs": [],
   "source": [
    "'''\n",
    "from sklearn.cluster import AgglomerativeClustering\n",
    "\n",
    "hierarchical_clustering = AgglomerativeClustering(n_clusters=5).fit(X)\n",
    "'''"
   ]
  },
  {
   "cell_type": "code",
   "execution_count": null,
   "id": "7edcaca8d4db3368",
   "metadata": {
    "collapsed": false
   },
   "outputs": [],
   "source": [
    "'''\n",
    "hierarchical_clustering_labels_df = pd.DataFrame(hierarchical_clustering.labels_, columns=['cluster'])\n",
    "hierarchical_clustering_labels_df = pd.concat([hierarchical_clustering_labels_df, y], axis=1)\n",
    "pd.DataFrame(hierarchical_clustering_labels_df.value_counts())\n",
    "'''"
   ]
  },
  {
   "attachments": {},
   "cell_type": "markdown",
   "id": "b85fda5290c6438c",
   "metadata": {
    "collapsed": false
   },
   "source": [
    "#### Balanced"
   ]
  },
  {
   "cell_type": "code",
   "execution_count": 47,
   "id": "ac6c0694746794a2",
   "metadata": {
    "ExecuteTime": {
     "end_time": "2023-11-06T13:47:20.139962Z",
     "start_time": "2023-11-06T13:47:18.325088Z"
    },
    "collapsed": false
   },
   "outputs": [],
   "source": [
    "from sklearn.cluster import AgglomerativeClustering\n",
    "\n",
    "hierarchical_clustering_balanced = AgglomerativeClustering(n_clusters=5).fit(X_balanced)"
   ]
  },
  {
   "cell_type": "code",
   "execution_count": 48,
   "id": "fe5f68c51fd88239",
   "metadata": {
    "ExecuteTime": {
     "end_time": "2023-11-06T13:47:20.147088Z",
     "start_time": "2023-11-06T13:47:20.141549Z"
    },
    "collapsed": false
   },
   "outputs": [
    {
     "data": {
      "text/plain": [
       "cluster  anomaly\n",
       "0        True       3114\n",
       "         False      2591\n",
       "1        False      2047\n",
       "         True       1591\n",
       "2        False       424\n",
       "3        True        313\n",
       "2        True        312\n",
       "3        False       277\n",
       "4        True        174\n",
       "         False       165\n",
       "Name: count, dtype: int64"
      ]
     },
     "execution_count": 48,
     "metadata": {},
     "output_type": "execute_result"
    }
   ],
   "source": [
    "hierarchical_clustering_labels_df_balanced = pd.DataFrame(hierarchical_clustering_balanced.labels_, columns=['cluster'])\n",
    "hierarchical_clustering_labels_df_balanced = pd.concat([hierarchical_clustering_labels_df_balanced, y_balanced], axis=1)\n",
    "hierarchical_clustering_labels_df_balanced.value_counts()"
   ]
  },
  {
   "attachments": {},
   "cell_type": "markdown",
   "id": "a0902d4152bbcbb3",
   "metadata": {
    "collapsed": false
   },
   "source": [
    "### HDBSCAN"
   ]
  },
  {
   "attachments": {},
   "cell_type": "markdown",
   "id": "a5ba79b852f393a0",
   "metadata": {
    "collapsed": false
   },
   "source": [
    "#### Unbalanced"
   ]
  },
  {
   "cell_type": "code",
   "execution_count": 49,
   "id": "8a7dad2dc795aba3",
   "metadata": {
    "ExecuteTime": {
     "end_time": "2023-11-06T13:48:24.582910Z",
     "start_time": "2023-11-06T13:47:20.145723Z"
    },
    "collapsed": false
   },
   "outputs": [
    {
     "data": {
      "text/html": [
       "<style>#sk-container-id-1 {color: black;}#sk-container-id-1 pre{padding: 0;}#sk-container-id-1 div.sk-toggleable {background-color: white;}#sk-container-id-1 label.sk-toggleable__label {cursor: pointer;display: block;width: 100%;margin-bottom: 0;padding: 0.3em;box-sizing: border-box;text-align: center;}#sk-container-id-1 label.sk-toggleable__label-arrow:before {content: \"▸\";float: left;margin-right: 0.25em;color: #696969;}#sk-container-id-1 label.sk-toggleable__label-arrow:hover:before {color: black;}#sk-container-id-1 div.sk-estimator:hover label.sk-toggleable__label-arrow:before {color: black;}#sk-container-id-1 div.sk-toggleable__content {max-height: 0;max-width: 0;overflow: hidden;text-align: left;background-color: #f0f8ff;}#sk-container-id-1 div.sk-toggleable__content pre {margin: 0.2em;color: black;border-radius: 0.25em;background-color: #f0f8ff;}#sk-container-id-1 input.sk-toggleable__control:checked~div.sk-toggleable__content {max-height: 200px;max-width: 100%;overflow: auto;}#sk-container-id-1 input.sk-toggleable__control:checked~label.sk-toggleable__label-arrow:before {content: \"▾\";}#sk-container-id-1 div.sk-estimator input.sk-toggleable__control:checked~label.sk-toggleable__label {background-color: #d4ebff;}#sk-container-id-1 div.sk-label input.sk-toggleable__control:checked~label.sk-toggleable__label {background-color: #d4ebff;}#sk-container-id-1 input.sk-hidden--visually {border: 0;clip: rect(1px 1px 1px 1px);clip: rect(1px, 1px, 1px, 1px);height: 1px;margin: -1px;overflow: hidden;padding: 0;position: absolute;width: 1px;}#sk-container-id-1 div.sk-estimator {font-family: monospace;background-color: #f0f8ff;border: 1px dotted black;border-radius: 0.25em;box-sizing: border-box;margin-bottom: 0.5em;}#sk-container-id-1 div.sk-estimator:hover {background-color: #d4ebff;}#sk-container-id-1 div.sk-parallel-item::after {content: \"\";width: 100%;border-bottom: 1px solid gray;flex-grow: 1;}#sk-container-id-1 div.sk-label:hover label.sk-toggleable__label {background-color: #d4ebff;}#sk-container-id-1 div.sk-serial::before {content: \"\";position: absolute;border-left: 1px solid gray;box-sizing: border-box;top: 0;bottom: 0;left: 50%;z-index: 0;}#sk-container-id-1 div.sk-serial {display: flex;flex-direction: column;align-items: center;background-color: white;padding-right: 0.2em;padding-left: 0.2em;position: relative;}#sk-container-id-1 div.sk-item {position: relative;z-index: 1;}#sk-container-id-1 div.sk-parallel {display: flex;align-items: stretch;justify-content: center;background-color: white;position: relative;}#sk-container-id-1 div.sk-item::before, #sk-container-id-1 div.sk-parallel-item::before {content: \"\";position: absolute;border-left: 1px solid gray;box-sizing: border-box;top: 0;bottom: 0;left: 50%;z-index: -1;}#sk-container-id-1 div.sk-parallel-item {display: flex;flex-direction: column;z-index: 1;position: relative;background-color: white;}#sk-container-id-1 div.sk-parallel-item:first-child::after {align-self: flex-end;width: 50%;}#sk-container-id-1 div.sk-parallel-item:last-child::after {align-self: flex-start;width: 50%;}#sk-container-id-1 div.sk-parallel-item:only-child::after {width: 0;}#sk-container-id-1 div.sk-dashed-wrapped {border: 1px dashed gray;margin: 0 0.4em 0.5em 0.4em;box-sizing: border-box;padding-bottom: 0.4em;background-color: white;}#sk-container-id-1 div.sk-label label {font-family: monospace;font-weight: bold;display: inline-block;line-height: 1.2em;}#sk-container-id-1 div.sk-label-container {text-align: center;}#sk-container-id-1 div.sk-container {/* jupyter's `normalize.less` sets `[hidden] { display: none; }` but bootstrap.min.css set `[hidden] { display: none !important; }` so we also need the `!important` here to be able to override the default hidden behavior on the sphinx rendered scikit-learn.org. See: https://github.com/scikit-learn/scikit-learn/issues/21755 */display: inline-block !important;position: relative;}#sk-container-id-1 div.sk-text-repr-fallback {display: none;}</style><div id=\"sk-container-id-1\" class=\"sk-top-container\"><div class=\"sk-text-repr-fallback\"><pre>HDBSCAN(min_cluster_size=20)</pre><b>In a Jupyter environment, please rerun this cell to show the HTML representation or trust the notebook. <br />On GitHub, the HTML representation is unable to render, please try loading this page with nbviewer.org.</b></div><div class=\"sk-container\" hidden><div class=\"sk-item\"><div class=\"sk-estimator sk-toggleable\"><input class=\"sk-toggleable__control sk-hidden--visually\" id=\"sk-estimator-id-1\" type=\"checkbox\" checked><label for=\"sk-estimator-id-1\" class=\"sk-toggleable__label sk-toggleable__label-arrow\">HDBSCAN</label><div class=\"sk-toggleable__content\"><pre>HDBSCAN(min_cluster_size=20)</pre></div></div></div></div></div>"
      ],
      "text/plain": [
       "HDBSCAN(min_cluster_size=20)"
      ]
     },
     "execution_count": 49,
     "metadata": {},
     "output_type": "execute_result"
    }
   ],
   "source": [
    "from sklearn.cluster import HDBSCAN\n",
    "\n",
    "hdb = HDBSCAN(min_cluster_size=20)\n",
    "hdb.fit(X)"
   ]
  },
  {
   "cell_type": "code",
   "execution_count": 50,
   "id": "50fcb5d6f4f8f9eb",
   "metadata": {
    "ExecuteTime": {
     "end_time": "2023-11-06T13:48:24.593128Z",
     "start_time": "2023-11-06T13:48:24.581556Z"
    },
    "collapsed": false
   },
   "outputs": [
    {
     "data": {
      "text/plain": [
       "clusters  anomaly\n",
       "-1.0      False      28180\n",
       "          True        1610\n",
       "Name: count, dtype: int64"
      ]
     },
     "execution_count": 50,
     "metadata": {},
     "output_type": "execute_result"
    }
   ],
   "source": [
    "hdbscan_labels_df = pd.DataFrame(hdb.labels_, columns=['clusters'])\n",
    "hdbscan_labels_df = pd.concat([hdbscan_labels_df, y], axis=1)\n",
    "hdbscan_labels_df[hdbscan_labels_df.clusters==-1].value_counts()"
   ]
  },
  {
   "attachments": {},
   "cell_type": "markdown",
   "id": "87814e6a026b070",
   "metadata": {
    "collapsed": false
   },
   "source": [
    "#### Balanced"
   ]
  },
  {
   "cell_type": "code",
   "execution_count": 51,
   "id": "9e59347140ea41b",
   "metadata": {
    "ExecuteTime": {
     "end_time": "2023-11-06T13:48:25.622669Z",
     "start_time": "2023-11-06T13:48:24.597200Z"
    },
    "collapsed": false
   },
   "outputs": [
    {
     "data": {
      "text/html": [
       "<style>#sk-container-id-2 {color: black;}#sk-container-id-2 pre{padding: 0;}#sk-container-id-2 div.sk-toggleable {background-color: white;}#sk-container-id-2 label.sk-toggleable__label {cursor: pointer;display: block;width: 100%;margin-bottom: 0;padding: 0.3em;box-sizing: border-box;text-align: center;}#sk-container-id-2 label.sk-toggleable__label-arrow:before {content: \"▸\";float: left;margin-right: 0.25em;color: #696969;}#sk-container-id-2 label.sk-toggleable__label-arrow:hover:before {color: black;}#sk-container-id-2 div.sk-estimator:hover label.sk-toggleable__label-arrow:before {color: black;}#sk-container-id-2 div.sk-toggleable__content {max-height: 0;max-width: 0;overflow: hidden;text-align: left;background-color: #f0f8ff;}#sk-container-id-2 div.sk-toggleable__content pre {margin: 0.2em;color: black;border-radius: 0.25em;background-color: #f0f8ff;}#sk-container-id-2 input.sk-toggleable__control:checked~div.sk-toggleable__content {max-height: 200px;max-width: 100%;overflow: auto;}#sk-container-id-2 input.sk-toggleable__control:checked~label.sk-toggleable__label-arrow:before {content: \"▾\";}#sk-container-id-2 div.sk-estimator input.sk-toggleable__control:checked~label.sk-toggleable__label {background-color: #d4ebff;}#sk-container-id-2 div.sk-label input.sk-toggleable__control:checked~label.sk-toggleable__label {background-color: #d4ebff;}#sk-container-id-2 input.sk-hidden--visually {border: 0;clip: rect(1px 1px 1px 1px);clip: rect(1px, 1px, 1px, 1px);height: 1px;margin: -1px;overflow: hidden;padding: 0;position: absolute;width: 1px;}#sk-container-id-2 div.sk-estimator {font-family: monospace;background-color: #f0f8ff;border: 1px dotted black;border-radius: 0.25em;box-sizing: border-box;margin-bottom: 0.5em;}#sk-container-id-2 div.sk-estimator:hover {background-color: #d4ebff;}#sk-container-id-2 div.sk-parallel-item::after {content: \"\";width: 100%;border-bottom: 1px solid gray;flex-grow: 1;}#sk-container-id-2 div.sk-label:hover label.sk-toggleable__label {background-color: #d4ebff;}#sk-container-id-2 div.sk-serial::before {content: \"\";position: absolute;border-left: 1px solid gray;box-sizing: border-box;top: 0;bottom: 0;left: 50%;z-index: 0;}#sk-container-id-2 div.sk-serial {display: flex;flex-direction: column;align-items: center;background-color: white;padding-right: 0.2em;padding-left: 0.2em;position: relative;}#sk-container-id-2 div.sk-item {position: relative;z-index: 1;}#sk-container-id-2 div.sk-parallel {display: flex;align-items: stretch;justify-content: center;background-color: white;position: relative;}#sk-container-id-2 div.sk-item::before, #sk-container-id-2 div.sk-parallel-item::before {content: \"\";position: absolute;border-left: 1px solid gray;box-sizing: border-box;top: 0;bottom: 0;left: 50%;z-index: -1;}#sk-container-id-2 div.sk-parallel-item {display: flex;flex-direction: column;z-index: 1;position: relative;background-color: white;}#sk-container-id-2 div.sk-parallel-item:first-child::after {align-self: flex-end;width: 50%;}#sk-container-id-2 div.sk-parallel-item:last-child::after {align-self: flex-start;width: 50%;}#sk-container-id-2 div.sk-parallel-item:only-child::after {width: 0;}#sk-container-id-2 div.sk-dashed-wrapped {border: 1px dashed gray;margin: 0 0.4em 0.5em 0.4em;box-sizing: border-box;padding-bottom: 0.4em;background-color: white;}#sk-container-id-2 div.sk-label label {font-family: monospace;font-weight: bold;display: inline-block;line-height: 1.2em;}#sk-container-id-2 div.sk-label-container {text-align: center;}#sk-container-id-2 div.sk-container {/* jupyter's `normalize.less` sets `[hidden] { display: none; }` but bootstrap.min.css set `[hidden] { display: none !important; }` so we also need the `!important` here to be able to override the default hidden behavior on the sphinx rendered scikit-learn.org. See: https://github.com/scikit-learn/scikit-learn/issues/21755 */display: inline-block !important;position: relative;}#sk-container-id-2 div.sk-text-repr-fallback {display: none;}</style><div id=\"sk-container-id-2\" class=\"sk-top-container\"><div class=\"sk-text-repr-fallback\"><pre>HDBSCAN(min_cluster_size=20)</pre><b>In a Jupyter environment, please rerun this cell to show the HTML representation or trust the notebook. <br />On GitHub, the HTML representation is unable to render, please try loading this page with nbviewer.org.</b></div><div class=\"sk-container\" hidden><div class=\"sk-item\"><div class=\"sk-estimator sk-toggleable\"><input class=\"sk-toggleable__control sk-hidden--visually\" id=\"sk-estimator-id-2\" type=\"checkbox\" checked><label for=\"sk-estimator-id-2\" class=\"sk-toggleable__label sk-toggleable__label-arrow\">HDBSCAN</label><div class=\"sk-toggleable__content\"><pre>HDBSCAN(min_cluster_size=20)</pre></div></div></div></div></div>"
      ],
      "text/plain": [
       "HDBSCAN(min_cluster_size=20)"
      ]
     },
     "execution_count": 51,
     "metadata": {},
     "output_type": "execute_result"
    }
   ],
   "source": [
    "from sklearn.cluster import HDBSCAN\n",
    "\n",
    "hdb_balanced = HDBSCAN(min_cluster_size=20)\n",
    "hdb_balanced.fit(X_balanced)"
   ]
  },
  {
   "cell_type": "code",
   "execution_count": 52,
   "id": "47049dc7263742c2",
   "metadata": {
    "ExecuteTime": {
     "end_time": "2023-11-06T13:48:25.627525Z",
     "start_time": "2023-11-06T13:48:25.621652Z"
    },
    "collapsed": false
   },
   "outputs": [
    {
     "data": {
      "text/plain": [
       "clusters  anomaly\n",
       "-1        False      1977\n",
       "          True       1417\n",
       "Name: count, dtype: int64"
      ]
     },
     "execution_count": 52,
     "metadata": {},
     "output_type": "execute_result"
    }
   ],
   "source": [
    "hdbscan_labels_df_balanced = pd.DataFrame(hdb_balanced.labels_, columns=['clusters'])\n",
    "hdbscan_labels_df_balanced = pd.concat([hdbscan_labels_df_balanced, y_balanced], axis=1)\n",
    "hdbscan_labels_df_balanced[hdbscan_labels_df_balanced.clusters==-1].value_counts()"
   ]
  },
  {
   "attachments": {},
   "cell_type": "markdown",
   "id": "1be15991c9fb2a95",
   "metadata": {
    "collapsed": false
   },
   "source": [
    "### OPTICS"
   ]
  },
  {
   "attachments": {},
   "cell_type": "markdown",
   "id": "afa567fc59c7182a",
   "metadata": {
    "collapsed": false
   },
   "source": [
    "#### Unbalanced"
   ]
  },
  {
   "cell_type": "code",
   "execution_count": 53,
   "id": "4815cce473224f73",
   "metadata": {
    "ExecuteTime": {
     "end_time": "2023-11-06T13:53:34.317259Z",
     "start_time": "2023-11-06T13:48:25.626035Z"
    },
    "collapsed": false
   },
   "outputs": [
    {
     "name": "stderr",
     "output_type": "stream",
     "text": [
      "/Users/boweigao/miniconda3/lib/python3.11/site-packages/sklearn/cluster/_optics.py:995: RuntimeWarning: divide by zero encountered in divide\n",
      "  ratio = reachability_plot[:-1] / reachability_plot[1:]\n"
     ]
    }
   ],
   "source": [
    "from sklearn.cluster import OPTICS\n",
    "\n",
    "optics = OPTICS(min_samples=2).fit(X)"
   ]
  },
  {
   "cell_type": "code",
   "execution_count": 54,
   "id": "5ec55f6ac365150f",
   "metadata": {
    "ExecuteTime": {
     "end_time": "2023-11-06T13:53:34.326113Z",
     "start_time": "2023-11-06T13:53:34.315965Z"
    },
    "collapsed": false
   },
   "outputs": [
    {
     "data": {
      "text/plain": [
       "clusters  anomaly\n",
       "-1.0      False      35062\n",
       "          True        2030\n",
       "Name: count, dtype: int64"
      ]
     },
     "execution_count": 54,
     "metadata": {},
     "output_type": "execute_result"
    }
   ],
   "source": [
    "optics_labels_df = pd.DataFrame(optics.labels_, columns=['clusters'])\n",
    "optics_labels_df = pd.concat([optics_labels_df, y], axis=1)\n",
    "optics_labels_df[optics_labels_df.clusters==-1].value_counts()"
   ]
  },
  {
   "attachments": {},
   "cell_type": "markdown",
   "id": "2e69375468fcf63c",
   "metadata": {
    "collapsed": false
   },
   "source": [
    "#### Balanced"
   ]
  },
  {
   "cell_type": "code",
   "execution_count": 55,
   "id": "c579a951aa88e19f",
   "metadata": {
    "ExecuteTime": {
     "end_time": "2023-11-06T13:53:38.247571Z",
     "start_time": "2023-11-06T13:53:34.326733Z"
    },
    "collapsed": false
   },
   "outputs": [
    {
     "name": "stderr",
     "output_type": "stream",
     "text": [
      "/Users/boweigao/miniconda3/lib/python3.11/site-packages/sklearn/cluster/_optics.py:995: RuntimeWarning: divide by zero encountered in divide\n",
      "  ratio = reachability_plot[:-1] / reachability_plot[1:]\n"
     ]
    }
   ],
   "source": [
    "from sklearn.cluster import OPTICS\n",
    "\n",
    "optics_balanced = OPTICS(min_samples=2).fit(X_balanced)"
   ]
  },
  {
   "cell_type": "code",
   "execution_count": 56,
   "id": "a5477e0ddad13ff6",
   "metadata": {
    "ExecuteTime": {
     "end_time": "2023-11-06T13:53:38.252459Z",
     "start_time": "2023-11-06T13:53:38.246922Z"
    },
    "collapsed": false
   },
   "outputs": [
    {
     "data": {
      "text/plain": [
       "clusters  anomaly\n",
       "-1        False      2549\n",
       "          True       2203\n",
       "Name: count, dtype: int64"
      ]
     },
     "execution_count": 56,
     "metadata": {},
     "output_type": "execute_result"
    }
   ],
   "source": [
    "optics_labels_df_balanced = pd.DataFrame(optics_balanced.labels_, columns=['clusters'])\n",
    "optics_labels_df_balanced = pd.concat([optics_labels_df_balanced, y_balanced], axis=1)\n",
    "optics_labels_df_balanced[optics_labels_df_balanced.clusters==-1].value_counts()"
   ]
  },
  {
   "attachments": {},
   "cell_type": "markdown",
   "id": "7c6d9fdd5035f8b0",
   "metadata": {
    "collapsed": false
   },
   "source": [
    "### BIRCH"
   ]
  },
  {
   "attachments": {},
   "cell_type": "markdown",
   "id": "d9151f634a6e16fe",
   "metadata": {
    "collapsed": false
   },
   "source": [
    "#### Unbalanced"
   ]
  },
  {
   "cell_type": "code",
   "execution_count": 57,
   "id": "dee4ada5948ab5c1",
   "metadata": {
    "ExecuteTime": {
     "end_time": "2023-11-06T13:56:21.325757Z",
     "start_time": "2023-11-06T13:53:38.251467Z"
    },
    "collapsed": false
   },
   "outputs": [
    {
     "data": {
      "text/plain": [
       "array([1, 0, 0, ..., 2, 2, 0])"
      ]
     },
     "execution_count": 57,
     "metadata": {},
     "output_type": "execute_result"
    }
   ],
   "source": [
    "from sklearn.cluster import Birch\n",
    "\n",
    "brc = Birch(n_clusters=5)\n",
    "brc.fit(X)\n",
    "brc.predict(X)"
   ]
  },
  {
   "cell_type": "code",
   "execution_count": 58,
   "id": "c719228cd58d10fd",
   "metadata": {
    "ExecuteTime": {
     "end_time": "2023-11-06T13:56:21.357201Z",
     "start_time": "2023-11-06T13:56:21.322349Z"
    },
    "collapsed": false
   },
   "outputs": [
    {
     "data": {
      "text/plain": [
       "clusters  anomaly\n",
       "0.0       False      42505\n",
       "1.0       False      33583\n",
       "2.0       False       6862\n",
       "4.0       False       4786\n",
       "3.0       False       2787\n",
       "0.0       True        2385\n",
       "1.0       True        1930\n",
       "2.0       True         420\n",
       "4.0       True         265\n",
       "3.0       True         158\n",
       "Name: count, dtype: int64"
      ]
     },
     "execution_count": 58,
     "metadata": {},
     "output_type": "execute_result"
    }
   ],
   "source": [
    "brc_labels_df = pd.DataFrame(brc.labels_, columns=['clusters'])\n",
    "brc_labels_df = pd.concat([brc_labels_df, y], axis=1)\n",
    "brc_labels_df.value_counts()"
   ]
  },
  {
   "attachments": {},
   "cell_type": "markdown",
   "id": "baf7f987eba49124",
   "metadata": {
    "collapsed": false
   },
   "source": [
    "#### Balanced"
   ]
  },
  {
   "cell_type": "code",
   "execution_count": 59,
   "id": "c85e5ba831c27ef3",
   "metadata": {
    "ExecuteTime": {
     "end_time": "2023-11-06T13:56:22.925740Z",
     "start_time": "2023-11-06T13:56:21.338705Z"
    },
    "collapsed": false
   },
   "outputs": [
    {
     "data": {
      "text/plain": [
       "array([1, 1, 1, ..., 1, 0, 0])"
      ]
     },
     "execution_count": 59,
     "metadata": {},
     "output_type": "execute_result"
    }
   ],
   "source": [
    "from sklearn.cluster import Birch\n",
    "\n",
    "brc_balanced = Birch(n_clusters=5)\n",
    "brc_balanced.fit(X_balanced)\n",
    "brc_balanced.predict(X_balanced)"
   ]
  },
  {
   "cell_type": "code",
   "execution_count": 60,
   "id": "1a3e239ac7e2874",
   "metadata": {
    "ExecuteTime": {
     "end_time": "2023-11-06T13:56:22.979415Z",
     "start_time": "2023-11-06T13:56:22.970763Z"
    },
    "collapsed": false
   },
   "outputs": [
    {
     "data": {
      "text/plain": [
       "clusters  anomaly\n",
       "0         True       3114\n",
       "          False      2590\n",
       "1         False      2047\n",
       "          True       1591\n",
       "2         False       425\n",
       "4         True        313\n",
       "2         True        312\n",
       "4         False       277\n",
       "3         True        174\n",
       "          False       165\n",
       "Name: count, dtype: int64"
      ]
     },
     "execution_count": 60,
     "metadata": {},
     "output_type": "execute_result"
    }
   ],
   "source": [
    "brc_labels_df_balanced = pd.DataFrame(brc_balanced.labels_, columns=['clusters'])\n",
    "brc_labels_df_balanced = pd.concat([brc_labels_df_balanced, y_balanced], axis=1)\n",
    "brc_labels_df_balanced.value_counts()"
   ]
  },
  {
   "attachments": {},
   "cell_type": "markdown",
   "id": "f64e8c63c1577108",
   "metadata": {
    "collapsed": false
   },
   "source": [
    "### Spectral clustering"
   ]
  },
  {
   "attachments": {},
   "cell_type": "markdown",
   "id": "6d14a1ec286cf15b",
   "metadata": {
    "collapsed": false
   },
   "source": [
    "#### balanced"
   ]
  },
  {
   "cell_type": "code",
   "execution_count": 46,
   "id": "9a57f98417955a40",
   "metadata": {
    "ExecuteTime": {
     "end_time": "2023-11-07T13:10:33.086860Z",
     "start_time": "2023-11-06T17:41:49.006365Z"
    },
    "collapsed": false
   },
   "outputs": [
    {
     "ename": "KeyboardInterrupt",
     "evalue": "",
     "output_type": "error",
     "traceback": [
      "\u001b[0;31m---------------------------------------------------------------------------\u001b[0m",
      "\u001b[0;31mKeyboardInterrupt\u001b[0m                         Traceback (most recent call last)",
      "Cell \u001b[0;32mIn[46], line 3\u001b[0m\n\u001b[1;32m      1\u001b[0m \u001b[38;5;28;01mfrom\u001b[39;00m \u001b[38;5;21;01msklearn\u001b[39;00m\u001b[38;5;21;01m.\u001b[39;00m\u001b[38;5;21;01mcluster\u001b[39;00m \u001b[38;5;28;01mimport\u001b[39;00m SpectralClustering\n\u001b[0;32m----> 3\u001b[0m spectral_clustering \u001b[38;5;241m=\u001b[39m SpectralClustering(n_clusters\u001b[38;5;241m=\u001b[39m\u001b[38;5;241m5\u001b[39m, assign_labels\u001b[38;5;241m=\u001b[39m\u001b[38;5;124m'\u001b[39m\u001b[38;5;124mdiscretize\u001b[39m\u001b[38;5;124m'\u001b[39m, random_state\u001b[38;5;241m=\u001b[39m\u001b[38;5;241m0\u001b[39m)\u001b[38;5;241m.\u001b[39mfit(X_balanced)\n",
      "File \u001b[0;32m~/miniconda3/lib/python3.11/site-packages/sklearn/base.py:1152\u001b[0m, in \u001b[0;36m_fit_context.<locals>.decorator.<locals>.wrapper\u001b[0;34m(estimator, *args, **kwargs)\u001b[0m\n\u001b[1;32m   1145\u001b[0m     estimator\u001b[38;5;241m.\u001b[39m_validate_params()\n\u001b[1;32m   1147\u001b[0m \u001b[38;5;28;01mwith\u001b[39;00m config_context(\n\u001b[1;32m   1148\u001b[0m     skip_parameter_validation\u001b[38;5;241m=\u001b[39m(\n\u001b[1;32m   1149\u001b[0m         prefer_skip_nested_validation \u001b[38;5;129;01mor\u001b[39;00m global_skip_validation\n\u001b[1;32m   1150\u001b[0m     )\n\u001b[1;32m   1151\u001b[0m ):\n\u001b[0;32m-> 1152\u001b[0m     \u001b[38;5;28;01mreturn\u001b[39;00m fit_method(estimator, \u001b[38;5;241m*\u001b[39margs, \u001b[38;5;241m*\u001b[39m\u001b[38;5;241m*\u001b[39mkwargs)\n",
      "File \u001b[0;32m~/miniconda3/lib/python3.11/site-packages/sklearn/cluster/_spectral.py:730\u001b[0m, in \u001b[0;36mSpectralClustering.fit\u001b[0;34m(self, X, y)\u001b[0m\n\u001b[1;32m    721\u001b[0m n_components \u001b[38;5;241m=\u001b[39m (\n\u001b[1;32m    722\u001b[0m     \u001b[38;5;28mself\u001b[39m\u001b[38;5;241m.\u001b[39mn_clusters \u001b[38;5;28;01mif\u001b[39;00m \u001b[38;5;28mself\u001b[39m\u001b[38;5;241m.\u001b[39mn_components \u001b[38;5;129;01mis\u001b[39;00m \u001b[38;5;28;01mNone\u001b[39;00m \u001b[38;5;28;01melse\u001b[39;00m \u001b[38;5;28mself\u001b[39m\u001b[38;5;241m.\u001b[39mn_components\n\u001b[1;32m    723\u001b[0m )\n\u001b[1;32m    724\u001b[0m \u001b[38;5;66;03m# We now obtain the real valued solution matrix to the\u001b[39;00m\n\u001b[1;32m    725\u001b[0m \u001b[38;5;66;03m# relaxed Ncut problem, solving the eigenvalue problem\u001b[39;00m\n\u001b[1;32m    726\u001b[0m \u001b[38;5;66;03m# L_sym x = lambda x  and recovering u = D^-1/2 x.\u001b[39;00m\n\u001b[1;32m    727\u001b[0m \u001b[38;5;66;03m# The first eigenvector is constant only for fully connected graphs\u001b[39;00m\n\u001b[1;32m    728\u001b[0m \u001b[38;5;66;03m# and should be kept for spectral clustering (drop_first = False)\u001b[39;00m\n\u001b[1;32m    729\u001b[0m \u001b[38;5;66;03m# See spectral_embedding documentation.\u001b[39;00m\n\u001b[0;32m--> 730\u001b[0m maps \u001b[38;5;241m=\u001b[39m spectral_embedding(\n\u001b[1;32m    731\u001b[0m     \u001b[38;5;28mself\u001b[39m\u001b[38;5;241m.\u001b[39maffinity_matrix_,\n\u001b[1;32m    732\u001b[0m     n_components\u001b[38;5;241m=\u001b[39mn_components,\n\u001b[1;32m    733\u001b[0m     eigen_solver\u001b[38;5;241m=\u001b[39m\u001b[38;5;28mself\u001b[39m\u001b[38;5;241m.\u001b[39meigen_solver,\n\u001b[1;32m    734\u001b[0m     random_state\u001b[38;5;241m=\u001b[39mrandom_state,\n\u001b[1;32m    735\u001b[0m     eigen_tol\u001b[38;5;241m=\u001b[39m\u001b[38;5;28mself\u001b[39m\u001b[38;5;241m.\u001b[39meigen_tol,\n\u001b[1;32m    736\u001b[0m     drop_first\u001b[38;5;241m=\u001b[39m\u001b[38;5;28;01mFalse\u001b[39;00m,\n\u001b[1;32m    737\u001b[0m )\n\u001b[1;32m    738\u001b[0m \u001b[38;5;28;01mif\u001b[39;00m \u001b[38;5;28mself\u001b[39m\u001b[38;5;241m.\u001b[39mverbose:\n\u001b[1;32m    739\u001b[0m     \u001b[38;5;28mprint\u001b[39m(\u001b[38;5;124mf\u001b[39m\u001b[38;5;124m\"\u001b[39m\u001b[38;5;124mComputing label assignment using \u001b[39m\u001b[38;5;132;01m{\u001b[39;00m\u001b[38;5;28mself\u001b[39m\u001b[38;5;241m.\u001b[39massign_labels\u001b[38;5;132;01m}\u001b[39;00m\u001b[38;5;124m\"\u001b[39m)\n",
      "File \u001b[0;32m~/miniconda3/lib/python3.11/site-packages/sklearn/manifold/_spectral_embedding.py:313\u001b[0m, in \u001b[0;36mspectral_embedding\u001b[0;34m(adjacency, n_components, eigen_solver, random_state, eigen_tol, norm_laplacian, drop_first)\u001b[0m\n\u001b[1;32m    311\u001b[0m laplacian \u001b[38;5;241m*\u001b[39m\u001b[38;5;241m=\u001b[39m \u001b[38;5;241m-\u001b[39m\u001b[38;5;241m1\u001b[39m\n\u001b[1;32m    312\u001b[0m v0 \u001b[38;5;241m=\u001b[39m _init_arpack_v0(laplacian\u001b[38;5;241m.\u001b[39mshape[\u001b[38;5;241m0\u001b[39m], random_state)\n\u001b[0;32m--> 313\u001b[0m _, diffusion_map \u001b[38;5;241m=\u001b[39m eigsh(\n\u001b[1;32m    314\u001b[0m     laplacian, k\u001b[38;5;241m=\u001b[39mn_components, sigma\u001b[38;5;241m=\u001b[39m\u001b[38;5;241m1.0\u001b[39m, which\u001b[38;5;241m=\u001b[39m\u001b[38;5;124m\"\u001b[39m\u001b[38;5;124mLM\u001b[39m\u001b[38;5;124m\"\u001b[39m, tol\u001b[38;5;241m=\u001b[39mtol, v0\u001b[38;5;241m=\u001b[39mv0\n\u001b[1;32m    315\u001b[0m )\n\u001b[1;32m    316\u001b[0m embedding \u001b[38;5;241m=\u001b[39m diffusion_map\u001b[38;5;241m.\u001b[39mT[n_components::\u001b[38;5;241m-\u001b[39m\u001b[38;5;241m1\u001b[39m]\n\u001b[1;32m    317\u001b[0m \u001b[38;5;28;01mif\u001b[39;00m norm_laplacian:\n\u001b[1;32m    318\u001b[0m     \u001b[38;5;66;03m# recover u = D^-1/2 x from the eigenvector output x\u001b[39;00m\n",
      "File \u001b[0;32m~/miniconda3/lib/python3.11/site-packages/scipy/sparse/linalg/_eigen/arpack/arpack.py:1697\u001b[0m, in \u001b[0;36meigsh\u001b[0;34m(A, k, M, sigma, which, v0, ncv, maxiter, tol, return_eigenvectors, Minv, OPinv, mode)\u001b[0m\n\u001b[1;32m   1695\u001b[0m \u001b[38;5;28;01mwith\u001b[39;00m _ARPACK_LOCK:\n\u001b[1;32m   1696\u001b[0m     \u001b[38;5;28;01mwhile\u001b[39;00m \u001b[38;5;129;01mnot\u001b[39;00m params\u001b[38;5;241m.\u001b[39mconverged:\n\u001b[0;32m-> 1697\u001b[0m         params\u001b[38;5;241m.\u001b[39miterate()\n\u001b[1;32m   1699\u001b[0m     \u001b[38;5;28;01mreturn\u001b[39;00m params\u001b[38;5;241m.\u001b[39mextract(return_eigenvectors)\n",
      "File \u001b[0;32m~/miniconda3/lib/python3.11/site-packages/scipy/sparse/linalg/_eigen/arpack/arpack.py:560\u001b[0m, in \u001b[0;36m_SymmetricArpackParams.iterate\u001b[0;34m(self)\u001b[0m\n\u001b[1;32m    558\u001b[0m     \u001b[38;5;28;01melse\u001b[39;00m:\n\u001b[1;32m    559\u001b[0m         Bxslice \u001b[38;5;241m=\u001b[39m \u001b[38;5;28mslice\u001b[39m(\u001b[38;5;28mself\u001b[39m\u001b[38;5;241m.\u001b[39mipntr[\u001b[38;5;241m2\u001b[39m] \u001b[38;5;241m-\u001b[39m \u001b[38;5;241m1\u001b[39m, \u001b[38;5;28mself\u001b[39m\u001b[38;5;241m.\u001b[39mipntr[\u001b[38;5;241m2\u001b[39m] \u001b[38;5;241m-\u001b[39m \u001b[38;5;241m1\u001b[39m \u001b[38;5;241m+\u001b[39m \u001b[38;5;28mself\u001b[39m\u001b[38;5;241m.\u001b[39mn)\n\u001b[0;32m--> 560\u001b[0m         \u001b[38;5;28mself\u001b[39m\u001b[38;5;241m.\u001b[39mworkd[yslice] \u001b[38;5;241m=\u001b[39m \u001b[38;5;28mself\u001b[39m\u001b[38;5;241m.\u001b[39mOPa(\u001b[38;5;28mself\u001b[39m\u001b[38;5;241m.\u001b[39mworkd[Bxslice])\n\u001b[1;32m    561\u001b[0m \u001b[38;5;28;01melif\u001b[39;00m \u001b[38;5;28mself\u001b[39m\u001b[38;5;241m.\u001b[39mido \u001b[38;5;241m==\u001b[39m \u001b[38;5;241m2\u001b[39m:\n\u001b[1;32m    562\u001b[0m     \u001b[38;5;28mself\u001b[39m\u001b[38;5;241m.\u001b[39mworkd[yslice] \u001b[38;5;241m=\u001b[39m \u001b[38;5;28mself\u001b[39m\u001b[38;5;241m.\u001b[39mB(\u001b[38;5;28mself\u001b[39m\u001b[38;5;241m.\u001b[39mworkd[xslice])\n",
      "File \u001b[0;32m~/miniconda3/lib/python3.11/site-packages/scipy/sparse/linalg/_interface.py:234\u001b[0m, in \u001b[0;36mLinearOperator.matvec\u001b[0;34m(self, x)\u001b[0m\n\u001b[1;32m    231\u001b[0m \u001b[38;5;28;01mif\u001b[39;00m x\u001b[38;5;241m.\u001b[39mshape \u001b[38;5;241m!=\u001b[39m (N,) \u001b[38;5;129;01mand\u001b[39;00m x\u001b[38;5;241m.\u001b[39mshape \u001b[38;5;241m!=\u001b[39m (N,\u001b[38;5;241m1\u001b[39m):\n\u001b[1;32m    232\u001b[0m     \u001b[38;5;28;01mraise\u001b[39;00m \u001b[38;5;167;01mValueError\u001b[39;00m(\u001b[38;5;124m'\u001b[39m\u001b[38;5;124mdimension mismatch\u001b[39m\u001b[38;5;124m'\u001b[39m)\n\u001b[0;32m--> 234\u001b[0m y \u001b[38;5;241m=\u001b[39m \u001b[38;5;28mself\u001b[39m\u001b[38;5;241m.\u001b[39m_matvec(x)\n\u001b[1;32m    236\u001b[0m \u001b[38;5;28;01mif\u001b[39;00m \u001b[38;5;28misinstance\u001b[39m(x, np\u001b[38;5;241m.\u001b[39mmatrix):\n\u001b[1;32m    237\u001b[0m     y \u001b[38;5;241m=\u001b[39m asmatrix(y)\n",
      "File \u001b[0;32m~/miniconda3/lib/python3.11/site-packages/scipy/sparse/linalg/_eigen/arpack/arpack.py:944\u001b[0m, in \u001b[0;36mLuInv._matvec\u001b[0;34m(self, x)\u001b[0m\n\u001b[1;32m    943\u001b[0m \u001b[38;5;28;01mdef\u001b[39;00m \u001b[38;5;21m_matvec\u001b[39m(\u001b[38;5;28mself\u001b[39m, x):\n\u001b[0;32m--> 944\u001b[0m     \u001b[38;5;28;01mreturn\u001b[39;00m lu_solve(\u001b[38;5;28mself\u001b[39m\u001b[38;5;241m.\u001b[39mM_lu, x)\n",
      "File \u001b[0;32m~/miniconda3/lib/python3.11/site-packages/scipy/linalg/_decomp_lu.py:152\u001b[0m, in \u001b[0;36mlu_solve\u001b[0;34m(lu_and_piv, b, trans, overwrite_b, check_finite)\u001b[0m\n\u001b[1;32m    148\u001b[0m     \u001b[38;5;28;01mraise\u001b[39;00m \u001b[38;5;167;01mValueError\u001b[39;00m(\u001b[38;5;124m\"\u001b[39m\u001b[38;5;124mShapes of lu \u001b[39m\u001b[38;5;132;01m{}\u001b[39;00m\u001b[38;5;124m and b \u001b[39m\u001b[38;5;132;01m{}\u001b[39;00m\u001b[38;5;124m are incompatible\u001b[39m\u001b[38;5;124m\"\u001b[39m\n\u001b[1;32m    149\u001b[0m                      \u001b[38;5;241m.\u001b[39mformat(lu\u001b[38;5;241m.\u001b[39mshape, b1\u001b[38;5;241m.\u001b[39mshape))\n\u001b[1;32m    151\u001b[0m getrs, \u001b[38;5;241m=\u001b[39m get_lapack_funcs((\u001b[38;5;124m'\u001b[39m\u001b[38;5;124mgetrs\u001b[39m\u001b[38;5;124m'\u001b[39m,), (lu, b1))\n\u001b[0;32m--> 152\u001b[0m x, info \u001b[38;5;241m=\u001b[39m getrs(lu, piv, b1, trans\u001b[38;5;241m=\u001b[39mtrans, overwrite_b\u001b[38;5;241m=\u001b[39moverwrite_b)\n\u001b[1;32m    153\u001b[0m \u001b[38;5;28;01mif\u001b[39;00m info \u001b[38;5;241m==\u001b[39m \u001b[38;5;241m0\u001b[39m:\n\u001b[1;32m    154\u001b[0m     \u001b[38;5;28;01mreturn\u001b[39;00m x\n",
      "\u001b[0;31mKeyboardInterrupt\u001b[0m: "
     ]
    }
   ],
   "source": [
    "from sklearn.cluster import SpectralClustering\n",
    "\n",
    "spectral_clustering = SpectralClustering(n_clusters=5, assign_labels='discretize', random_state=0).fit(X_balanced)"
   ]
  },
  {
   "cell_type": "code",
   "execution_count": null,
   "id": "593de189ba0dfa2a",
   "metadata": {
    "collapsed": false
   },
   "outputs": [],
   "source": []
  }
 ],
 "metadata": {
  "kernelspec": {
   "display_name": "Python 3 (ipykernel)",
   "language": "python",
   "name": "python3"
  },
  "language_info": {
   "codemirror_mode": {
    "name": "ipython",
    "version": 3
   },
   "file_extension": ".py",
   "mimetype": "text/x-python",
   "name": "python",
   "nbconvert_exporter": "python",
   "pygments_lexer": "ipython3",
   "version": "3.11.4"
  }
 },
 "nbformat": 4,
 "nbformat_minor": 5
}
