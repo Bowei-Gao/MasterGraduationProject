{
 "cells": [
  {
   "attachments": {},
   "cell_type": "markdown",
   "id": "e38f652b48103b4f",
   "metadata": {
    "collapsed": false
   },
   "source": [
    "# Unsupervised"
   ]
  },
  {
   "attachments": {},
   "cell_type": "markdown",
   "id": "fe9c1c24882831e2",
   "metadata": {},
   "source": [
    "### Preprocess the dataset for clustering"
   ]
  },
  {
   "cell_type": "code",
   "execution_count": 17,
   "outputs": [],
   "source": [
    "import pandas as pd\n",
    "\n",
    "df = pd.read_csv('temp/olist_orders_dataset_df.csv')\n"
   ],
   "metadata": {
    "collapsed": false,
    "ExecuteTime": {
     "end_time": "2023-11-20T17:05:11.534773Z",
     "start_time": "2023-11-20T17:05:10.861834Z"
    }
   },
   "id": "41751c37b8d9d041"
  },
  {
   "cell_type": "markdown",
   "source": [
    "Create a balanced dataset."
   ],
   "metadata": {
    "collapsed": false
   },
   "id": "6f9deedb030709bb"
  },
  {
   "cell_type": "code",
   "execution_count": 18,
   "id": "5abaa6513ce61aee",
   "metadata": {
    "ExecuteTime": {
     "end_time": "2023-11-20T17:05:11.699975Z",
     "start_time": "2023-11-20T17:05:10.967518Z"
    }
   },
   "outputs": [],
   "source": [
    "from sklearn.utils import resample, shuffle\n",
    "\n",
    "df_True = df[df.anomaly]\n",
    "df_False = df[df.anomaly==False]\n",
    "\n",
    "df_False = resample(df_False, replace=True, n_samples=df_True.shape[0])\n",
    "\n",
    "df_balanced = shuffle(pd.concat([df_True, df_False]))\n",
    "df_balanced.reset_index(drop=True, inplace=True)\n",
    "X_balanced = df_balanced.drop(['anomaly'], axis=1)\n",
    "y_balanced = df_balanced['anomaly']"
   ]
  },
  {
   "attachments": {},
   "cell_type": "markdown",
   "id": "d3ecbf13b830b91f",
   "metadata": {},
   "source": [
    "Using only selected features"
   ]
  },
  {
   "cell_type": "code",
   "execution_count": 19,
   "outputs": [],
   "source": [
    "X = df.drop(['anomaly'], axis=1)\n",
    "y = df['anomaly']\n"
   ],
   "metadata": {
    "collapsed": false,
    "ExecuteTime": {
     "end_time": "2023-11-20T17:05:11.796415Z",
     "start_time": "2023-11-20T17:05:10.993035Z"
    }
   },
   "id": "df6cae4b7e72e972"
  },
  {
   "cell_type": "code",
   "execution_count": 20,
   "id": "3b4a2aca304c169a",
   "metadata": {
    "ExecuteTime": {
     "end_time": "2023-11-20T17:05:11.796566Z",
     "start_time": "2023-11-20T17:05:10.998347Z"
    }
   },
   "outputs": [],
   "source": [
    "X_balanced = pd.DataFrame(X_balanced)\n",
    "X = pd.DataFrame(X)"
   ]
  },
  {
   "attachments": {},
   "cell_type": "markdown",
   "id": "d18f0610ec25e8d2",
   "metadata": {},
   "source": [
    "Transform the features to follow a normal distribution"
   ]
  },
  {
   "cell_type": "code",
   "execution_count": 21,
   "id": "71bd7a59335ca009",
   "metadata": {
    "ExecuteTime": {
     "end_time": "2023-11-20T17:05:11.920341Z",
     "start_time": "2023-11-20T17:05:11.001450Z"
    }
   },
   "outputs": [],
   "source": [
    "from sklearn.preprocessing import QuantileTransformer\n",
    "\n",
    "qt = QuantileTransformer(output_distribution='normal')\n",
    "X_balanced = pd.DataFrame(qt.fit_transform(X_balanced), columns=X_balanced.columns)\n",
    "X = pd.DataFrame(qt.fit_transform(X), columns=X.columns)"
   ]
  },
  {
   "cell_type": "markdown",
   "source": [
    "### Create a Table of performance"
   ],
   "metadata": {
    "collapsed": false
   },
   "id": "b5ccb35b2ecaa0f"
  },
  {
   "cell_type": "code",
   "execution_count": 22,
   "outputs": [],
   "source": [
    "from sklearn.metrics import confusion_matrix, accuracy_score, precision_score, recall_score, rand_score, adjusted_mutual_info_score, homogeneity_score, completeness_score, v_measure_score\n",
    "\n",
    "table_of_performance = pd.DataFrame(columns=['algorithm', 'confusion matrix', 'accuracy', 'precision', 'recall', 'rand index', 'mutual information based score', 'homogeneity', 'completeness', 'v-measure'])\n",
    "\n",
    "def add_performance(algorithm, y, y_predict):\n",
    "    global table_of_performance\n",
    "\n",
    "    cm = confusion_matrix(y, y_predict)\n",
    "    accuracy = accuracy_score(y, y_predict)\n",
    "    precision = precision_score(y, y_predict)\n",
    "    recall = recall_score(y, y_predict)\n",
    "    rand_index = rand_score(y, y_predict)\n",
    "    mutual_info_score = adjusted_mutual_info_score(y, y_predict)\n",
    "    homogeneity = homogeneity_score(y, y_predict)\n",
    "    completeness = completeness_score(y, y_predict)\n",
    "    v_measure = v_measure_score(y, y_predict)\n",
    "\n",
    "    new_row = {'algorithm': algorithm, 'confusion matrix': cm, 'accuracy': accuracy, 'precision': precision, 'recall': recall, 'rand index': rand_index, 'mutual information based score': mutual_info_score, 'homogeneity': homogeneity, 'completeness': completeness, 'v-measure': v_measure}\n",
    "\n",
    "    table_of_performance.loc[len(table_of_performance)] = new_row"
   ],
   "metadata": {
    "collapsed": false,
    "ExecuteTime": {
     "end_time": "2023-11-20T17:05:11.920640Z",
     "start_time": "2023-11-20T17:05:11.328171Z"
    }
   },
   "id": "83808b594647114a"
  },
  {
   "attachments": {},
   "cell_type": "markdown",
   "id": "9a38381c9ad8709c",
   "metadata": {},
   "source": [
    "### Visualization of clustering after PCA"
   ]
  },
  {
   "attachments": {},
   "cell_type": "markdown",
   "id": "b3cc9ddcf8ec2048",
   "metadata": {},
   "source": [
    "unbalanced"
   ]
  },
  {
   "cell_type": "code",
   "execution_count": 23,
   "id": "87b20e9f5a4317dc",
   "metadata": {
    "ExecuteTime": {
     "end_time": "2023-11-20T17:05:11.921011Z",
     "start_time": "2023-11-20T17:05:11.330606Z"
    }
   },
   "outputs": [
    {
     "data": {
      "text/plain": "'\\nfrom sklearn.decomposition import  PCA\\n\\npca = PCA(n_components=2)\\npct = pca.fit_transform(X)\\n\\ncolors = [\\'yellow\\' if elem else \\'blue\\' for elem in y]\\n\\ndata = pd.concat([pd.DataFrame(pct), pd.DataFrame(colors)], axis=1)\\n\\ndata.columns = [\\'x\\', \\'y\\', \\'label\\']\\n\\nimport seaborn as sns\\n\\nsns.scatterplot(data=data, x=\"x\", y=\"y\", hue=\"label\")\\n'"
     },
     "execution_count": 23,
     "metadata": {},
     "output_type": "execute_result"
    }
   ],
   "source": [
    "'''\n",
    "from sklearn.decomposition import  PCA\n",
    "\n",
    "pca = PCA(n_components=2)\n",
    "pct = pca.fit_transform(X)\n",
    "\n",
    "colors = ['yellow' if elem else 'blue' for elem in y]\n",
    "\n",
    "data = pd.concat([pd.DataFrame(pct), pd.DataFrame(colors)], axis=1)\n",
    "\n",
    "data.columns = ['x', 'y', 'label']\n",
    "\n",
    "import seaborn as sns\n",
    "\n",
    "sns.scatterplot(data=data, x=\"x\", y=\"y\", hue=\"label\")\n",
    "'''"
   ]
  },
  {
   "attachments": {},
   "cell_type": "markdown",
   "id": "1dd8055dc1ca70ba",
   "metadata": {},
   "source": [
    "balanced"
   ]
  },
  {
   "cell_type": "code",
   "execution_count": 24,
   "id": "14952ff2d4470655",
   "metadata": {
    "ExecuteTime": {
     "end_time": "2023-11-20T17:05:11.926691Z",
     "start_time": "2023-11-20T17:05:11.333872Z"
    }
   },
   "outputs": [
    {
     "data": {
      "text/plain": "'\\nfrom sklearn.decomposition import  PCA\\n\\npca_balanced = PCA(n_components=2)\\npct_balanced = pca_balanced.fit_transform(X_balanced)\\n\\ncolors_balanced = [\\'yellow\\' if elem else \\'blue\\' for elem in y_balanced]\\n\\ndata_balanced = pd.concat([pd.DataFrame(pct_balanced), pd.DataFrame(colors_balanced)], axis=1)\\n\\ndata_balanced.columns = [\\'x\\', \\'y\\', \\'label\\']\\n\\nsns.scatterplot(data=data_balanced, x=\"x\", y=\"y\", hue=\"label\")\\n'"
     },
     "execution_count": 24,
     "metadata": {},
     "output_type": "execute_result"
    }
   ],
   "source": [
    "'''\n",
    "from sklearn.decomposition import  PCA\n",
    "\n",
    "pca_balanced = PCA(n_components=2)\n",
    "pct_balanced = pca_balanced.fit_transform(X_balanced)\n",
    "\n",
    "colors_balanced = ['yellow' if elem else 'blue' for elem in y_balanced]\n",
    "\n",
    "data_balanced = pd.concat([pd.DataFrame(pct_balanced), pd.DataFrame(colors_balanced)], axis=1)\n",
    "\n",
    "data_balanced.columns = ['x', 'y', 'label']\n",
    "\n",
    "sns.scatterplot(data=data_balanced, x=\"x\", y=\"y\", hue=\"label\")\n",
    "'''"
   ]
  },
  {
   "attachments": {},
   "cell_type": "markdown",
   "id": "48b99e689ea1fc4",
   "metadata": {},
   "source": [
    "### KMeans"
   ]
  },
  {
   "attachments": {},
   "cell_type": "markdown",
   "id": "644541c5b15dda31",
   "metadata": {},
   "source": [
    "#### Unbalanced KMeans"
   ]
  },
  {
   "cell_type": "code",
   "execution_count": 25,
   "id": "be24e2981d6ca692",
   "metadata": {
    "ExecuteTime": {
     "end_time": "2023-11-20T17:05:11.926852Z",
     "start_time": "2023-11-20T17:05:11.336716Z"
    }
   },
   "outputs": [
    {
     "data": {
      "text/plain": "'\\nfrom yellowbrick.cluster import KElbowVisualizer\\n\\n# Instantiate the clustering model and visualizer\\nmodel = KMeans()\\nvisualizer = KElbowVisualizer(model, k=(2, 12))\\n\\nvisualizer.fit(X)        # Fit the data to the visualizer\\nvisualizer.show()        # Finalize and render the figure\\n'"
     },
     "execution_count": 25,
     "metadata": {},
     "output_type": "execute_result"
    }
   ],
   "source": [
    "from sklearn.cluster import KMeans\n",
    "'''\n",
    "from yellowbrick.cluster import KElbowVisualizer\n",
    "\n",
    "# Instantiate the clustering model and visualizer\n",
    "model = KMeans()\n",
    "visualizer = KElbowVisualizer(model, k=(2, 12))\n",
    "\n",
    "visualizer.fit(X)        # Fit the data to the visualizer\n",
    "visualizer.show()        # Finalize and render the figure\n",
    "'''"
   ]
  },
  {
   "attachments": {},
   "cell_type": "markdown",
   "id": "6f0dec3f5a8462a3",
   "metadata": {},
   "source": [
    "The optimal number of clusters is 5."
   ]
  },
  {
   "cell_type": "code",
   "execution_count": 26,
   "id": "fc40cf460d09ca45",
   "metadata": {
    "ExecuteTime": {
     "end_time": "2023-11-20T17:05:12.809938Z",
     "start_time": "2023-11-20T17:05:11.341943Z"
    }
   },
   "outputs": [
    {
     "data": {
      "text/plain": "                 distance\ncluster anomaly          \n0.0     False       44247\n        True         1982\n1.0     False       52529\n        True         3522",
      "text/html": "<div>\n<style scoped>\n    .dataframe tbody tr th:only-of-type {\n        vertical-align: middle;\n    }\n\n    .dataframe tbody tr th {\n        vertical-align: top;\n    }\n\n    .dataframe thead th {\n        text-align: right;\n    }\n</style>\n<table border=\"1\" class=\"dataframe\">\n  <thead>\n    <tr style=\"text-align: right;\">\n      <th></th>\n      <th></th>\n      <th>distance</th>\n    </tr>\n    <tr>\n      <th>cluster</th>\n      <th>anomaly</th>\n      <th></th>\n    </tr>\n  </thead>\n  <tbody>\n    <tr>\n      <th rowspan=\"2\" valign=\"top\">0.0</th>\n      <th>False</th>\n      <td>44247</td>\n    </tr>\n    <tr>\n      <th>True</th>\n      <td>1982</td>\n    </tr>\n    <tr>\n      <th rowspan=\"2\" valign=\"top\">1.0</th>\n      <th>False</th>\n      <td>52529</td>\n    </tr>\n    <tr>\n      <th>True</th>\n      <td>3522</td>\n    </tr>\n  </tbody>\n</table>\n</div>"
     },
     "execution_count": 26,
     "metadata": {},
     "output_type": "execute_result"
    }
   ],
   "source": [
    "k_means = KMeans(init=\"k-means++\", n_clusters=2, n_init=10, random_state=0)\n",
    "k_means.fit(X)\n",
    "\n",
    "from sklearn.metrics.pairwise import pairwise_distances_argmin\n",
    "\n",
    "k_means_cluster_centers = k_means.cluster_centers_\n",
    "\n",
    "k_means_labels = pairwise_distances_argmin(X, k_means_cluster_centers)\n",
    "\n",
    "from sklearn.metrics.pairwise import pairwise_distances_argmin_min\n",
    "\n",
    "k_means_distances_df = pd.DataFrame(pairwise_distances_argmin_min(X, k_means_cluster_centers)).T\n",
    "k_means_distances_df.columns = ['cluster', 'distance']\n",
    "\n",
    "k_means_distances_df = pd.concat([k_means_distances_df, y], axis=1)\n",
    "k_means_distances_df.groupby(['cluster', 'anomaly']).count()\n"
   ]
  },
  {
   "cell_type": "code",
   "execution_count": 27,
   "outputs": [],
   "source": [
    "y_predict = k_means_distances_df['cluster'].map({0: False, 1: True})\n",
    "add_performance('KMeans', y, y_predict)\n"
   ],
   "metadata": {
    "collapsed": false,
    "ExecuteTime": {
     "end_time": "2023-11-20T17:05:12.920795Z",
     "start_time": "2023-11-20T17:05:12.810394Z"
    }
   },
   "id": "3154cf4c66c67c03"
  },
  {
   "attachments": {},
   "cell_type": "markdown",
   "id": "cf930ea62a2f0809",
   "metadata": {},
   "source": [
    "#### Balanced KMeans"
   ]
  },
  {
   "cell_type": "code",
   "execution_count": 28,
   "id": "2f6c9e78ecf998",
   "metadata": {
    "ExecuteTime": {
     "end_time": "2023-11-20T17:05:12.923857Z",
     "start_time": "2023-11-20T17:05:12.921296Z"
    }
   },
   "outputs": [
    {
     "data": {
      "text/plain": "'\\nfrom yellowbrick.cluster import KElbowVisualizer\\n\\n# Instantiate the clustering model and visualizer\\nmodel_balanced = KMeans()\\nvisualizer_balanced = KElbowVisualizer(model_balanced, k=(2, 12))\\n\\nvisualizer_balanced.fit(X_balanced)        # Fit the data to the visualizer\\nvisualizer_balanced.show()        # Finalize and render the figure\\n'"
     },
     "execution_count": 28,
     "metadata": {},
     "output_type": "execute_result"
    }
   ],
   "source": [
    "from sklearn.cluster import KMeans\n",
    "'''\n",
    "from yellowbrick.cluster import KElbowVisualizer\n",
    "\n",
    "# Instantiate the clustering model and visualizer\n",
    "model_balanced = KMeans()\n",
    "visualizer_balanced = KElbowVisualizer(model_balanced, k=(2, 12))\n",
    "\n",
    "visualizer_balanced.fit(X_balanced)        # Fit the data to the visualizer\n",
    "visualizer_balanced.show()        # Finalize and render the figure\n",
    "'''"
   ]
  },
  {
   "cell_type": "code",
   "execution_count": 29,
   "id": "1109dbe06c549048",
   "metadata": {
    "ExecuteTime": {
     "end_time": "2023-11-20T17:05:13.137072Z",
     "start_time": "2023-11-20T17:05:12.924974Z"
    }
   },
   "outputs": [
    {
     "data": {
      "text/plain": "                 distance\ncluster anomaly          \n0.0     False        2505\n        True         1982\n1.0     False        2999\n        True         3522",
      "text/html": "<div>\n<style scoped>\n    .dataframe tbody tr th:only-of-type {\n        vertical-align: middle;\n    }\n\n    .dataframe tbody tr th {\n        vertical-align: top;\n    }\n\n    .dataframe thead th {\n        text-align: right;\n    }\n</style>\n<table border=\"1\" class=\"dataframe\">\n  <thead>\n    <tr style=\"text-align: right;\">\n      <th></th>\n      <th></th>\n      <th>distance</th>\n    </tr>\n    <tr>\n      <th>cluster</th>\n      <th>anomaly</th>\n      <th></th>\n    </tr>\n  </thead>\n  <tbody>\n    <tr>\n      <th rowspan=\"2\" valign=\"top\">0.0</th>\n      <th>False</th>\n      <td>2505</td>\n    </tr>\n    <tr>\n      <th>True</th>\n      <td>1982</td>\n    </tr>\n    <tr>\n      <th rowspan=\"2\" valign=\"top\">1.0</th>\n      <th>False</th>\n      <td>2999</td>\n    </tr>\n    <tr>\n      <th>True</th>\n      <td>3522</td>\n    </tr>\n  </tbody>\n</table>\n</div>"
     },
     "execution_count": 29,
     "metadata": {},
     "output_type": "execute_result"
    }
   ],
   "source": [
    "k_means_balanced = KMeans(init=\"k-means++\", n_clusters=2, n_init=10, random_state=0)\n",
    "k_means_balanced.fit(X_balanced)\n",
    "\n",
    "k_means_cluster_centers_balanced = k_means_balanced.cluster_centers_\n",
    "\n",
    "k_means_labels_balanced = pairwise_distances_argmin(X_balanced, k_means_cluster_centers_balanced)\n",
    "\n",
    "k_means_distances_df_balanced = pd.DataFrame(pairwise_distances_argmin_min(X_balanced, k_means_cluster_centers_balanced)).T\n",
    "k_means_distances_df_balanced.columns = ['cluster', 'distance']\n",
    "k_means_distances_df_balanced = pd.concat([k_means_distances_df_balanced, y_balanced], axis=1)\n",
    "k_means_distances_df_balanced.groupby(['cluster', 'anomaly']).count()\n"
   ]
  },
  {
   "cell_type": "code",
   "execution_count": 30,
   "outputs": [],
   "source": [
    "y_predict_balanced = k_means_distances_df_balanced['cluster'].map({0: False, 1: True})\n",
    "add_performance('KMeans balanced', y_balanced, y_predict_balanced)\n"
   ],
   "metadata": {
    "collapsed": false,
    "ExecuteTime": {
     "end_time": "2023-11-20T17:05:13.183296Z",
     "start_time": "2023-11-20T17:05:13.137213Z"
    }
   },
   "id": "8d0d97161c1dba95"
  },
  {
   "cell_type": "code",
   "execution_count": 31,
   "outputs": [
    {
     "data": {
      "text/plain": "         algorithm                confusion matrix  accuracy  precision  \\\n0           KMeans  [[44247, 52529], [1982, 3522]]  0.467041   0.062836   \n1  KMeans balanced    [[2505, 2999], [1982, 3522]]  0.547511   0.540101   \n\n     recall  rand index  mutual information based score  homogeneity  \\\n0  0.639898    0.502168                        0.002184     0.004703   \n1  0.639898    0.504470                        0.006774     0.006755   \n\n   completeness  v-measure  \n0      0.001432   0.002195  \n1      0.006927   0.006840  ",
      "text/html": "<div>\n<style scoped>\n    .dataframe tbody tr th:only-of-type {\n        vertical-align: middle;\n    }\n\n    .dataframe tbody tr th {\n        vertical-align: top;\n    }\n\n    .dataframe thead th {\n        text-align: right;\n    }\n</style>\n<table border=\"1\" class=\"dataframe\">\n  <thead>\n    <tr style=\"text-align: right;\">\n      <th></th>\n      <th>algorithm</th>\n      <th>confusion matrix</th>\n      <th>accuracy</th>\n      <th>precision</th>\n      <th>recall</th>\n      <th>rand index</th>\n      <th>mutual information based score</th>\n      <th>homogeneity</th>\n      <th>completeness</th>\n      <th>v-measure</th>\n    </tr>\n  </thead>\n  <tbody>\n    <tr>\n      <th>0</th>\n      <td>KMeans</td>\n      <td>[[44247, 52529], [1982, 3522]]</td>\n      <td>0.467041</td>\n      <td>0.062836</td>\n      <td>0.639898</td>\n      <td>0.502168</td>\n      <td>0.002184</td>\n      <td>0.004703</td>\n      <td>0.001432</td>\n      <td>0.002195</td>\n    </tr>\n    <tr>\n      <th>1</th>\n      <td>KMeans balanced</td>\n      <td>[[2505, 2999], [1982, 3522]]</td>\n      <td>0.547511</td>\n      <td>0.540101</td>\n      <td>0.639898</td>\n      <td>0.504470</td>\n      <td>0.006774</td>\n      <td>0.006755</td>\n      <td>0.006927</td>\n      <td>0.006840</td>\n    </tr>\n  </tbody>\n</table>\n</div>"
     },
     "execution_count": 31,
     "metadata": {},
     "output_type": "execute_result"
    }
   ],
   "source": [
    "table_of_performance"
   ],
   "metadata": {
    "collapsed": false,
    "ExecuteTime": {
     "end_time": "2023-11-20T17:05:13.206401Z",
     "start_time": "2023-11-20T17:05:13.170227Z"
    }
   },
   "id": "53f6f6444d8fc88"
  },
  {
   "attachments": {},
   "cell_type": "markdown",
   "id": "4a24ae6211516204",
   "metadata": {},
   "source": [
    "### Affinity Propagation"
   ]
  },
  {
   "attachments": {},
   "cell_type": "markdown",
   "id": "da45f33524382e85",
   "metadata": {},
   "source": [
    "#### Unbalanced"
   ]
  },
  {
   "attachments": {},
   "cell_type": "markdown",
   "id": "80bf9fa4a9ba1969",
   "metadata": {
    "collapsed": false
   },
   "source": [
    "Trying the algorithm on unbalanced dataset is computationally impossible and meaningless."
   ]
  },
  {
   "cell_type": "code",
   "execution_count": 32,
   "id": "eb339c4f27f12846",
   "metadata": {
    "ExecuteTime": {
     "end_time": "2023-11-20T17:05:13.207027Z",
     "start_time": "2023-11-20T17:05:13.177244Z"
    }
   },
   "outputs": [
    {
     "data": {
      "text/plain": "'\\nfrom sklearn.cluster import AffinityPropagation\\n\\naf = AffinityPropagation(random_state=0).fit(X)\\ncluster_centers_indices = af.cluster_centers_indices_\\nlabels = af.labels_\\nlen(cluster_centers_indices)\\n'"
     },
     "execution_count": 32,
     "metadata": {},
     "output_type": "execute_result"
    }
   ],
   "source": [
    "'''\n",
    "from sklearn.cluster import AffinityPropagation\n",
    "\n",
    "af = AffinityPropagation(random_state=0).fit(X)\n",
    "cluster_centers_indices = af.cluster_centers_indices_\n",
    "labels = af.labels_\n",
    "len(cluster_centers_indices)\n",
    "'''"
   ]
  },
  {
   "attachments": {},
   "cell_type": "markdown",
   "id": "3fca04378c335230",
   "metadata": {},
   "source": []
  },
  {
   "attachments": {},
   "cell_type": "markdown",
   "id": "dcb4f6fbb2ce1f91",
   "metadata": {},
   "source": [
    "#### Balanced"
   ]
  },
  {
   "cell_type": "code",
   "execution_count": 33,
   "id": "11a68b39e711f930",
   "metadata": {
    "ExecuteTime": {
     "end_time": "2023-11-20T17:05:13.216657Z",
     "start_time": "2023-11-20T17:05:13.183688Z"
    }
   },
   "outputs": [
    {
     "data": {
      "text/plain": "'\\nfrom sklearn.cluster import AffinityPropagation\\n\\npca = PCA(n_components=5)\\npct_balanced = pca.fit_transform(X_balanced)\\naf_balanced = AffinityPropagation(random_state=0).fit(pct_balanced)\\ncluster_centers_indices_balanced = af_balanced.cluster_centers_indices_\\nlabels_balanced = af_balanced.labels_\\nlen(cluster_centers_indices_balanced)\\n'"
     },
     "execution_count": 33,
     "metadata": {},
     "output_type": "execute_result"
    }
   ],
   "source": [
    "'''\n",
    "from sklearn.cluster import AffinityPropagation\n",
    "\n",
    "pca = PCA(n_components=5)\n",
    "pct_balanced = pca.fit_transform(X_balanced)\n",
    "af_balanced = AffinityPropagation(random_state=0).fit(pct_balanced)\n",
    "cluster_centers_indices_balanced = af_balanced.cluster_centers_indices_\n",
    "labels_balanced = af_balanced.labels_\n",
    "len(cluster_centers_indices_balanced)\n",
    "'''"
   ]
  },
  {
   "attachments": {},
   "cell_type": "markdown",
   "id": "d6a6a5a33122f4f3",
   "metadata": {
    "collapsed": false
   },
   "source": [
    "### Mean shift"
   ]
  },
  {
   "attachments": {},
   "cell_type": "markdown",
   "id": "20c5777194fb63a4",
   "metadata": {
    "collapsed": false
   },
   "source": [
    "#### Unbalanced"
   ]
  },
  {
   "cell_type": "code",
   "execution_count": 34,
   "id": "bc9b3860",
   "metadata": {
    "ExecuteTime": {
     "end_time": "2023-11-20T17:05:13.216809Z",
     "start_time": "2023-11-20T17:05:13.192096Z"
    }
   },
   "outputs": [
    {
     "data": {
      "text/plain": "'\\nfrom sklearn.cluster import MeanShift, estimate_bandwidth\\n\\nbandwidth = estimate_bandwidth(X, quantile=0.3)\\n\\nms = MeanShift(bandwidth=bandwidth, bin_seeding=True)\\nms.fit(X)\\nlabels = ms.labels_\\ncluster_centers = ms.cluster_centers_\\n'"
     },
     "execution_count": 34,
     "metadata": {},
     "output_type": "execute_result"
    }
   ],
   "source": [
    "'''\n",
    "from sklearn.cluster import MeanShift, estimate_bandwidth\n",
    "\n",
    "bandwidth = estimate_bandwidth(X, quantile=0.3)\n",
    "\n",
    "ms = MeanShift(bandwidth=bandwidth, bin_seeding=True)\n",
    "ms.fit(X)\n",
    "labels = ms.labels_\n",
    "cluster_centers = ms.cluster_centers_\n",
    "'''"
   ]
  },
  {
   "cell_type": "code",
   "execution_count": 35,
   "id": "b9521c7d7912d1f8",
   "metadata": {
    "collapsed": false,
    "ExecuteTime": {
     "end_time": "2023-11-20T17:05:13.289057Z",
     "start_time": "2023-11-20T17:05:13.199941Z"
    }
   },
   "outputs": [
    {
     "data": {
      "text/plain": "\"\\nmean_shift_distances_df = pd.DataFrame(pairwise_distances_argmin_min(X, cluster_centers)).T\\nmean_shift_distances_df.columns = ['cluster', 'distance']\\nmean_shift_distances_df = pd.concat([mean_shift_distances_df, y], axis=1)\\nprint(mean_shift_distances_df.groupby(['cluster', 'ontime']).mean())\\nprint(mean_shift_distances_df.groupby(['cluster', 'ontime']).count())\\n\""
     },
     "execution_count": 35,
     "metadata": {},
     "output_type": "execute_result"
    }
   ],
   "source": [
    "'''\n",
    "mean_shift_distances_df = pd.DataFrame(pairwise_distances_argmin_min(X, cluster_centers)).T\n",
    "mean_shift_distances_df.columns = ['cluster', 'distance']\n",
    "mean_shift_distances_df = pd.concat([mean_shift_distances_df, y], axis=1)\n",
    "print(mean_shift_distances_df.groupby(['cluster', 'ontime']).mean())\n",
    "print(mean_shift_distances_df.groupby(['cluster', 'ontime']).count())\n",
    "'''"
   ]
  },
  {
   "attachments": {},
   "cell_type": "markdown",
   "id": "6219b311ce570d63",
   "metadata": {
    "collapsed": false
   },
   "source": []
  },
  {
   "attachments": {},
   "cell_type": "markdown",
   "id": "634807260c264e0c",
   "metadata": {
    "collapsed": false
   },
   "source": [
    "#### Balanced"
   ]
  },
  {
   "cell_type": "code",
   "execution_count": 36,
   "id": "fd7e02f4ab258187",
   "metadata": {
    "collapsed": false,
    "ExecuteTime": {
     "end_time": "2023-11-20T17:05:13.308022Z",
     "start_time": "2023-11-20T17:05:13.210532Z"
    }
   },
   "outputs": [
    {
     "data": {
      "text/plain": "'\\nfrom sklearn.cluster import MeanShift, estimate_bandwidth\\n\\nbandwidth_balanced = estimate_bandwidth(X_balanced, quantile=0.3)\\n\\nms_balanced = MeanShift(bandwidth=bandwidth_balanced, bin_seeding=True)\\nms_balanced.fit(X_balanced)\\nlabels_balanced = ms_balanced.labels_\\ncluster_centers_balanced = ms_balanced.cluster_centers_\\n'"
     },
     "execution_count": 36,
     "metadata": {},
     "output_type": "execute_result"
    }
   ],
   "source": [
    "'''\n",
    "from sklearn.cluster import MeanShift, estimate_bandwidth\n",
    "\n",
    "bandwidth_balanced = estimate_bandwidth(X_balanced, quantile=0.3)\n",
    "\n",
    "ms_balanced = MeanShift(bandwidth=bandwidth_balanced, bin_seeding=True)\n",
    "ms_balanced.fit(X_balanced)\n",
    "labels_balanced = ms_balanced.labels_\n",
    "cluster_centers_balanced = ms_balanced.cluster_centers_\n",
    "'''"
   ]
  },
  {
   "cell_type": "code",
   "execution_count": 37,
   "id": "ce4ed777ed7b35a7",
   "metadata": {
    "collapsed": false,
    "ExecuteTime": {
     "end_time": "2023-11-20T17:05:13.350703Z",
     "start_time": "2023-11-20T17:05:13.218332Z"
    }
   },
   "outputs": [
    {
     "data": {
      "text/plain": "\"\\nmean_shift_distances_df_balanced = pd.DataFrame(pairwise_distances_argmin_min(X_balanced, cluster_centers_balanced)).T\\nmean_shift_distances_df_balanced.columns = ['cluster', 'distance']\\nmean_shift_distances_df_balanced = pd.concat([mean_shift_distances_df_balanced, y_balanced], axis=1)\\nprint(mean_shift_distances_df_balanced.groupby(['cluster', 'anomaly']).mean())\\nprint(mean_shift_distances_df_balanced.groupby(['cluster', 'anomaly']).count())\\n\""
     },
     "execution_count": 37,
     "metadata": {},
     "output_type": "execute_result"
    }
   ],
   "source": [
    "'''\n",
    "mean_shift_distances_df_balanced = pd.DataFrame(pairwise_distances_argmin_min(X_balanced, cluster_centers_balanced)).T\n",
    "mean_shift_distances_df_balanced.columns = ['cluster', 'distance']\n",
    "mean_shift_distances_df_balanced = pd.concat([mean_shift_distances_df_balanced, y_balanced], axis=1)\n",
    "print(mean_shift_distances_df_balanced.groupby(['cluster', 'anomaly']).mean())\n",
    "print(mean_shift_distances_df_balanced.groupby(['cluster', 'anomaly']).count())\n",
    "'''"
   ]
  },
  {
   "attachments": {},
   "cell_type": "markdown",
   "id": "99e585511f9c2375",
   "metadata": {
    "collapsed": false
   },
   "source": [
    "### Hierarchical clustering"
   ]
  },
  {
   "attachments": {},
   "cell_type": "markdown",
   "id": "b6685cf9ea084bfe",
   "metadata": {
    "collapsed": false
   },
   "source": [
    "#### Unbalanced"
   ]
  },
  {
   "cell_type": "code",
   "execution_count": 38,
   "id": "6d7a4bf3fe5fe09c",
   "metadata": {
    "collapsed": false,
    "ExecuteTime": {
     "end_time": "2023-11-20T17:05:13.351107Z",
     "start_time": "2023-11-20T17:05:13.227255Z"
    }
   },
   "outputs": [
    {
     "data": {
      "text/plain": "'\\nfrom sklearn.cluster import AgglomerativeClustering\\n\\nhierarchical_clustering = AgglomerativeClustering(n_clusters=2).fit(X)\\n'"
     },
     "execution_count": 38,
     "metadata": {},
     "output_type": "execute_result"
    }
   ],
   "source": [
    "'''\n",
    "from sklearn.cluster import AgglomerativeClustering\n",
    "\n",
    "hierarchical_clustering = AgglomerativeClustering(n_clusters=2).fit(X)\n",
    "'''"
   ]
  },
  {
   "cell_type": "code",
   "execution_count": 39,
   "id": "7edcaca8d4db3368",
   "metadata": {
    "collapsed": false,
    "ExecuteTime": {
     "end_time": "2023-11-20T17:05:13.351276Z",
     "start_time": "2023-11-20T17:05:13.234949Z"
    }
   },
   "outputs": [
    {
     "data": {
      "text/plain": "\"\\nhierarchical_clustering_labels_df = pd.DataFrame(hierarchical_clustering.labels_, columns=['cluster'])\\nhierarchical_clustering_labels_df = pd.concat([hierarchical_clustering_labels_df, y], axis=1)\\npd.DataFrame(hierarchical_clustering_labels_df.value_counts())\\n\""
     },
     "execution_count": 39,
     "metadata": {},
     "output_type": "execute_result"
    }
   ],
   "source": [
    "'''\n",
    "hierarchical_clustering_labels_df = pd.DataFrame(hierarchical_clustering.labels_, columns=['cluster'])\n",
    "hierarchical_clustering_labels_df = pd.concat([hierarchical_clustering_labels_df, y], axis=1)\n",
    "pd.DataFrame(hierarchical_clustering_labels_df.value_counts())\n",
    "'''"
   ]
  },
  {
   "attachments": {},
   "cell_type": "markdown",
   "id": "b85fda5290c6438c",
   "metadata": {
    "collapsed": false
   },
   "source": [
    "#### Balanced"
   ]
  },
  {
   "cell_type": "code",
   "execution_count": 40,
   "id": "ac6c0694746794a2",
   "metadata": {
    "collapsed": false,
    "ExecuteTime": {
     "end_time": "2023-11-20T17:05:15.101861Z",
     "start_time": "2023-11-20T17:05:13.245540Z"
    }
   },
   "outputs": [],
   "source": [
    "from sklearn.cluster import AgglomerativeClustering\n",
    "\n",
    "hierarchical_clustering_balanced = AgglomerativeClustering(n_clusters=2).fit(X_balanced)"
   ]
  },
  {
   "cell_type": "code",
   "execution_count": 41,
   "id": "fe5f68c51fd88239",
   "metadata": {
    "collapsed": false,
    "ExecuteTime": {
     "end_time": "2023-11-20T17:05:15.106995Z",
     "start_time": "2023-11-20T17:05:15.101280Z"
    }
   },
   "outputs": [
    {
     "data": {
      "text/plain": "cluster  anomaly\n0        True       3632\n         False      3190\n1        False      2314\n         True       1872\nName: count, dtype: int64"
     },
     "execution_count": 41,
     "metadata": {},
     "output_type": "execute_result"
    }
   ],
   "source": [
    "hierarchical_clustering_labels_df_balanced = pd.DataFrame(hierarchical_clustering_balanced.labels_, columns=['cluster'])\n",
    "hierarchical_clustering_labels_df_balanced = pd.concat([hierarchical_clustering_labels_df_balanced, y_balanced], axis=1)\n",
    "hierarchical_clustering_labels_df_balanced.value_counts()\n"
   ]
  },
  {
   "cell_type": "code",
   "execution_count": 42,
   "outputs": [],
   "source": [
    "y_predict_balanced = hierarchical_clustering_labels_df_balanced['cluster'].map({0: True, 1: False})\n",
    "add_performance('hierarchical clustering balanced', y_balanced, y_predict_balanced)\n"
   ],
   "metadata": {
    "collapsed": false,
    "ExecuteTime": {
     "end_time": "2023-11-20T17:05:15.135805Z",
     "start_time": "2023-11-20T17:05:15.105902Z"
    }
   },
   "id": "ee97ed11f2c67617"
  },
  {
   "cell_type": "code",
   "execution_count": 43,
   "outputs": [
    {
     "data": {
      "text/plain": "                          algorithm                confusion matrix  accuracy  \\\n0                            KMeans  [[44247, 52529], [1982, 3522]]  0.467041   \n1                   KMeans balanced    [[2505, 2999], [1982, 3522]]  0.547511   \n2  hierarchical clustering balanced    [[2314, 3190], [1872, 3632]]  0.540153   \n\n   precision    recall  rand index  mutual information based score  \\\n0   0.062836  0.639898    0.502168                        0.002184   \n1   0.540101  0.639898    0.504470                        0.006774   \n2   0.532395  0.659884    0.503179                        0.004981   \n\n   homogeneity  completeness  v-measure  \n0     0.004703      0.001432   0.002195  \n1     0.006755      0.006927   0.006840  \n2     0.004942      0.005157   0.005047  ",
      "text/html": "<div>\n<style scoped>\n    .dataframe tbody tr th:only-of-type {\n        vertical-align: middle;\n    }\n\n    .dataframe tbody tr th {\n        vertical-align: top;\n    }\n\n    .dataframe thead th {\n        text-align: right;\n    }\n</style>\n<table border=\"1\" class=\"dataframe\">\n  <thead>\n    <tr style=\"text-align: right;\">\n      <th></th>\n      <th>algorithm</th>\n      <th>confusion matrix</th>\n      <th>accuracy</th>\n      <th>precision</th>\n      <th>recall</th>\n      <th>rand index</th>\n      <th>mutual information based score</th>\n      <th>homogeneity</th>\n      <th>completeness</th>\n      <th>v-measure</th>\n    </tr>\n  </thead>\n  <tbody>\n    <tr>\n      <th>0</th>\n      <td>KMeans</td>\n      <td>[[44247, 52529], [1982, 3522]]</td>\n      <td>0.467041</td>\n      <td>0.062836</td>\n      <td>0.639898</td>\n      <td>0.502168</td>\n      <td>0.002184</td>\n      <td>0.004703</td>\n      <td>0.001432</td>\n      <td>0.002195</td>\n    </tr>\n    <tr>\n      <th>1</th>\n      <td>KMeans balanced</td>\n      <td>[[2505, 2999], [1982, 3522]]</td>\n      <td>0.547511</td>\n      <td>0.540101</td>\n      <td>0.639898</td>\n      <td>0.504470</td>\n      <td>0.006774</td>\n      <td>0.006755</td>\n      <td>0.006927</td>\n      <td>0.006840</td>\n    </tr>\n    <tr>\n      <th>2</th>\n      <td>hierarchical clustering balanced</td>\n      <td>[[2314, 3190], [1872, 3632]]</td>\n      <td>0.540153</td>\n      <td>0.532395</td>\n      <td>0.659884</td>\n      <td>0.503179</td>\n      <td>0.004981</td>\n      <td>0.004942</td>\n      <td>0.005157</td>\n      <td>0.005047</td>\n    </tr>\n  </tbody>\n</table>\n</div>"
     },
     "execution_count": 43,
     "metadata": {},
     "output_type": "execute_result"
    }
   ],
   "source": [
    "table_of_performance"
   ],
   "metadata": {
    "collapsed": false,
    "ExecuteTime": {
     "end_time": "2023-11-20T17:05:15.136261Z",
     "start_time": "2023-11-20T17:05:15.128682Z"
    }
   },
   "id": "d3490afeeb9e9164"
  },
  {
   "attachments": {},
   "cell_type": "markdown",
   "id": "a0902d4152bbcbb3",
   "metadata": {
    "collapsed": false
   },
   "source": [
    "### HDBSCAN"
   ]
  },
  {
   "attachments": {},
   "cell_type": "markdown",
   "id": "a5ba79b852f393a0",
   "metadata": {
    "collapsed": false
   },
   "source": [
    "#### Unbalanced"
   ]
  },
  {
   "cell_type": "code",
   "execution_count": 44,
   "id": "8a7dad2dc795aba3",
   "metadata": {
    "collapsed": false,
    "ExecuteTime": {
     "end_time": "2023-11-20T17:07:28.016314Z",
     "start_time": "2023-11-20T17:05:15.134782Z"
    }
   },
   "outputs": [
    {
     "data": {
      "text/plain": "HDBSCAN(min_cluster_size=20)",
      "text/html": "<style>#sk-container-id-1 {color: black;}#sk-container-id-1 pre{padding: 0;}#sk-container-id-1 div.sk-toggleable {background-color: white;}#sk-container-id-1 label.sk-toggleable__label {cursor: pointer;display: block;width: 100%;margin-bottom: 0;padding: 0.3em;box-sizing: border-box;text-align: center;}#sk-container-id-1 label.sk-toggleable__label-arrow:before {content: \"▸\";float: left;margin-right: 0.25em;color: #696969;}#sk-container-id-1 label.sk-toggleable__label-arrow:hover:before {color: black;}#sk-container-id-1 div.sk-estimator:hover label.sk-toggleable__label-arrow:before {color: black;}#sk-container-id-1 div.sk-toggleable__content {max-height: 0;max-width: 0;overflow: hidden;text-align: left;background-color: #f0f8ff;}#sk-container-id-1 div.sk-toggleable__content pre {margin: 0.2em;color: black;border-radius: 0.25em;background-color: #f0f8ff;}#sk-container-id-1 input.sk-toggleable__control:checked~div.sk-toggleable__content {max-height: 200px;max-width: 100%;overflow: auto;}#sk-container-id-1 input.sk-toggleable__control:checked~label.sk-toggleable__label-arrow:before {content: \"▾\";}#sk-container-id-1 div.sk-estimator input.sk-toggleable__control:checked~label.sk-toggleable__label {background-color: #d4ebff;}#sk-container-id-1 div.sk-label input.sk-toggleable__control:checked~label.sk-toggleable__label {background-color: #d4ebff;}#sk-container-id-1 input.sk-hidden--visually {border: 0;clip: rect(1px 1px 1px 1px);clip: rect(1px, 1px, 1px, 1px);height: 1px;margin: -1px;overflow: hidden;padding: 0;position: absolute;width: 1px;}#sk-container-id-1 div.sk-estimator {font-family: monospace;background-color: #f0f8ff;border: 1px dotted black;border-radius: 0.25em;box-sizing: border-box;margin-bottom: 0.5em;}#sk-container-id-1 div.sk-estimator:hover {background-color: #d4ebff;}#sk-container-id-1 div.sk-parallel-item::after {content: \"\";width: 100%;border-bottom: 1px solid gray;flex-grow: 1;}#sk-container-id-1 div.sk-label:hover label.sk-toggleable__label {background-color: #d4ebff;}#sk-container-id-1 div.sk-serial::before {content: \"\";position: absolute;border-left: 1px solid gray;box-sizing: border-box;top: 0;bottom: 0;left: 50%;z-index: 0;}#sk-container-id-1 div.sk-serial {display: flex;flex-direction: column;align-items: center;background-color: white;padding-right: 0.2em;padding-left: 0.2em;position: relative;}#sk-container-id-1 div.sk-item {position: relative;z-index: 1;}#sk-container-id-1 div.sk-parallel {display: flex;align-items: stretch;justify-content: center;background-color: white;position: relative;}#sk-container-id-1 div.sk-item::before, #sk-container-id-1 div.sk-parallel-item::before {content: \"\";position: absolute;border-left: 1px solid gray;box-sizing: border-box;top: 0;bottom: 0;left: 50%;z-index: -1;}#sk-container-id-1 div.sk-parallel-item {display: flex;flex-direction: column;z-index: 1;position: relative;background-color: white;}#sk-container-id-1 div.sk-parallel-item:first-child::after {align-self: flex-end;width: 50%;}#sk-container-id-1 div.sk-parallel-item:last-child::after {align-self: flex-start;width: 50%;}#sk-container-id-1 div.sk-parallel-item:only-child::after {width: 0;}#sk-container-id-1 div.sk-dashed-wrapped {border: 1px dashed gray;margin: 0 0.4em 0.5em 0.4em;box-sizing: border-box;padding-bottom: 0.4em;background-color: white;}#sk-container-id-1 div.sk-label label {font-family: monospace;font-weight: bold;display: inline-block;line-height: 1.2em;}#sk-container-id-1 div.sk-label-container {text-align: center;}#sk-container-id-1 div.sk-container {/* jupyter's `normalize.less` sets `[hidden] { display: none; }` but bootstrap.min.css set `[hidden] { display: none !important; }` so we also need the `!important` here to be able to override the default hidden behavior on the sphinx rendered scikit-learn.org. See: https://github.com/scikit-learn/scikit-learn/issues/21755 */display: inline-block !important;position: relative;}#sk-container-id-1 div.sk-text-repr-fallback {display: none;}</style><div id=\"sk-container-id-1\" class=\"sk-top-container\"><div class=\"sk-text-repr-fallback\"><pre>HDBSCAN(min_cluster_size=20)</pre><b>In a Jupyter environment, please rerun this cell to show the HTML representation or trust the notebook. <br />On GitHub, the HTML representation is unable to render, please try loading this page with nbviewer.org.</b></div><div class=\"sk-container\" hidden><div class=\"sk-item\"><div class=\"sk-estimator sk-toggleable\"><input class=\"sk-toggleable__control sk-hidden--visually\" id=\"sk-estimator-id-1\" type=\"checkbox\" checked><label for=\"sk-estimator-id-1\" class=\"sk-toggleable__label sk-toggleable__label-arrow\">HDBSCAN</label><div class=\"sk-toggleable__content\"><pre>HDBSCAN(min_cluster_size=20)</pre></div></div></div></div></div>"
     },
     "execution_count": 44,
     "metadata": {},
     "output_type": "execute_result"
    }
   ],
   "source": [
    "from sklearn.cluster import HDBSCAN\n",
    "\n",
    "hdb = HDBSCAN(min_cluster_size=20)\n",
    "hdb.fit(X)"
   ]
  },
  {
   "cell_type": "code",
   "execution_count": 45,
   "id": "50fcb5d6f4f8f9eb",
   "metadata": {
    "collapsed": false,
    "ExecuteTime": {
     "end_time": "2023-11-20T17:07:28.124360Z",
     "start_time": "2023-11-20T17:07:28.025746Z"
    }
   },
   "outputs": [],
   "source": [
    "hdbscan_labels_df = pd.DataFrame(hdb.labels_, columns=['clusters'])\n",
    "hdbscan_labels_df = pd.concat([hdbscan_labels_df, y], axis=1)\n",
    "\n",
    "y_predict = hdbscan_labels_df['clusters'].map(lambda x: x < 0)\n",
    "add_performance('HDBSCAN', y, y_predict)"
   ]
  },
  {
   "attachments": {},
   "cell_type": "markdown",
   "id": "87814e6a026b070",
   "metadata": {
    "collapsed": false
   },
   "source": [
    "#### Balanced"
   ]
  },
  {
   "cell_type": "code",
   "execution_count": 46,
   "id": "9e59347140ea41b",
   "metadata": {
    "collapsed": false,
    "ExecuteTime": {
     "end_time": "2023-11-20T17:07:29.626444Z",
     "start_time": "2023-11-20T17:07:28.124762Z"
    }
   },
   "outputs": [
    {
     "data": {
      "text/plain": "HDBSCAN(min_cluster_size=20)",
      "text/html": "<style>#sk-container-id-2 {color: black;}#sk-container-id-2 pre{padding: 0;}#sk-container-id-2 div.sk-toggleable {background-color: white;}#sk-container-id-2 label.sk-toggleable__label {cursor: pointer;display: block;width: 100%;margin-bottom: 0;padding: 0.3em;box-sizing: border-box;text-align: center;}#sk-container-id-2 label.sk-toggleable__label-arrow:before {content: \"▸\";float: left;margin-right: 0.25em;color: #696969;}#sk-container-id-2 label.sk-toggleable__label-arrow:hover:before {color: black;}#sk-container-id-2 div.sk-estimator:hover label.sk-toggleable__label-arrow:before {color: black;}#sk-container-id-2 div.sk-toggleable__content {max-height: 0;max-width: 0;overflow: hidden;text-align: left;background-color: #f0f8ff;}#sk-container-id-2 div.sk-toggleable__content pre {margin: 0.2em;color: black;border-radius: 0.25em;background-color: #f0f8ff;}#sk-container-id-2 input.sk-toggleable__control:checked~div.sk-toggleable__content {max-height: 200px;max-width: 100%;overflow: auto;}#sk-container-id-2 input.sk-toggleable__control:checked~label.sk-toggleable__label-arrow:before {content: \"▾\";}#sk-container-id-2 div.sk-estimator input.sk-toggleable__control:checked~label.sk-toggleable__label {background-color: #d4ebff;}#sk-container-id-2 div.sk-label input.sk-toggleable__control:checked~label.sk-toggleable__label {background-color: #d4ebff;}#sk-container-id-2 input.sk-hidden--visually {border: 0;clip: rect(1px 1px 1px 1px);clip: rect(1px, 1px, 1px, 1px);height: 1px;margin: -1px;overflow: hidden;padding: 0;position: absolute;width: 1px;}#sk-container-id-2 div.sk-estimator {font-family: monospace;background-color: #f0f8ff;border: 1px dotted black;border-radius: 0.25em;box-sizing: border-box;margin-bottom: 0.5em;}#sk-container-id-2 div.sk-estimator:hover {background-color: #d4ebff;}#sk-container-id-2 div.sk-parallel-item::after {content: \"\";width: 100%;border-bottom: 1px solid gray;flex-grow: 1;}#sk-container-id-2 div.sk-label:hover label.sk-toggleable__label {background-color: #d4ebff;}#sk-container-id-2 div.sk-serial::before {content: \"\";position: absolute;border-left: 1px solid gray;box-sizing: border-box;top: 0;bottom: 0;left: 50%;z-index: 0;}#sk-container-id-2 div.sk-serial {display: flex;flex-direction: column;align-items: center;background-color: white;padding-right: 0.2em;padding-left: 0.2em;position: relative;}#sk-container-id-2 div.sk-item {position: relative;z-index: 1;}#sk-container-id-2 div.sk-parallel {display: flex;align-items: stretch;justify-content: center;background-color: white;position: relative;}#sk-container-id-2 div.sk-item::before, #sk-container-id-2 div.sk-parallel-item::before {content: \"\";position: absolute;border-left: 1px solid gray;box-sizing: border-box;top: 0;bottom: 0;left: 50%;z-index: -1;}#sk-container-id-2 div.sk-parallel-item {display: flex;flex-direction: column;z-index: 1;position: relative;background-color: white;}#sk-container-id-2 div.sk-parallel-item:first-child::after {align-self: flex-end;width: 50%;}#sk-container-id-2 div.sk-parallel-item:last-child::after {align-self: flex-start;width: 50%;}#sk-container-id-2 div.sk-parallel-item:only-child::after {width: 0;}#sk-container-id-2 div.sk-dashed-wrapped {border: 1px dashed gray;margin: 0 0.4em 0.5em 0.4em;box-sizing: border-box;padding-bottom: 0.4em;background-color: white;}#sk-container-id-2 div.sk-label label {font-family: monospace;font-weight: bold;display: inline-block;line-height: 1.2em;}#sk-container-id-2 div.sk-label-container {text-align: center;}#sk-container-id-2 div.sk-container {/* jupyter's `normalize.less` sets `[hidden] { display: none; }` but bootstrap.min.css set `[hidden] { display: none !important; }` so we also need the `!important` here to be able to override the default hidden behavior on the sphinx rendered scikit-learn.org. See: https://github.com/scikit-learn/scikit-learn/issues/21755 */display: inline-block !important;position: relative;}#sk-container-id-2 div.sk-text-repr-fallback {display: none;}</style><div id=\"sk-container-id-2\" class=\"sk-top-container\"><div class=\"sk-text-repr-fallback\"><pre>HDBSCAN(min_cluster_size=20)</pre><b>In a Jupyter environment, please rerun this cell to show the HTML representation or trust the notebook. <br />On GitHub, the HTML representation is unable to render, please try loading this page with nbviewer.org.</b></div><div class=\"sk-container\" hidden><div class=\"sk-item\"><div class=\"sk-estimator sk-toggleable\"><input class=\"sk-toggleable__control sk-hidden--visually\" id=\"sk-estimator-id-2\" type=\"checkbox\" checked><label for=\"sk-estimator-id-2\" class=\"sk-toggleable__label sk-toggleable__label-arrow\">HDBSCAN</label><div class=\"sk-toggleable__content\"><pre>HDBSCAN(min_cluster_size=20)</pre></div></div></div></div></div>"
     },
     "execution_count": 46,
     "metadata": {},
     "output_type": "execute_result"
    }
   ],
   "source": [
    "from sklearn.cluster import HDBSCAN\n",
    "\n",
    "hdb_balanced = HDBSCAN(min_cluster_size=20)\n",
    "hdb_balanced.fit(X_balanced)"
   ]
  },
  {
   "cell_type": "code",
   "execution_count": 47,
   "id": "47049dc7263742c2",
   "metadata": {
    "collapsed": false,
    "ExecuteTime": {
     "end_time": "2023-11-20T17:07:29.645006Z",
     "start_time": "2023-11-20T17:07:29.628419Z"
    }
   },
   "outputs": [],
   "source": [
    "hdbscan_labels_df_balanced = pd.DataFrame(hdb_balanced.labels_, columns=['clusters'])\n",
    "hdbscan_labels_df_balanced = pd.concat([hdbscan_labels_df_balanced, y_balanced], axis=1)\n",
    "\n",
    "y_predict_balanced = hdbscan_labels_df_balanced['clusters'].map(lambda x: x < 0)\n",
    "add_performance('HDBSCAN balanced', y_balanced, y_predict_balanced)"
   ]
  },
  {
   "attachments": {},
   "cell_type": "markdown",
   "id": "1be15991c9fb2a95",
   "metadata": {
    "collapsed": false
   },
   "source": [
    "### OPTICS"
   ]
  },
  {
   "attachments": {},
   "cell_type": "markdown",
   "id": "afa567fc59c7182a",
   "metadata": {
    "collapsed": false
   },
   "source": [
    "#### Unbalanced"
   ]
  },
  {
   "cell_type": "code",
   "execution_count": 48,
   "id": "4815cce473224f73",
   "metadata": {
    "collapsed": false,
    "ExecuteTime": {
     "end_time": "2023-11-20T17:16:39.082747Z",
     "start_time": "2023-11-20T17:07:29.645867Z"
    }
   },
   "outputs": [
    {
     "name": "stderr",
     "output_type": "stream",
     "text": [
      "/Users/boweigao/miniconda3/lib/python3.11/site-packages/sklearn/cluster/_optics.py:995: RuntimeWarning: divide by zero encountered in divide\n",
      "  ratio = reachability_plot[:-1] / reachability_plot[1:]\n"
     ]
    }
   ],
   "source": [
    "from sklearn.cluster import OPTICS\n",
    "\n",
    "optics = OPTICS(min_samples=2).fit(X)\n"
   ]
  },
  {
   "cell_type": "code",
   "execution_count": 49,
   "id": "5ec55f6ac365150f",
   "metadata": {
    "collapsed": false,
    "ExecuteTime": {
     "end_time": "2023-11-20T17:16:39.211291Z",
     "start_time": "2023-11-20T17:16:39.083937Z"
    }
   },
   "outputs": [],
   "source": [
    "optics_labels_df = pd.DataFrame(optics.labels_, columns=['clusters'])\n",
    "optics_labels_df = pd.concat([optics_labels_df, y], axis=1)\n",
    "\n",
    "y_predict = optics_labels_df['clusters'].map(lambda x: x < 0)\n",
    "add_performance('OPTICS', y, y_predict)\n"
   ]
  },
  {
   "attachments": {},
   "cell_type": "markdown",
   "id": "2e69375468fcf63c",
   "metadata": {
    "collapsed": false
   },
   "source": [
    "#### Balanced"
   ]
  },
  {
   "cell_type": "code",
   "execution_count": 50,
   "id": "c579a951aa88e19f",
   "metadata": {
    "collapsed": false,
    "ExecuteTime": {
     "end_time": "2023-11-20T17:16:51.122892Z",
     "start_time": "2023-11-20T17:16:39.211958Z"
    }
   },
   "outputs": [
    {
     "name": "stderr",
     "output_type": "stream",
     "text": [
      "/Users/boweigao/miniconda3/lib/python3.11/site-packages/sklearn/cluster/_optics.py:995: RuntimeWarning: divide by zero encountered in divide\n",
      "  ratio = reachability_plot[:-1] / reachability_plot[1:]\n"
     ]
    }
   ],
   "source": [
    "from sklearn.cluster import OPTICS\n",
    "\n",
    "optics_balanced = OPTICS(min_samples=2).fit(X_balanced)"
   ]
  },
  {
   "cell_type": "code",
   "execution_count": 51,
   "id": "a5477e0ddad13ff6",
   "metadata": {
    "collapsed": false,
    "ExecuteTime": {
     "end_time": "2023-11-20T17:16:51.158736Z",
     "start_time": "2023-11-20T17:16:51.126528Z"
    }
   },
   "outputs": [],
   "source": [
    "optics_labels_df_balanced = pd.DataFrame(optics_balanced.labels_, columns=['clusters'])\n",
    "optics_labels_df_balanced = pd.concat([optics_labels_df_balanced, y_balanced], axis=1)\n",
    "\n",
    "y_predict_balanced = optics_labels_df_balanced['clusters'].map(lambda x: x < 0)\n",
    "add_performance('OPTICS balanced', y_balanced, y_predict_balanced)"
   ]
  },
  {
   "attachments": {},
   "cell_type": "markdown",
   "id": "7c6d9fdd5035f8b0",
   "metadata": {
    "collapsed": false
   },
   "source": [
    "### BIRCH"
   ]
  },
  {
   "attachments": {},
   "cell_type": "markdown",
   "id": "d9151f634a6e16fe",
   "metadata": {
    "collapsed": false
   },
   "source": [
    "#### Unbalanced"
   ]
  },
  {
   "cell_type": "code",
   "execution_count": 52,
   "id": "dee4ada5948ab5c1",
   "metadata": {
    "collapsed": false,
    "ExecuteTime": {
     "end_time": "2023-11-20T17:27:39.182031Z",
     "start_time": "2023-11-20T17:16:51.153398Z"
    }
   },
   "outputs": [
    {
     "data": {
      "text/plain": "array([0, 0, 0, ..., 0, 0, 0])"
     },
     "execution_count": 52,
     "metadata": {},
     "output_type": "execute_result"
    }
   ],
   "source": [
    "from sklearn.cluster import Birch\n",
    "\n",
    "brc = Birch(n_clusters=2)\n",
    "brc.fit(X)\n",
    "brc.predict(X)\n"
   ]
  },
  {
   "cell_type": "code",
   "execution_count": 53,
   "id": "c719228cd58d10fd",
   "metadata": {
    "collapsed": false,
    "ExecuteTime": {
     "end_time": "2023-11-20T17:27:39.215333Z",
     "start_time": "2023-11-20T17:27:39.187396Z"
    }
   },
   "outputs": [
    {
     "data": {
      "text/plain": "clusters  anomaly\n0         False      58949\n1         False      37827\n0         True        3754\n1         True        1750\nName: count, dtype: int64"
     },
     "execution_count": 53,
     "metadata": {},
     "output_type": "execute_result"
    }
   ],
   "source": [
    "brc_labels_df = pd.DataFrame(brc.labels_, columns=['clusters'])\n",
    "brc_labels_df = pd.concat([brc_labels_df, y], axis=1)\n",
    "brc_labels_df.value_counts()\n"
   ]
  },
  {
   "cell_type": "code",
   "execution_count": 54,
   "outputs": [],
   "source": [
    "y_predict = brc_labels_df['clusters'].map({0: True, 1: False})\n",
    "add_performance('BIRCH', y, y_predict)\n"
   ],
   "metadata": {
    "collapsed": false,
    "ExecuteTime": {
     "end_time": "2023-11-20T17:27:39.325472Z",
     "start_time": "2023-11-20T17:27:39.206882Z"
    }
   },
   "id": "ca2e28045f8ceb3"
  },
  {
   "cell_type": "code",
   "execution_count": 55,
   "outputs": [
    {
     "data": {
      "text/plain": "                          algorithm                confusion matrix  accuracy  \\\n0                            KMeans  [[44247, 52529], [1982, 3522]]  0.467041   \n1                   KMeans balanced    [[2505, 2999], [1982, 3522]]  0.547511   \n2  hierarchical clustering balanced    [[2314, 3190], [1872, 3632]]  0.540153   \n3                           HDBSCAN   [[76221, 20555], [4639, 865]]  0.753676   \n4                  HDBSCAN balanced    [[3809, 1695], [4317, 1187]]  0.453852   \n5                            OPTICS  [[54700, 42076], [3025, 2479]]  0.559044   \n6                   OPTICS balanced    [[2569, 2935], [2987, 2517]]  0.462028   \n7                             BIRCH  [[37827, 58949], [1750, 3754]]  0.406541   \n\n   precision    recall  rand index  mutual information based score  \\\n0   0.062836  0.639898    0.502168                        0.002184   \n1   0.540101  0.639898    0.504470                        0.006774   \n2   0.532395  0.659884    0.503179                        0.004981   \n3   0.040383  0.157158    0.628700                        0.001372   \n4   0.411867  0.215661    0.504214                        0.008654   \n5   0.055639  0.450400    0.506968                        0.000045   \n6   0.461665  0.457304    0.502839                        0.004100   \n7   0.059870  0.682049    0.517465                        0.001323   \n\n   homogeneity  completeness  v-measure  \n0     0.004703      0.001432   0.002195  \n1     0.006755      0.006927   0.006840  \n2     0.004942      0.005157   0.005047  \n3     0.002389      0.000976   0.001385  \n4     0.007981      0.009622   0.008725  \n5     0.000120      0.000037   0.000056  \n6     0.004165      0.004165   0.004165  \n7     0.002790      0.000876   0.001334  ",
      "text/html": "<div>\n<style scoped>\n    .dataframe tbody tr th:only-of-type {\n        vertical-align: middle;\n    }\n\n    .dataframe tbody tr th {\n        vertical-align: top;\n    }\n\n    .dataframe thead th {\n        text-align: right;\n    }\n</style>\n<table border=\"1\" class=\"dataframe\">\n  <thead>\n    <tr style=\"text-align: right;\">\n      <th></th>\n      <th>algorithm</th>\n      <th>confusion matrix</th>\n      <th>accuracy</th>\n      <th>precision</th>\n      <th>recall</th>\n      <th>rand index</th>\n      <th>mutual information based score</th>\n      <th>homogeneity</th>\n      <th>completeness</th>\n      <th>v-measure</th>\n    </tr>\n  </thead>\n  <tbody>\n    <tr>\n      <th>0</th>\n      <td>KMeans</td>\n      <td>[[44247, 52529], [1982, 3522]]</td>\n      <td>0.467041</td>\n      <td>0.062836</td>\n      <td>0.639898</td>\n      <td>0.502168</td>\n      <td>0.002184</td>\n      <td>0.004703</td>\n      <td>0.001432</td>\n      <td>0.002195</td>\n    </tr>\n    <tr>\n      <th>1</th>\n      <td>KMeans balanced</td>\n      <td>[[2505, 2999], [1982, 3522]]</td>\n      <td>0.547511</td>\n      <td>0.540101</td>\n      <td>0.639898</td>\n      <td>0.504470</td>\n      <td>0.006774</td>\n      <td>0.006755</td>\n      <td>0.006927</td>\n      <td>0.006840</td>\n    </tr>\n    <tr>\n      <th>2</th>\n      <td>hierarchical clustering balanced</td>\n      <td>[[2314, 3190], [1872, 3632]]</td>\n      <td>0.540153</td>\n      <td>0.532395</td>\n      <td>0.659884</td>\n      <td>0.503179</td>\n      <td>0.004981</td>\n      <td>0.004942</td>\n      <td>0.005157</td>\n      <td>0.005047</td>\n    </tr>\n    <tr>\n      <th>3</th>\n      <td>HDBSCAN</td>\n      <td>[[76221, 20555], [4639, 865]]</td>\n      <td>0.753676</td>\n      <td>0.040383</td>\n      <td>0.157158</td>\n      <td>0.628700</td>\n      <td>0.001372</td>\n      <td>0.002389</td>\n      <td>0.000976</td>\n      <td>0.001385</td>\n    </tr>\n    <tr>\n      <th>4</th>\n      <td>HDBSCAN balanced</td>\n      <td>[[3809, 1695], [4317, 1187]]</td>\n      <td>0.453852</td>\n      <td>0.411867</td>\n      <td>0.215661</td>\n      <td>0.504214</td>\n      <td>0.008654</td>\n      <td>0.007981</td>\n      <td>0.009622</td>\n      <td>0.008725</td>\n    </tr>\n    <tr>\n      <th>5</th>\n      <td>OPTICS</td>\n      <td>[[54700, 42076], [3025, 2479]]</td>\n      <td>0.559044</td>\n      <td>0.055639</td>\n      <td>0.450400</td>\n      <td>0.506968</td>\n      <td>0.000045</td>\n      <td>0.000120</td>\n      <td>0.000037</td>\n      <td>0.000056</td>\n    </tr>\n    <tr>\n      <th>6</th>\n      <td>OPTICS balanced</td>\n      <td>[[2569, 2935], [2987, 2517]]</td>\n      <td>0.462028</td>\n      <td>0.461665</td>\n      <td>0.457304</td>\n      <td>0.502839</td>\n      <td>0.004100</td>\n      <td>0.004165</td>\n      <td>0.004165</td>\n      <td>0.004165</td>\n    </tr>\n    <tr>\n      <th>7</th>\n      <td>BIRCH</td>\n      <td>[[37827, 58949], [1750, 3754]]</td>\n      <td>0.406541</td>\n      <td>0.059870</td>\n      <td>0.682049</td>\n      <td>0.517465</td>\n      <td>0.001323</td>\n      <td>0.002790</td>\n      <td>0.000876</td>\n      <td>0.001334</td>\n    </tr>\n  </tbody>\n</table>\n</div>"
     },
     "execution_count": 55,
     "metadata": {},
     "output_type": "execute_result"
    }
   ],
   "source": [
    "table_of_performance"
   ],
   "metadata": {
    "collapsed": false,
    "ExecuteTime": {
     "end_time": "2023-11-20T17:27:39.338158Z",
     "start_time": "2023-11-20T17:27:39.332598Z"
    }
   },
   "id": "b65a3845a93c7b0b"
  },
  {
   "attachments": {},
   "cell_type": "markdown",
   "id": "baf7f987eba49124",
   "metadata": {
    "collapsed": false
   },
   "source": [
    "#### Balanced"
   ]
  },
  {
   "cell_type": "code",
   "execution_count": 56,
   "id": "c85e5ba831c27ef3",
   "metadata": {
    "collapsed": false,
    "ExecuteTime": {
     "end_time": "2023-11-20T17:27:41.770263Z",
     "start_time": "2023-11-20T17:27:39.344059Z"
    }
   },
   "outputs": [
    {
     "data": {
      "text/plain": "array([0, 0, 1, ..., 0, 1, 1])"
     },
     "execution_count": 56,
     "metadata": {},
     "output_type": "execute_result"
    }
   ],
   "source": [
    "from sklearn.cluster import Birch\n",
    "\n",
    "brc_balanced = Birch(n_clusters=2)\n",
    "brc_balanced.fit(X_balanced)\n",
    "brc_balanced.predict(X_balanced)\n"
   ]
  },
  {
   "cell_type": "code",
   "execution_count": 57,
   "id": "1a3e239ac7e2874",
   "metadata": {
    "collapsed": false,
    "ExecuteTime": {
     "end_time": "2023-11-20T17:27:41.785508Z",
     "start_time": "2023-11-20T17:27:41.769312Z"
    }
   },
   "outputs": [
    {
     "data": {
      "text/plain": "clusters  anomaly\n0         True       3731\n          False      3297\n1         False      2207\n          True       1773\nName: count, dtype: int64"
     },
     "execution_count": 57,
     "metadata": {},
     "output_type": "execute_result"
    }
   ],
   "source": [
    "brc_labels_df_balanced = pd.DataFrame(brc_balanced.labels_, columns=['clusters'])\n",
    "brc_labels_df_balanced = pd.concat([brc_labels_df_balanced, y_balanced], axis=1)\n",
    "brc_labels_df_balanced.value_counts()\n"
   ]
  },
  {
   "cell_type": "code",
   "execution_count": 58,
   "outputs": [],
   "source": [
    "y_predict_balanced = brc_labels_df_balanced['clusters'].map({0: True, 1: False})\n",
    "add_performance('BIRCH balanced', y_balanced, y_predict_balanced)\n"
   ],
   "metadata": {
    "collapsed": false,
    "ExecuteTime": {
     "end_time": "2023-11-20T17:27:41.812537Z",
     "start_time": "2023-11-20T17:27:41.786779Z"
    }
   },
   "id": "2c62dc6262e4a511"
  },
  {
   "cell_type": "code",
   "execution_count": 59,
   "outputs": [
    {
     "data": {
      "text/plain": "                          algorithm                confusion matrix  accuracy  \\\n0                            KMeans  [[44247, 52529], [1982, 3522]]  0.467041   \n1                   KMeans balanced    [[2505, 2999], [1982, 3522]]  0.547511   \n2  hierarchical clustering balanced    [[2314, 3190], [1872, 3632]]  0.540153   \n3                           HDBSCAN   [[76221, 20555], [4639, 865]]  0.753676   \n4                  HDBSCAN balanced    [[3809, 1695], [4317, 1187]]  0.453852   \n5                            OPTICS  [[54700, 42076], [3025, 2479]]  0.559044   \n6                   OPTICS balanced    [[2569, 2935], [2987, 2517]]  0.462028   \n7                             BIRCH  [[37827, 58949], [1750, 3754]]  0.406541   \n8                    BIRCH balanced    [[2207, 3297], [1773, 3731]]  0.539426   \n\n   precision    recall  rand index  mutual information based score  \\\n0   0.062836  0.639898    0.502168                        0.002184   \n1   0.540101  0.639898    0.504470                        0.006774   \n2   0.532395  0.659884    0.503179                        0.004981   \n3   0.040383  0.157158    0.628700                        0.001372   \n4   0.411867  0.215661    0.504214                        0.008654   \n5   0.055639  0.450400    0.506968                        0.000045   \n6   0.461665  0.457304    0.502839                        0.004100   \n7   0.059870  0.682049    0.517465                        0.001323   \n8   0.530876  0.677871    0.503064                        0.004938   \n\n   homogeneity  completeness  v-measure  \n0     0.004703      0.001432   0.002195  \n1     0.006755      0.006927   0.006840  \n2     0.004942      0.005157   0.005047  \n3     0.002389      0.000976   0.001385  \n4     0.007981      0.009622   0.008725  \n5     0.000120      0.000037   0.000056  \n6     0.004165      0.004165   0.004165  \n7     0.002790      0.000876   0.001334  \n8     0.004865      0.005154   0.005005  ",
      "text/html": "<div>\n<style scoped>\n    .dataframe tbody tr th:only-of-type {\n        vertical-align: middle;\n    }\n\n    .dataframe tbody tr th {\n        vertical-align: top;\n    }\n\n    .dataframe thead th {\n        text-align: right;\n    }\n</style>\n<table border=\"1\" class=\"dataframe\">\n  <thead>\n    <tr style=\"text-align: right;\">\n      <th></th>\n      <th>algorithm</th>\n      <th>confusion matrix</th>\n      <th>accuracy</th>\n      <th>precision</th>\n      <th>recall</th>\n      <th>rand index</th>\n      <th>mutual information based score</th>\n      <th>homogeneity</th>\n      <th>completeness</th>\n      <th>v-measure</th>\n    </tr>\n  </thead>\n  <tbody>\n    <tr>\n      <th>0</th>\n      <td>KMeans</td>\n      <td>[[44247, 52529], [1982, 3522]]</td>\n      <td>0.467041</td>\n      <td>0.062836</td>\n      <td>0.639898</td>\n      <td>0.502168</td>\n      <td>0.002184</td>\n      <td>0.004703</td>\n      <td>0.001432</td>\n      <td>0.002195</td>\n    </tr>\n    <tr>\n      <th>1</th>\n      <td>KMeans balanced</td>\n      <td>[[2505, 2999], [1982, 3522]]</td>\n      <td>0.547511</td>\n      <td>0.540101</td>\n      <td>0.639898</td>\n      <td>0.504470</td>\n      <td>0.006774</td>\n      <td>0.006755</td>\n      <td>0.006927</td>\n      <td>0.006840</td>\n    </tr>\n    <tr>\n      <th>2</th>\n      <td>hierarchical clustering balanced</td>\n      <td>[[2314, 3190], [1872, 3632]]</td>\n      <td>0.540153</td>\n      <td>0.532395</td>\n      <td>0.659884</td>\n      <td>0.503179</td>\n      <td>0.004981</td>\n      <td>0.004942</td>\n      <td>0.005157</td>\n      <td>0.005047</td>\n    </tr>\n    <tr>\n      <th>3</th>\n      <td>HDBSCAN</td>\n      <td>[[76221, 20555], [4639, 865]]</td>\n      <td>0.753676</td>\n      <td>0.040383</td>\n      <td>0.157158</td>\n      <td>0.628700</td>\n      <td>0.001372</td>\n      <td>0.002389</td>\n      <td>0.000976</td>\n      <td>0.001385</td>\n    </tr>\n    <tr>\n      <th>4</th>\n      <td>HDBSCAN balanced</td>\n      <td>[[3809, 1695], [4317, 1187]]</td>\n      <td>0.453852</td>\n      <td>0.411867</td>\n      <td>0.215661</td>\n      <td>0.504214</td>\n      <td>0.008654</td>\n      <td>0.007981</td>\n      <td>0.009622</td>\n      <td>0.008725</td>\n    </tr>\n    <tr>\n      <th>5</th>\n      <td>OPTICS</td>\n      <td>[[54700, 42076], [3025, 2479]]</td>\n      <td>0.559044</td>\n      <td>0.055639</td>\n      <td>0.450400</td>\n      <td>0.506968</td>\n      <td>0.000045</td>\n      <td>0.000120</td>\n      <td>0.000037</td>\n      <td>0.000056</td>\n    </tr>\n    <tr>\n      <th>6</th>\n      <td>OPTICS balanced</td>\n      <td>[[2569, 2935], [2987, 2517]]</td>\n      <td>0.462028</td>\n      <td>0.461665</td>\n      <td>0.457304</td>\n      <td>0.502839</td>\n      <td>0.004100</td>\n      <td>0.004165</td>\n      <td>0.004165</td>\n      <td>0.004165</td>\n    </tr>\n    <tr>\n      <th>7</th>\n      <td>BIRCH</td>\n      <td>[[37827, 58949], [1750, 3754]]</td>\n      <td>0.406541</td>\n      <td>0.059870</td>\n      <td>0.682049</td>\n      <td>0.517465</td>\n      <td>0.001323</td>\n      <td>0.002790</td>\n      <td>0.000876</td>\n      <td>0.001334</td>\n    </tr>\n    <tr>\n      <th>8</th>\n      <td>BIRCH balanced</td>\n      <td>[[2207, 3297], [1773, 3731]]</td>\n      <td>0.539426</td>\n      <td>0.530876</td>\n      <td>0.677871</td>\n      <td>0.503064</td>\n      <td>0.004938</td>\n      <td>0.004865</td>\n      <td>0.005154</td>\n      <td>0.005005</td>\n    </tr>\n  </tbody>\n</table>\n</div>"
     },
     "execution_count": 59,
     "metadata": {},
     "output_type": "execute_result"
    }
   ],
   "source": [
    "table_of_performance"
   ],
   "metadata": {
    "collapsed": false,
    "ExecuteTime": {
     "end_time": "2023-11-20T17:27:41.815481Z",
     "start_time": "2023-11-20T17:27:41.811006Z"
    }
   },
   "id": "db943f49e7e256cb"
  },
  {
   "attachments": {},
   "cell_type": "markdown",
   "id": "f64e8c63c1577108",
   "metadata": {
    "collapsed": false
   },
   "source": [
    "### Spectral clustering"
   ]
  },
  {
   "attachments": {},
   "cell_type": "markdown",
   "id": "6d14a1ec286cf15b",
   "metadata": {
    "collapsed": false
   },
   "source": [
    "#### balanced"
   ]
  },
  {
   "cell_type": "code",
   "execution_count": 60,
   "id": "9a57f98417955a40",
   "metadata": {
    "collapsed": false,
    "ExecuteTime": {
     "end_time": "2023-11-20T17:27:41.817960Z",
     "start_time": "2023-11-20T17:27:41.813775Z"
    }
   },
   "outputs": [
    {
     "data": {
      "text/plain": "\"\\nfrom sklearn.cluster import SpectralClustering\\nimport joblib\\n\\nspectral_clustering = SpectralClustering(n_clusters=2, assign_labels='discretize', random_state=0).fit(X_balanced)\\n\""
     },
     "execution_count": 60,
     "metadata": {},
     "output_type": "execute_result"
    }
   ],
   "source": [
    "'''\n",
    "from sklearn.cluster import SpectralClustering\n",
    "import joblib\n",
    "\n",
    "spectral_clustering = SpectralClustering(n_clusters=2, assign_labels='discretize', random_state=0).fit(X_balanced)\n",
    "'''"
   ]
  },
  {
   "cell_type": "code",
   "execution_count": 61,
   "outputs": [
    {
     "data": {
      "text/plain": "\"\\njoblib.dump(spectral_clustering, 'temp/olist_orders_dataset_spectral_clustering_model.pkl')\\nloaded_model = joblib.load('temp/olist_orders_dataset_spectral_clustering_model.pkl')\\n\""
     },
     "execution_count": 61,
     "metadata": {},
     "output_type": "execute_result"
    }
   ],
   "source": [
    "'''\n",
    "joblib.dump(spectral_clustering, 'temp/olist_orders_dataset_spectral_clustering_model.pkl')\n",
    "loaded_model = joblib.load('temp/olist_orders_dataset_spectral_clustering_model.pkl')\n",
    "'''"
   ],
   "metadata": {
    "collapsed": false,
    "ExecuteTime": {
     "end_time": "2023-11-20T17:27:41.823233Z",
     "start_time": "2023-11-20T17:27:41.816490Z"
    }
   },
   "id": "d60e8aab468e8fc9"
  },
  {
   "cell_type": "markdown",
   "source": [
    "### Performance"
   ],
   "metadata": {
    "collapsed": false
   },
   "id": "75bc7c288bd627d"
  },
  {
   "cell_type": "code",
   "execution_count": 62,
   "outputs": [],
   "source": [
    "table_of_performance.to_csv('temp/olist_orders_dataset_unsupervised_performance.csv', index=False)"
   ],
   "metadata": {
    "collapsed": false,
    "ExecuteTime": {
     "end_time": "2023-11-20T17:27:41.857007Z",
     "start_time": "2023-11-20T17:27:41.819107Z"
    }
   },
   "id": "c9f66889e8f74f6a"
  },
  {
   "cell_type": "code",
   "execution_count": 62,
   "outputs": [],
   "source": [],
   "metadata": {
    "collapsed": false,
    "ExecuteTime": {
     "end_time": "2023-11-20T17:27:41.857131Z",
     "start_time": "2023-11-20T17:27:41.834236Z"
    }
   },
   "id": "9e997f520bfb2faa"
  }
 ],
 "metadata": {
  "kernelspec": {
   "display_name": "Python 3 (ipykernel)",
   "language": "python",
   "name": "python3"
  },
  "language_info": {
   "codemirror_mode": {
    "name": "ipython",
    "version": 3
   },
   "file_extension": ".py",
   "mimetype": "text/x-python",
   "name": "python",
   "nbconvert_exporter": "python",
   "pygments_lexer": "ipython3",
   "version": "3.11.4"
  }
 },
 "nbformat": 4,
 "nbformat_minor": 5
}
