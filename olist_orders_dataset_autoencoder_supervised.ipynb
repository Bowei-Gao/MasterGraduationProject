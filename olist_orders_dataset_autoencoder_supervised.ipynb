{
 "cells": [
  {
   "attachments": {},
   "cell_type": "markdown",
   "id": "fee02eca585f75a4",
   "metadata": {
    "collapsed": false
   },
   "source": [
    "# Supervised"
   ]
  },
  {
   "cell_type": "code",
   "execution_count": 58,
   "outputs": [],
   "source": [
    "import pandas as pd\n",
    "\n",
    "df = pd.read_csv('temp/olist_orders_dataset_autoencoder_df.csv')"
   ],
   "metadata": {
    "collapsed": false,
    "ExecuteTime": {
     "end_time": "2023-11-15T16:11:58.178016Z",
     "start_time": "2023-11-15T16:11:58.105131Z"
    }
   },
   "id": "a3731b03728a10b"
  },
  {
   "cell_type": "code",
   "execution_count": 59,
   "id": "55015c6b2e4b0d5a",
   "metadata": {
    "ExecuteTime": {
     "end_time": "2023-11-15T16:11:58.178228Z",
     "start_time": "2023-11-15T16:11:58.163836Z"
    }
   },
   "outputs": [],
   "source": [
    "X = df.drop(['anomaly'], axis=1)\n",
    "y = df['anomaly']\n",
    "\n",
    "# split X y to train and test set\n",
    "from sklearn.model_selection import train_test_split\n",
    "X_train, X_test, y_train, y_test = train_test_split(X, y, test_size=0.3)\n",
    "\n",
    "from sklearn.utils import resample, shuffle\n",
    "\n",
    "df_train = pd.concat([X_train, y_train], axis=1)\n",
    "df_train_True = df_train[df_train.anomaly]\n",
    "df_train_False = df_train[df_train.anomaly==False]\n",
    "\n",
    "df_train_False = resample(df_train_False, replace=True, n_samples=df_train_True.shape[0])\n",
    "\n",
    "df_train_balanced = shuffle(pd.concat([df_train_True, df_train_False]))\n",
    "X_train = df_train_balanced.drop(['anomaly'], axis=1)\n",
    "y_train = df_train_balanced['anomaly']"
   ]
  },
  {
   "cell_type": "code",
   "execution_count": 60,
   "outputs": [
    {
     "data": {
      "text/plain": "                0          1         2         3         4         5\n0        5.120406   9.939902 -3.984132 -0.321811  3.528554  0.661420\n1        9.013165  14.495855 -2.993121  4.636738  2.038942 -0.494265\n2        9.745182  14.750376 -3.860494  4.446811  1.294613 -1.001704\n3        8.477512  12.362060 -5.634088 -1.536776  5.956660  0.078184\n4        7.515395  13.270953 -2.868780  4.869864  0.740199  0.306357\n...           ...        ...       ...       ...       ...       ...\n102275   9.605459  15.136786 -4.152755  5.043986  0.841734 -0.829945\n102276  10.150351  16.057444 -7.035584 -0.792077  5.767913  0.275072\n102277   9.000375  13.449393 -3.900995  5.780116  1.077239 -1.667066\n102278   9.000375  13.449393 -3.900995  5.780116  1.077239 -1.667066\n102279   8.245308  12.298249 -3.122524  4.448816  0.820110 -0.890881\n\n[102280 rows x 6 columns]",
      "text/html": "<div>\n<style scoped>\n    .dataframe tbody tr th:only-of-type {\n        vertical-align: middle;\n    }\n\n    .dataframe tbody tr th {\n        vertical-align: top;\n    }\n\n    .dataframe thead th {\n        text-align: right;\n    }\n</style>\n<table border=\"1\" class=\"dataframe\">\n  <thead>\n    <tr style=\"text-align: right;\">\n      <th></th>\n      <th>0</th>\n      <th>1</th>\n      <th>2</th>\n      <th>3</th>\n      <th>4</th>\n      <th>5</th>\n    </tr>\n  </thead>\n  <tbody>\n    <tr>\n      <th>0</th>\n      <td>5.120406</td>\n      <td>9.939902</td>\n      <td>-3.984132</td>\n      <td>-0.321811</td>\n      <td>3.528554</td>\n      <td>0.661420</td>\n    </tr>\n    <tr>\n      <th>1</th>\n      <td>9.013165</td>\n      <td>14.495855</td>\n      <td>-2.993121</td>\n      <td>4.636738</td>\n      <td>2.038942</td>\n      <td>-0.494265</td>\n    </tr>\n    <tr>\n      <th>2</th>\n      <td>9.745182</td>\n      <td>14.750376</td>\n      <td>-3.860494</td>\n      <td>4.446811</td>\n      <td>1.294613</td>\n      <td>-1.001704</td>\n    </tr>\n    <tr>\n      <th>3</th>\n      <td>8.477512</td>\n      <td>12.362060</td>\n      <td>-5.634088</td>\n      <td>-1.536776</td>\n      <td>5.956660</td>\n      <td>0.078184</td>\n    </tr>\n    <tr>\n      <th>4</th>\n      <td>7.515395</td>\n      <td>13.270953</td>\n      <td>-2.868780</td>\n      <td>4.869864</td>\n      <td>0.740199</td>\n      <td>0.306357</td>\n    </tr>\n    <tr>\n      <th>...</th>\n      <td>...</td>\n      <td>...</td>\n      <td>...</td>\n      <td>...</td>\n      <td>...</td>\n      <td>...</td>\n    </tr>\n    <tr>\n      <th>102275</th>\n      <td>9.605459</td>\n      <td>15.136786</td>\n      <td>-4.152755</td>\n      <td>5.043986</td>\n      <td>0.841734</td>\n      <td>-0.829945</td>\n    </tr>\n    <tr>\n      <th>102276</th>\n      <td>10.150351</td>\n      <td>16.057444</td>\n      <td>-7.035584</td>\n      <td>-0.792077</td>\n      <td>5.767913</td>\n      <td>0.275072</td>\n    </tr>\n    <tr>\n      <th>102277</th>\n      <td>9.000375</td>\n      <td>13.449393</td>\n      <td>-3.900995</td>\n      <td>5.780116</td>\n      <td>1.077239</td>\n      <td>-1.667066</td>\n    </tr>\n    <tr>\n      <th>102278</th>\n      <td>9.000375</td>\n      <td>13.449393</td>\n      <td>-3.900995</td>\n      <td>5.780116</td>\n      <td>1.077239</td>\n      <td>-1.667066</td>\n    </tr>\n    <tr>\n      <th>102279</th>\n      <td>8.245308</td>\n      <td>12.298249</td>\n      <td>-3.122524</td>\n      <td>4.448816</td>\n      <td>0.820110</td>\n      <td>-0.890881</td>\n    </tr>\n  </tbody>\n</table>\n<p>102280 rows × 6 columns</p>\n</div>"
     },
     "execution_count": 60,
     "metadata": {},
     "output_type": "execute_result"
    }
   ],
   "source": [
    "X"
   ],
   "metadata": {
    "collapsed": false,
    "ExecuteTime": {
     "end_time": "2023-11-15T16:11:58.179217Z",
     "start_time": "2023-11-15T16:11:58.175307Z"
    }
   },
   "id": "bc7a118a1caf240c"
  },
  {
   "cell_type": "markdown",
   "source": [
    "### Create a Table of performance"
   ],
   "metadata": {
    "collapsed": false
   },
   "id": "da488ca64194ba20"
  },
  {
   "cell_type": "code",
   "execution_count": 61,
   "outputs": [],
   "source": [
    "from sklearn.metrics import confusion_matrix, accuracy_score, precision_score, recall_score\n",
    "\n",
    "table_of_performance = pd.DataFrame(columns=['algorithm', 'confusion matrix', 'accuracy', 'precision', 'recall'])\n",
    "\n",
    "def add_performance(algorithm, y_test, y_predict):\n",
    "    global table_of_performance\n",
    "\n",
    "    cm = confusion_matrix(y_test, y_predict)\n",
    "    accuracy = accuracy_score(y_test, y_predict)\n",
    "    precision = precision_score(y_test, y_predict)\n",
    "    recall = recall_score(y_test, y_predict)\n",
    "    new_row = {'algorithm': algorithm, 'confusion matrix': cm, 'accuracy': accuracy, 'precision': precision, 'recall': recall}\n",
    "\n",
    "    table_of_performance.loc[len(table_of_performance)] = new_row"
   ],
   "metadata": {
    "collapsed": false,
    "ExecuteTime": {
     "end_time": "2023-11-15T16:11:58.182758Z",
     "start_time": "2023-11-15T16:11:58.180510Z"
    }
   },
   "id": "1d6847017e3ee459"
  },
  {
   "attachments": {},
   "cell_type": "markdown",
   "id": "2162e74cbb9a560c",
   "metadata": {},
   "source": [
    "### XGBoost"
   ]
  },
  {
   "cell_type": "code",
   "execution_count": 62,
   "id": "6cb2aef0f71361a9",
   "metadata": {
    "ExecuteTime": {
     "end_time": "2023-11-15T16:11:58.312322Z",
     "start_time": "2023-11-15T16:11:58.183778Z"
    }
   },
   "outputs": [],
   "source": [
    "from xgboost import XGBClassifier\n",
    "XGB = XGBClassifier()\n",
    "XGB.fit(X_train, y_train)\n",
    "y_predict = XGB.predict(X_test)\n",
    "\n",
    "add_performance('XGBoost', y_test, y_predict)"
   ]
  },
  {
   "cell_type": "code",
   "execution_count": 63,
   "id": "a738fc4a7916dcd4",
   "metadata": {
    "ExecuteTime": {
     "end_time": "2023-11-15T16:11:58.369769Z",
     "start_time": "2023-11-15T16:11:58.313008Z"
    }
   },
   "outputs": [
    {
     "data": {
      "text/plain": "<Figure size 640x480 with 1 Axes>",
      "image/png": "[encoded data removed]"
     },
     "metadata": {},
     "output_type": "display_data"
    }
   ],
   "source": [
    "import matplotlib.pyplot as plt\n",
    "\n",
    "feature_importances = pd.Series(XGB.feature_importances_, index = X.columns)\n",
    "\n",
    "feature_importances_plot = feature_importances.plot(kind='bar', title='feature importances')\n",
    "fig = feature_importances_plot.get_figure()\n",
    "plt.show()"
   ]
  },
  {
   "cell_type": "markdown",
   "source": [
    "### Logistic Regression"
   ],
   "metadata": {
    "collapsed": false
   },
   "id": "2aa545696b8baaa9"
  },
  {
   "cell_type": "code",
   "execution_count": 64,
   "outputs": [],
   "source": [
    "from sklearn.linear_model import LogisticRegression\n",
    "\n",
    "LR = LogisticRegression()\n",
    "LR.fit(X_train, y_train)\n",
    "y_predict = LR.predict(X_test)\n",
    "\n",
    "add_performance('logistic regression', y_test, y_predict)"
   ],
   "metadata": {
    "collapsed": false,
    "ExecuteTime": {
     "end_time": "2023-11-15T16:11:58.481779Z",
     "start_time": "2023-11-15T16:11:58.369680Z"
    }
   },
   "id": "1314484c02f74d79"
  },
  {
   "cell_type": "code",
   "execution_count": 65,
   "id": "2ee2e37f9d928376",
   "metadata": {
    "ExecuteTime": {
     "end_time": "2023-11-15T16:11:58.540219Z",
     "start_time": "2023-11-15T16:11:58.483846Z"
    }
   },
   "outputs": [
    {
     "data": {
      "text/plain": "<Figure size 640x480 with 1 Axes>",
      "image/png": "[encoded data removed]"
     },
     "metadata": {},
     "output_type": "display_data"
    }
   ],
   "source": [
    "feature_importances = pd.Series(LR.coef_[0], index = X.columns)\n",
    "\n",
    "feature_importances_plot = feature_importances.plot(kind='bar', title='feature importances')\n",
    "fig = feature_importances_plot.get_figure()\n",
    "plt.show()"
   ]
  },
  {
   "cell_type": "markdown",
   "source": [
    "### Random Forest"
   ],
   "metadata": {
    "collapsed": false
   },
   "id": "43ef8540d033b333"
  },
  {
   "cell_type": "code",
   "execution_count": 66,
   "outputs": [],
   "source": [
    "from sklearn.ensemble import RandomForestClassifier\n",
    "\n",
    "RF = RandomForestClassifier()\n",
    "RF.fit(X_train, y_train)\n",
    "y_predict = RF.predict(X_test)\n",
    "\n",
    "add_performance('random forest', y_test, y_predict)"
   ],
   "metadata": {
    "collapsed": false,
    "ExecuteTime": {
     "end_time": "2023-11-15T16:11:59.986323Z",
     "start_time": "2023-11-15T16:11:58.542158Z"
    }
   },
   "id": "1504e945a9348489"
  },
  {
   "cell_type": "code",
   "execution_count": 67,
   "id": "792850c29d5a3ce8",
   "metadata": {
    "ExecuteTime": {
     "end_time": "2023-11-15T16:12:00.043736Z",
     "start_time": "2023-11-15T16:11:59.986888Z"
    }
   },
   "outputs": [
    {
     "data": {
      "text/plain": "<Figure size 640x480 with 1 Axes>",
      "image/png": "[encoded data removed]"
     },
     "metadata": {},
     "output_type": "display_data"
    }
   ],
   "source": [
    "feature_importances = pd.Series(RF.feature_importances_, index = X.columns)\n",
    "\n",
    "feature_importances_plot = feature_importances.plot(kind='bar', title='feature importances')\n",
    "fig = feature_importances_plot.get_figure()\n",
    "plt.show()"
   ]
  },
  {
   "cell_type": "markdown",
   "source": [
    "### Gradient-boosted trees"
   ],
   "metadata": {
    "collapsed": false
   },
   "id": "53ea43adabbdcc70"
  },
  {
   "cell_type": "code",
   "execution_count": 68,
   "outputs": [],
   "source": [
    "from sklearn.ensemble import GradientBoostingClassifier\n",
    "\n",
    "GBC = GradientBoostingClassifier()\n",
    "GBC.fit(X_train, y_train)\n",
    "y_predict = GBC.predict(X_test)\n",
    "\n",
    "add_performance('gradient-boosted trees', y_test, y_predict)"
   ],
   "metadata": {
    "collapsed": false,
    "ExecuteTime": {
     "end_time": "2023-11-15T16:12:01.358621Z",
     "start_time": "2023-11-15T16:12:00.043869Z"
    }
   },
   "id": "534622245a72bfae"
  },
  {
   "cell_type": "code",
   "execution_count": 69,
   "outputs": [
    {
     "data": {
      "text/plain": "<Figure size 640x480 with 1 Axes>",
      "image/png": "[encoded data removed]"
     },
     "metadata": {},
     "output_type": "display_data"
    }
   ],
   "source": [
    "feature_importances = pd.Series(GBC.feature_importances_, index = X.columns)\n",
    "\n",
    "feature_importances_plot = feature_importances.plot(kind='bar', title='feature importances')\n",
    "fig = feature_importances_plot.get_figure()\n",
    "plt.show()"
   ],
   "metadata": {
    "collapsed": false,
    "ExecuteTime": {
     "end_time": "2023-11-15T16:12:01.412647Z",
     "start_time": "2023-11-15T16:12:01.359162Z"
    }
   },
   "id": "dac78abddb4373ac"
  },
  {
   "cell_type": "markdown",
   "source": [
    "### Decision Trees"
   ],
   "metadata": {
    "collapsed": false
   },
   "id": "3481e8278858b516"
  },
  {
   "cell_type": "code",
   "execution_count": 70,
   "outputs": [],
   "source": [
    "from sklearn.tree import DecisionTreeClassifier\n",
    "\n",
    "DTC = DecisionTreeClassifier()\n",
    "DTC.fit(X_train, y_train)\n",
    "y_predict = DTC.predict(X_test)\n",
    "\n",
    "add_performance('decision trees', y_test, y_predict)"
   ],
   "metadata": {
    "collapsed": false,
    "ExecuteTime": {
     "end_time": "2023-11-15T16:12:01.482914Z",
     "start_time": "2023-11-15T16:12:01.411755Z"
    }
   },
   "id": "72322316ccd9ea52"
  },
  {
   "cell_type": "code",
   "execution_count": 71,
   "outputs": [
    {
     "data": {
      "text/plain": "<Figure size 640x480 with 1 Axes>",
      "image/png": "[encoded data removed]"
     },
     "metadata": {},
     "output_type": "display_data"
    }
   ],
   "source": [
    "feature_importances = pd.Series(DTC.feature_importances_, index = X.columns)\n",
    "\n",
    "feature_importances_plot = feature_importances.plot(kind='bar', title='feature importances')\n",
    "fig = feature_importances_plot.get_figure()\n",
    "plt.show()"
   ],
   "metadata": {
    "collapsed": false,
    "ExecuteTime": {
     "end_time": "2023-11-15T16:12:01.542542Z",
     "start_time": "2023-11-15T16:12:01.499119Z"
    }
   },
   "id": "7b825028a69b7ded"
  },
  {
   "cell_type": "markdown",
   "source": [
    "### Naive Bayes"
   ],
   "metadata": {
    "collapsed": false
   },
   "id": "785829081b2c9b5"
  },
  {
   "cell_type": "code",
   "execution_count": 72,
   "outputs": [],
   "source": [
    "from sklearn.naive_bayes import GaussianNB\n",
    "\n",
    "GNB = GaussianNB()\n",
    "GNB.fit(X_train, y_train)\n",
    "y_predict = GNB.predict(X_test)\n",
    "\n",
    "add_performance('naive bayes', y_test, y_predict)"
   ],
   "metadata": {
    "collapsed": false,
    "ExecuteTime": {
     "end_time": "2023-11-15T16:12:01.581264Z",
     "start_time": "2023-11-15T16:12:01.541685Z"
    }
   },
   "id": "498ad8c79d566a05"
  },
  {
   "cell_type": "markdown",
   "source": [
    "### Support Vector Machines"
   ],
   "metadata": {
    "collapsed": false
   },
   "id": "f066713374b1e498"
  },
  {
   "cell_type": "code",
   "execution_count": 73,
   "outputs": [],
   "source": [
    "from sklearn.svm import SVC\n",
    "\n",
    "SV = SVC()\n",
    "SV.fit(X_train, y_train)\n",
    "y_predict = SV.predict(X_test)\n",
    "\n",
    "add_performance('support vector machine', y_test, y_predict)"
   ],
   "metadata": {
    "collapsed": false,
    "ExecuteTime": {
     "end_time": "2023-11-15T16:12:08.597937Z",
     "start_time": "2023-11-15T16:12:01.563336Z"
    }
   },
   "id": "e509f91e554b99e2"
  },
  {
   "cell_type": "markdown",
   "source": [
    "### Performance"
   ],
   "metadata": {
    "collapsed": false
   },
   "id": "8fdd8d3135f92018"
  },
  {
   "cell_type": "code",
   "execution_count": 74,
   "outputs": [],
   "source": [
    "table_of_performance.to_csv('temp/olist_orders_dataset_autoencoder_supervised_performance.csv', index=False)"
   ],
   "metadata": {
    "collapsed": false,
    "ExecuteTime": {
     "end_time": "2023-11-15T16:12:08.602167Z",
     "start_time": "2023-11-15T16:12:08.597654Z"
    }
   },
   "id": "21824a5be25dc59e"
  }
 ],
 "metadata": {
  "kernelspec": {
   "display_name": "Python 3 (ipykernel)",
   "language": "python",
   "name": "python3"
  },
  "language_info": {
   "codemirror_mode": {
    "name": "ipython",
    "version": 3
   },
   "file_extension": ".py",
   "mimetype": "text/x-python",
   "name": "python",
   "nbconvert_exporter": "python",
   "pygments_lexer": "ipython3",
   "version": "3.11.4"
  }
 },
 "nbformat": 4,
 "nbformat_minor": 5
}
