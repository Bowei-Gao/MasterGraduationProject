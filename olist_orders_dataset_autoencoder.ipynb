{
 "cells": [
  {
   "cell_type": "markdown",
   "source": [
    "### Loading the dataset"
   ],
   "metadata": {
    "collapsed": false
   },
   "id": "8436795002ee83fa"
  },
  {
   "cell_type": "code",
   "execution_count": 31,
   "outputs": [],
   "source": [
    "import pandas as pd\n",
    "\n",
    "df = pd.read_csv('temp/olist_orders_dataset_df.csv')\n",
    "X = df.drop(['anomaly'], axis=1)\n",
    "\n",
    "columns1 = ['time_estimate_delivery', 'year', 'month', 'day', 'freight_value', 'seller_zip_code_prefix', 'seller_geolocation_lat', 'seller_geolocation_lng','customer_zip_code_prefix', 'customer_geolocation_lat', 'customer_geolocation_lng', 'distance']\n",
    "X = X[columns1]\n"
   ],
   "metadata": {
    "collapsed": false,
    "ExecuteTime": {
     "end_time": "2023-11-13T18:30:55.483731Z",
     "start_time": "2023-11-13T18:30:55.309251Z"
    }
   },
   "id": "8f7d22eb00a5650e"
  },
  {
   "cell_type": "code",
   "execution_count": 32,
   "outputs": [
    {
     "data": {
      "text/plain": "        time_estimate_delivery  year  month  day  freight_value  \\\n0                           14  2017     10    2           8.72   \n1                           18  2018      7   24          22.76   \n2                           27  2018      8    8          19.22   \n3                           23  2017     11   18          27.20   \n4                           12  2018      2   13           8.72   \n...                        ...   ...    ...  ...            ...   \n102275                      23  2018      2    6          20.10   \n102276                      30  2017      8   27          65.02   \n102277                      34  2018      1    8          40.59   \n102278                      34  2018      1    8          40.59   \n102279                      25  2018      3    8          18.36   \n\n        seller_zip_code_prefix  seller_geolocation_lat  \\\n0                       9350.0              -23.680729   \n1                      31570.0              -19.807681   \n2                      14840.0              -21.363502   \n3                      31842.0              -19.837682   \n4                       8752.0              -23.543395   \n...                        ...                     ...   \n102275                 17602.0              -21.930548   \n102276                  8290.0              -23.553642   \n102277                 37175.0              -20.940578   \n102278                 37175.0              -20.940578   \n102279                 14407.0              -20.496251   \n\n        seller_geolocation_lng  customer_zip_code_prefix  \\\n0                   -46.444238                    3149.0   \n1                   -43.980427                   47813.0   \n2                   -48.229601                   75265.0   \n3                   -43.924053                   59296.0   \n4                   -46.262086                    9195.0   \n...                        ...                       ...   \n102275              -50.498348                   11722.0   \n102276              -46.452661                   45920.0   \n102277              -45.827237                   28685.0   \n102278              -45.827237                   28685.0   \n102279              -47.418434                   83750.0   \n\n        customer_geolocation_lat  customer_geolocation_lng      distance  \n0                     -23.576983                -46.587161    662.084641  \n1                     -12.177924                -44.660711   9344.543745  \n2                     -16.745150                -48.514783  10713.151535  \n3                      -5.774190                -35.271143  15422.365811  \n4                     -23.676370                -46.514627    843.950334  \n...                          ...                       ...           ...  \n102275                -24.001500                -46.449864   8679.619783  \n102276                -17.898358                -39.373630   3984.630835  \n102277                -22.562825                -42.694574  16963.820370  \n102278                -22.562825                -42.694574  16963.820370  \n102279                -25.764308                -49.720376   5668.859892  \n\n[102280 rows x 12 columns]",
      "text/html": "<div>\n<style scoped>\n    .dataframe tbody tr th:only-of-type {\n        vertical-align: middle;\n    }\n\n    .dataframe tbody tr th {\n        vertical-align: top;\n    }\n\n    .dataframe thead th {\n        text-align: right;\n    }\n</style>\n<table border=\"1\" class=\"dataframe\">\n  <thead>\n    <tr style=\"text-align: right;\">\n      <th></th>\n      <th>time_estimate_delivery</th>\n      <th>year</th>\n      <th>month</th>\n      <th>day</th>\n      <th>freight_value</th>\n      <th>seller_zip_code_prefix</th>\n      <th>seller_geolocation_lat</th>\n      <th>seller_geolocation_lng</th>\n      <th>customer_zip_code_prefix</th>\n      <th>customer_geolocation_lat</th>\n      <th>customer_geolocation_lng</th>\n      <th>distance</th>\n    </tr>\n  </thead>\n  <tbody>\n    <tr>\n      <th>0</th>\n      <td>14</td>\n      <td>2017</td>\n      <td>10</td>\n      <td>2</td>\n      <td>8.72</td>\n      <td>9350.0</td>\n      <td>-23.680729</td>\n      <td>-46.444238</td>\n      <td>3149.0</td>\n      <td>-23.576983</td>\n      <td>-46.587161</td>\n      <td>662.084641</td>\n    </tr>\n    <tr>\n      <th>1</th>\n      <td>18</td>\n      <td>2018</td>\n      <td>7</td>\n      <td>24</td>\n      <td>22.76</td>\n      <td>31570.0</td>\n      <td>-19.807681</td>\n      <td>-43.980427</td>\n      <td>47813.0</td>\n      <td>-12.177924</td>\n      <td>-44.660711</td>\n      <td>9344.543745</td>\n    </tr>\n    <tr>\n      <th>2</th>\n      <td>27</td>\n      <td>2018</td>\n      <td>8</td>\n      <td>8</td>\n      <td>19.22</td>\n      <td>14840.0</td>\n      <td>-21.363502</td>\n      <td>-48.229601</td>\n      <td>75265.0</td>\n      <td>-16.745150</td>\n      <td>-48.514783</td>\n      <td>10713.151535</td>\n    </tr>\n    <tr>\n      <th>3</th>\n      <td>23</td>\n      <td>2017</td>\n      <td>11</td>\n      <td>18</td>\n      <td>27.20</td>\n      <td>31842.0</td>\n      <td>-19.837682</td>\n      <td>-43.924053</td>\n      <td>59296.0</td>\n      <td>-5.774190</td>\n      <td>-35.271143</td>\n      <td>15422.365811</td>\n    </tr>\n    <tr>\n      <th>4</th>\n      <td>12</td>\n      <td>2018</td>\n      <td>2</td>\n      <td>13</td>\n      <td>8.72</td>\n      <td>8752.0</td>\n      <td>-23.543395</td>\n      <td>-46.262086</td>\n      <td>9195.0</td>\n      <td>-23.676370</td>\n      <td>-46.514627</td>\n      <td>843.950334</td>\n    </tr>\n    <tr>\n      <th>...</th>\n      <td>...</td>\n      <td>...</td>\n      <td>...</td>\n      <td>...</td>\n      <td>...</td>\n      <td>...</td>\n      <td>...</td>\n      <td>...</td>\n      <td>...</td>\n      <td>...</td>\n      <td>...</td>\n      <td>...</td>\n    </tr>\n    <tr>\n      <th>102275</th>\n      <td>23</td>\n      <td>2018</td>\n      <td>2</td>\n      <td>6</td>\n      <td>20.10</td>\n      <td>17602.0</td>\n      <td>-21.930548</td>\n      <td>-50.498348</td>\n      <td>11722.0</td>\n      <td>-24.001500</td>\n      <td>-46.449864</td>\n      <td>8679.619783</td>\n    </tr>\n    <tr>\n      <th>102276</th>\n      <td>30</td>\n      <td>2017</td>\n      <td>8</td>\n      <td>27</td>\n      <td>65.02</td>\n      <td>8290.0</td>\n      <td>-23.553642</td>\n      <td>-46.452661</td>\n      <td>45920.0</td>\n      <td>-17.898358</td>\n      <td>-39.373630</td>\n      <td>3984.630835</td>\n    </tr>\n    <tr>\n      <th>102277</th>\n      <td>34</td>\n      <td>2018</td>\n      <td>1</td>\n      <td>8</td>\n      <td>40.59</td>\n      <td>37175.0</td>\n      <td>-20.940578</td>\n      <td>-45.827237</td>\n      <td>28685.0</td>\n      <td>-22.562825</td>\n      <td>-42.694574</td>\n      <td>16963.820370</td>\n    </tr>\n    <tr>\n      <th>102278</th>\n      <td>34</td>\n      <td>2018</td>\n      <td>1</td>\n      <td>8</td>\n      <td>40.59</td>\n      <td>37175.0</td>\n      <td>-20.940578</td>\n      <td>-45.827237</td>\n      <td>28685.0</td>\n      <td>-22.562825</td>\n      <td>-42.694574</td>\n      <td>16963.820370</td>\n    </tr>\n    <tr>\n      <th>102279</th>\n      <td>25</td>\n      <td>2018</td>\n      <td>3</td>\n      <td>8</td>\n      <td>18.36</td>\n      <td>14407.0</td>\n      <td>-20.496251</td>\n      <td>-47.418434</td>\n      <td>83750.0</td>\n      <td>-25.764308</td>\n      <td>-49.720376</td>\n      <td>5668.859892</td>\n    </tr>\n  </tbody>\n</table>\n<p>102280 rows × 12 columns</p>\n</div>"
     },
     "execution_count": 32,
     "metadata": {},
     "output_type": "execute_result"
    }
   ],
   "source": [
    "X"
   ],
   "metadata": {
    "collapsed": false,
    "ExecuteTime": {
     "end_time": "2023-11-13T18:30:55.484169Z",
     "start_time": "2023-11-13T18:30:55.428494Z"
    }
   },
   "id": "9dc7693350132590"
  },
  {
   "cell_type": "markdown",
   "source": [
    "### Normalizing"
   ],
   "metadata": {
    "collapsed": false
   },
   "id": "3831d4bd8de414cf"
  },
  {
   "cell_type": "code",
   "execution_count": 33,
   "outputs": [],
   "source": [
    "from sklearn.preprocessing import QuantileTransformer\n",
    "\n",
    "qt = QuantileTransformer(output_distribution='normal')\n",
    "X = qt.fit_transform(X)"
   ],
   "metadata": {
    "collapsed": false,
    "ExecuteTime": {
     "end_time": "2023-11-13T18:30:55.613610Z",
     "start_time": "2023-11-13T18:30:55.431740Z"
    }
   },
   "id": "97a38e3cced99b1a"
  },
  {
   "cell_type": "markdown",
   "source": [
    "### Feature Scaling"
   ],
   "metadata": {
    "collapsed": false
   },
   "id": "2e2c2cdfcab70c7d"
  },
  {
   "cell_type": "code",
   "execution_count": 34,
   "outputs": [],
   "source": [
    "from sklearn.preprocessing import MinMaxScaler\n",
    "\n",
    "scaler = MinMaxScaler()\n",
    "X = scaler.fit_transform(X)"
   ],
   "metadata": {
    "collapsed": false,
    "ExecuteTime": {
     "end_time": "2023-11-13T18:30:55.618944Z",
     "start_time": "2023-11-13T18:30:55.613879Z"
    }
   },
   "id": "607ee949bbe2b3b8"
  },
  {
   "cell_type": "markdown",
   "source": [
    "### Import Necessary Libraries:"
   ],
   "metadata": {
    "collapsed": false
   },
   "id": "a674c9635851dfa8"
  },
  {
   "cell_type": "code",
   "execution_count": 35,
   "outputs": [],
   "source": [
    "import torch\n",
    "import torch.nn as nn\n",
    "import torch.optim as optim\n",
    "from torch.utils.data import DataLoader\n",
    "import torchvision.transforms as transforms\n",
    "import torchvision.datasets as datasets\n"
   ],
   "metadata": {
    "collapsed": false,
    "ExecuteTime": {
     "end_time": "2023-11-13T18:30:55.622097Z",
     "start_time": "2023-11-13T18:30:55.619129Z"
    }
   },
   "id": "37547022c5180827"
  },
  {
   "cell_type": "markdown",
   "source": [
    "### Define the Autoencoder Architecture"
   ],
   "metadata": {
    "collapsed": false
   },
   "id": "c137046b772254c3"
  },
  {
   "cell_type": "code",
   "execution_count": 36,
   "outputs": [],
   "source": [
    "class Autoencoder(nn.Module):\n",
    "    def __init__(self):\n",
    "        super(Autoencoder, self).__init__()\n",
    "        # Encoder layers\n",
    "        self.encoder = nn.Sequential(\n",
    "            nn.Linear(12, 9),\n",
    "            nn.ReLU(),\n",
    "            nn.Linear(9, 6)\n",
    "        )\n",
    "        # Decoder layers\n",
    "        self.decoder = nn.Sequential(\n",
    "            nn.Linear(6, 9),\n",
    "            nn.ReLU(),\n",
    "            nn.Linear(9, 12)\n",
    "        )\n",
    "\n",
    "    def forward(self, x):\n",
    "        x = self.encoder(x)\n",
    "        x = self.decoder(x)\n",
    "        return x\n"
   ],
   "metadata": {
    "collapsed": false,
    "ExecuteTime": {
     "end_time": "2023-11-13T18:30:55.624835Z",
     "start_time": "2023-11-13T18:30:55.622047Z"
    }
   },
   "id": "ca17addda7452a14"
  },
  {
   "cell_type": "markdown",
   "source": [
    "### Instantiate the Model, Loss Function, and Optimizer"
   ],
   "metadata": {
    "collapsed": false
   },
   "id": "4e50a8a6077a603"
  },
  {
   "cell_type": "code",
   "execution_count": 37,
   "outputs": [],
   "source": [
    "model = Autoencoder()\n",
    "criterion = nn.MSELoss()\n",
    "optimizer = optim.Adam(model.parameters(), lr=1e-4)\n"
   ],
   "metadata": {
    "collapsed": false,
    "ExecuteTime": {
     "end_time": "2023-11-13T18:30:55.627717Z",
     "start_time": "2023-11-13T18:30:55.624201Z"
    }
   },
   "id": "d09e3d44caaf908a"
  },
  {
   "cell_type": "markdown",
   "source": [
    "### Convert DataFrame to PyTorch Tensor"
   ],
   "metadata": {
    "collapsed": false
   },
   "id": "271bd124c7d246d8"
  },
  {
   "cell_type": "code",
   "execution_count": 38,
   "outputs": [],
   "source": [
    "tensor_data = torch.Tensor(X)\n"
   ],
   "metadata": {
    "collapsed": false,
    "ExecuteTime": {
     "end_time": "2023-11-13T18:30:55.633039Z",
     "start_time": "2023-11-13T18:30:55.627019Z"
    }
   },
   "id": "d3c0c08732c41353"
  },
  {
   "cell_type": "markdown",
   "source": [
    "### DataLoader"
   ],
   "metadata": {
    "collapsed": false
   },
   "id": "9be889862a7e06fe"
  },
  {
   "cell_type": "code",
   "execution_count": 39,
   "outputs": [],
   "source": [
    "from torch.utils.data import DataLoader, TensorDataset\n",
    "\n",
    "dataset = TensorDataset(tensor_data)\n",
    "train_loader = DataLoader(dataset, batch_size=64, shuffle=True)\n"
   ],
   "metadata": {
    "collapsed": false,
    "ExecuteTime": {
     "end_time": "2023-11-13T18:30:55.633886Z",
     "start_time": "2023-11-13T18:30:55.629540Z"
    }
   },
   "id": "c2b5d16c32481064"
  },
  {
   "cell_type": "markdown",
   "source": [
    "### Training Loop"
   ],
   "metadata": {
    "collapsed": false
   },
   "id": "b54ac6f11d45422d"
  },
  {
   "cell_type": "code",
   "execution_count": null,
   "outputs": [
    {
     "name": "stdout",
     "output_type": "stream",
     "text": [
      "Epoch [1/200], Loss: 0.0167\n",
      "Epoch [2/200], Loss: 0.0169\n",
      "Epoch [3/200], Loss: 0.0128\n",
      "Epoch [4/200], Loss: 0.0126\n",
      "Epoch [5/200], Loss: 0.0136\n",
      "Epoch [6/200], Loss: 0.0076\n",
      "Epoch [7/200], Loss: 0.0070\n",
      "Epoch [8/200], Loss: 0.0081\n",
      "Epoch [9/200], Loss: 0.0093\n",
      "Epoch [10/200], Loss: 0.0046\n",
      "Epoch [11/200], Loss: 0.0035\n",
      "Epoch [12/200], Loss: 0.0067\n",
      "Epoch [13/200], Loss: 0.0044\n",
      "Epoch [14/200], Loss: 0.0042\n",
      "Epoch [15/200], Loss: 0.0047\n",
      "Epoch [16/200], Loss: 0.0033\n",
      "Epoch [17/200], Loss: 0.0038\n",
      "Epoch [18/200], Loss: 0.0046\n",
      "Epoch [19/200], Loss: 0.0027\n",
      "Epoch [20/200], Loss: 0.0029\n",
      "Epoch [21/200], Loss: 0.0040\n",
      "Epoch [22/200], Loss: 0.0023\n",
      "Epoch [23/200], Loss: 0.0025\n",
      "Epoch [24/200], Loss: 0.0036\n",
      "Epoch [25/200], Loss: 0.0021\n",
      "Epoch [26/200], Loss: 0.0035\n",
      "Epoch [27/200], Loss: 0.0021\n",
      "Epoch [28/200], Loss: 0.0022\n",
      "Epoch [29/200], Loss: 0.0031\n",
      "Epoch [30/200], Loss: 0.0037\n",
      "Epoch [31/200], Loss: 0.0036\n",
      "Epoch [32/200], Loss: 0.0048\n",
      "Epoch [33/200], Loss: 0.0027\n",
      "Epoch [34/200], Loss: 0.0029\n",
      "Epoch [35/200], Loss: 0.0012\n",
      "Epoch [36/200], Loss: 0.0041\n",
      "Epoch [37/200], Loss: 0.0028\n",
      "Epoch [38/200], Loss: 0.0031\n",
      "Epoch [39/200], Loss: 0.0027\n",
      "Epoch [40/200], Loss: 0.0028\n",
      "Epoch [41/200], Loss: 0.0032\n",
      "Epoch [42/200], Loss: 0.0028\n",
      "Epoch [43/200], Loss: 0.0022\n",
      "Epoch [44/200], Loss: 0.0040\n",
      "Epoch [45/200], Loss: 0.0038\n",
      "Epoch [46/200], Loss: 0.0021\n",
      "Epoch [47/200], Loss: 0.0022\n",
      "Epoch [48/200], Loss: 0.0021\n",
      "Epoch [49/200], Loss: 0.0028\n",
      "Epoch [50/200], Loss: 0.0016\n",
      "Epoch [51/200], Loss: 0.0030\n",
      "Epoch [52/200], Loss: 0.0020\n",
      "Epoch [53/200], Loss: 0.0024\n",
      "Epoch [54/200], Loss: 0.0029\n",
      "Epoch [55/200], Loss: 0.0021\n",
      "Epoch [56/200], Loss: 0.0043\n",
      "Epoch [57/200], Loss: 0.0025\n"
     ]
    }
   ],
   "source": [
    "# Example training loop\n",
    "num_epochs = 200\n",
    "for epoch in range(num_epochs):\n",
    "    for batch_features, in train_loader:  # DataLoader will unpack the features\n",
    "        # Forward pass\n",
    "        outputs = model(batch_features)\n",
    "        loss = criterion(outputs, batch_features)\n",
    "\n",
    "        # Backward pass and optimization\n",
    "        optimizer.zero_grad()\n",
    "        loss.backward()\n",
    "        optimizer.step()\n",
    "\n",
    "    print(f'Epoch [{epoch+1}/{num_epochs}], Loss: {loss.item():.4f}')\n"
   ],
   "metadata": {
    "collapsed": false,
    "is_executing": true,
    "ExecuteTime": {
     "start_time": "2023-11-13T18:30:55.631897Z"
    }
   },
   "id": "2b27ccb22bc30335"
  },
  {
   "cell_type": "code",
   "execution_count": null,
   "outputs": [],
   "source": [],
   "metadata": {
    "collapsed": false,
    "is_executing": true
   },
   "id": "3ec8f93062f39e4c"
  }
 ],
 "metadata": {
  "kernelspec": {
   "display_name": "Python 3",
   "language": "python",
   "name": "python3"
  },
  "language_info": {
   "codemirror_mode": {
    "name": "ipython",
    "version": 2
   },
   "file_extension": ".py",
   "mimetype": "text/x-python",
   "name": "python",
   "nbconvert_exporter": "python",
   "pygments_lexer": "ipython2",
   "version": "2.7.6"
  }
 },
 "nbformat": 4,
 "nbformat_minor": 5
}
