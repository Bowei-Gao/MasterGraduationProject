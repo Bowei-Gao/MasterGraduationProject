{
 "cells": [
  {
   "attachments": {},
   "cell_type": "markdown",
   "id": "fee02eca585f75a4",
   "metadata": {
    "collapsed": false
   },
   "source": [
    "# Supervised"
   ]
  },
  {
   "cell_type": "code",
   "execution_count": 24,
   "outputs": [],
   "source": [
    "import pandas as pd\n",
    "\n",
    "df = pd.read_csv('temp/olist_orders_dataset_df.csv')"
   ],
   "metadata": {
    "collapsed": false,
    "ExecuteTime": {
     "end_time": "2023-11-08T23:56:00.097921Z",
     "start_time": "2023-11-08T23:55:59.982060Z"
    }
   },
   "id": "a3731b03728a10b"
  },
  {
   "cell_type": "code",
   "execution_count": null,
   "id": "55015c6b2e4b0d5a",
   "metadata": {},
   "outputs": [],
   "source": [
    "X = df.drop(['anomaly'], axis=1)\n",
    "y = df['anomaly']\n",
    "\n",
    "# split X y to train and test set\n",
    "from sklearn.model_selection import train_test_split\n",
    "X_train, X_test, y_train, y_test = train_test_split(X, y, test_size=0.3)\n",
    "\n",
    "from sklearn.utils import resample, shuffle\n",
    "\n",
    "df_train = pd.concat([X_train, y_train], axis=1)\n",
    "df_train_True = df_train[df_train.anomaly]\n",
    "df_train_False = df_train[df_train.anomaly==False]\n",
    "\n",
    "df_train_False = resample(df_train_False, replace=True, n_samples=df_train_True.shape[0])\n",
    "\n",
    "df_train_balanced = shuffle(pd.concat([df_train_True, df_train_False]))\n",
    "X_train = df_train_balanced.drop(['anomaly'], axis=1)\n",
    "y_train = df_train_balanced['anomaly']"
   ]
  },
  {
   "cell_type": "markdown",
   "source": [
    "### Create a Table of performance"
   ],
   "metadata": {
    "collapsed": false
   },
   "id": "da488ca64194ba20"
  },
  {
   "cell_type": "code",
   "execution_count": null,
   "outputs": [],
   "source": [
    "from sklearn.metrics import confusion_matrix, accuracy_score, precision_score, recall_score\n",
    "\n",
    "table_of_performance = pd.DataFrame(columns=['algorithm', 'confusion matrix', 'accuracy', 'precision', 'recall'])\n",
    "\n",
    "def add_performance(algorithm, y_test, y_predict):\n",
    "    global table_of_performance\n",
    "\n",
    "    cm = confusion_matrix(y_test, y_predict)\n",
    "    accuracy = accuracy_score(y_test, y_predict)\n",
    "    precision = precision_score(y_test, y_predict)\n",
    "    recall = recall_score(y_test, y_predict)\n",
    "    new_row = {'algorithm': algorithm, 'confusion matrix': cm, 'accuracy': accuracy, 'precision': precision, 'recall': recall}\n",
    "\n",
    "    table_of_performance.loc[len(table_of_performance)] = new_row"
   ],
   "metadata": {
    "collapsed": false
   },
   "id": "1d6847017e3ee459"
  },
  {
   "attachments": {},
   "cell_type": "markdown",
   "id": "2162e74cbb9a560c",
   "metadata": {},
   "source": [
    "### XGBoost"
   ]
  },
  {
   "cell_type": "code",
   "execution_count": null,
   "id": "6cb2aef0f71361a9",
   "metadata": {},
   "outputs": [],
   "source": [
    "from xgboost import XGBClassifier\n",
    "XGB = XGBClassifier()\n",
    "XGB.fit(X_train, y_train)\n",
    "y_predict = XGB.predict(X_test)\n",
    "\n",
    "add_performance('XGBoost', y_test, y_predict)"
   ]
  },
  {
   "cell_type": "code",
   "execution_count": null,
   "id": "a738fc4a7916dcd4",
   "metadata": {},
   "outputs": [],
   "source": [
    "import matplotlib.pyplot as plt\n",
    "\n",
    "feature_importances = pd.Series(XGB.feature_importances_, index = X.columns)\n",
    "\n",
    "feature_importances_plot = feature_importances.plot(kind='bar', title='feature importances')\n",
    "fig = feature_importances_plot.get_figure()\n",
    "plt.show()"
   ]
  },
  {
   "cell_type": "markdown",
   "source": [
    "### Logistic Regression"
   ],
   "metadata": {
    "collapsed": false
   },
   "id": "2aa545696b8baaa9"
  },
  {
   "cell_type": "code",
   "execution_count": null,
   "outputs": [],
   "source": [
    "from sklearn.linear_model import LogisticRegression\n",
    "\n",
    "LR = LogisticRegression()\n",
    "LR.fit(X_train, y_train)\n",
    "y_predict = LR.predict(X_test)\n",
    "\n",
    "add_performance('logistic regression', y_test, y_predict)"
   ],
   "metadata": {
    "collapsed": false
   },
   "id": "1314484c02f74d79"
  },
  {
   "cell_type": "code",
   "execution_count": null,
   "id": "2ee2e37f9d928376",
   "metadata": {},
   "outputs": [],
   "source": [
    "feature_importances = pd.Series(LR.coef_[0], index = X.columns)\n",
    "\n",
    "feature_importances_plot = feature_importances.plot(kind='bar', title='feature importances')\n",
    "fig = feature_importances_plot.get_figure()\n",
    "plt.show()"
   ]
  },
  {
   "cell_type": "markdown",
   "source": [
    "### Random Forest"
   ],
   "metadata": {
    "collapsed": false
   },
   "id": "43ef8540d033b333"
  },
  {
   "cell_type": "code",
   "execution_count": null,
   "outputs": [],
   "source": [
    "from sklearn.ensemble import RandomForestClassifier\n",
    "\n",
    "RF = RandomForestClassifier()\n",
    "RF.fit(X_train, y_train)\n",
    "y_predict = RF.predict(X_test)\n",
    "\n",
    "add_performance('random forest', y_test, y_predict)"
   ],
   "metadata": {
    "collapsed": false
   },
   "id": "1504e945a9348489"
  },
  {
   "cell_type": "code",
   "execution_count": null,
   "id": "792850c29d5a3ce8",
   "metadata": {},
   "outputs": [],
   "source": [
    "feature_importances = pd.Series(RF.feature_importances_, index = X.columns)\n",
    "\n",
    "feature_importances_plot = feature_importances.plot(kind='bar', title='feature importances')\n",
    "fig = feature_importances_plot.get_figure()\n",
    "plt.show()"
   ]
  },
  {
   "cell_type": "code",
   "execution_count": null,
   "outputs": [],
   "source": [],
   "metadata": {
    "collapsed": false
   },
   "id": "1856a17d023c3ada"
  },
  {
   "cell_type": "markdown",
   "source": [
    "### Testing combinations of features"
   ],
   "metadata": {
    "collapsed": false
   },
   "id": "10c77b460d2582d5"
  },
  {
   "cell_type": "code",
   "execution_count": null,
   "id": "3c28e371abbdb22a",
   "metadata": {},
   "outputs": [],
   "source": [
    "columns1 = ['time_estimate_delivery', 'year', 'month', 'day', 'freight_value', 'seller_zip_code_prefix', 'seller_geolocation_lat', 'seller_geolocation_lng','customer_zip_code_prefix', 'customer_geolocation_lat', 'customer_geolocation_lng', 'distance']"
   ]
  },
  {
   "cell_type": "code",
   "execution_count": null,
   "id": "65ae34ba1f0df301",
   "metadata": {},
   "outputs": [],
   "source": [
    "X1_train = X_train[columns1]\n",
    "X1_test = X_test[columns1]"
   ]
  },
  {
   "cell_type": "code",
   "execution_count": null,
   "id": "aacc31bba0c36c0e",
   "metadata": {},
   "outputs": [],
   "source": [
    "XGB = XGBClassifier()\n",
    "XGB.fit(X1_train, y_train)\n",
    "y_predict = XGB.predict(X1_test)\n",
    "\n",
    "print('confusion matrix:', confusion_matrix(y_test, y_predict))\n",
    "print('accuracy:', accuracy_score(y_test, y_predict))\n",
    "print('precision:', precision_score(y_test, y_predict))\n",
    "print('recall:', recall_score(y_test, y_predict))\n",
    "\n",
    "feature_importances = pd.Series(XGB.feature_importances_, index = columns1)\n",
    "\n",
    "feature_importances_plot = feature_importances.plot(kind='bar', title='feature importances')\n",
    "fig = feature_importances_plot.get_figure()\n",
    "plt.show()"
   ]
  },
  {
   "cell_type": "code",
   "execution_count": null,
   "id": "1e412acf03378994",
   "metadata": {},
   "outputs": [],
   "source": [
    "LR = LogisticRegression()\n",
    "LR.fit(X1_train, y_train)\n",
    "y_predict = LR.predict(X1_test)\n",
    "\n",
    "print('confusion matrix:', confusion_matrix(y_test, y_predict))\n",
    "print('accuracy:', accuracy_score(y_test, y_predict))\n",
    "print('precision:', precision_score(y_test, y_predict))\n",
    "print('recall:', recall_score(y_test, y_predict))\n",
    "\n",
    "feature_importances = pd.Series(LR.coef_[0], index = columns1)\n",
    "\n",
    "feature_importances_plot = feature_importances.plot(kind='bar', title='feature importances')\n",
    "fig = feature_importances_plot.get_figure()\n",
    "plt.show()"
   ]
  },
  {
   "cell_type": "code",
   "execution_count": null,
   "id": "8e1b5ba14f7d791c",
   "metadata": {},
   "outputs": [],
   "source": [
    "RF = RandomForestClassifier()\n",
    "RF.fit(X1_train, y_train)\n",
    "y_predict = RF.predict(X1_test)\n",
    "\n",
    "print('confusion matrix:', confusion_matrix(y_test, y_predict))\n",
    "print('accuracy:', accuracy_score(y_test, y_predict))\n",
    "print('precision:', precision_score(y_test, y_predict))\n",
    "print('recall:', recall_score(y_test, y_predict))\n",
    "\n",
    "feature_importances = pd.Series(RF.feature_importances_, index = columns1)\n",
    "\n",
    "feature_importances_plot = feature_importances.plot(kind='bar', title='feature importances')\n",
    "fig = feature_importances_plot.get_figure()\n",
    "plt.show()"
   ]
  },
  {
   "attachments": {},
   "cell_type": "markdown",
   "id": "3b450301ed1d5a75",
   "metadata": {},
   "source": [
    "By analyzing feature importances and trying, I find the features which are important\n",
    "\n",
    "• time_estimate_delivery\n",
    "• distance\n",
    "• freight_value\n",
    "\n",
    "• year\n",
    "• month\n",
    "• day\n",
    "\n",
    "• seller_zip_code_prefix\n",
    "• seller_geolocation_lat\n",
    "• seller_geolocation_lng\n",
    "• customer_zip_code_prefix\n",
    "• customer_geolocation_lat\n",
    "• customer_geolocation_lng\n",
    "\n",
    "The low precision value is because the test dataset is imbalanced while the train dataset is balanced by me. However, if not using balanced dataset, the recall rate is low. I think recall is more important than precision."
   ]
  }
 ],
 "metadata": {
  "kernelspec": {
   "display_name": "Python 3 (ipykernel)",
   "language": "python",
   "name": "python3"
  },
  "language_info": {
   "codemirror_mode": {
    "name": "ipython",
    "version": 3
   },
   "file_extension": ".py",
   "mimetype": "text/x-python",
   "name": "python",
   "nbconvert_exporter": "python",
   "pygments_lexer": "ipython3",
   "version": "3.11.4"
  }
 },
 "nbformat": 4,
 "nbformat_minor": 5
}
