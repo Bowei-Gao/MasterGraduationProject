{
 "cells": [
  {
   "attachments": {},
   "cell_type": "markdown",
   "id": "af5a0dc7f918e71f",
   "metadata": {
    "collapsed": false
   },
   "source": [
    "# Unsupervised methods"
   ]
  },
  {
   "attachments": {},
   "cell_type": "markdown",
   "id": "8e784feee5c55a48",
   "metadata": {
    "collapsed": false
   },
   "source": [
    "### Preprocess the dataset for clustering algorithms."
   ]
  },
  {
   "attachments": {},
   "cell_type": "markdown",
   "id": "8bcdf26c36984353",
   "metadata": {
    "collapsed": false
   },
   "source": [
    "Using only selected features\n",
    "Transform the features to follow a normal distribution"
   ]
  },
  {
   "cell_type": "code",
   "execution_count": 9,
   "outputs": [],
   "source": [
    "import pandas as pd\n",
    "\n",
    "df = pd.read_csv('temp/Delivery_truck_trip_data_df.csv')"
   ],
   "metadata": {
    "collapsed": false,
    "ExecuteTime": {
     "end_time": "2024-01-15T00:40:25.970118Z",
     "start_time": "2024-01-15T00:40:25.924663Z"
    }
   },
   "id": "c1cae7363e9ba2ff"
  },
  {
   "cell_type": "code",
   "execution_count": 10,
   "outputs": [],
   "source": [
    "columns1 = ['OriginLocation_Code', 'vehicle_no', 'TRANSPORTATION_DISTANCE_IN_KM', 'vehicleType', 'Minimum_kms_to_be_covered_in_a_day', 'supplierID', 'trip_time', 'day', 'month', 'year']"
   ],
   "metadata": {
    "collapsed": false,
    "ExecuteTime": {
     "end_time": "2024-01-15T00:40:25.981718Z",
     "start_time": "2024-01-15T00:40:25.972232Z"
    }
   },
   "id": "a3f1dbbe59784afb"
  },
  {
   "cell_type": "code",
   "execution_count": 11,
   "id": "74e41e6b4165ce57",
   "metadata": {
    "collapsed": false,
    "ExecuteTime": {
     "end_time": "2024-01-15T00:40:26.097758Z",
     "start_time": "2024-01-15T00:40:25.975827Z"
    }
   },
   "outputs": [],
   "source": [
    "df.reset_index(drop=True, inplace=True)\n",
    "X = df.drop(['anomaly'], axis=1)\n",
    "y = df['anomaly']\n",
    "\n",
    "X = X[columns1]\n",
    "\n",
    "from sklearn.preprocessing import QuantileTransformer\n",
    "\n",
    "qt = QuantileTransformer(output_distribution='normal')\n",
    "X = qt.fit_transform(X)"
   ]
  },
  {
   "cell_type": "markdown",
   "source": [
    "### Create a Table of performance"
   ],
   "metadata": {
    "collapsed": false
   },
   "id": "63fb2d31094e8280"
  },
  {
   "cell_type": "code",
   "execution_count": 12,
   "outputs": [],
   "source": [
    "from sklearn.metrics import confusion_matrix, accuracy_score, precision_score, recall_score, rand_score, adjusted_mutual_info_score, homogeneity_score, completeness_score, v_measure_score\n",
    "\n",
    "table_of_performance = pd.DataFrame(columns=['algorithm', 'confusion matrix', 'accuracy', 'precision', 'recall', 'rand index', 'mutual information based score', 'homogeneity', 'completeness', 'v-measure'])\n",
    "\n",
    "def add_performance(algorithm, y, y_predict):\n",
    "    global table_of_performance\n",
    "\n",
    "    cm = confusion_matrix(y, y_predict)\n",
    "    accuracy = accuracy_score(y, y_predict)\n",
    "    precision = precision_score(y, y_predict)\n",
    "    recall = recall_score(y, y_predict)\n",
    "    rand_index = rand_score(y, y_predict)\n",
    "    mutual_info_score = adjusted_mutual_info_score(y, y_predict)\n",
    "    homogeneity = homogeneity_score(y, y_predict)\n",
    "    completeness = completeness_score(y, y_predict)\n",
    "    v_measure = v_measure_score(y, y_predict)\n",
    "    \n",
    "    new_row = {'algorithm': algorithm, 'confusion matrix': cm, 'accuracy': accuracy, 'precision': precision, 'recall': recall, 'rand index': rand_index, 'mutual information based score': mutual_info_score, 'homogeneity': homogeneity, 'completeness': completeness, 'v-measure': v_measure}\n",
    "\n",
    "    table_of_performance.loc[len(table_of_performance)] = new_row"
   ],
   "metadata": {
    "collapsed": false,
    "ExecuteTime": {
     "end_time": "2024-01-15T00:40:26.099212Z",
     "start_time": "2024-01-15T00:40:25.994785Z"
    }
   },
   "id": "eee683563644aa0b"
  },
  {
   "attachments": {},
   "cell_type": "markdown",
   "id": "17d4d1078afe257c",
   "metadata": {
    "collapsed": false
   },
   "source": [
    "### Visualization of clustering after PCA"
   ]
  },
  {
   "cell_type": "code",
   "execution_count": 13,
   "id": "edee8b4a73ab3b1",
   "metadata": {
    "collapsed": false,
    "ExecuteTime": {
     "end_time": "2024-01-15T00:40:27.388667Z",
     "start_time": "2024-01-15T00:40:26.005314Z"
    }
   },
   "outputs": [
    {
     "data": {
      "text/plain": "<Axes: xlabel='x', ylabel='y'>"
     },
     "execution_count": 13,
     "metadata": {},
     "output_type": "execute_result"
    },
    {
     "data": {
      "text/plain": "<Figure size 640x480 with 1 Axes>",
      "image/png": "[encoded data removed]"
     },
     "metadata": {},
     "output_type": "display_data"
    }
   ],
   "source": [
    "from sklearn.decomposition import  PCA\n",
    "import numpy as np\n",
    "\n",
    "pca = PCA(n_components=2)\n",
    "pct = pca.fit_transform(X)\n",
    "\n",
    "pct = np.delete(pct, 6745, 0)\n",
    "y_new = np.delete(y.to_numpy(), 6745, 0)\n",
    "\n",
    "y_new = ['yellow' if elem else 'blue' for elem in y_new]\n",
    "\n",
    "data = pd.concat([pd.DataFrame(pct), pd.DataFrame(y_new)], axis=1)\n",
    "\n",
    "data.columns = ['x', 'y', 'label']\n",
    "import seaborn as sns\n",
    "\n",
    "sns.scatterplot(data=data, x=\"x\", y=\"y\", hue=\"label\")"
   ]
  },
  {
   "attachments": {},
   "cell_type": "markdown",
   "id": "80e818adc66807c3",
   "metadata": {
    "collapsed": false
   },
   "source": [
    "### KMeans"
   ]
  },
  {
   "cell_type": "code",
   "execution_count": 14,
   "id": "d7f1d68f4f0f85b4",
   "metadata": {
    "collapsed": false,
    "ExecuteTime": {
     "end_time": "2024-01-15T00:40:27.394657Z",
     "start_time": "2024-01-15T00:40:27.389548Z"
    }
   },
   "outputs": [
    {
     "data": {
      "text/plain": "'\\nfrom yellowbrick.cluster import KElbowVisualizer\\n\\n# Instantiate the clustering model and visualizer\\nmodel = KMeans()\\nvisualizer = KElbowVisualizer(model, k=(2, 12))\\n\\nvisualizer.fit(X)        # Fit the data to the visualizer\\nvisualizer.show()\\n'"
     },
     "execution_count": 14,
     "metadata": {},
     "output_type": "execute_result"
    }
   ],
   "source": [
    "from sklearn.cluster import KMeans\n",
    "'''\n",
    "from yellowbrick.cluster import KElbowVisualizer\n",
    "\n",
    "# Instantiate the clustering model and visualizer\n",
    "model = KMeans()\n",
    "visualizer = KElbowVisualizer(model, k=(2, 12))\n",
    "\n",
    "visualizer.fit(X)        # Fit the data to the visualizer\n",
    "visualizer.show()\n",
    "'''"
   ]
  },
  {
   "attachments": {},
   "cell_type": "markdown",
   "id": "3594cd2301214a97",
   "metadata": {
    "collapsed": false
   },
   "source": [
    "The optimal number of clusters is 5."
   ]
  },
  {
   "cell_type": "code",
   "execution_count": 15,
   "id": "dd14a2255b10ff8a",
   "metadata": {
    "collapsed": false,
    "ExecuteTime": {
     "end_time": "2024-01-15T00:40:27.608686Z",
     "start_time": "2024-01-15T00:40:27.394486Z"
    }
   },
   "outputs": [],
   "source": [
    "k_means = KMeans(init=\"k-means++\", n_clusters=2, n_init=10, random_state=103)\n",
    "k_means.fit(X)\n",
    "\n",
    "from sklearn.metrics.pairwise import pairwise_distances_argmin\n",
    "\n",
    "k_means_cluster_centers = k_means.cluster_centers_\n",
    "\n",
    "k_means_labels = pairwise_distances_argmin(X, k_means_cluster_centers)\n",
    "\n",
    "from sklearn.metrics.pairwise import pairwise_distances_argmin_min\n",
    "\n",
    "k_means_distances_df = pd.DataFrame(pairwise_distances_argmin_min(X, k_means_cluster_centers)).T\n",
    "k_means_distances_df.columns = ['cluster', 'distance']\n",
    "y_predict = k_means_distances_df['cluster'].map({1: False, 0: True})\n",
    "add_performance('KMeans', y, y_predict)"
   ]
  },
  {
   "cell_type": "code",
   "outputs": [
    {
     "data": {
      "text/plain": "  algorithm              confusion matrix  accuracy  precision    recall  \\\n0    KMeans  [[2209, 2021], [1038, 1482]]  0.546815   0.423066  0.588095   \n\n   rand index  mutual information based score  homogeneity  completeness  \\\n0     0.50431                        0.008353     0.008665      0.008268   \n\n   v-measure  \n0   0.008462  ",
      "text/html": "<div>\n<style scoped>\n    .dataframe tbody tr th:only-of-type {\n        vertical-align: middle;\n    }\n\n    .dataframe tbody tr th {\n        vertical-align: top;\n    }\n\n    .dataframe thead th {\n        text-align: right;\n    }\n</style>\n<table border=\"1\" class=\"dataframe\">\n  <thead>\n    <tr style=\"text-align: right;\">\n      <th></th>\n      <th>algorithm</th>\n      <th>confusion matrix</th>\n      <th>accuracy</th>\n      <th>precision</th>\n      <th>recall</th>\n      <th>rand index</th>\n      <th>mutual information based score</th>\n      <th>homogeneity</th>\n      <th>completeness</th>\n      <th>v-measure</th>\n    </tr>\n  </thead>\n  <tbody>\n    <tr>\n      <th>0</th>\n      <td>KMeans</td>\n      <td>[[2209, 2021], [1038, 1482]]</td>\n      <td>0.546815</td>\n      <td>0.423066</td>\n      <td>0.588095</td>\n      <td>0.50431</td>\n      <td>0.008353</td>\n      <td>0.008665</td>\n      <td>0.008268</td>\n      <td>0.008462</td>\n    </tr>\n  </tbody>\n</table>\n</div>"
     },
     "execution_count": 16,
     "metadata": {},
     "output_type": "execute_result"
    }
   ],
   "source": [
    "table_of_performance"
   ],
   "metadata": {
    "collapsed": false,
    "ExecuteTime": {
     "end_time": "2024-01-15T00:40:27.617688Z",
     "start_time": "2024-01-15T00:40:27.609522Z"
    }
   },
   "id": "97e35d7c4304735a",
   "execution_count": 16
  },
  {
   "attachments": {},
   "cell_type": "markdown",
   "id": "41abb8b3203bd9e9",
   "metadata": {
    "collapsed": false
   },
   "source": [
    "### Affinity Propagation"
   ]
  },
  {
   "cell_type": "code",
   "execution_count": 17,
   "id": "1a13d08e89c67ec0",
   "metadata": {
    "collapsed": false,
    "ExecuteTime": {
     "end_time": "2024-01-15T00:40:27.626027Z",
     "start_time": "2024-01-15T00:40:27.619120Z"
    }
   },
   "outputs": [
    {
     "data": {
      "text/plain": "'\\nfrom scipy.spatial.distance import pdist\\n\\nmax(pdist(X))\\n'"
     },
     "execution_count": 17,
     "metadata": {},
     "output_type": "execute_result"
    }
   ],
   "source": [
    "'''\n",
    "from scipy.spatial.distance import pdist\n",
    "\n",
    "max(pdist(X))\n",
    "'''"
   ]
  },
  {
   "cell_type": "code",
   "execution_count": 18,
   "id": "83aeebf4fae5f190",
   "metadata": {
    "collapsed": false,
    "ExecuteTime": {
     "end_time": "2024-01-15T00:40:27.658081Z",
     "start_time": "2024-01-15T00:40:27.625339Z"
    }
   },
   "outputs": [
    {
     "data": {
      "text/plain": "'\\nfrom sklearn.cluster import AffinityPropagation\\n\\npca = PCA(n_components=3)\\npct = pca.fit_transform(X)\\naf = AffinityPropagation(random_state=0).fit(pct)\\ncluster_centers_indices = af.cluster_centers_indices_\\nlabels = af.labels_\\nlen(cluster_centers_indices)\\n'"
     },
     "execution_count": 18,
     "metadata": {},
     "output_type": "execute_result"
    }
   ],
   "source": [
    "'''\n",
    "from sklearn.cluster import AffinityPropagation\n",
    "\n",
    "pca = PCA(n_components=3)\n",
    "pct = pca.fit_transform(X)\n",
    "af = AffinityPropagation(random_state=0).fit(pct)\n",
    "cluster_centers_indices = af.cluster_centers_indices_\n",
    "labels = af.labels_\n",
    "len(cluster_centers_indices)\n",
    "'''"
   ]
  },
  {
   "attachments": {},
   "cell_type": "markdown",
   "id": "eb41338438d30383",
   "metadata": {
    "collapsed": false
   },
   "source": [
    "Can't specify the number of clusters"
   ]
  },
  {
   "attachments": {},
   "cell_type": "markdown",
   "id": "b43c049fab84bd57",
   "metadata": {
    "collapsed": false
   },
   "source": [
    "### Mean Shift"
   ]
  },
  {
   "cell_type": "code",
   "execution_count": 19,
   "id": "cf0608e36578f96a",
   "metadata": {
    "collapsed": false,
    "ExecuteTime": {
     "end_time": "2024-01-15T00:40:27.672560Z",
     "start_time": "2024-01-15T00:40:27.632663Z"
    }
   },
   "outputs": [
    {
     "data": {
      "text/plain": "'\\nfrom sklearn.cluster import MeanShift, estimate_bandwidth\\n\\nbandwidth = estimate_bandwidth(X, quantile=0.3)\\n\\nms = MeanShift(bandwidth=bandwidth, bin_seeding=True)\\nms.fit(X)\\nlabels = ms.labels_\\ncluster_centers = ms.cluster_centers_\\n'"
     },
     "execution_count": 19,
     "metadata": {},
     "output_type": "execute_result"
    }
   ],
   "source": [
    "'''\n",
    "from sklearn.cluster import MeanShift, estimate_bandwidth\n",
    "\n",
    "bandwidth = estimate_bandwidth(X, quantile=0.3)\n",
    "\n",
    "ms = MeanShift(bandwidth=bandwidth, bin_seeding=True)\n",
    "ms.fit(X)\n",
    "labels = ms.labels_\n",
    "cluster_centers = ms.cluster_centers_\n",
    "'''"
   ]
  },
  {
   "cell_type": "code",
   "execution_count": 20,
   "id": "a75b6996f5deac65",
   "metadata": {
    "collapsed": false,
    "ExecuteTime": {
     "end_time": "2024-01-15T00:40:27.674560Z",
     "start_time": "2024-01-15T00:40:27.649652Z"
    }
   },
   "outputs": [
    {
     "data": {
      "text/plain": "\"\\nmean_shift_distances_df = pd.DataFrame(pairwise_distances_argmin_min(X, cluster_centers)).T\\nmean_shift_distances_df.columns = ['cluster', 'distance']\\nmean_shift_distances_df = pd.concat([mean_shift_distances_df, y], axis=1)\\nprint(mean_shift_distances_df.groupby(['cluster', 'ontime']).mean())\\nprint(mean_shift_distances_df.groupby(['cluster', 'ontime']).count())\\n\""
     },
     "execution_count": 20,
     "metadata": {},
     "output_type": "execute_result"
    }
   ],
   "source": [
    "'''\n",
    "mean_shift_distances_df = pd.DataFrame(pairwise_distances_argmin_min(X, cluster_centers)).T\n",
    "mean_shift_distances_df.columns = ['cluster', 'distance']\n",
    "mean_shift_distances_df = pd.concat([mean_shift_distances_df, y], axis=1)\n",
    "print(mean_shift_distances_df.groupby(['cluster', 'ontime']).mean())\n",
    "print(mean_shift_distances_df.groupby(['cluster', 'ontime']).count())\n",
    "'''"
   ]
  },
  {
   "attachments": {},
   "cell_type": "markdown",
   "id": "1219b392e88534e4",
   "metadata": {
    "collapsed": false
   },
   "source": [
    "In cluster 1 and 3, most are on time. In cluster 2, most are not on time. In clusters 0, almost half of the points are anomalies."
   ]
  },
  {
   "attachments": {},
   "cell_type": "markdown",
   "id": "3d6d33a4f73efe76",
   "metadata": {
    "collapsed": false
   },
   "source": [
    "In cluster 2, almost half are anomalies. In cluster 0 and 3, most are not anomalies. In cluster 1 most are anomalies."
   ]
  },
  {
   "attachments": {},
   "cell_type": "markdown",
   "id": "7c4cd533e01dc21c",
   "metadata": {
    "collapsed": false
   },
   "source": [
    "### Hierarchical clustering"
   ]
  },
  {
   "cell_type": "code",
   "execution_count": 21,
   "id": "56450ecfc98e3128",
   "metadata": {
    "collapsed": false,
    "ExecuteTime": {
     "end_time": "2024-01-15T00:40:28.131071Z",
     "start_time": "2024-01-15T00:40:27.657654Z"
    }
   },
   "outputs": [],
   "source": [
    "from sklearn.cluster import AgglomerativeClustering\n",
    "\n",
    "hierarchical_clustering = AgglomerativeClustering(n_clusters=2).fit(X)"
   ]
  },
  {
   "cell_type": "code",
   "execution_count": 22,
   "id": "497e88dd3b3f11cb",
   "metadata": {
    "collapsed": false,
    "ExecuteTime": {
     "end_time": "2024-01-15T00:41:01.384135Z",
     "start_time": "2024-01-15T00:41:01.366294Z"
    }
   },
   "outputs": [
    {
     "name": "stdout",
     "output_type": "stream",
     "text": [
      "                 count\n",
      "cluster anomaly       \n",
      "1       False     2358\n",
      "0       True      2119\n",
      "        False     1872\n",
      "1       True       401\n"
     ]
    }
   ],
   "source": [
    "hierarchical_clustering_labels_df = pd.DataFrame(hierarchical_clustering.labels_, columns=['cluster'])\n",
    "hierarchical_clustering_labels_df = pd.concat([hierarchical_clustering_labels_df, y], axis=1)\n",
    "print(pd.DataFrame(hierarchical_clustering_labels_df.value_counts()))\n",
    "\n",
    "y_predict = hierarchical_clustering_labels_df['cluster'].map({1: False, 0: True})\n",
    "add_performance('hierarchical clustering', y, y_predict)"
   ]
  },
  {
   "cell_type": "code",
   "outputs": [
    {
     "data": {
      "text/plain": "                 algorithm              confusion matrix  accuracy  precision  \\\n0                   KMeans  [[2209, 2021], [1038, 1482]]  0.546815   0.423066   \n1  hierarchical clustering   [[2358, 1872], [401, 2119]]  0.663259   0.530945   \n\n     recall  rand index  mutual information based score  homogeneity  \\\n0  0.588095    0.504310                        0.008353     0.008665   \n1  0.840873    0.553241                        0.123406     0.124970   \n\n   completeness  v-measure  \n0      0.008268   0.008462  \n1      0.122071   0.123503  ",
      "text/html": "<div>\n<style scoped>\n    .dataframe tbody tr th:only-of-type {\n        vertical-align: middle;\n    }\n\n    .dataframe tbody tr th {\n        vertical-align: top;\n    }\n\n    .dataframe thead th {\n        text-align: right;\n    }\n</style>\n<table border=\"1\" class=\"dataframe\">\n  <thead>\n    <tr style=\"text-align: right;\">\n      <th></th>\n      <th>algorithm</th>\n      <th>confusion matrix</th>\n      <th>accuracy</th>\n      <th>precision</th>\n      <th>recall</th>\n      <th>rand index</th>\n      <th>mutual information based score</th>\n      <th>homogeneity</th>\n      <th>completeness</th>\n      <th>v-measure</th>\n    </tr>\n  </thead>\n  <tbody>\n    <tr>\n      <th>0</th>\n      <td>KMeans</td>\n      <td>[[2209, 2021], [1038, 1482]]</td>\n      <td>0.546815</td>\n      <td>0.423066</td>\n      <td>0.588095</td>\n      <td>0.504310</td>\n      <td>0.008353</td>\n      <td>0.008665</td>\n      <td>0.008268</td>\n      <td>0.008462</td>\n    </tr>\n    <tr>\n      <th>1</th>\n      <td>hierarchical clustering</td>\n      <td>[[2358, 1872], [401, 2119]]</td>\n      <td>0.663259</td>\n      <td>0.530945</td>\n      <td>0.840873</td>\n      <td>0.553241</td>\n      <td>0.123406</td>\n      <td>0.124970</td>\n      <td>0.122071</td>\n      <td>0.123503</td>\n    </tr>\n  </tbody>\n</table>\n</div>"
     },
     "execution_count": 23,
     "metadata": {},
     "output_type": "execute_result"
    }
   ],
   "source": [
    "table_of_performance"
   ],
   "metadata": {
    "collapsed": false,
    "ExecuteTime": {
     "end_time": "2024-01-15T00:41:06.773449Z",
     "start_time": "2024-01-15T00:41:06.757076Z"
    }
   },
   "id": "49e9ee5b03423b09",
   "execution_count": 23
  },
  {
   "attachments": {},
   "cell_type": "markdown",
   "id": "a97bdb4a4e93f966",
   "metadata": {
    "collapsed": false
   },
   "source": [
    "### HDBSCAN"
   ]
  },
  {
   "cell_type": "code",
   "execution_count": 24,
   "id": "c184dfa8fe5e050a",
   "metadata": {
    "collapsed": false,
    "ExecuteTime": {
     "end_time": "2024-01-15T00:41:15.081422Z",
     "start_time": "2024-01-15T00:41:14.849415Z"
    }
   },
   "outputs": [
    {
     "data": {
      "text/plain": "HDBSCAN(min_cluster_size=20)",
      "text/html": "<style>#sk-container-id-1 {color: black;}#sk-container-id-1 pre{padding: 0;}#sk-container-id-1 div.sk-toggleable {background-color: white;}#sk-container-id-1 label.sk-toggleable__label {cursor: pointer;display: block;width: 100%;margin-bottom: 0;padding: 0.3em;box-sizing: border-box;text-align: center;}#sk-container-id-1 label.sk-toggleable__label-arrow:before {content: \"▸\";float: left;margin-right: 0.25em;color: #696969;}#sk-container-id-1 label.sk-toggleable__label-arrow:hover:before {color: black;}#sk-container-id-1 div.sk-estimator:hover label.sk-toggleable__label-arrow:before {color: black;}#sk-container-id-1 div.sk-toggleable__content {max-height: 0;max-width: 0;overflow: hidden;text-align: left;background-color: #f0f8ff;}#sk-container-id-1 div.sk-toggleable__content pre {margin: 0.2em;color: black;border-radius: 0.25em;background-color: #f0f8ff;}#sk-container-id-1 input.sk-toggleable__control:checked~div.sk-toggleable__content {max-height: 200px;max-width: 100%;overflow: auto;}#sk-container-id-1 input.sk-toggleable__control:checked~label.sk-toggleable__label-arrow:before {content: \"▾\";}#sk-container-id-1 div.sk-estimator input.sk-toggleable__control:checked~label.sk-toggleable__label {background-color: #d4ebff;}#sk-container-id-1 div.sk-label input.sk-toggleable__control:checked~label.sk-toggleable__label {background-color: #d4ebff;}#sk-container-id-1 input.sk-hidden--visually {border: 0;clip: rect(1px 1px 1px 1px);clip: rect(1px, 1px, 1px, 1px);height: 1px;margin: -1px;overflow: hidden;padding: 0;position: absolute;width: 1px;}#sk-container-id-1 div.sk-estimator {font-family: monospace;background-color: #f0f8ff;border: 1px dotted black;border-radius: 0.25em;box-sizing: border-box;margin-bottom: 0.5em;}#sk-container-id-1 div.sk-estimator:hover {background-color: #d4ebff;}#sk-container-id-1 div.sk-parallel-item::after {content: \"\";width: 100%;border-bottom: 1px solid gray;flex-grow: 1;}#sk-container-id-1 div.sk-label:hover label.sk-toggleable__label {background-color: #d4ebff;}#sk-container-id-1 div.sk-serial::before {content: \"\";position: absolute;border-left: 1px solid gray;box-sizing: border-box;top: 0;bottom: 0;left: 50%;z-index: 0;}#sk-container-id-1 div.sk-serial {display: flex;flex-direction: column;align-items: center;background-color: white;padding-right: 0.2em;padding-left: 0.2em;position: relative;}#sk-container-id-1 div.sk-item {position: relative;z-index: 1;}#sk-container-id-1 div.sk-parallel {display: flex;align-items: stretch;justify-content: center;background-color: white;position: relative;}#sk-container-id-1 div.sk-item::before, #sk-container-id-1 div.sk-parallel-item::before {content: \"\";position: absolute;border-left: 1px solid gray;box-sizing: border-box;top: 0;bottom: 0;left: 50%;z-index: -1;}#sk-container-id-1 div.sk-parallel-item {display: flex;flex-direction: column;z-index: 1;position: relative;background-color: white;}#sk-container-id-1 div.sk-parallel-item:first-child::after {align-self: flex-end;width: 50%;}#sk-container-id-1 div.sk-parallel-item:last-child::after {align-self: flex-start;width: 50%;}#sk-container-id-1 div.sk-parallel-item:only-child::after {width: 0;}#sk-container-id-1 div.sk-dashed-wrapped {border: 1px dashed gray;margin: 0 0.4em 0.5em 0.4em;box-sizing: border-box;padding-bottom: 0.4em;background-color: white;}#sk-container-id-1 div.sk-label label {font-family: monospace;font-weight: bold;display: inline-block;line-height: 1.2em;}#sk-container-id-1 div.sk-label-container {text-align: center;}#sk-container-id-1 div.sk-container {/* jupyter's `normalize.less` sets `[hidden] { display: none; }` but bootstrap.min.css set `[hidden] { display: none !important; }` so we also need the `!important` here to be able to override the default hidden behavior on the sphinx rendered scikit-learn.org. See: https://github.com/scikit-learn/scikit-learn/issues/21755 */display: inline-block !important;position: relative;}#sk-container-id-1 div.sk-text-repr-fallback {display: none;}</style><div id=\"sk-container-id-1\" class=\"sk-top-container\"><div class=\"sk-text-repr-fallback\"><pre>HDBSCAN(min_cluster_size=20)</pre><b>In a Jupyter environment, please rerun this cell to show the HTML representation or trust the notebook. <br />On GitHub, the HTML representation is unable to render, please try loading this page with nbviewer.org.</b></div><div class=\"sk-container\" hidden><div class=\"sk-item\"><div class=\"sk-estimator sk-toggleable\"><input class=\"sk-toggleable__control sk-hidden--visually\" id=\"sk-estimator-id-1\" type=\"checkbox\" checked><label for=\"sk-estimator-id-1\" class=\"sk-toggleable__label sk-toggleable__label-arrow\">HDBSCAN</label><div class=\"sk-toggleable__content\"><pre>HDBSCAN(min_cluster_size=20)</pre></div></div></div></div></div>"
     },
     "execution_count": 24,
     "metadata": {},
     "output_type": "execute_result"
    }
   ],
   "source": [
    "from sklearn.cluster import HDBSCAN\n",
    "\n",
    "hdb = HDBSCAN(min_cluster_size=20)\n",
    "hdb.fit(X)"
   ]
  },
  {
   "cell_type": "code",
   "execution_count": 25,
   "id": "4761e2a37b72744a",
   "metadata": {
    "collapsed": false,
    "ExecuteTime": {
     "end_time": "2024-01-15T00:41:26.287025Z",
     "start_time": "2024-01-15T00:41:26.282847Z"
    }
   },
   "outputs": [
    {
     "data": {
      "text/plain": "clusters  anomaly\n-1        True       473\n          False      439\nName: count, dtype: int64"
     },
     "execution_count": 25,
     "metadata": {},
     "output_type": "execute_result"
    }
   ],
   "source": [
    "hdbscan_labels_df = pd.DataFrame(hdb.labels_, columns=['clusters'])\n",
    "hdbscan_labels_df = pd.concat([hdbscan_labels_df, y], axis=1)\n",
    "hdbscan_labels_df[hdbscan_labels_df.clusters==-1].value_counts()"
   ]
  },
  {
   "cell_type": "code",
   "execution_count": 26,
   "outputs": [],
   "source": [
    "y_predict = hdbscan_labels_df['clusters'].map(lambda x: x < 0)\n",
    "add_performance('HDBSCAN', y, y_predict)"
   ],
   "metadata": {
    "collapsed": false,
    "ExecuteTime": {
     "end_time": "2024-01-15T00:41:32.279746Z",
     "start_time": "2024-01-15T00:41:32.258995Z"
    }
   },
   "id": "16e73967e5aed84b"
  },
  {
   "attachments": {},
   "cell_type": "markdown",
   "id": "df5d3acfd53e065",
   "metadata": {
    "collapsed": false
   },
   "source": [
    "HDBSCAN doesn't work well."
   ]
  },
  {
   "attachments": {},
   "cell_type": "markdown",
   "id": "66911737bb5f4d55",
   "metadata": {
    "collapsed": false
   },
   "source": []
  },
  {
   "attachments": {},
   "cell_type": "markdown",
   "id": "1a0d31fa1c62c417",
   "metadata": {
    "collapsed": false
   },
   "source": [
    "### OPTICS"
   ]
  },
  {
   "cell_type": "code",
   "execution_count": 27,
   "id": "206fafe86f6769ac",
   "metadata": {
    "collapsed": false,
    "ExecuteTime": {
     "end_time": "2024-01-15T00:41:46.655006Z",
     "start_time": "2024-01-15T00:41:44.785265Z"
    }
   },
   "outputs": [
    {
     "name": "stderr",
     "output_type": "stream",
     "text": [
      "/Users/boweigao/miniconda3/lib/python3.11/site-packages/sklearn/cluster/_optics.py:995: RuntimeWarning: divide by zero encountered in divide\n",
      "  ratio = reachability_plot[:-1] / reachability_plot[1:]\n"
     ]
    }
   ],
   "source": [
    "from sklearn.cluster import OPTICS\n",
    "\n",
    "optics = OPTICS(min_samples=2).fit(X)"
   ]
  },
  {
   "cell_type": "code",
   "execution_count": 28,
   "id": "ce7130136a3aefa8",
   "metadata": {
    "collapsed": false,
    "ExecuteTime": {
     "end_time": "2024-01-15T00:41:47.468987Z",
     "start_time": "2024-01-15T00:41:47.452945Z"
    }
   },
   "outputs": [
    {
     "data": {
      "text/plain": "clusters  anomaly\n-1        False      826\n          True       516\n 617      False       11\n 695      False        9\n 833      False        9\n                    ... \n 15       True         1\n 461      False        1\n 462      True         1\n 468      False        1\n 975      True         1\nName: count, Length: 2184, dtype: int64"
     },
     "execution_count": 28,
     "metadata": {},
     "output_type": "execute_result"
    }
   ],
   "source": [
    "optics_labels_df = pd.DataFrame(optics.labels_, columns=['clusters'])\n",
    "optics_labels_df = pd.concat([optics_labels_df, y], axis=1)\n",
    "optics_labels_df.value_counts()"
   ]
  },
  {
   "cell_type": "code",
   "execution_count": 29,
   "outputs": [],
   "source": [
    "y_predict = optics_labels_df['clusters'].map(lambda x: x < 0)\n",
    "add_performance('OPTICS', y, y_predict)"
   ],
   "metadata": {
    "collapsed": false,
    "ExecuteTime": {
     "end_time": "2024-01-15T00:41:50.495904Z",
     "start_time": "2024-01-15T00:41:50.474009Z"
    }
   },
   "id": "faaf86e0df3ba3fc"
  },
  {
   "attachments": {},
   "cell_type": "markdown",
   "id": "8a93749ffdee23ee",
   "metadata": {
    "collapsed": false
   },
   "source": [
    "### BIRCH"
   ]
  },
  {
   "cell_type": "code",
   "execution_count": 30,
   "id": "696c6f72289c3ed9",
   "metadata": {
    "collapsed": false,
    "ExecuteTime": {
     "end_time": "2024-01-15T00:42:02.784722Z",
     "start_time": "2024-01-15T00:42:02.567131Z"
    }
   },
   "outputs": [
    {
     "data": {
      "text/plain": "array([1, 1, 1, ..., 0, 0, 0])"
     },
     "execution_count": 30,
     "metadata": {},
     "output_type": "execute_result"
    }
   ],
   "source": [
    "from sklearn.cluster import Birch\n",
    "\n",
    "brc = Birch(n_clusters=2)\n",
    "brc.fit(X)\n",
    "brc.predict(X)"
   ]
  },
  {
   "cell_type": "code",
   "execution_count": 31,
   "id": "3f489b23d0d04c29",
   "metadata": {
    "collapsed": false,
    "ExecuteTime": {
     "end_time": "2024-01-15T00:42:15.291428Z",
     "start_time": "2024-01-15T00:42:15.276083Z"
    }
   },
   "outputs": [
    {
     "name": "stdout",
     "output_type": "stream",
     "text": [
      "cluster  anomaly\n",
      "0        False      2209\n",
      "1        False      2021\n",
      "         True       1482\n",
      "0        True       1038\n",
      "Name: count, dtype: int64\n"
     ]
    }
   ],
   "source": [
    "brc_labels_df = pd.DataFrame(brc.labels_, columns=['cluster'])\n",
    "brc_labels_df = pd.concat([brc_labels_df, y], axis=1)\n",
    "print(brc_labels_df.value_counts())\n",
    "\n",
    "y_predict = brc_labels_df['cluster'].map({0: False, 1: True})\n",
    "add_performance('BIRCH', y, y_predict)"
   ]
  },
  {
   "cell_type": "code",
   "outputs": [
    {
     "data": {
      "text/plain": "                 algorithm              confusion matrix  accuracy  precision  \\\n0                   KMeans  [[2209, 2021], [1038, 1482]]  0.546815   0.423066   \n1  hierarchical clustering   [[2358, 1872], [401, 2119]]  0.663259   0.530945   \n2                  HDBSCAN    [[3791, 439], [2047, 473]]  0.631704   0.518640   \n3                   OPTICS    [[3404, 826], [2004, 516]]  0.580741   0.384501   \n4                    BIRCH  [[2209, 2021], [1038, 1482]]  0.546815   0.423066   \n\n     recall  rand index  mutual information based score  homogeneity  \\\n0  0.588095    0.504310                        0.008353     0.008665   \n1  0.840873    0.553241                        0.123406     0.124970   \n2  0.187698    0.534623                        0.012808     0.010353   \n3  0.204762    0.512966                       -0.000014     0.000100   \n4  0.588095    0.504310                        0.008353     0.008665   \n\n   completeness  v-measure  \n0      0.008268   0.008462  \n1      0.122071   0.123503  \n2      0.017273   0.012946  \n3      0.000132   0.000114  \n4      0.008268   0.008462  ",
      "text/html": "<div>\n<style scoped>\n    .dataframe tbody tr th:only-of-type {\n        vertical-align: middle;\n    }\n\n    .dataframe tbody tr th {\n        vertical-align: top;\n    }\n\n    .dataframe thead th {\n        text-align: right;\n    }\n</style>\n<table border=\"1\" class=\"dataframe\">\n  <thead>\n    <tr style=\"text-align: right;\">\n      <th></th>\n      <th>algorithm</th>\n      <th>confusion matrix</th>\n      <th>accuracy</th>\n      <th>precision</th>\n      <th>recall</th>\n      <th>rand index</th>\n      <th>mutual information based score</th>\n      <th>homogeneity</th>\n      <th>completeness</th>\n      <th>v-measure</th>\n    </tr>\n  </thead>\n  <tbody>\n    <tr>\n      <th>0</th>\n      <td>KMeans</td>\n      <td>[[2209, 2021], [1038, 1482]]</td>\n      <td>0.546815</td>\n      <td>0.423066</td>\n      <td>0.588095</td>\n      <td>0.504310</td>\n      <td>0.008353</td>\n      <td>0.008665</td>\n      <td>0.008268</td>\n      <td>0.008462</td>\n    </tr>\n    <tr>\n      <th>1</th>\n      <td>hierarchical clustering</td>\n      <td>[[2358, 1872], [401, 2119]]</td>\n      <td>0.663259</td>\n      <td>0.530945</td>\n      <td>0.840873</td>\n      <td>0.553241</td>\n      <td>0.123406</td>\n      <td>0.124970</td>\n      <td>0.122071</td>\n      <td>0.123503</td>\n    </tr>\n    <tr>\n      <th>2</th>\n      <td>HDBSCAN</td>\n      <td>[[3791, 439], [2047, 473]]</td>\n      <td>0.631704</td>\n      <td>0.518640</td>\n      <td>0.187698</td>\n      <td>0.534623</td>\n      <td>0.012808</td>\n      <td>0.010353</td>\n      <td>0.017273</td>\n      <td>0.012946</td>\n    </tr>\n    <tr>\n      <th>3</th>\n      <td>OPTICS</td>\n      <td>[[3404, 826], [2004, 516]]</td>\n      <td>0.580741</td>\n      <td>0.384501</td>\n      <td>0.204762</td>\n      <td>0.512966</td>\n      <td>-0.000014</td>\n      <td>0.000100</td>\n      <td>0.000132</td>\n      <td>0.000114</td>\n    </tr>\n    <tr>\n      <th>4</th>\n      <td>BIRCH</td>\n      <td>[[2209, 2021], [1038, 1482]]</td>\n      <td>0.546815</td>\n      <td>0.423066</td>\n      <td>0.588095</td>\n      <td>0.504310</td>\n      <td>0.008353</td>\n      <td>0.008665</td>\n      <td>0.008268</td>\n      <td>0.008462</td>\n    </tr>\n  </tbody>\n</table>\n</div>"
     },
     "execution_count": 32,
     "metadata": {},
     "output_type": "execute_result"
    }
   ],
   "source": [
    "table_of_performance"
   ],
   "metadata": {
    "collapsed": false,
    "ExecuteTime": {
     "end_time": "2024-01-15T00:42:19.609555Z",
     "start_time": "2024-01-15T00:42:19.593455Z"
    }
   },
   "id": "53a91c52e552fa76",
   "execution_count": 32
  },
  {
   "cell_type": "markdown",
   "source": [
    "### Spectral clustering"
   ],
   "metadata": {
    "collapsed": false
   },
   "id": "a8b164589870600d"
  },
  {
   "cell_type": "code",
   "execution_count": 33,
   "outputs": [
    {
     "ename": "KeyboardInterrupt",
     "evalue": "",
     "output_type": "error",
     "traceback": [
      "\u001B[0;31m---------------------------------------------------------------------------\u001B[0m",
      "\u001B[0;31mKeyboardInterrupt\u001B[0m                         Traceback (most recent call last)",
      "Cell \u001B[0;32mIn[33], line 4\u001B[0m\n\u001B[1;32m      1\u001B[0m \u001B[38;5;28;01mfrom\u001B[39;00m \u001B[38;5;21;01msklearn\u001B[39;00m\u001B[38;5;21;01m.\u001B[39;00m\u001B[38;5;21;01mcluster\u001B[39;00m \u001B[38;5;28;01mimport\u001B[39;00m SpectralClustering\n\u001B[1;32m      2\u001B[0m \u001B[38;5;28;01mimport\u001B[39;00m \u001B[38;5;21;01mjoblib\u001B[39;00m\n\u001B[0;32m----> 4\u001B[0m spectral_clustering \u001B[38;5;241m=\u001B[39m SpectralClustering(n_clusters\u001B[38;5;241m=\u001B[39m\u001B[38;5;241m4\u001B[39m, assign_labels\u001B[38;5;241m=\u001B[39m\u001B[38;5;124m'\u001B[39m\u001B[38;5;124mdiscretize\u001B[39m\u001B[38;5;124m'\u001B[39m, random_state\u001B[38;5;241m=\u001B[39m\u001B[38;5;241m0\u001B[39m)\u001B[38;5;241m.\u001B[39mfit(X)\n\u001B[1;32m      5\u001B[0m joblib\u001B[38;5;241m.\u001B[39mdump(spectral_clustering, \u001B[38;5;124m'\u001B[39m\u001B[38;5;124mtemp/Delivery_truck_trip_data_spectral_clustering_model.pkl\u001B[39m\u001B[38;5;124m'\u001B[39m)\n",
      "File \u001B[0;32m~/miniconda3/lib/python3.11/site-packages/sklearn/base.py:1152\u001B[0m, in \u001B[0;36m_fit_context.<locals>.decorator.<locals>.wrapper\u001B[0;34m(estimator, *args, **kwargs)\u001B[0m\n\u001B[1;32m   1145\u001B[0m     estimator\u001B[38;5;241m.\u001B[39m_validate_params()\n\u001B[1;32m   1147\u001B[0m \u001B[38;5;28;01mwith\u001B[39;00m config_context(\n\u001B[1;32m   1148\u001B[0m     skip_parameter_validation\u001B[38;5;241m=\u001B[39m(\n\u001B[1;32m   1149\u001B[0m         prefer_skip_nested_validation \u001B[38;5;129;01mor\u001B[39;00m global_skip_validation\n\u001B[1;32m   1150\u001B[0m     )\n\u001B[1;32m   1151\u001B[0m ):\n\u001B[0;32m-> 1152\u001B[0m     \u001B[38;5;28;01mreturn\u001B[39;00m fit_method(estimator, \u001B[38;5;241m*\u001B[39margs, \u001B[38;5;241m*\u001B[39m\u001B[38;5;241m*\u001B[39mkwargs)\n",
      "File \u001B[0;32m~/miniconda3/lib/python3.11/site-packages/sklearn/cluster/_spectral.py:730\u001B[0m, in \u001B[0;36mSpectralClustering.fit\u001B[0;34m(self, X, y)\u001B[0m\n\u001B[1;32m    721\u001B[0m n_components \u001B[38;5;241m=\u001B[39m (\n\u001B[1;32m    722\u001B[0m     \u001B[38;5;28mself\u001B[39m\u001B[38;5;241m.\u001B[39mn_clusters \u001B[38;5;28;01mif\u001B[39;00m \u001B[38;5;28mself\u001B[39m\u001B[38;5;241m.\u001B[39mn_components \u001B[38;5;129;01mis\u001B[39;00m \u001B[38;5;28;01mNone\u001B[39;00m \u001B[38;5;28;01melse\u001B[39;00m \u001B[38;5;28mself\u001B[39m\u001B[38;5;241m.\u001B[39mn_components\n\u001B[1;32m    723\u001B[0m )\n\u001B[1;32m    724\u001B[0m \u001B[38;5;66;03m# We now obtain the real valued solution matrix to the\u001B[39;00m\n\u001B[1;32m    725\u001B[0m \u001B[38;5;66;03m# relaxed Ncut problem, solving the eigenvalue problem\u001B[39;00m\n\u001B[1;32m    726\u001B[0m \u001B[38;5;66;03m# L_sym x = lambda x  and recovering u = D^-1/2 x.\u001B[39;00m\n\u001B[1;32m    727\u001B[0m \u001B[38;5;66;03m# The first eigenvector is constant only for fully connected graphs\u001B[39;00m\n\u001B[1;32m    728\u001B[0m \u001B[38;5;66;03m# and should be kept for spectral clustering (drop_first = False)\u001B[39;00m\n\u001B[1;32m    729\u001B[0m \u001B[38;5;66;03m# See spectral_embedding documentation.\u001B[39;00m\n\u001B[0;32m--> 730\u001B[0m maps \u001B[38;5;241m=\u001B[39m spectral_embedding(\n\u001B[1;32m    731\u001B[0m     \u001B[38;5;28mself\u001B[39m\u001B[38;5;241m.\u001B[39maffinity_matrix_,\n\u001B[1;32m    732\u001B[0m     n_components\u001B[38;5;241m=\u001B[39mn_components,\n\u001B[1;32m    733\u001B[0m     eigen_solver\u001B[38;5;241m=\u001B[39m\u001B[38;5;28mself\u001B[39m\u001B[38;5;241m.\u001B[39meigen_solver,\n\u001B[1;32m    734\u001B[0m     random_state\u001B[38;5;241m=\u001B[39mrandom_state,\n\u001B[1;32m    735\u001B[0m     eigen_tol\u001B[38;5;241m=\u001B[39m\u001B[38;5;28mself\u001B[39m\u001B[38;5;241m.\u001B[39meigen_tol,\n\u001B[1;32m    736\u001B[0m     drop_first\u001B[38;5;241m=\u001B[39m\u001B[38;5;28;01mFalse\u001B[39;00m,\n\u001B[1;32m    737\u001B[0m )\n\u001B[1;32m    738\u001B[0m \u001B[38;5;28;01mif\u001B[39;00m \u001B[38;5;28mself\u001B[39m\u001B[38;5;241m.\u001B[39mverbose:\n\u001B[1;32m    739\u001B[0m     \u001B[38;5;28mprint\u001B[39m(\u001B[38;5;124mf\u001B[39m\u001B[38;5;124m\"\u001B[39m\u001B[38;5;124mComputing label assignment using \u001B[39m\u001B[38;5;132;01m{\u001B[39;00m\u001B[38;5;28mself\u001B[39m\u001B[38;5;241m.\u001B[39massign_labels\u001B[38;5;132;01m}\u001B[39;00m\u001B[38;5;124m\"\u001B[39m)\n",
      "File \u001B[0;32m~/miniconda3/lib/python3.11/site-packages/sklearn/manifold/_spectral_embedding.py:313\u001B[0m, in \u001B[0;36mspectral_embedding\u001B[0;34m(adjacency, n_components, eigen_solver, random_state, eigen_tol, norm_laplacian, drop_first)\u001B[0m\n\u001B[1;32m    311\u001B[0m laplacian \u001B[38;5;241m*\u001B[39m\u001B[38;5;241m=\u001B[39m \u001B[38;5;241m-\u001B[39m\u001B[38;5;241m1\u001B[39m\n\u001B[1;32m    312\u001B[0m v0 \u001B[38;5;241m=\u001B[39m _init_arpack_v0(laplacian\u001B[38;5;241m.\u001B[39mshape[\u001B[38;5;241m0\u001B[39m], random_state)\n\u001B[0;32m--> 313\u001B[0m _, diffusion_map \u001B[38;5;241m=\u001B[39m eigsh(\n\u001B[1;32m    314\u001B[0m     laplacian, k\u001B[38;5;241m=\u001B[39mn_components, sigma\u001B[38;5;241m=\u001B[39m\u001B[38;5;241m1.0\u001B[39m, which\u001B[38;5;241m=\u001B[39m\u001B[38;5;124m\"\u001B[39m\u001B[38;5;124mLM\u001B[39m\u001B[38;5;124m\"\u001B[39m, tol\u001B[38;5;241m=\u001B[39mtol, v0\u001B[38;5;241m=\u001B[39mv0\n\u001B[1;32m    315\u001B[0m )\n\u001B[1;32m    316\u001B[0m embedding \u001B[38;5;241m=\u001B[39m diffusion_map\u001B[38;5;241m.\u001B[39mT[n_components::\u001B[38;5;241m-\u001B[39m\u001B[38;5;241m1\u001B[39m]\n\u001B[1;32m    317\u001B[0m \u001B[38;5;28;01mif\u001B[39;00m norm_laplacian:\n\u001B[1;32m    318\u001B[0m     \u001B[38;5;66;03m# recover u = D^-1/2 x from the eigenvector output x\u001B[39;00m\n",
      "File \u001B[0;32m~/miniconda3/lib/python3.11/site-packages/scipy/sparse/linalg/_eigen/arpack/arpack.py:1697\u001B[0m, in \u001B[0;36meigsh\u001B[0;34m(A, k, M, sigma, which, v0, ncv, maxiter, tol, return_eigenvectors, Minv, OPinv, mode)\u001B[0m\n\u001B[1;32m   1695\u001B[0m \u001B[38;5;28;01mwith\u001B[39;00m _ARPACK_LOCK:\n\u001B[1;32m   1696\u001B[0m     \u001B[38;5;28;01mwhile\u001B[39;00m \u001B[38;5;129;01mnot\u001B[39;00m params\u001B[38;5;241m.\u001B[39mconverged:\n\u001B[0;32m-> 1697\u001B[0m         params\u001B[38;5;241m.\u001B[39miterate()\n\u001B[1;32m   1699\u001B[0m     \u001B[38;5;28;01mreturn\u001B[39;00m params\u001B[38;5;241m.\u001B[39mextract(return_eigenvectors)\n",
      "File \u001B[0;32m~/miniconda3/lib/python3.11/site-packages/scipy/sparse/linalg/_eigen/arpack/arpack.py:560\u001B[0m, in \u001B[0;36m_SymmetricArpackParams.iterate\u001B[0;34m(self)\u001B[0m\n\u001B[1;32m    558\u001B[0m     \u001B[38;5;28;01melse\u001B[39;00m:\n\u001B[1;32m    559\u001B[0m         Bxslice \u001B[38;5;241m=\u001B[39m \u001B[38;5;28mslice\u001B[39m(\u001B[38;5;28mself\u001B[39m\u001B[38;5;241m.\u001B[39mipntr[\u001B[38;5;241m2\u001B[39m] \u001B[38;5;241m-\u001B[39m \u001B[38;5;241m1\u001B[39m, \u001B[38;5;28mself\u001B[39m\u001B[38;5;241m.\u001B[39mipntr[\u001B[38;5;241m2\u001B[39m] \u001B[38;5;241m-\u001B[39m \u001B[38;5;241m1\u001B[39m \u001B[38;5;241m+\u001B[39m \u001B[38;5;28mself\u001B[39m\u001B[38;5;241m.\u001B[39mn)\n\u001B[0;32m--> 560\u001B[0m         \u001B[38;5;28mself\u001B[39m\u001B[38;5;241m.\u001B[39mworkd[yslice] \u001B[38;5;241m=\u001B[39m \u001B[38;5;28mself\u001B[39m\u001B[38;5;241m.\u001B[39mOPa(\u001B[38;5;28mself\u001B[39m\u001B[38;5;241m.\u001B[39mworkd[Bxslice])\n\u001B[1;32m    561\u001B[0m \u001B[38;5;28;01melif\u001B[39;00m \u001B[38;5;28mself\u001B[39m\u001B[38;5;241m.\u001B[39mido \u001B[38;5;241m==\u001B[39m \u001B[38;5;241m2\u001B[39m:\n\u001B[1;32m    562\u001B[0m     \u001B[38;5;28mself\u001B[39m\u001B[38;5;241m.\u001B[39mworkd[yslice] \u001B[38;5;241m=\u001B[39m \u001B[38;5;28mself\u001B[39m\u001B[38;5;241m.\u001B[39mB(\u001B[38;5;28mself\u001B[39m\u001B[38;5;241m.\u001B[39mworkd[xslice])\n",
      "File \u001B[0;32m~/miniconda3/lib/python3.11/site-packages/scipy/sparse/linalg/_interface.py:234\u001B[0m, in \u001B[0;36mLinearOperator.matvec\u001B[0;34m(self, x)\u001B[0m\n\u001B[1;32m    231\u001B[0m \u001B[38;5;28;01mif\u001B[39;00m x\u001B[38;5;241m.\u001B[39mshape \u001B[38;5;241m!=\u001B[39m (N,) \u001B[38;5;129;01mand\u001B[39;00m x\u001B[38;5;241m.\u001B[39mshape \u001B[38;5;241m!=\u001B[39m (N,\u001B[38;5;241m1\u001B[39m):\n\u001B[1;32m    232\u001B[0m     \u001B[38;5;28;01mraise\u001B[39;00m \u001B[38;5;167;01mValueError\u001B[39;00m(\u001B[38;5;124m'\u001B[39m\u001B[38;5;124mdimension mismatch\u001B[39m\u001B[38;5;124m'\u001B[39m)\n\u001B[0;32m--> 234\u001B[0m y \u001B[38;5;241m=\u001B[39m \u001B[38;5;28mself\u001B[39m\u001B[38;5;241m.\u001B[39m_matvec(x)\n\u001B[1;32m    236\u001B[0m \u001B[38;5;28;01mif\u001B[39;00m \u001B[38;5;28misinstance\u001B[39m(x, np\u001B[38;5;241m.\u001B[39mmatrix):\n\u001B[1;32m    237\u001B[0m     y \u001B[38;5;241m=\u001B[39m asmatrix(y)\n",
      "File \u001B[0;32m~/miniconda3/lib/python3.11/site-packages/scipy/sparse/linalg/_eigen/arpack/arpack.py:944\u001B[0m, in \u001B[0;36mLuInv._matvec\u001B[0;34m(self, x)\u001B[0m\n\u001B[1;32m    943\u001B[0m \u001B[38;5;28;01mdef\u001B[39;00m \u001B[38;5;21m_matvec\u001B[39m(\u001B[38;5;28mself\u001B[39m, x):\n\u001B[0;32m--> 944\u001B[0m     \u001B[38;5;28;01mreturn\u001B[39;00m lu_solve(\u001B[38;5;28mself\u001B[39m\u001B[38;5;241m.\u001B[39mM_lu, x)\n",
      "File \u001B[0;32m~/miniconda3/lib/python3.11/site-packages/scipy/linalg/_decomp_lu.py:152\u001B[0m, in \u001B[0;36mlu_solve\u001B[0;34m(lu_and_piv, b, trans, overwrite_b, check_finite)\u001B[0m\n\u001B[1;32m    148\u001B[0m     \u001B[38;5;28;01mraise\u001B[39;00m \u001B[38;5;167;01mValueError\u001B[39;00m(\u001B[38;5;124m\"\u001B[39m\u001B[38;5;124mShapes of lu \u001B[39m\u001B[38;5;132;01m{}\u001B[39;00m\u001B[38;5;124m and b \u001B[39m\u001B[38;5;132;01m{}\u001B[39;00m\u001B[38;5;124m are incompatible\u001B[39m\u001B[38;5;124m\"\u001B[39m\n\u001B[1;32m    149\u001B[0m                      \u001B[38;5;241m.\u001B[39mformat(lu\u001B[38;5;241m.\u001B[39mshape, b1\u001B[38;5;241m.\u001B[39mshape))\n\u001B[1;32m    151\u001B[0m getrs, \u001B[38;5;241m=\u001B[39m get_lapack_funcs((\u001B[38;5;124m'\u001B[39m\u001B[38;5;124mgetrs\u001B[39m\u001B[38;5;124m'\u001B[39m,), (lu, b1))\n\u001B[0;32m--> 152\u001B[0m x, info \u001B[38;5;241m=\u001B[39m getrs(lu, piv, b1, trans\u001B[38;5;241m=\u001B[39mtrans, overwrite_b\u001B[38;5;241m=\u001B[39moverwrite_b)\n\u001B[1;32m    153\u001B[0m \u001B[38;5;28;01mif\u001B[39;00m info \u001B[38;5;241m==\u001B[39m \u001B[38;5;241m0\u001B[39m:\n\u001B[1;32m    154\u001B[0m     \u001B[38;5;28;01mreturn\u001B[39;00m x\n",
      "\u001B[0;31mKeyboardInterrupt\u001B[0m: "
     ]
    }
   ],
   "source": [
    "from sklearn.cluster import SpectralClustering\n",
    "import joblib\n",
    "\n",
    "spectral_clustering = SpectralClustering(n_clusters=4, assign_labels='discretize', random_state=0).fit(X)\n",
    "joblib.dump(spectral_clustering, 'temp/Delivery_truck_trip_data_spectral_clustering_model.pkl')"
   ],
   "metadata": {
    "collapsed": false,
    "ExecuteTime": {
     "end_time": "2024-01-15T00:43:11.806137Z",
     "start_time": "2024-01-15T00:42:34.575859Z"
    }
   },
   "id": "ee99b6a6160e4a9c"
  },
  {
   "cell_type": "code",
   "execution_count": null,
   "outputs": [],
   "source": [
    "loaded_model = joblib.load('temp/Delivery_truck_trip_data_spectral_clustering_model.pkl')"
   ],
   "metadata": {
    "collapsed": false,
    "ExecuteTime": {
     "end_time": "2024-01-15T00:43:11.807710Z",
     "start_time": "2024-01-15T00:43:11.806926Z"
    }
   },
   "id": "58055057080f0f22"
  },
  {
   "cell_type": "code",
   "execution_count": 411,
   "outputs": [
    {
     "data": {
      "text/plain": "\"\\nprint(pd.DataFrame(loaded_model.labels_).value_counts())\\nspectral_clustering_labels_df = pd.DataFrame(spectral_clustering.labels_, columns=['cluster'])\\nspectral_clustering_labels_df = pd.concat([spectral_clustering_labels_df, y], axis=1)\\nprint(spectral_clustering_labels_df['cluster'].value_counts())\\nprint(spectral_clustering_labels_df.value_counts())\\nprint(spectral_df.value_counts())\\n\""
     },
     "execution_count": 411,
     "metadata": {},
     "output_type": "execute_result"
    }
   ],
   "source": [
    "'''\n",
    "print(pd.DataFrame(loaded_model.labels_).value_counts())\n",
    "spectral_clustering_labels_df = pd.DataFrame(spectral_clustering.labels_, columns=['cluster'])\n",
    "spectral_clustering_labels_df = pd.concat([spectral_clustering_labels_df, y], axis=1)\n",
    "print(spectral_clustering_labels_df['cluster'].value_counts())\n",
    "print(spectral_clustering_labels_df.value_counts())\n",
    "print(spectral_df.value_counts())\n",
    "'''"
   ],
   "metadata": {
    "collapsed": false,
    "ExecuteTime": {
     "end_time": "2023-11-09T01:03:25.762035Z",
     "start_time": "2023-11-09T01:03:25.743295Z"
    }
   },
   "id": "cd7ff3b4adec3f68"
  },
  {
   "cell_type": "markdown",
   "source": [
    "### Performance"
   ],
   "metadata": {
    "collapsed": false
   },
   "id": "e42881bf9dca5ae1"
  },
  {
   "cell_type": "code",
   "execution_count": 34,
   "outputs": [],
   "source": [
    "table_of_performance.to_csv('temp/Delivery_truck_trip_data_manual_unsupervised_performance.csv', index=False)"
   ],
   "metadata": {
    "collapsed": false,
    "ExecuteTime": {
     "end_time": "2024-01-15T00:43:22.129187Z",
     "start_time": "2024-01-15T00:43:22.122284Z"
    }
   },
   "id": "f56cf6bea68c5ea"
  },
  {
   "cell_type": "code",
   "execution_count": 412,
   "outputs": [],
   "source": [],
   "metadata": {
    "collapsed": false,
    "ExecuteTime": {
     "end_time": "2023-11-09T01:03:25.775693Z",
     "start_time": "2023-11-09T01:03:25.769421Z"
    }
   },
   "id": "b4a85c758c55d870"
  }
 ],
 "metadata": {
  "kernelspec": {
   "display_name": "Python 3 (ipykernel)",
   "language": "python",
   "name": "python3"
  },
  "language_info": {
   "codemirror_mode": {
    "name": "ipython",
    "version": 3
   },
   "file_extension": ".py",
   "mimetype": "text/x-python",
   "name": "python",
   "nbconvert_exporter": "python",
   "pygments_lexer": "ipython3",
   "version": "3.11.4"
  }
 },
 "nbformat": 4,
 "nbformat_minor": 5
}
