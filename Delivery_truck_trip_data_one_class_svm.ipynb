{
 "cells": [
  {
   "cell_type": "markdown",
   "id": "8436795002ee83fa",
   "metadata": {},
   "source": [
    "### Loading the dataset"
   ]
  },
  {
   "cell_type": "code",
   "execution_count": 1,
   "id": "8f7d22eb00a5650e",
   "metadata": {
    "ExecuteTime": {
     "end_time": "2023-12-01T17:18:23.687861Z",
     "start_time": "2023-12-01T17:18:23.633333Z"
    }
   },
   "outputs": [],
   "source": [
    "import pandas as pd\n",
    "\n",
    "Delivery_truck_trip_data_df = pd.read_csv('temp/Delivery_truck_trip_data_df.csv')\n"
   ]
  },
  {
   "cell_type": "code",
   "execution_count": 2,
   "outputs": [],
   "source": [
    "X = Delivery_truck_trip_data_df.drop(['ontime'], axis=1)\n"
   ],
   "metadata": {
    "collapsed": false,
    "ExecuteTime": {
     "end_time": "2023-12-01T17:18:23.689008Z",
     "start_time": "2023-12-01T17:18:23.649307Z"
    }
   },
   "id": "32b291ef567b177e"
  },
  {
   "cell_type": "markdown",
   "source": [
    "### Normalizing"
   ],
   "metadata": {
    "collapsed": false
   },
   "id": "3831d4bd8de414cf"
  },
  {
   "cell_type": "code",
   "execution_count": 3,
   "id": "97a38e3cced99b1a",
   "metadata": {
    "ExecuteTime": {
     "end_time": "2023-12-01T17:18:23.715868Z",
     "start_time": "2023-12-01T17:18:23.652285Z"
    }
   },
   "outputs": [],
   "source": [
    "from sklearn.preprocessing import QuantileTransformer\n",
    "\n",
    "qt = QuantileTransformer(output_distribution='normal')\n",
    "X = qt.fit_transform(X)\n"
   ]
  },
  {
   "cell_type": "markdown",
   "source": [
    "### Feature Scaling"
   ],
   "metadata": {
    "collapsed": false
   },
   "id": "d264cc4297c45212"
  },
  {
   "cell_type": "code",
   "execution_count": 4,
   "outputs": [],
   "source": [
    "from sklearn.preprocessing import MinMaxScaler\n",
    "\n",
    "scaler = MinMaxScaler()\n",
    "X = scaler.fit_transform(X)\n"
   ],
   "metadata": {
    "collapsed": false,
    "ExecuteTime": {
     "end_time": "2023-12-01T17:18:23.719961Z",
     "start_time": "2023-12-01T17:18:23.716361Z"
    }
   },
   "id": "2f2e12ecd342b08c"
  },
  {
   "cell_type": "code",
   "execution_count": 5,
   "outputs": [],
   "source": [
    "df = pd.DataFrame(X)\n",
    "df = pd.concat([df, Delivery_truck_trip_data_df['ontime']], axis=1)\n"
   ],
   "metadata": {
    "collapsed": false,
    "ExecuteTime": {
     "end_time": "2023-12-01T17:18:23.723828Z",
     "start_time": "2023-12-01T17:18:23.721251Z"
    }
   },
   "id": "555d87e78d16bae5"
  },
  {
   "cell_type": "markdown",
   "source": [
    "### Splitting the dataset"
   ],
   "metadata": {
    "collapsed": false
   },
   "id": "52ffa9ded49760a2"
  },
  {
   "cell_type": "code",
   "execution_count": 6,
   "outputs": [],
   "source": [
    "# Separate the records based on the label\n",
    "normal_records = df[df['ontime'] == True]\n",
    "anomaly_records = df[df['ontime'] == False]\n",
    "\n",
    "X_normal_records = normal_records.drop(['ontime'], axis=1)\n",
    "y_normal_records = normal_records['ontime']\n",
    "\n",
    "from sklearn.model_selection import train_test_split\n",
    "\n",
    "X_train, X_test, y_train, y_test = train_test_split(X_normal_records, y_normal_records, test_size=0.2, random_state=42)\n",
    "\n",
    "train = pd.concat([X_train, y_train], axis=1)\n",
    "test = pd.concat([X_test, y_test], axis=1)\n"
   ],
   "metadata": {
    "collapsed": false,
    "ExecuteTime": {
     "end_time": "2023-12-01T17:18:23.793107Z",
     "start_time": "2023-12-01T17:18:23.725318Z"
    }
   },
   "id": "cc9790cf17cfa200"
  },
  {
   "cell_type": "code",
   "execution_count": 7,
   "outputs": [],
   "source": [
    "# Randomly sample an equal number of False records\n",
    "anomaly_records_sampled = anomaly_records.sample(n=len(test))\n",
    "\n",
    "# First DataFrame: Equal number of True and False records\n",
    "df_test = pd.concat([test, anomaly_records_sampled]).sample(frac=1).reset_index(drop=True)\n",
    "\n",
    "# Second DataFrame: Remaining False records\n",
    "df_remaining_normal = train.reset_index(drop=True)\n"
   ],
   "metadata": {
    "collapsed": false,
    "ExecuteTime": {
     "end_time": "2023-12-01T17:18:23.797481Z",
     "start_time": "2023-12-01T17:18:23.793645Z"
    }
   },
   "id": "71426f2960576ed5"
  },
  {
   "cell_type": "code",
   "execution_count": 8,
   "outputs": [],
   "source": [
    "X_anomaly = anomaly_records.drop(['ontime'], axis=1).to_numpy()\n",
    "X_test = df_test.drop(['ontime'], axis=1).to_numpy()\n",
    "y_test = df_test['ontime'].map({True: -1, False: 1}).to_numpy()\n",
    "X_normal = df_remaining_normal.drop(['ontime'], axis=1).to_numpy()\n",
    "y_normal = df_remaining_normal['ontime'].map({True: -1, False: 1}).to_numpy()\n"
   ],
   "metadata": {
    "collapsed": false,
    "ExecuteTime": {
     "end_time": "2023-12-01T17:18:23.801560Z",
     "start_time": "2023-12-01T17:18:23.798969Z"
    }
   },
   "id": "5340eff18ecdc13f"
  },
  {
   "cell_type": "markdown",
   "id": "a674c9635851dfa8",
   "metadata": {},
   "source": [
    "### Import Necessary Libraries:"
   ]
  },
  {
   "cell_type": "code",
   "execution_count": 9,
   "id": "37547022c5180827",
   "metadata": {
    "ExecuteTime": {
     "end_time": "2023-12-01T17:18:23.887876Z",
     "start_time": "2023-12-01T17:18:23.801885Z"
    }
   },
   "outputs": [],
   "source": [
    "import numpy as np\n",
    "from sklearn.svm import OneClassSVM\n",
    "from sklearn.preprocessing import StandardScaler\n",
    "from sklearn.metrics import classification_report, confusion_matrix\n"
   ]
  },
  {
   "cell_type": "markdown",
   "source": [
    "### Create and Train One-Class SVM Model"
   ],
   "metadata": {
    "collapsed": false
   },
   "id": "ab7f17dee6070cc6"
  },
  {
   "cell_type": "code",
   "execution_count": 10,
   "outputs": [
    {
     "data": {
      "text/plain": "OneClassSVM(gamma='auto', nu=0.05)",
      "text/html": "<style>#sk-container-id-1 {color: black;}#sk-container-id-1 pre{padding: 0;}#sk-container-id-1 div.sk-toggleable {background-color: white;}#sk-container-id-1 label.sk-toggleable__label {cursor: pointer;display: block;width: 100%;margin-bottom: 0;padding: 0.3em;box-sizing: border-box;text-align: center;}#sk-container-id-1 label.sk-toggleable__label-arrow:before {content: \"▸\";float: left;margin-right: 0.25em;color: #696969;}#sk-container-id-1 label.sk-toggleable__label-arrow:hover:before {color: black;}#sk-container-id-1 div.sk-estimator:hover label.sk-toggleable__label-arrow:before {color: black;}#sk-container-id-1 div.sk-toggleable__content {max-height: 0;max-width: 0;overflow: hidden;text-align: left;background-color: #f0f8ff;}#sk-container-id-1 div.sk-toggleable__content pre {margin: 0.2em;color: black;border-radius: 0.25em;background-color: #f0f8ff;}#sk-container-id-1 input.sk-toggleable__control:checked~div.sk-toggleable__content {max-height: 200px;max-width: 100%;overflow: auto;}#sk-container-id-1 input.sk-toggleable__control:checked~label.sk-toggleable__label-arrow:before {content: \"▾\";}#sk-container-id-1 div.sk-estimator input.sk-toggleable__control:checked~label.sk-toggleable__label {background-color: #d4ebff;}#sk-container-id-1 div.sk-label input.sk-toggleable__control:checked~label.sk-toggleable__label {background-color: #d4ebff;}#sk-container-id-1 input.sk-hidden--visually {border: 0;clip: rect(1px 1px 1px 1px);clip: rect(1px, 1px, 1px, 1px);height: 1px;margin: -1px;overflow: hidden;padding: 0;position: absolute;width: 1px;}#sk-container-id-1 div.sk-estimator {font-family: monospace;background-color: #f0f8ff;border: 1px dotted black;border-radius: 0.25em;box-sizing: border-box;margin-bottom: 0.5em;}#sk-container-id-1 div.sk-estimator:hover {background-color: #d4ebff;}#sk-container-id-1 div.sk-parallel-item::after {content: \"\";width: 100%;border-bottom: 1px solid gray;flex-grow: 1;}#sk-container-id-1 div.sk-label:hover label.sk-toggleable__label {background-color: #d4ebff;}#sk-container-id-1 div.sk-serial::before {content: \"\";position: absolute;border-left: 1px solid gray;box-sizing: border-box;top: 0;bottom: 0;left: 50%;z-index: 0;}#sk-container-id-1 div.sk-serial {display: flex;flex-direction: column;align-items: center;background-color: white;padding-right: 0.2em;padding-left: 0.2em;position: relative;}#sk-container-id-1 div.sk-item {position: relative;z-index: 1;}#sk-container-id-1 div.sk-parallel {display: flex;align-items: stretch;justify-content: center;background-color: white;position: relative;}#sk-container-id-1 div.sk-item::before, #sk-container-id-1 div.sk-parallel-item::before {content: \"\";position: absolute;border-left: 1px solid gray;box-sizing: border-box;top: 0;bottom: 0;left: 50%;z-index: -1;}#sk-container-id-1 div.sk-parallel-item {display: flex;flex-direction: column;z-index: 1;position: relative;background-color: white;}#sk-container-id-1 div.sk-parallel-item:first-child::after {align-self: flex-end;width: 50%;}#sk-container-id-1 div.sk-parallel-item:last-child::after {align-self: flex-start;width: 50%;}#sk-container-id-1 div.sk-parallel-item:only-child::after {width: 0;}#sk-container-id-1 div.sk-dashed-wrapped {border: 1px dashed gray;margin: 0 0.4em 0.5em 0.4em;box-sizing: border-box;padding-bottom: 0.4em;background-color: white;}#sk-container-id-1 div.sk-label label {font-family: monospace;font-weight: bold;display: inline-block;line-height: 1.2em;}#sk-container-id-1 div.sk-label-container {text-align: center;}#sk-container-id-1 div.sk-container {/* jupyter's `normalize.less` sets `[hidden] { display: none; }` but bootstrap.min.css set `[hidden] { display: none !important; }` so we also need the `!important` here to be able to override the default hidden behavior on the sphinx rendered scikit-learn.org. See: https://github.com/scikit-learn/scikit-learn/issues/21755 */display: inline-block !important;position: relative;}#sk-container-id-1 div.sk-text-repr-fallback {display: none;}</style><div id=\"sk-container-id-1\" class=\"sk-top-container\"><div class=\"sk-text-repr-fallback\"><pre>OneClassSVM(gamma=&#x27;auto&#x27;, nu=0.05)</pre><b>In a Jupyter environment, please rerun this cell to show the HTML representation or trust the notebook. <br />On GitHub, the HTML representation is unable to render, please try loading this page with nbviewer.org.</b></div><div class=\"sk-container\" hidden><div class=\"sk-item\"><div class=\"sk-estimator sk-toggleable\"><input class=\"sk-toggleable__control sk-hidden--visually\" id=\"sk-estimator-id-1\" type=\"checkbox\" checked><label for=\"sk-estimator-id-1\" class=\"sk-toggleable__label sk-toggleable__label-arrow\">OneClassSVM</label><div class=\"sk-toggleable__content\"><pre>OneClassSVM(gamma=&#x27;auto&#x27;, nu=0.05)</pre></div></div></div></div></div>"
     },
     "execution_count": 10,
     "metadata": {},
     "output_type": "execute_result"
    }
   ],
   "source": [
    "# Initialize One-Class SVM\n",
    "clf = OneClassSVM(gamma='auto', nu=0.05)  # nu is an approximation of outlier fraction\n",
    "\n",
    "# Fit the model\n",
    "clf.fit(X_normal)\n"
   ],
   "metadata": {
    "collapsed": false,
    "ExecuteTime": {
     "end_time": "2023-12-01T17:18:23.918026Z",
     "start_time": "2023-12-01T17:18:23.888301Z"
    }
   },
   "id": "1f0adb72f3c58530"
  },
  {
   "cell_type": "markdown",
   "source": [
    "### Predict Anomalies"
   ],
   "metadata": {
    "collapsed": false
   },
   "id": "5cf93257bcaaa485"
  },
  {
   "cell_type": "code",
   "execution_count": 11,
   "outputs": [],
   "source": [
    "# Predict using the trained model\n",
    "y_pred_train = clf.predict(X_normal)\n",
    "y_pred_test = clf.predict(X_test)  # Only if you have test data\n",
    "\n",
    "# Values of -1 indicate anomalies\n"
   ],
   "metadata": {
    "collapsed": false,
    "ExecuteTime": {
     "end_time": "2023-12-01T17:18:23.944741Z",
     "start_time": "2023-12-01T17:18:23.913171Z"
    }
   },
   "id": "c444e6e925b228a5"
  },
  {
   "cell_type": "markdown",
   "source": [
    "### Evaluate the Model"
   ],
   "metadata": {
    "collapsed": false
   },
   "id": "36e8b51a7a9db3c6"
  },
  {
   "cell_type": "code",
   "execution_count": 12,
   "outputs": [
    {
     "data": {
      "text/plain": "array([[ 40, 806],\n       [194, 652]])"
     },
     "execution_count": 12,
     "metadata": {},
     "output_type": "execute_result"
    }
   ],
   "source": [
    "confusion_matrix(y_test, y_pred_test)"
   ],
   "metadata": {
    "collapsed": false,
    "ExecuteTime": {
     "end_time": "2023-12-01T17:18:23.950283Z",
     "start_time": "2023-12-01T17:18:23.945087Z"
    }
   },
   "id": "cb3c76d950c9ca78"
  },
  {
   "cell_type": "code",
   "execution_count": 13,
   "outputs": [
    {
     "name": "stdout",
     "output_type": "stream",
     "text": [
      "              precision    recall  f1-score   support\n",
      "\n",
      "          -1       0.17      0.05      0.07       846\n",
      "           1       0.45      0.77      0.57       846\n",
      "\n",
      "    accuracy                           0.41      1692\n",
      "   macro avg       0.31      0.41      0.32      1692\n",
      "weighted avg       0.31      0.41      0.32      1692\n"
     ]
    }
   ],
   "source": [
    "print(classification_report(y_test, y_pred_test))"
   ],
   "metadata": {
    "collapsed": false,
    "ExecuteTime": {
     "end_time": "2023-12-01T17:18:23.955707Z",
     "start_time": "2023-12-01T17:18:23.949941Z"
    }
   },
   "id": "da639cf95bf8ce26"
  },
  {
   "cell_type": "code",
   "execution_count": 13,
   "outputs": [],
   "source": [],
   "metadata": {
    "collapsed": false,
    "ExecuteTime": {
     "end_time": "2023-12-01T17:18:23.959551Z",
     "start_time": "2023-12-01T17:18:23.957017Z"
    }
   },
   "id": "f425ca412495444e"
  }
 ],
 "metadata": {
  "kernelspec": {
   "display_name": "Python 3 (ipykernel)",
   "language": "python",
   "name": "python3"
  },
  "language_info": {
   "codemirror_mode": {
    "name": "ipython",
    "version": 3
   },
   "file_extension": ".py",
   "mimetype": "text/x-python",
   "name": "python",
   "nbconvert_exporter": "python",
   "pygments_lexer": "ipython3",
   "version": "3.11.4"
  }
 },
 "nbformat": 4,
 "nbformat_minor": 5
}
