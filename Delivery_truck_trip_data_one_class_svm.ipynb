{
 "cells": [
  {
   "cell_type": "markdown",
   "id": "8436795002ee83fa",
   "metadata": {},
   "source": [
    "### Loading the dataset"
   ]
  },
  {
   "cell_type": "code",
   "execution_count": 45,
   "id": "8f7d22eb00a5650e",
   "metadata": {
    "ExecuteTime": {
     "end_time": "2023-11-24T16:13:23.839758Z",
     "start_time": "2023-11-24T16:13:23.722812Z"
    }
   },
   "outputs": [],
   "source": [
    "import pandas as pd\n",
    "\n",
    "olist_orders_dataset_df = pd.read_csv('temp/olist_orders_dataset_df.csv')\n"
   ]
  },
  {
   "cell_type": "code",
   "execution_count": 46,
   "outputs": [],
   "source": [
    "X = olist_orders_dataset_df.drop(['anomaly'], axis=1)"
   ],
   "metadata": {
    "collapsed": false,
    "ExecuteTime": {
     "end_time": "2023-11-24T16:13:23.846265Z",
     "start_time": "2023-11-24T16:13:23.842118Z"
    }
   },
   "id": "32b291ef567b177e"
  },
  {
   "cell_type": "markdown",
   "source": [
    "### Normalizing"
   ],
   "metadata": {
    "collapsed": false
   },
   "id": "3831d4bd8de414cf"
  },
  {
   "cell_type": "code",
   "execution_count": 47,
   "id": "97a38e3cced99b1a",
   "metadata": {
    "ExecuteTime": {
     "end_time": "2023-11-24T16:13:24.173142Z",
     "start_time": "2023-11-24T16:13:23.844942Z"
    }
   },
   "outputs": [],
   "source": [
    "from sklearn.preprocessing import QuantileTransformer\n",
    "\n",
    "qt = QuantileTransformer(output_distribution='normal')\n",
    "X = qt.fit_transform(X)\n"
   ]
  },
  {
   "cell_type": "markdown",
   "source": [
    "### Feature Scaling"
   ],
   "metadata": {
    "collapsed": false
   },
   "id": "d264cc4297c45212"
  },
  {
   "cell_type": "code",
   "execution_count": 48,
   "outputs": [],
   "source": [
    "from sklearn.preprocessing import MinMaxScaler\n",
    "\n",
    "scaler = MinMaxScaler()\n",
    "X = scaler.fit_transform(X)\n"
   ],
   "metadata": {
    "collapsed": false,
    "ExecuteTime": {
     "end_time": "2023-11-24T16:13:24.177049Z",
     "start_time": "2023-11-24T16:13:24.173377Z"
    }
   },
   "id": "2f2e12ecd342b08c"
  },
  {
   "cell_type": "code",
   "execution_count": 49,
   "outputs": [],
   "source": [
    "df = pd.DataFrame(X)\n",
    "df = pd.concat([df, olist_orders_dataset_df['anomaly']], axis=1)\n"
   ],
   "metadata": {
    "collapsed": false,
    "ExecuteTime": {
     "end_time": "2023-11-24T16:13:24.181415Z",
     "start_time": "2023-11-24T16:13:24.178037Z"
    }
   },
   "id": "555d87e78d16bae5"
  },
  {
   "cell_type": "markdown",
   "source": [
    "### Splitting the dataset"
   ],
   "metadata": {
    "collapsed": false
   },
   "id": "52ffa9ded49760a2"
  },
  {
   "cell_type": "code",
   "execution_count": 50,
   "outputs": [],
   "source": [
    "# Separate the records based on the label\n",
    "normal_records = df[df['anomaly'] == False]\n",
    "anomaly_records = df[df['anomaly'] == True]\n",
    "\n",
    "# Randomly sample an equal number of False records\n",
    "normal_records_sampled = normal_records.sample(n=len(anomaly_records))\n",
    "\n",
    "# First DataFrame: Equal number of True and False records\n",
    "df_test = pd.concat([anomaly_records, normal_records_sampled]).sample(frac=1).reset_index(drop=True)\n",
    "\n",
    "# Second DataFrame: Remaining False records\n",
    "df_remaining_normal = normal_records.drop(normal_records_sampled.index).reset_index(drop=True)\n"
   ],
   "metadata": {
    "collapsed": false,
    "ExecuteTime": {
     "end_time": "2023-11-24T16:13:24.202964Z",
     "start_time": "2023-11-24T16:13:24.182407Z"
    }
   },
   "id": "71426f2960576ed5"
  },
  {
   "cell_type": "code",
   "execution_count": 51,
   "outputs": [],
   "source": [
    "X_anomaly = anomaly_records.drop(['anomaly'], axis=1).to_numpy()\n",
    "X_test = df_test.drop(['anomaly'], axis=1).to_numpy()\n",
    "y_test = df_test['anomaly'].map({True: -1, False: 1}).to_numpy()\n",
    "X_normal = df_remaining_normal.drop(['anomaly'], axis=1).to_numpy()\n",
    "y_normal = df_remaining_normal['anomaly'].map({True: -1, False: 1}).to_numpy()\n"
   ],
   "metadata": {
    "collapsed": false,
    "ExecuteTime": {
     "end_time": "2023-11-24T16:13:24.209818Z",
     "start_time": "2023-11-24T16:13:24.202173Z"
    }
   },
   "id": "5340eff18ecdc13f"
  },
  {
   "cell_type": "markdown",
   "id": "a674c9635851dfa8",
   "metadata": {},
   "source": [
    "### Import Necessary Libraries:"
   ]
  },
  {
   "cell_type": "code",
   "execution_count": 52,
   "id": "37547022c5180827",
   "metadata": {
    "ExecuteTime": {
     "end_time": "2023-11-24T16:13:24.213436Z",
     "start_time": "2023-11-24T16:13:24.210189Z"
    }
   },
   "outputs": [],
   "source": [
    "import numpy as np\n",
    "from sklearn.svm import OneClassSVM\n",
    "from sklearn.preprocessing import StandardScaler\n",
    "from sklearn.metrics import classification_report, confusion_matrix\n"
   ]
  },
  {
   "cell_type": "markdown",
   "source": [
    "### Create and Train One-Class SVM Model"
   ],
   "metadata": {
    "collapsed": false
   },
   "id": "ab7f17dee6070cc6"
  },
  {
   "cell_type": "code",
   "execution_count": 53,
   "outputs": [
    {
     "data": {
      "text/plain": "OneClassSVM(gamma='auto', kernel='linear', nu=0.05)",
      "text/html": "<style>#sk-container-id-4 {color: black;}#sk-container-id-4 pre{padding: 0;}#sk-container-id-4 div.sk-toggleable {background-color: white;}#sk-container-id-4 label.sk-toggleable__label {cursor: pointer;display: block;width: 100%;margin-bottom: 0;padding: 0.3em;box-sizing: border-box;text-align: center;}#sk-container-id-4 label.sk-toggleable__label-arrow:before {content: \"▸\";float: left;margin-right: 0.25em;color: #696969;}#sk-container-id-4 label.sk-toggleable__label-arrow:hover:before {color: black;}#sk-container-id-4 div.sk-estimator:hover label.sk-toggleable__label-arrow:before {color: black;}#sk-container-id-4 div.sk-toggleable__content {max-height: 0;max-width: 0;overflow: hidden;text-align: left;background-color: #f0f8ff;}#sk-container-id-4 div.sk-toggleable__content pre {margin: 0.2em;color: black;border-radius: 0.25em;background-color: #f0f8ff;}#sk-container-id-4 input.sk-toggleable__control:checked~div.sk-toggleable__content {max-height: 200px;max-width: 100%;overflow: auto;}#sk-container-id-4 input.sk-toggleable__control:checked~label.sk-toggleable__label-arrow:before {content: \"▾\";}#sk-container-id-4 div.sk-estimator input.sk-toggleable__control:checked~label.sk-toggleable__label {background-color: #d4ebff;}#sk-container-id-4 div.sk-label input.sk-toggleable__control:checked~label.sk-toggleable__label {background-color: #d4ebff;}#sk-container-id-4 input.sk-hidden--visually {border: 0;clip: rect(1px 1px 1px 1px);clip: rect(1px, 1px, 1px, 1px);height: 1px;margin: -1px;overflow: hidden;padding: 0;position: absolute;width: 1px;}#sk-container-id-4 div.sk-estimator {font-family: monospace;background-color: #f0f8ff;border: 1px dotted black;border-radius: 0.25em;box-sizing: border-box;margin-bottom: 0.5em;}#sk-container-id-4 div.sk-estimator:hover {background-color: #d4ebff;}#sk-container-id-4 div.sk-parallel-item::after {content: \"\";width: 100%;border-bottom: 1px solid gray;flex-grow: 1;}#sk-container-id-4 div.sk-label:hover label.sk-toggleable__label {background-color: #d4ebff;}#sk-container-id-4 div.sk-serial::before {content: \"\";position: absolute;border-left: 1px solid gray;box-sizing: border-box;top: 0;bottom: 0;left: 50%;z-index: 0;}#sk-container-id-4 div.sk-serial {display: flex;flex-direction: column;align-items: center;background-color: white;padding-right: 0.2em;padding-left: 0.2em;position: relative;}#sk-container-id-4 div.sk-item {position: relative;z-index: 1;}#sk-container-id-4 div.sk-parallel {display: flex;align-items: stretch;justify-content: center;background-color: white;position: relative;}#sk-container-id-4 div.sk-item::before, #sk-container-id-4 div.sk-parallel-item::before {content: \"\";position: absolute;border-left: 1px solid gray;box-sizing: border-box;top: 0;bottom: 0;left: 50%;z-index: -1;}#sk-container-id-4 div.sk-parallel-item {display: flex;flex-direction: column;z-index: 1;position: relative;background-color: white;}#sk-container-id-4 div.sk-parallel-item:first-child::after {align-self: flex-end;width: 50%;}#sk-container-id-4 div.sk-parallel-item:last-child::after {align-self: flex-start;width: 50%;}#sk-container-id-4 div.sk-parallel-item:only-child::after {width: 0;}#sk-container-id-4 div.sk-dashed-wrapped {border: 1px dashed gray;margin: 0 0.4em 0.5em 0.4em;box-sizing: border-box;padding-bottom: 0.4em;background-color: white;}#sk-container-id-4 div.sk-label label {font-family: monospace;font-weight: bold;display: inline-block;line-height: 1.2em;}#sk-container-id-4 div.sk-label-container {text-align: center;}#sk-container-id-4 div.sk-container {/* jupyter's `normalize.less` sets `[hidden] { display: none; }` but bootstrap.min.css set `[hidden] { display: none !important; }` so we also need the `!important` here to be able to override the default hidden behavior on the sphinx rendered scikit-learn.org. See: https://github.com/scikit-learn/scikit-learn/issues/21755 */display: inline-block !important;position: relative;}#sk-container-id-4 div.sk-text-repr-fallback {display: none;}</style><div id=\"sk-container-id-4\" class=\"sk-top-container\"><div class=\"sk-text-repr-fallback\"><pre>OneClassSVM(gamma=&#x27;auto&#x27;, kernel=&#x27;linear&#x27;, nu=0.05)</pre><b>In a Jupyter environment, please rerun this cell to show the HTML representation or trust the notebook. <br />On GitHub, the HTML representation is unable to render, please try loading this page with nbviewer.org.</b></div><div class=\"sk-container\" hidden><div class=\"sk-item\"><div class=\"sk-estimator sk-toggleable\"><input class=\"sk-toggleable__control sk-hidden--visually\" id=\"sk-estimator-id-4\" type=\"checkbox\" checked><label for=\"sk-estimator-id-4\" class=\"sk-toggleable__label sk-toggleable__label-arrow\">OneClassSVM</label><div class=\"sk-toggleable__content\"><pre>OneClassSVM(gamma=&#x27;auto&#x27;, kernel=&#x27;linear&#x27;, nu=0.05)</pre></div></div></div></div></div>"
     },
     "execution_count": 53,
     "metadata": {},
     "output_type": "execute_result"
    }
   ],
   "source": [
    "# Initialize One-Class SVM\n",
    "clf = OneClassSVM(gamma='auto', nu=0.05)  # nu is an approximation of outlier fraction\n",
    "\n",
    "# Fit the model\n",
    "clf.fit(X_normal)\n"
   ],
   "metadata": {
    "collapsed": false,
    "ExecuteTime": {
     "end_time": "2023-11-24T16:13:58.574613Z",
     "start_time": "2023-11-24T16:13:24.212189Z"
    }
   },
   "id": "1f0adb72f3c58530"
  },
  {
   "cell_type": "markdown",
   "source": [
    "### Predict Anomalies"
   ],
   "metadata": {
    "collapsed": false
   },
   "id": "5cf93257bcaaa485"
  },
  {
   "cell_type": "code",
   "execution_count": 54,
   "outputs": [],
   "source": [
    "# Predict using the trained model\n",
    "y_pred_train = clf.predict(X_normal)\n",
    "y_pred_test = clf.predict(X_test)  # Only if you have test data\n",
    "\n",
    "# Values of -1 indicate anomalies\n"
   ],
   "metadata": {
    "collapsed": false,
    "ExecuteTime": {
     "end_time": "2023-11-24T16:14:03.114102Z",
     "start_time": "2023-11-24T16:13:58.574353Z"
    }
   },
   "id": "c444e6e925b228a5"
  },
  {
   "cell_type": "markdown",
   "source": [
    "### Evaluate the Model"
   ],
   "metadata": {
    "collapsed": false
   },
   "id": "36e8b51a7a9db3c6"
  },
  {
   "cell_type": "code",
   "execution_count": 55,
   "outputs": [
    {
     "data": {
      "text/plain": "array([[ 145, 5359],\n       [ 255, 5249]])"
     },
     "execution_count": 55,
     "metadata": {},
     "output_type": "execute_result"
    }
   ],
   "source": [
    "confusion_matrix(y_test, y_pred_test)"
   ],
   "metadata": {
    "collapsed": false,
    "ExecuteTime": {
     "end_time": "2023-11-24T16:14:03.127290Z",
     "start_time": "2023-11-24T16:14:03.114511Z"
    }
   },
   "id": "cb3c76d950c9ca78"
  },
  {
   "cell_type": "code",
   "execution_count": 56,
   "outputs": [
    {
     "name": "stdout",
     "output_type": "stream",
     "text": [
      "              precision    recall  f1-score   support\n",
      "\n",
      "          -1       0.36      0.03      0.05      5504\n",
      "           1       0.49      0.95      0.65      5504\n",
      "\n",
      "    accuracy                           0.49     11008\n",
      "   macro avg       0.43      0.49      0.35     11008\n",
      "weighted avg       0.43      0.49      0.35     11008\n"
     ]
    }
   ],
   "source": [
    "print(classification_report(y_test, y_pred_test))"
   ],
   "metadata": {
    "collapsed": false,
    "ExecuteTime": {
     "end_time": "2023-11-24T16:14:03.139063Z",
     "start_time": "2023-11-24T16:14:03.125264Z"
    }
   },
   "id": "da639cf95bf8ce26"
  },
  {
   "cell_type": "code",
   "execution_count": null,
   "outputs": [],
   "source": [],
   "metadata": {
    "collapsed": false
   },
   "id": "f425ca412495444e"
  }
 ],
 "metadata": {
  "kernelspec": {
   "display_name": "Python 3 (ipykernel)",
   "language": "python",
   "name": "python3"
  },
  "language_info": {
   "codemirror_mode": {
    "name": "ipython",
    "version": 3
   },
   "file_extension": ".py",
   "mimetype": "text/x-python",
   "name": "python",
   "nbconvert_exporter": "python",
   "pygments_lexer": "ipython3",
   "version": "3.11.4"
  }
 },
 "nbformat": 4,
 "nbformat_minor": 5
}
