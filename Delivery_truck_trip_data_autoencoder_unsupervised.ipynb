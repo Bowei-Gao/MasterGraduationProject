{
 "cells": [
  {
   "attachments": {},
   "cell_type": "markdown",
   "id": "af5a0dc7f918e71f",
   "metadata": {
    "collapsed": false
   },
   "source": [
    "# Unsupervised methods"
   ]
  },
  {
   "attachments": {},
   "cell_type": "markdown",
   "id": "8e784feee5c55a48",
   "metadata": {
    "collapsed": false
   },
   "source": [
    "### Preprocess the dataset for clustering algorithms."
   ]
  },
  {
   "attachments": {},
   "cell_type": "markdown",
   "id": "8bcdf26c36984353",
   "metadata": {
    "collapsed": false
   },
   "source": [
    "Using only selected features\n",
    "Transform the features to follow a normal distribution"
   ]
  },
  {
   "cell_type": "code",
   "execution_count": 30,
   "outputs": [],
   "source": [
    "import pandas as pd\n",
    "\n",
    "df = pd.read_csv('temp/Delivery_truck_trip_data_autoencoder_df.csv')"
   ],
   "metadata": {
    "collapsed": false,
    "ExecuteTime": {
     "end_time": "2024-01-17T15:20:49.192142Z",
     "start_time": "2024-01-17T15:20:49.174864Z"
    }
   },
   "id": "c1cae7363e9ba2ff"
  },
  {
   "cell_type": "code",
   "outputs": [
    {
     "data": {
      "text/plain": "              0         1         2         3         4          5         6  \\\n0      4.242112  6.055117 -7.229635  6.722969  3.215586   3.858056  8.700005   \n1      6.095488  5.188234 -6.305722  6.581042  4.630825   6.130266  9.423025   \n2      6.935525  4.566381 -4.985010  6.355727  4.299935   6.072875  8.153637   \n3      5.649733  4.759387 -6.071095  6.298431  4.494707   6.061109  8.859001   \n4      7.245540  4.781192 -5.112748  6.469389  4.617208   6.404200  8.737391   \n...         ...       ...       ...       ...       ...        ...       ...   \n6745  10.728738 -2.319929 -0.743376  3.859264  3.352507   9.438726  3.890461   \n6746  11.456009 -2.402582 -1.382704  4.409796  5.043327  12.277168  5.505507   \n6747  10.900598 -2.431388 -1.037261  4.089053  3.622216  10.168739  4.212902   \n6748  10.746168 -2.598520 -0.967145  3.958878  3.244388   9.732800  3.812914   \n6749  11.156773 -2.515600 -1.089255  4.170918  3.486708  10.233561  4.167634   \n\n      anomaly  \n0       False  \n1        True  \n2        True  \n3        True  \n4        True  \n...       ...  \n6745     True  \n6746     True  \n6747     True  \n6748    False  \n6749     True  \n\n[6750 rows x 8 columns]",
      "text/html": "<div>\n<style scoped>\n    .dataframe tbody tr th:only-of-type {\n        vertical-align: middle;\n    }\n\n    .dataframe tbody tr th {\n        vertical-align: top;\n    }\n\n    .dataframe thead th {\n        text-align: right;\n    }\n</style>\n<table border=\"1\" class=\"dataframe\">\n  <thead>\n    <tr style=\"text-align: right;\">\n      <th></th>\n      <th>0</th>\n      <th>1</th>\n      <th>2</th>\n      <th>3</th>\n      <th>4</th>\n      <th>5</th>\n      <th>6</th>\n      <th>anomaly</th>\n    </tr>\n  </thead>\n  <tbody>\n    <tr>\n      <th>0</th>\n      <td>4.242112</td>\n      <td>6.055117</td>\n      <td>-7.229635</td>\n      <td>6.722969</td>\n      <td>3.215586</td>\n      <td>3.858056</td>\n      <td>8.700005</td>\n      <td>False</td>\n    </tr>\n    <tr>\n      <th>1</th>\n      <td>6.095488</td>\n      <td>5.188234</td>\n      <td>-6.305722</td>\n      <td>6.581042</td>\n      <td>4.630825</td>\n      <td>6.130266</td>\n      <td>9.423025</td>\n      <td>True</td>\n    </tr>\n    <tr>\n      <th>2</th>\n      <td>6.935525</td>\n      <td>4.566381</td>\n      <td>-4.985010</td>\n      <td>6.355727</td>\n      <td>4.299935</td>\n      <td>6.072875</td>\n      <td>8.153637</td>\n      <td>True</td>\n    </tr>\n    <tr>\n      <th>3</th>\n      <td>5.649733</td>\n      <td>4.759387</td>\n      <td>-6.071095</td>\n      <td>6.298431</td>\n      <td>4.494707</td>\n      <td>6.061109</td>\n      <td>8.859001</td>\n      <td>True</td>\n    </tr>\n    <tr>\n      <th>4</th>\n      <td>7.245540</td>\n      <td>4.781192</td>\n      <td>-5.112748</td>\n      <td>6.469389</td>\n      <td>4.617208</td>\n      <td>6.404200</td>\n      <td>8.737391</td>\n      <td>True</td>\n    </tr>\n    <tr>\n      <th>...</th>\n      <td>...</td>\n      <td>...</td>\n      <td>...</td>\n      <td>...</td>\n      <td>...</td>\n      <td>...</td>\n      <td>...</td>\n      <td>...</td>\n    </tr>\n    <tr>\n      <th>6745</th>\n      <td>10.728738</td>\n      <td>-2.319929</td>\n      <td>-0.743376</td>\n      <td>3.859264</td>\n      <td>3.352507</td>\n      <td>9.438726</td>\n      <td>3.890461</td>\n      <td>True</td>\n    </tr>\n    <tr>\n      <th>6746</th>\n      <td>11.456009</td>\n      <td>-2.402582</td>\n      <td>-1.382704</td>\n      <td>4.409796</td>\n      <td>5.043327</td>\n      <td>12.277168</td>\n      <td>5.505507</td>\n      <td>True</td>\n    </tr>\n    <tr>\n      <th>6747</th>\n      <td>10.900598</td>\n      <td>-2.431388</td>\n      <td>-1.037261</td>\n      <td>4.089053</td>\n      <td>3.622216</td>\n      <td>10.168739</td>\n      <td>4.212902</td>\n      <td>True</td>\n    </tr>\n    <tr>\n      <th>6748</th>\n      <td>10.746168</td>\n      <td>-2.598520</td>\n      <td>-0.967145</td>\n      <td>3.958878</td>\n      <td>3.244388</td>\n      <td>9.732800</td>\n      <td>3.812914</td>\n      <td>False</td>\n    </tr>\n    <tr>\n      <th>6749</th>\n      <td>11.156773</td>\n      <td>-2.515600</td>\n      <td>-1.089255</td>\n      <td>4.170918</td>\n      <td>3.486708</td>\n      <td>10.233561</td>\n      <td>4.167634</td>\n      <td>True</td>\n    </tr>\n  </tbody>\n</table>\n<p>6750 rows × 8 columns</p>\n</div>"
     },
     "execution_count": 31,
     "metadata": {},
     "output_type": "execute_result"
    }
   ],
   "source": [
    "df"
   ],
   "metadata": {
    "collapsed": false,
    "ExecuteTime": {
     "end_time": "2024-01-17T15:20:49.829751Z",
     "start_time": "2024-01-17T15:20:49.826868Z"
    }
   },
   "id": "2d70e4527441153b",
   "execution_count": 31
  },
  {
   "cell_type": "code",
   "execution_count": 2,
   "id": "74e41e6b4165ce57",
   "metadata": {
    "collapsed": false,
    "ExecuteTime": {
     "end_time": "2024-01-15T16:29:53.779042Z",
     "start_time": "2024-01-15T16:29:53.713234Z"
    }
   },
   "outputs": [],
   "source": [
    "df.reset_index(drop=True, inplace=True)\n",
    "X = df.drop(['anomaly'], axis=1)\n",
    "y = df['anomaly']\n",
    "\n",
    "from sklearn.preprocessing import QuantileTransformer\n",
    "\n",
    "qt = QuantileTransformer(output_distribution='normal')\n",
    "X = qt.fit_transform(X)"
   ]
  },
  {
   "cell_type": "code",
   "outputs": [
    {
     "data": {
      "text/plain": "              0         1         2         3         4          5         6  \\\n0      4.242112  6.055117 -7.229635  6.722969  3.215586   3.858056  8.700005   \n1      6.095488  5.188234 -6.305722  6.581042  4.630825   6.130266  9.423025   \n2      6.935525  4.566381 -4.985010  6.355727  4.299935   6.072875  8.153637   \n3      5.649733  4.759387 -6.071095  6.298431  4.494707   6.061109  8.859001   \n4      7.245540  4.781192 -5.112748  6.469389  4.617208   6.404200  8.737391   \n...         ...       ...       ...       ...       ...        ...       ...   \n6745  10.728738 -2.319929 -0.743376  3.859264  3.352507   9.438726  3.890461   \n6746  11.456009 -2.402582 -1.382704  4.409796  5.043327  12.277168  5.505507   \n6747  10.900598 -2.431388 -1.037261  4.089053  3.622216  10.168739  4.212902   \n6748  10.746168 -2.598520 -0.967145  3.958878  3.244388   9.732800  3.812914   \n6749  11.156773 -2.515600 -1.089255  4.170918  3.486708  10.233561  4.167634   \n\n      anomaly  \n0       False  \n1        True  \n2        True  \n3        True  \n4        True  \n...       ...  \n6745     True  \n6746     True  \n6747     True  \n6748    False  \n6749     True  \n\n[6750 rows x 8 columns]",
      "text/html": "<div>\n<style scoped>\n    .dataframe tbody tr th:only-of-type {\n        vertical-align: middle;\n    }\n\n    .dataframe tbody tr th {\n        vertical-align: top;\n    }\n\n    .dataframe thead th {\n        text-align: right;\n    }\n</style>\n<table border=\"1\" class=\"dataframe\">\n  <thead>\n    <tr style=\"text-align: right;\">\n      <th></th>\n      <th>0</th>\n      <th>1</th>\n      <th>2</th>\n      <th>3</th>\n      <th>4</th>\n      <th>5</th>\n      <th>6</th>\n      <th>anomaly</th>\n    </tr>\n  </thead>\n  <tbody>\n    <tr>\n      <th>0</th>\n      <td>4.242112</td>\n      <td>6.055117</td>\n      <td>-7.229635</td>\n      <td>6.722969</td>\n      <td>3.215586</td>\n      <td>3.858056</td>\n      <td>8.700005</td>\n      <td>False</td>\n    </tr>\n    <tr>\n      <th>1</th>\n      <td>6.095488</td>\n      <td>5.188234</td>\n      <td>-6.305722</td>\n      <td>6.581042</td>\n      <td>4.630825</td>\n      <td>6.130266</td>\n      <td>9.423025</td>\n      <td>True</td>\n    </tr>\n    <tr>\n      <th>2</th>\n      <td>6.935525</td>\n      <td>4.566381</td>\n      <td>-4.985010</td>\n      <td>6.355727</td>\n      <td>4.299935</td>\n      <td>6.072875</td>\n      <td>8.153637</td>\n      <td>True</td>\n    </tr>\n    <tr>\n      <th>3</th>\n      <td>5.649733</td>\n      <td>4.759387</td>\n      <td>-6.071095</td>\n      <td>6.298431</td>\n      <td>4.494707</td>\n      <td>6.061109</td>\n      <td>8.859001</td>\n      <td>True</td>\n    </tr>\n    <tr>\n      <th>4</th>\n      <td>7.245540</td>\n      <td>4.781192</td>\n      <td>-5.112748</td>\n      <td>6.469389</td>\n      <td>4.617208</td>\n      <td>6.404200</td>\n      <td>8.737391</td>\n      <td>True</td>\n    </tr>\n    <tr>\n      <th>...</th>\n      <td>...</td>\n      <td>...</td>\n      <td>...</td>\n      <td>...</td>\n      <td>...</td>\n      <td>...</td>\n      <td>...</td>\n      <td>...</td>\n    </tr>\n    <tr>\n      <th>6745</th>\n      <td>10.728738</td>\n      <td>-2.319929</td>\n      <td>-0.743376</td>\n      <td>3.859264</td>\n      <td>3.352507</td>\n      <td>9.438726</td>\n      <td>3.890461</td>\n      <td>True</td>\n    </tr>\n    <tr>\n      <th>6746</th>\n      <td>11.456009</td>\n      <td>-2.402582</td>\n      <td>-1.382704</td>\n      <td>4.409796</td>\n      <td>5.043327</td>\n      <td>12.277168</td>\n      <td>5.505507</td>\n      <td>True</td>\n    </tr>\n    <tr>\n      <th>6747</th>\n      <td>10.900598</td>\n      <td>-2.431388</td>\n      <td>-1.037261</td>\n      <td>4.089053</td>\n      <td>3.622216</td>\n      <td>10.168739</td>\n      <td>4.212902</td>\n      <td>True</td>\n    </tr>\n    <tr>\n      <th>6748</th>\n      <td>10.746168</td>\n      <td>-2.598520</td>\n      <td>-0.967145</td>\n      <td>3.958878</td>\n      <td>3.244388</td>\n      <td>9.732800</td>\n      <td>3.812914</td>\n      <td>False</td>\n    </tr>\n    <tr>\n      <th>6749</th>\n      <td>11.156773</td>\n      <td>-2.515600</td>\n      <td>-1.089255</td>\n      <td>4.170918</td>\n      <td>3.486708</td>\n      <td>10.233561</td>\n      <td>4.167634</td>\n      <td>True</td>\n    </tr>\n  </tbody>\n</table>\n<p>6750 rows × 8 columns</p>\n</div>"
     },
     "execution_count": 28,
     "metadata": {},
     "output_type": "execute_result"
    }
   ],
   "source": [
    "df"
   ],
   "metadata": {
    "collapsed": false,
    "ExecuteTime": {
     "end_time": "2024-01-17T15:19:59.136840Z",
     "start_time": "2024-01-17T15:19:59.113300Z"
    }
   },
   "id": "325318c891bc71f3",
   "execution_count": 28
  },
  {
   "cell_type": "markdown",
   "source": [
    "### Create a Table of performance"
   ],
   "metadata": {
    "collapsed": false
   },
   "id": "63fb2d31094e8280"
  },
  {
   "cell_type": "code",
   "execution_count": 3,
   "outputs": [],
   "source": [
    "from sklearn.metrics import confusion_matrix, accuracy_score, precision_score, recall_score, rand_score, adjusted_mutual_info_score, homogeneity_score, completeness_score, v_measure_score\n",
    "\n",
    "table_of_performance = pd.DataFrame(columns=['algorithm', 'confusion matrix', 'accuracy', 'precision', 'recall', 'rand index', 'mutual information based score', 'homogeneity', 'completeness', 'v-measure'])\n",
    "\n",
    "def add_performance(algorithm, y, y_predict):\n",
    "    global table_of_performance\n",
    "\n",
    "    cm = confusion_matrix(y, y_predict)\n",
    "    accuracy = accuracy_score(y, y_predict)\n",
    "    precision = precision_score(y, y_predict)\n",
    "    recall = recall_score(y, y_predict)\n",
    "    rand_index = rand_score(y, y_predict)\n",
    "    mutual_info_score = adjusted_mutual_info_score(y, y_predict)\n",
    "    homogeneity = homogeneity_score(y, y_predict)\n",
    "    completeness = completeness_score(y, y_predict)\n",
    "    v_measure = v_measure_score(y, y_predict)\n",
    "    \n",
    "    new_row = {'algorithm': algorithm, 'confusion matrix': cm, 'accuracy': accuracy, 'precision': precision, 'recall': recall, 'rand index': rand_index, 'mutual information based score': mutual_info_score, 'homogeneity': homogeneity, 'completeness': completeness, 'v-measure': v_measure}\n",
    "\n",
    "    table_of_performance.loc[len(table_of_performance)] = new_row"
   ],
   "metadata": {
    "collapsed": false,
    "ExecuteTime": {
     "end_time": "2024-01-15T16:29:53.848274Z",
     "start_time": "2024-01-15T16:29:53.781642Z"
    }
   },
   "id": "eee683563644aa0b"
  },
  {
   "attachments": {},
   "cell_type": "markdown",
   "id": "17d4d1078afe257c",
   "metadata": {
    "collapsed": false
   },
   "source": [
    "### Visualization of clustering after PCA"
   ]
  },
  {
   "cell_type": "code",
   "execution_count": 4,
   "id": "edee8b4a73ab3b1",
   "metadata": {
    "collapsed": false,
    "ExecuteTime": {
     "end_time": "2024-01-15T16:29:54.374965Z",
     "start_time": "2024-01-15T16:29:53.849153Z"
    }
   },
   "outputs": [
    {
     "data": {
      "text/plain": "<Axes: xlabel='x', ylabel='y'>"
     },
     "execution_count": 4,
     "metadata": {},
     "output_type": "execute_result"
    },
    {
     "data": {
      "text/plain": "<Figure size 640x480 with 1 Axes>",
      "image/png": "[encoded data removed]"
     },
     "metadata": {},
     "output_type": "display_data"
    }
   ],
   "source": [
    "from sklearn.decomposition import  PCA\n",
    "import numpy as np\n",
    "\n",
    "pca = PCA(n_components=2)\n",
    "pct = pca.fit_transform(X)\n",
    "\n",
    "pct = np.delete(pct, 6745, 0)\n",
    "y_new = np.delete(y.to_numpy(), 6745, 0)\n",
    "\n",
    "y_new = ['yellow' if elem else 'blue' for elem in y_new]\n",
    "\n",
    "data = pd.concat([pd.DataFrame(pct), pd.DataFrame(y_new)], axis=1)\n",
    "\n",
    "data.columns = ['x', 'y', 'label']\n",
    "import seaborn as sns\n",
    "\n",
    "sns.scatterplot(data=data, x=\"x\", y=\"y\", hue=\"label\")"
   ]
  },
  {
   "attachments": {},
   "cell_type": "markdown",
   "id": "80e818adc66807c3",
   "metadata": {
    "collapsed": false
   },
   "source": [
    "### KMeans"
   ]
  },
  {
   "cell_type": "code",
   "execution_count": 5,
   "id": "d7f1d68f4f0f85b4",
   "metadata": {
    "collapsed": false,
    "ExecuteTime": {
     "end_time": "2024-01-15T16:29:54.436153Z",
     "start_time": "2024-01-15T16:29:54.375458Z"
    }
   },
   "outputs": [
    {
     "data": {
      "text/plain": "'\\nfrom yellowbrick.cluster import KElbowVisualizer\\n\\n# Instantiate the clustering model and visualizer\\nmodel = KMeans()\\nvisualizer = KElbowVisualizer(model, k=(2, 12))\\n\\nvisualizer.fit(X)        # Fit the data to the visualizer\\nvisualizer.show()\\n'"
     },
     "execution_count": 5,
     "metadata": {},
     "output_type": "execute_result"
    }
   ],
   "source": [
    "from sklearn.cluster import KMeans\n",
    "'''\n",
    "from yellowbrick.cluster import KElbowVisualizer\n",
    "\n",
    "# Instantiate the clustering model and visualizer\n",
    "model = KMeans()\n",
    "visualizer = KElbowVisualizer(model, k=(2, 12))\n",
    "\n",
    "visualizer.fit(X)        # Fit the data to the visualizer\n",
    "visualizer.show()\n",
    "'''"
   ]
  },
  {
   "attachments": {},
   "cell_type": "markdown",
   "id": "3594cd2301214a97",
   "metadata": {
    "collapsed": false
   },
   "source": [
    "The optimal number of clusters is 5."
   ]
  },
  {
   "cell_type": "code",
   "execution_count": 6,
   "id": "dd14a2255b10ff8a",
   "metadata": {
    "collapsed": false,
    "ExecuteTime": {
     "end_time": "2024-01-15T16:29:54.819514Z",
     "start_time": "2024-01-15T16:29:54.422156Z"
    }
   },
   "outputs": [
    {
     "data": {
      "text/plain": "cluster  anomaly\n1.0      False      2366\n0.0      True       2114\n         False      1864\n1.0      True        406\nName: count, dtype: int64"
     },
     "execution_count": 6,
     "metadata": {},
     "output_type": "execute_result"
    }
   ],
   "source": [
    "k_means = KMeans(init=\"k-means++\", n_clusters=2, n_init=10, random_state=103)\n",
    "k_means.fit(X)\n",
    "\n",
    "from sklearn.metrics.pairwise import pairwise_distances_argmin\n",
    "\n",
    "k_means_cluster_centers = k_means.cluster_centers_\n",
    "\n",
    "k_means_labels = pairwise_distances_argmin(X, k_means_cluster_centers)\n",
    "\n",
    "from sklearn.metrics.pairwise import pairwise_distances_argmin_min\n",
    "\n",
    "k_means_distances_df = pd.DataFrame(pairwise_distances_argmin_min(X, k_means_cluster_centers)).T\n",
    "k_means_distances_df.columns = ['cluster', 'distance']\n",
    "k_means_distances_df = pd.concat([k_means_distances_df, y], axis=1)\n",
    "k_means_distances_df.value_counts(['cluster', 'anomaly'])\n"
   ]
  },
  {
   "cell_type": "code",
   "execution_count": 7,
   "outputs": [],
   "source": [
    "y_predict = k_means_distances_df['cluster'].map({1: False, 0: True})\n",
    "add_performance('KMeans', y, y_predict)\n"
   ],
   "metadata": {
    "collapsed": false,
    "ExecuteTime": {
     "end_time": "2024-01-15T16:30:16.394485Z",
     "start_time": "2024-01-15T16:30:16.374644Z"
    }
   },
   "id": "ce06b6fe3f773c62"
  },
  {
   "attachments": {},
   "cell_type": "markdown",
   "id": "41abb8b3203bd9e9",
   "metadata": {
    "collapsed": false
   },
   "source": [
    "### Affinity Propagation"
   ]
  },
  {
   "cell_type": "code",
   "execution_count": 8,
   "id": "1a13d08e89c67ec0",
   "metadata": {
    "collapsed": false,
    "ExecuteTime": {
     "end_time": "2024-01-15T16:30:22.810655Z",
     "start_time": "2024-01-15T16:30:22.803682Z"
    }
   },
   "outputs": [
    {
     "data": {
      "text/plain": "'\\nfrom scipy.spatial.distance import pdist\\n\\nmax(pdist(X))\\n'"
     },
     "execution_count": 8,
     "metadata": {},
     "output_type": "execute_result"
    }
   ],
   "source": [
    "'''\n",
    "from scipy.spatial.distance import pdist\n",
    "\n",
    "max(pdist(X))\n",
    "'''"
   ]
  },
  {
   "cell_type": "code",
   "execution_count": 9,
   "id": "83aeebf4fae5f190",
   "metadata": {
    "collapsed": false,
    "ExecuteTime": {
     "end_time": "2024-01-15T16:30:23.384319Z",
     "start_time": "2024-01-15T16:30:23.379996Z"
    }
   },
   "outputs": [
    {
     "data": {
      "text/plain": "'\\nfrom sklearn.cluster import AffinityPropagation\\n\\npca = PCA(n_components=3)\\npct = pca.fit_transform(X)\\naf = AffinityPropagation(random_state=0).fit(pct)\\ncluster_centers_indices = af.cluster_centers_indices_\\nlabels = af.labels_\\nlen(cluster_centers_indices)\\n'"
     },
     "execution_count": 9,
     "metadata": {},
     "output_type": "execute_result"
    }
   ],
   "source": [
    "'''\n",
    "from sklearn.cluster import AffinityPropagation\n",
    "\n",
    "pca = PCA(n_components=3)\n",
    "pct = pca.fit_transform(X)\n",
    "af = AffinityPropagation(random_state=0).fit(pct)\n",
    "cluster_centers_indices = af.cluster_centers_indices_\n",
    "labels = af.labels_\n",
    "len(cluster_centers_indices)\n",
    "'''"
   ]
  },
  {
   "attachments": {},
   "cell_type": "markdown",
   "id": "eb41338438d30383",
   "metadata": {
    "collapsed": false
   },
   "source": [
    "Can't specify the number of clusters"
   ]
  },
  {
   "attachments": {},
   "cell_type": "markdown",
   "id": "b43c049fab84bd57",
   "metadata": {
    "collapsed": false
   },
   "source": [
    "### Mean Shift"
   ]
  },
  {
   "cell_type": "code",
   "execution_count": 10,
   "id": "cf0608e36578f96a",
   "metadata": {
    "collapsed": false,
    "ExecuteTime": {
     "end_time": "2024-01-15T16:30:25.656984Z",
     "start_time": "2024-01-15T16:30:25.652588Z"
    }
   },
   "outputs": [
    {
     "data": {
      "text/plain": "'\\nfrom sklearn.cluster import MeanShift, estimate_bandwidth\\n\\nbandwidth = estimate_bandwidth(X, quantile=0.3)\\n\\nms = MeanShift(bandwidth=bandwidth, bin_seeding=True)\\nms.fit(X)\\nlabels = ms.labels_\\ncluster_centers = ms.cluster_centers_\\n'"
     },
     "execution_count": 10,
     "metadata": {},
     "output_type": "execute_result"
    }
   ],
   "source": [
    "'''\n",
    "from sklearn.cluster import MeanShift, estimate_bandwidth\n",
    "\n",
    "bandwidth = estimate_bandwidth(X, quantile=0.3)\n",
    "\n",
    "ms = MeanShift(bandwidth=bandwidth, bin_seeding=True)\n",
    "ms.fit(X)\n",
    "labels = ms.labels_\n",
    "cluster_centers = ms.cluster_centers_\n",
    "'''"
   ]
  },
  {
   "cell_type": "code",
   "execution_count": 11,
   "id": "a75b6996f5deac65",
   "metadata": {
    "collapsed": false,
    "ExecuteTime": {
     "end_time": "2024-01-15T16:30:27.308234Z",
     "start_time": "2024-01-15T16:30:27.289031Z"
    }
   },
   "outputs": [
    {
     "data": {
      "text/plain": "\"\\nmean_shift_distances_df = pd.DataFrame(pairwise_distances_argmin_min(X, cluster_centers)).T\\nmean_shift_distances_df.columns = ['cluster', 'distance']\\nmean_shift_distances_df = pd.concat([mean_shift_distances_df, y], axis=1)\\nprint(mean_shift_distances_df.groupby(['cluster', 'ontime']).mean())\\nprint(mean_shift_distances_df.groupby(['cluster', 'ontime']).count())\\n\""
     },
     "execution_count": 11,
     "metadata": {},
     "output_type": "execute_result"
    }
   ],
   "source": [
    "'''\n",
    "mean_shift_distances_df = pd.DataFrame(pairwise_distances_argmin_min(X, cluster_centers)).T\n",
    "mean_shift_distances_df.columns = ['cluster', 'distance']\n",
    "mean_shift_distances_df = pd.concat([mean_shift_distances_df, y], axis=1)\n",
    "print(mean_shift_distances_df.groupby(['cluster', 'ontime']).mean())\n",
    "print(mean_shift_distances_df.groupby(['cluster', 'ontime']).count())\n",
    "'''"
   ]
  },
  {
   "attachments": {},
   "cell_type": "markdown",
   "id": "1219b392e88534e4",
   "metadata": {
    "collapsed": false
   },
   "source": [
    "In cluster 1 and 3, most are on time. In cluster 2, most are not on time. In clusters 0, almost half of the points are anomalies."
   ]
  },
  {
   "attachments": {},
   "cell_type": "markdown",
   "id": "3d6d33a4f73efe76",
   "metadata": {
    "collapsed": false
   },
   "source": [
    "In cluster 2, almost half are anomalies. In cluster 0 and 3, most are not anomalies. In cluster 1 most are anomalies."
   ]
  },
  {
   "attachments": {},
   "cell_type": "markdown",
   "id": "7c4cd533e01dc21c",
   "metadata": {
    "collapsed": false
   },
   "source": [
    "### Hierarchical clustering"
   ]
  },
  {
   "cell_type": "code",
   "execution_count": 12,
   "id": "56450ecfc98e3128",
   "metadata": {
    "collapsed": false,
    "ExecuteTime": {
     "end_time": "2024-01-15T16:30:39.110513Z",
     "start_time": "2024-01-15T16:30:38.731436Z"
    }
   },
   "outputs": [],
   "source": [
    "from sklearn.cluster import AgglomerativeClustering\n",
    "\n",
    "hierarchical_clustering = AgglomerativeClustering(n_clusters=2).fit(X)"
   ]
  },
  {
   "cell_type": "code",
   "execution_count": 13,
   "id": "497e88dd3b3f11cb",
   "metadata": {
    "collapsed": false,
    "ExecuteTime": {
     "end_time": "2024-01-15T16:30:39.443993Z",
     "start_time": "2024-01-15T16:30:39.432948Z"
    }
   },
   "outputs": [
    {
     "data": {
      "text/plain": "                 count\ncluster anomaly       \n1       False     2353\n0       True      2129\n        False     1877\n1       True       391",
      "text/html": "<div>\n<style scoped>\n    .dataframe tbody tr th:only-of-type {\n        vertical-align: middle;\n    }\n\n    .dataframe tbody tr th {\n        vertical-align: top;\n    }\n\n    .dataframe thead th {\n        text-align: right;\n    }\n</style>\n<table border=\"1\" class=\"dataframe\">\n  <thead>\n    <tr style=\"text-align: right;\">\n      <th></th>\n      <th></th>\n      <th>count</th>\n    </tr>\n    <tr>\n      <th>cluster</th>\n      <th>anomaly</th>\n      <th></th>\n    </tr>\n  </thead>\n  <tbody>\n    <tr>\n      <th>1</th>\n      <th>False</th>\n      <td>2353</td>\n    </tr>\n    <tr>\n      <th rowspan=\"2\" valign=\"top\">0</th>\n      <th>True</th>\n      <td>2129</td>\n    </tr>\n    <tr>\n      <th>False</th>\n      <td>1877</td>\n    </tr>\n    <tr>\n      <th>1</th>\n      <th>True</th>\n      <td>391</td>\n    </tr>\n  </tbody>\n</table>\n</div>"
     },
     "execution_count": 13,
     "metadata": {},
     "output_type": "execute_result"
    }
   ],
   "source": [
    "hierarchical_clustering_labels_df = pd.DataFrame(hierarchical_clustering.labels_, columns=['cluster'])\n",
    "hierarchical_clustering_labels_df = pd.concat([hierarchical_clustering_labels_df, y], axis=1)\n",
    "pd.DataFrame(hierarchical_clustering_labels_df.value_counts())\n"
   ]
  },
  {
   "cell_type": "code",
   "execution_count": 14,
   "outputs": [],
   "source": [
    "y_predict = hierarchical_clustering_labels_df['cluster'].map({1: False, 0: True})\n",
    "add_performance('hierarchical clustering', y, y_predict)\n"
   ],
   "metadata": {
    "collapsed": false,
    "ExecuteTime": {
     "end_time": "2024-01-15T16:56:56.582351Z",
     "start_time": "2024-01-15T16:56:56.562024Z"
    }
   },
   "id": "48b9ed5b13b5a762"
  },
  {
   "attachments": {},
   "cell_type": "markdown",
   "id": "a97bdb4a4e93f966",
   "metadata": {
    "collapsed": false
   },
   "source": [
    "### HDBSCAN"
   ]
  },
  {
   "cell_type": "code",
   "execution_count": 15,
   "id": "c184dfa8fe5e050a",
   "metadata": {
    "collapsed": false,
    "ExecuteTime": {
     "end_time": "2024-01-15T16:57:06.294345Z",
     "start_time": "2024-01-15T16:57:06.084991Z"
    }
   },
   "outputs": [
    {
     "data": {
      "text/plain": "HDBSCAN(min_cluster_size=20)",
      "text/html": "<style>#sk-container-id-1 {color: black;}#sk-container-id-1 pre{padding: 0;}#sk-container-id-1 div.sk-toggleable {background-color: white;}#sk-container-id-1 label.sk-toggleable__label {cursor: pointer;display: block;width: 100%;margin-bottom: 0;padding: 0.3em;box-sizing: border-box;text-align: center;}#sk-container-id-1 label.sk-toggleable__label-arrow:before {content: \"▸\";float: left;margin-right: 0.25em;color: #696969;}#sk-container-id-1 label.sk-toggleable__label-arrow:hover:before {color: black;}#sk-container-id-1 div.sk-estimator:hover label.sk-toggleable__label-arrow:before {color: black;}#sk-container-id-1 div.sk-toggleable__content {max-height: 0;max-width: 0;overflow: hidden;text-align: left;background-color: #f0f8ff;}#sk-container-id-1 div.sk-toggleable__content pre {margin: 0.2em;color: black;border-radius: 0.25em;background-color: #f0f8ff;}#sk-container-id-1 input.sk-toggleable__control:checked~div.sk-toggleable__content {max-height: 200px;max-width: 100%;overflow: auto;}#sk-container-id-1 input.sk-toggleable__control:checked~label.sk-toggleable__label-arrow:before {content: \"▾\";}#sk-container-id-1 div.sk-estimator input.sk-toggleable__control:checked~label.sk-toggleable__label {background-color: #d4ebff;}#sk-container-id-1 div.sk-label input.sk-toggleable__control:checked~label.sk-toggleable__label {background-color: #d4ebff;}#sk-container-id-1 input.sk-hidden--visually {border: 0;clip: rect(1px 1px 1px 1px);clip: rect(1px, 1px, 1px, 1px);height: 1px;margin: -1px;overflow: hidden;padding: 0;position: absolute;width: 1px;}#sk-container-id-1 div.sk-estimator {font-family: monospace;background-color: #f0f8ff;border: 1px dotted black;border-radius: 0.25em;box-sizing: border-box;margin-bottom: 0.5em;}#sk-container-id-1 div.sk-estimator:hover {background-color: #d4ebff;}#sk-container-id-1 div.sk-parallel-item::after {content: \"\";width: 100%;border-bottom: 1px solid gray;flex-grow: 1;}#sk-container-id-1 div.sk-label:hover label.sk-toggleable__label {background-color: #d4ebff;}#sk-container-id-1 div.sk-serial::before {content: \"\";position: absolute;border-left: 1px solid gray;box-sizing: border-box;top: 0;bottom: 0;left: 50%;z-index: 0;}#sk-container-id-1 div.sk-serial {display: flex;flex-direction: column;align-items: center;background-color: white;padding-right: 0.2em;padding-left: 0.2em;position: relative;}#sk-container-id-1 div.sk-item {position: relative;z-index: 1;}#sk-container-id-1 div.sk-parallel {display: flex;align-items: stretch;justify-content: center;background-color: white;position: relative;}#sk-container-id-1 div.sk-item::before, #sk-container-id-1 div.sk-parallel-item::before {content: \"\";position: absolute;border-left: 1px solid gray;box-sizing: border-box;top: 0;bottom: 0;left: 50%;z-index: -1;}#sk-container-id-1 div.sk-parallel-item {display: flex;flex-direction: column;z-index: 1;position: relative;background-color: white;}#sk-container-id-1 div.sk-parallel-item:first-child::after {align-self: flex-end;width: 50%;}#sk-container-id-1 div.sk-parallel-item:last-child::after {align-self: flex-start;width: 50%;}#sk-container-id-1 div.sk-parallel-item:only-child::after {width: 0;}#sk-container-id-1 div.sk-dashed-wrapped {border: 1px dashed gray;margin: 0 0.4em 0.5em 0.4em;box-sizing: border-box;padding-bottom: 0.4em;background-color: white;}#sk-container-id-1 div.sk-label label {font-family: monospace;font-weight: bold;display: inline-block;line-height: 1.2em;}#sk-container-id-1 div.sk-label-container {text-align: center;}#sk-container-id-1 div.sk-container {/* jupyter's `normalize.less` sets `[hidden] { display: none; }` but bootstrap.min.css set `[hidden] { display: none !important; }` so we also need the `!important` here to be able to override the default hidden behavior on the sphinx rendered scikit-learn.org. See: https://github.com/scikit-learn/scikit-learn/issues/21755 */display: inline-block !important;position: relative;}#sk-container-id-1 div.sk-text-repr-fallback {display: none;}</style><div id=\"sk-container-id-1\" class=\"sk-top-container\"><div class=\"sk-text-repr-fallback\"><pre>HDBSCAN(min_cluster_size=20)</pre><b>In a Jupyter environment, please rerun this cell to show the HTML representation or trust the notebook. <br />On GitHub, the HTML representation is unable to render, please try loading this page with nbviewer.org.</b></div><div class=\"sk-container\" hidden><div class=\"sk-item\"><div class=\"sk-estimator sk-toggleable\"><input class=\"sk-toggleable__control sk-hidden--visually\" id=\"sk-estimator-id-1\" type=\"checkbox\" checked><label for=\"sk-estimator-id-1\" class=\"sk-toggleable__label sk-toggleable__label-arrow\">HDBSCAN</label><div class=\"sk-toggleable__content\"><pre>HDBSCAN(min_cluster_size=20)</pre></div></div></div></div></div>"
     },
     "execution_count": 15,
     "metadata": {},
     "output_type": "execute_result"
    }
   ],
   "source": [
    "from sklearn.cluster import HDBSCAN\n",
    "\n",
    "hdb = HDBSCAN(min_cluster_size=20)\n",
    "hdb.fit(X)"
   ]
  },
  {
   "cell_type": "code",
   "execution_count": 16,
   "id": "4761e2a37b72744a",
   "metadata": {
    "collapsed": false,
    "ExecuteTime": {
     "end_time": "2024-01-15T16:57:06.801391Z",
     "start_time": "2024-01-15T16:57:06.797110Z"
    }
   },
   "outputs": [
    {
     "data": {
      "text/plain": "clusters  anomaly\n-1        False      304\n          True       259\nName: count, dtype: int64"
     },
     "execution_count": 16,
     "metadata": {},
     "output_type": "execute_result"
    }
   ],
   "source": [
    "hdbscan_labels_df = pd.DataFrame(hdb.labels_, columns=['clusters'])\n",
    "hdbscan_labels_df = pd.concat([hdbscan_labels_df, y], axis=1)\n",
    "hdbscan_labels_df[hdbscan_labels_df.clusters==-1].value_counts()"
   ]
  },
  {
   "cell_type": "code",
   "execution_count": 17,
   "outputs": [],
   "source": [
    "y_predict = hdbscan_labels_df['clusters'].map(lambda x: x < 0)\n",
    "add_performance('HDBSCAN', y, y_predict)"
   ],
   "metadata": {
    "collapsed": false,
    "ExecuteTime": {
     "end_time": "2024-01-15T16:57:15.159371Z",
     "start_time": "2024-01-15T16:57:15.135847Z"
    }
   },
   "id": "16e73967e5aed84b"
  },
  {
   "attachments": {},
   "cell_type": "markdown",
   "id": "1a0d31fa1c62c417",
   "metadata": {
    "collapsed": false
   },
   "source": [
    "### OPTICS"
   ]
  },
  {
   "cell_type": "code",
   "execution_count": 18,
   "id": "206fafe86f6769ac",
   "metadata": {
    "collapsed": false,
    "ExecuteTime": {
     "end_time": "2024-01-15T16:57:21.792937Z",
     "start_time": "2024-01-15T16:57:19.996341Z"
    }
   },
   "outputs": [
    {
     "name": "stderr",
     "output_type": "stream",
     "text": [
      "/Users/boweigao/miniconda3/lib/python3.11/site-packages/sklearn/cluster/_optics.py:995: RuntimeWarning: divide by zero encountered in divide\n",
      "  ratio = reachability_plot[:-1] / reachability_plot[1:]\n"
     ]
    }
   ],
   "source": [
    "from sklearn.cluster import OPTICS\n",
    "\n",
    "optics = OPTICS(min_samples=2).fit(X)"
   ]
  },
  {
   "cell_type": "code",
   "execution_count": 19,
   "id": "ce7130136a3aefa8",
   "metadata": {
    "collapsed": false,
    "ExecuteTime": {
     "end_time": "2024-01-15T16:57:21.795546Z",
     "start_time": "2024-01-15T16:57:21.791282Z"
    }
   },
   "outputs": [
    {
     "data": {
      "text/plain": "clusters  anomaly\n-1        False      1078\n          True        612\n 210      True          9\n 451      True          8\n 1425     True          8\n                     ... \n 1422     False         1\n          True          1\n 519      True          1\n 783      True          1\n 616      False         1\nName: count, Length: 2103, dtype: int64"
     },
     "execution_count": 19,
     "metadata": {},
     "output_type": "execute_result"
    }
   ],
   "source": [
    "optics_labels_df = pd.DataFrame(optics.labels_, columns=['clusters'])\n",
    "optics_labels_df = pd.concat([optics_labels_df, y], axis=1)\n",
    "optics_labels_df.value_counts()"
   ]
  },
  {
   "cell_type": "code",
   "execution_count": 20,
   "outputs": [],
   "source": [
    "y_predict = optics_labels_df['clusters'].map(lambda x: x < 0)\n",
    "add_performance('OPTICS', y, y_predict)"
   ],
   "metadata": {
    "collapsed": false,
    "ExecuteTime": {
     "end_time": "2024-01-15T16:57:29.272402Z",
     "start_time": "2024-01-15T16:57:29.248863Z"
    }
   },
   "id": "faaf86e0df3ba3fc"
  },
  {
   "attachments": {},
   "cell_type": "markdown",
   "id": "8a93749ffdee23ee",
   "metadata": {
    "collapsed": false
   },
   "source": [
    "### BIRCH"
   ]
  },
  {
   "cell_type": "code",
   "execution_count": 21,
   "id": "696c6f72289c3ed9",
   "metadata": {
    "collapsed": false,
    "ExecuteTime": {
     "end_time": "2024-01-15T16:57:34.877646Z",
     "start_time": "2024-01-15T16:57:34.778010Z"
    }
   },
   "outputs": [
    {
     "data": {
      "text/plain": "array([0, 0, 0, ..., 0, 0, 0])"
     },
     "execution_count": 21,
     "metadata": {},
     "output_type": "execute_result"
    }
   ],
   "source": [
    "from sklearn.cluster import Birch\n",
    "\n",
    "brc = Birch(n_clusters=2)\n",
    "brc.fit(X)\n",
    "brc.predict(X)"
   ]
  },
  {
   "cell_type": "code",
   "execution_count": 22,
   "id": "3f489b23d0d04c29",
   "metadata": {
    "collapsed": false,
    "ExecuteTime": {
     "end_time": "2024-01-15T16:57:37.250709Z",
     "start_time": "2024-01-15T16:57:37.237549Z"
    }
   },
   "outputs": [
    {
     "data": {
      "text/plain": "cluster  anomaly\n1        False      2351\n0        True       2135\n         False      1879\n1        True        385\nName: count, dtype: int64"
     },
     "execution_count": 22,
     "metadata": {},
     "output_type": "execute_result"
    }
   ],
   "source": [
    "brc_labels_df = pd.DataFrame(brc.labels_, columns=['cluster'])\n",
    "brc_labels_df = pd.concat([brc_labels_df, y], axis=1)\n",
    "brc_labels_df.value_counts()\n"
   ]
  },
  {
   "cell_type": "code",
   "execution_count": 23,
   "outputs": [],
   "source": [
    "y_predict = brc_labels_df['cluster'].map({0: True, 1: False})\n",
    "add_performance('BIRCH', y, y_predict)\n"
   ],
   "metadata": {
    "collapsed": false,
    "ExecuteTime": {
     "end_time": "2024-01-15T16:58:05.947185Z",
     "start_time": "2024-01-15T16:58:05.930773Z"
    }
   },
   "id": "ba8afaa27b65c960"
  },
  {
   "cell_type": "markdown",
   "source": [
    "### Spectral clustering"
   ],
   "metadata": {
    "collapsed": false
   },
   "id": "a8b164589870600d"
  },
  {
   "cell_type": "code",
   "execution_count": 24,
   "outputs": [
    {
     "data": {
      "text/plain": "\"\\nfrom sklearn.cluster import SpectralClustering\\nimport joblib\\n\\nspectral_clustering = SpectralClustering(n_clusters=4, assign_labels='discretize', random_state=0).fit(X)\\njoblib.dump(spectral_clustering, 'temp/Delivery_truck_trip_data_spectral_clustering_model.pkl')\\n\""
     },
     "execution_count": 24,
     "metadata": {},
     "output_type": "execute_result"
    }
   ],
   "source": [
    "'''\n",
    "from sklearn.cluster import SpectralClustering\n",
    "import joblib\n",
    "\n",
    "spectral_clustering = SpectralClustering(n_clusters=4, assign_labels='discretize', random_state=0).fit(X)\n",
    "joblib.dump(spectral_clustering, 'temp/Delivery_truck_trip_data_spectral_clustering_model.pkl')\n",
    "'''"
   ],
   "metadata": {
    "collapsed": false,
    "ExecuteTime": {
     "end_time": "2024-01-15T16:58:12.624020Z",
     "start_time": "2024-01-15T16:58:12.619330Z"
    }
   },
   "id": "ee99b6a6160e4a9c"
  },
  {
   "cell_type": "code",
   "execution_count": 25,
   "outputs": [],
   "source": [
    "# loaded_model = joblib.load('temp/Delivery_truck_trip_data_spectral_clustering_model.pkl')"
   ],
   "metadata": {
    "collapsed": false,
    "ExecuteTime": {
     "end_time": "2024-01-15T16:58:13.220554Z",
     "start_time": "2024-01-15T16:58:13.217686Z"
    }
   },
   "id": "58055057080f0f22"
  },
  {
   "cell_type": "code",
   "execution_count": 26,
   "outputs": [
    {
     "data": {
      "text/plain": "\"\\nprint(pd.DataFrame(loaded_model.labels_).value_counts())\\nspectral_clustering_labels_df = pd.DataFrame(spectral_clustering.labels_, columns=['cluster'])\\nspectral_clustering_labels_df = pd.concat([spectral_clustering_labels_df, y], axis=1)\\nprint(spectral_clustering_labels_df['cluster'].value_counts())\\nprint(spectral_clustering_labels_df.value_counts())\\nprint(spectral_df.value_counts())\\n\""
     },
     "execution_count": 26,
     "metadata": {},
     "output_type": "execute_result"
    }
   ],
   "source": [
    "'''\n",
    "print(pd.DataFrame(loaded_model.labels_).value_counts())\n",
    "spectral_clustering_labels_df = pd.DataFrame(spectral_clustering.labels_, columns=['cluster'])\n",
    "spectral_clustering_labels_df = pd.concat([spectral_clustering_labels_df, y], axis=1)\n",
    "print(spectral_clustering_labels_df['cluster'].value_counts())\n",
    "print(spectral_clustering_labels_df.value_counts())\n",
    "print(spectral_df.value_counts())\n",
    "'''"
   ],
   "metadata": {
    "collapsed": false,
    "ExecuteTime": {
     "end_time": "2024-01-15T16:58:16.854249Z",
     "start_time": "2024-01-15T16:58:16.848347Z"
    }
   },
   "id": "cd7ff3b4adec3f68"
  },
  {
   "cell_type": "markdown",
   "source": [
    "### Performance"
   ],
   "metadata": {
    "collapsed": false
   },
   "id": "e42881bf9dca5ae1"
  },
  {
   "cell_type": "code",
   "execution_count": 27,
   "outputs": [],
   "source": [
    "table_of_performance.to_csv('temp/Delivery_truck_trip_data_autoencoder_unsupervised_performance.csv', index=False)"
   ],
   "metadata": {
    "collapsed": false,
    "ExecuteTime": {
     "end_time": "2024-01-15T16:58:19.851878Z",
     "start_time": "2024-01-15T16:58:19.837109Z"
    }
   },
   "id": "f56cf6bea68c5ea"
  },
  {
   "cell_type": "code",
   "execution_count": 145,
   "outputs": [],
   "source": [],
   "metadata": {
    "collapsed": false,
    "ExecuteTime": {
     "end_time": "2023-11-20T15:07:35.883324Z",
     "start_time": "2023-11-20T15:07:35.826078Z"
    }
   },
   "id": "b4a85c758c55d870"
  }
 ],
 "metadata": {
  "kernelspec": {
   "display_name": "Python 3 (ipykernel)",
   "language": "python",
   "name": "python3"
  },
  "language_info": {
   "codemirror_mode": {
    "name": "ipython",
    "version": 3
   },
   "file_extension": ".py",
   "mimetype": "text/x-python",
   "name": "python",
   "nbconvert_exporter": "python",
   "pygments_lexer": "ipython3",
   "version": "3.11.4"
  }
 },
 "nbformat": 4,
 "nbformat_minor": 5
}
