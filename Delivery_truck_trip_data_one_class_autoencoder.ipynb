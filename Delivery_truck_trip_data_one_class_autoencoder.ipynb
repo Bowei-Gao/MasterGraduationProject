{
 "cells": [
  {
   "cell_type": "markdown",
   "id": "8436795002ee83fa",
   "metadata": {},
   "source": [
    "### Loading the dataset"
   ]
  },
  {
   "cell_type": "code",
   "execution_count": 1,
   "id": "8f7d22eb00a5650e",
   "metadata": {
    "ExecuteTime": {
     "end_time": "2023-11-24T12:17:14.323444Z",
     "start_time": "2023-11-24T12:17:13.793774Z"
    }
   },
   "outputs": [],
   "source": [
    "import pandas as pd\n",
    "\n",
    "olist_orders_dataset_df = pd.read_csv('temp/olist_orders_dataset_df.csv')\n"
   ]
  },
  {
   "cell_type": "code",
   "execution_count": 2,
   "outputs": [],
   "source": [
    "X = olist_orders_dataset_df.drop(['anomaly'], axis=1)"
   ],
   "metadata": {
    "collapsed": false,
    "ExecuteTime": {
     "end_time": "2023-11-24T12:17:14.328155Z",
     "start_time": "2023-11-24T12:17:14.325036Z"
    }
   },
   "id": "32b291ef567b177e"
  },
  {
   "cell_type": "markdown",
   "source": [
    "### Normalizing"
   ],
   "metadata": {
    "collapsed": false
   },
   "id": "3831d4bd8de414cf"
  },
  {
   "cell_type": "code",
   "execution_count": 3,
   "id": "97a38e3cced99b1a",
   "metadata": {
    "ExecuteTime": {
     "end_time": "2023-11-24T12:17:15.507391Z",
     "start_time": "2023-11-24T12:17:14.328651Z"
    }
   },
   "outputs": [],
   "source": [
    "from sklearn.preprocessing import QuantileTransformer\n",
    "\n",
    "qt = QuantileTransformer(output_distribution='normal')\n",
    "X = qt.fit_transform(X)\n"
   ]
  },
  {
   "cell_type": "markdown",
   "source": [
    "### Feature Scaling"
   ],
   "metadata": {
    "collapsed": false
   },
   "id": "d264cc4297c45212"
  },
  {
   "cell_type": "code",
   "execution_count": 4,
   "outputs": [],
   "source": [
    "from sklearn.preprocessing import MinMaxScaler\n",
    "\n",
    "scaler = MinMaxScaler()\n",
    "X = scaler.fit_transform(X)\n"
   ],
   "metadata": {
    "collapsed": false,
    "ExecuteTime": {
     "end_time": "2023-11-24T12:17:15.512700Z",
     "start_time": "2023-11-24T12:17:15.507790Z"
    }
   },
   "id": "2f2e12ecd342b08c"
  },
  {
   "cell_type": "code",
   "execution_count": 5,
   "outputs": [],
   "source": [
    "df = pd.DataFrame(X)\n",
    "df = pd.concat([df, olist_orders_dataset_df['anomaly']], axis=1)\n"
   ],
   "metadata": {
    "collapsed": false,
    "ExecuteTime": {
     "end_time": "2023-11-24T12:17:15.518700Z",
     "start_time": "2023-11-24T12:17:15.514598Z"
    }
   },
   "id": "555d87e78d16bae5"
  },
  {
   "cell_type": "markdown",
   "source": [
    "### Splitting the dataset"
   ],
   "metadata": {
    "collapsed": false
   },
   "id": "52ffa9ded49760a2"
  },
  {
   "cell_type": "code",
   "execution_count": 6,
   "outputs": [],
   "source": [
    "# Separate the records based on the label\n",
    "normal_records = df[df['anomaly'] == False]\n",
    "anomaly_records = df[df['anomaly'] == True]\n",
    "\n",
    "# Randomly sample an equal number of False records\n",
    "normal_records_sampled = normal_records.sample(n=len(anomaly_records))\n",
    "\n",
    "# First DataFrame: Equal number of True and False records\n",
    "df_test = pd.concat([anomaly_records, normal_records_sampled]).sample(frac=1).reset_index(drop=True)\n",
    "\n",
    "# Second DataFrame: Remaining False records\n",
    "df_remaining_normal = normal_records.drop(normal_records_sampled.index).reset_index(drop=True)\n"
   ],
   "metadata": {
    "collapsed": false,
    "ExecuteTime": {
     "end_time": "2023-11-24T12:17:15.537390Z",
     "start_time": "2023-11-24T12:17:15.517935Z"
    }
   },
   "id": "71426f2960576ed5"
  },
  {
   "cell_type": "code",
   "execution_count": 14,
   "outputs": [],
   "source": [
    "X_anomaly = anomaly_records.drop(['anomaly'], axis=1).to_numpy()\n",
    "X_test = df_test.drop(['anomaly'], axis=1).to_numpy()\n",
    "y_test = df_test['anomaly'].to_numpy()\n",
    "X_normal = df_remaining_normal.drop(['anomaly'], axis=1).to_numpy()\n"
   ],
   "metadata": {
    "collapsed": false,
    "ExecuteTime": {
     "end_time": "2023-11-24T12:24:39.257234Z",
     "start_time": "2023-11-24T12:24:39.238806Z"
    }
   },
   "id": "5340eff18ecdc13f"
  },
  {
   "cell_type": "markdown",
   "id": "a674c9635851dfa8",
   "metadata": {},
   "source": [
    "### Import Necessary Libraries:"
   ]
  },
  {
   "cell_type": "code",
   "execution_count": 8,
   "id": "37547022c5180827",
   "metadata": {
    "ExecuteTime": {
     "end_time": "2023-11-24T12:17:16.281208Z",
     "start_time": "2023-11-24T12:17:15.538147Z"
    }
   },
   "outputs": [],
   "source": [
    "import torch\n",
    "import torch.nn as nn\n",
    "import torch.optim as optim\n"
   ]
  },
  {
   "cell_type": "markdown",
   "id": "c137046b772254c3",
   "metadata": {},
   "source": [
    "### Define the Autoencoder Architecture"
   ]
  },
  {
   "cell_type": "code",
   "execution_count": 9,
   "id": "ca17addda7452a14",
   "metadata": {
    "ExecuteTime": {
     "end_time": "2023-11-24T12:17:16.285089Z",
     "start_time": "2023-11-24T12:17:16.282766Z"
    }
   },
   "outputs": [],
   "source": [
    "class Autoencoder(nn.Module):\n",
    "    def __init__(self):\n",
    "        super(Autoencoder, self).__init__()\n",
    "        # Encoder layers\n",
    "        self.encoder = nn.Sequential(\n",
    "            nn.Linear(18, 14),  # Assuming the first hidden layer has 12 nodes\n",
    "            nn.ReLU(),\n",
    "            nn.Linear(14, 10),   # Further compressing to 8 nodes\n",
    "            nn.ReLU(),\n",
    "            nn.Linear(10, 6)\n",
    "        )\n",
    "        # Decoder layers\n",
    "        self.decoder = nn.Sequential(\n",
    "            nn.Linear(6, 10),\n",
    "            nn.ReLU(),\n",
    "            nn.Linear(10, 14),\n",
    "            nn.ReLU(),\n",
    "            nn.Linear(14, 18),\n",
    "            nn.Sigmoid()\n",
    "        )\n",
    "\n",
    "    def forward(self, x):\n",
    "        x = self.encoder(x)\n",
    "        x = self.decoder(x)\n",
    "        return x\n"
   ]
  },
  {
   "cell_type": "markdown",
   "id": "4e50a8a6077a603",
   "metadata": {},
   "source": [
    "### Instantiate the Model, Loss Function, and Optimizer"
   ]
  },
  {
   "cell_type": "code",
   "execution_count": 10,
   "id": "d09e3d44caaf908a",
   "metadata": {
    "ExecuteTime": {
     "end_time": "2023-11-24T12:17:16.715495Z",
     "start_time": "2023-11-24T12:17:16.284644Z"
    }
   },
   "outputs": [],
   "source": [
    "model = Autoencoder()\n",
    "criterion = nn.MSELoss()\n",
    "optimizer = optim.Adam(model.parameters(), lr=1e-4)\n"
   ]
  },
  {
   "cell_type": "markdown",
   "id": "271bd124c7d246d8",
   "metadata": {},
   "source": [
    "### Convert DataFrame to PyTorch Tensor"
   ]
  },
  {
   "cell_type": "code",
   "execution_count": 11,
   "id": "d3c0c08732c41353",
   "metadata": {
    "ExecuteTime": {
     "end_time": "2023-11-24T12:17:16.721767Z",
     "start_time": "2023-11-24T12:17:16.717253Z"
    }
   },
   "outputs": [],
   "source": [
    "tensor_data_test = torch.Tensor(X_test)\n",
    "tensor_data_normal = torch.Tensor(X_normal)\n",
    "tensor_data_anomaly  = torch.Tensor(X_anomaly)"
   ]
  },
  {
   "cell_type": "markdown",
   "id": "9be889862a7e06fe",
   "metadata": {},
   "source": [
    "### DataLoader"
   ]
  },
  {
   "cell_type": "code",
   "execution_count": 12,
   "id": "c2b5d16c32481064",
   "metadata": {
    "ExecuteTime": {
     "end_time": "2023-11-24T12:17:16.725062Z",
     "start_time": "2023-11-24T12:17:16.722593Z"
    }
   },
   "outputs": [],
   "source": [
    "from torch.utils.data import DataLoader, TensorDataset\n",
    "\n",
    "dataset = TensorDataset(tensor_data_normal)\n",
    "train_loader = DataLoader(dataset, batch_size=64, shuffle=True)\n"
   ]
  },
  {
   "cell_type": "markdown",
   "id": "b54ac6f11d45422d",
   "metadata": {},
   "source": [
    "### Training Loop"
   ]
  },
  {
   "cell_type": "code",
   "execution_count": 13,
   "id": "2b27ccb22bc30335",
   "metadata": {
    "ExecuteTime": {
     "end_time": "2023-11-24T12:21:23.638320Z",
     "start_time": "2023-11-24T12:17:16.725604Z"
    }
   },
   "outputs": [
    {
     "name": "stdout",
     "output_type": "stream",
     "text": [
      "Epoch [1/300], Loss: 0.0137\n",
      "Epoch [2/300], Loss: 0.0068\n",
      "Epoch [3/300], Loss: 0.0090\n",
      "Epoch [4/300], Loss: 0.0120\n",
      "Epoch [5/300], Loss: 0.0078\n",
      "Epoch [6/300], Loss: 0.0061\n",
      "Epoch [7/300], Loss: 0.0094\n",
      "Epoch [8/300], Loss: 0.0085\n",
      "Epoch [9/300], Loss: 0.0076\n",
      "Epoch [10/300], Loss: 0.0085\n",
      "Epoch [11/300], Loss: 0.0065\n",
      "Epoch [12/300], Loss: 0.0098\n",
      "Epoch [13/300], Loss: 0.0075\n",
      "Epoch [14/300], Loss: 0.0087\n",
      "Epoch [15/300], Loss: 0.0093\n",
      "Epoch [16/300], Loss: 0.0078\n",
      "Epoch [17/300], Loss: 0.0111\n",
      "Epoch [18/300], Loss: 0.0097\n",
      "Epoch [19/300], Loss: 0.0082\n",
      "Epoch [20/300], Loss: 0.0086\n",
      "Epoch [21/300], Loss: 0.0072\n",
      "Epoch [22/300], Loss: 0.0052\n",
      "Epoch [23/300], Loss: 0.0088\n",
      "Epoch [24/300], Loss: 0.0058\n",
      "Epoch [25/300], Loss: 0.0087\n",
      "Epoch [26/300], Loss: 0.0061\n",
      "Epoch [27/300], Loss: 0.0063\n",
      "Epoch [28/300], Loss: 0.0093\n",
      "Epoch [29/300], Loss: 0.0072\n",
      "Epoch [30/300], Loss: 0.0042\n",
      "Epoch [31/300], Loss: 0.0054\n",
      "Epoch [32/300], Loss: 0.0076\n",
      "Epoch [33/300], Loss: 0.0055\n",
      "Epoch [34/300], Loss: 0.0045\n",
      "Epoch [35/300], Loss: 0.0078\n",
      "Epoch [36/300], Loss: 0.0048\n",
      "Epoch [37/300], Loss: 0.0071\n",
      "Epoch [38/300], Loss: 0.0077\n",
      "Epoch [39/300], Loss: 0.0050\n",
      "Epoch [40/300], Loss: 0.0038\n",
      "Epoch [41/300], Loss: 0.0048\n",
      "Epoch [42/300], Loss: 0.0073\n",
      "Epoch [43/300], Loss: 0.0121\n",
      "Epoch [44/300], Loss: 0.0052\n",
      "Epoch [45/300], Loss: 0.0050\n",
      "Epoch [46/300], Loss: 0.0078\n",
      "Epoch [47/300], Loss: 0.0040\n",
      "Epoch [48/300], Loss: 0.0034\n",
      "Epoch [49/300], Loss: 0.0042\n",
      "Epoch [50/300], Loss: 0.0073\n",
      "Epoch [51/300], Loss: 0.0051\n",
      "Epoch [52/300], Loss: 0.0049\n",
      "Epoch [53/300], Loss: 0.0051\n",
      "Epoch [54/300], Loss: 0.0048\n",
      "Epoch [55/300], Loss: 0.0043\n",
      "Epoch [56/300], Loss: 0.0068\n",
      "Epoch [57/300], Loss: 0.0049\n",
      "Epoch [58/300], Loss: 0.0043\n",
      "Epoch [59/300], Loss: 0.0048\n",
      "Epoch [60/300], Loss: 0.0049\n",
      "Epoch [61/300], Loss: 0.0052\n",
      "Epoch [62/300], Loss: 0.0057\n",
      "Epoch [63/300], Loss: 0.0075\n",
      "Epoch [64/300], Loss: 0.0028\n",
      "Epoch [65/300], Loss: 0.0056\n",
      "Epoch [66/300], Loss: 0.0043\n",
      "Epoch [67/300], Loss: 0.0055\n",
      "Epoch [68/300], Loss: 0.0057\n",
      "Epoch [69/300], Loss: 0.0044\n",
      "Epoch [70/300], Loss: 0.0052\n",
      "Epoch [71/300], Loss: 0.0083\n",
      "Epoch [72/300], Loss: 0.0045\n",
      "Epoch [73/300], Loss: 0.0047\n",
      "Epoch [74/300], Loss: 0.0106\n",
      "Epoch [75/300], Loss: 0.0041\n",
      "Epoch [76/300], Loss: 0.0066\n",
      "Epoch [77/300], Loss: 0.0061\n",
      "Epoch [78/300], Loss: 0.0042\n",
      "Epoch [79/300], Loss: 0.0058\n",
      "Epoch [80/300], Loss: 0.0049\n",
      "Epoch [81/300], Loss: 0.0071\n",
      "Epoch [82/300], Loss: 0.0055\n",
      "Epoch [83/300], Loss: 0.0077\n",
      "Epoch [84/300], Loss: 0.0104\n",
      "Epoch [85/300], Loss: 0.0053\n",
      "Epoch [86/300], Loss: 0.0054\n",
      "Epoch [87/300], Loss: 0.0085\n",
      "Epoch [88/300], Loss: 0.0047\n",
      "Epoch [89/300], Loss: 0.0052\n",
      "Epoch [90/300], Loss: 0.0066\n",
      "Epoch [91/300], Loss: 0.0055\n",
      "Epoch [92/300], Loss: 0.0052\n",
      "Epoch [93/300], Loss: 0.0053\n",
      "Epoch [94/300], Loss: 0.0048\n",
      "Epoch [95/300], Loss: 0.0037\n",
      "Epoch [96/300], Loss: 0.0055\n",
      "Epoch [97/300], Loss: 0.0069\n",
      "Epoch [98/300], Loss: 0.0091\n",
      "Epoch [99/300], Loss: 0.0051\n",
      "Epoch [100/300], Loss: 0.0083\n",
      "Epoch [101/300], Loss: 0.0035\n",
      "Epoch [102/300], Loss: 0.0059\n",
      "Epoch [103/300], Loss: 0.0060\n",
      "Epoch [104/300], Loss: 0.0055\n",
      "Epoch [105/300], Loss: 0.0039\n",
      "Epoch [106/300], Loss: 0.0055\n",
      "Epoch [107/300], Loss: 0.0050\n",
      "Epoch [108/300], Loss: 0.0085\n",
      "Epoch [109/300], Loss: 0.0051\n",
      "Epoch [110/300], Loss: 0.0059\n",
      "Epoch [111/300], Loss: 0.0060\n",
      "Epoch [112/300], Loss: 0.0051\n",
      "Epoch [113/300], Loss: 0.0085\n",
      "Epoch [114/300], Loss: 0.0055\n",
      "Epoch [115/300], Loss: 0.0055\n",
      "Epoch [116/300], Loss: 0.0054\n",
      "Epoch [117/300], Loss: 0.0052\n",
      "Epoch [118/300], Loss: 0.0038\n",
      "Epoch [119/300], Loss: 0.0074\n",
      "Epoch [120/300], Loss: 0.0064\n",
      "Epoch [121/300], Loss: 0.0075\n",
      "Epoch [122/300], Loss: 0.0072\n",
      "Epoch [123/300], Loss: 0.0057\n",
      "Epoch [124/300], Loss: 0.0056\n",
      "Epoch [125/300], Loss: 0.0030\n",
      "Epoch [126/300], Loss: 0.0051\n",
      "Epoch [127/300], Loss: 0.0055\n",
      "Epoch [128/300], Loss: 0.0042\n",
      "Epoch [129/300], Loss: 0.0066\n",
      "Epoch [130/300], Loss: 0.0047\n",
      "Epoch [131/300], Loss: 0.0043\n",
      "Epoch [132/300], Loss: 0.0044\n",
      "Epoch [133/300], Loss: 0.0084\n",
      "Epoch [134/300], Loss: 0.0071\n",
      "Epoch [135/300], Loss: 0.0065\n",
      "Epoch [136/300], Loss: 0.0042\n",
      "Epoch [137/300], Loss: 0.0074\n",
      "Epoch [138/300], Loss: 0.0061\n",
      "Epoch [139/300], Loss: 0.0033\n",
      "Epoch [140/300], Loss: 0.0059\n",
      "Epoch [141/300], Loss: 0.0043\n",
      "Epoch [142/300], Loss: 0.0049\n",
      "Epoch [143/300], Loss: 0.0057\n",
      "Epoch [144/300], Loss: 0.0058\n",
      "Epoch [145/300], Loss: 0.0052\n",
      "Epoch [146/300], Loss: 0.0060\n",
      "Epoch [147/300], Loss: 0.0066\n",
      "Epoch [148/300], Loss: 0.0043\n",
      "Epoch [149/300], Loss: 0.0054\n",
      "Epoch [150/300], Loss: 0.0041\n",
      "Epoch [151/300], Loss: 0.0059\n",
      "Epoch [152/300], Loss: 0.0042\n",
      "Epoch [153/300], Loss: 0.0050\n",
      "Epoch [154/300], Loss: 0.0079\n",
      "Epoch [155/300], Loss: 0.0073\n",
      "Epoch [156/300], Loss: 0.0043\n",
      "Epoch [157/300], Loss: 0.0051\n",
      "Epoch [158/300], Loss: 0.0040\n",
      "Epoch [159/300], Loss: 0.0049\n",
      "Epoch [160/300], Loss: 0.0048\n",
      "Epoch [161/300], Loss: 0.0065\n",
      "Epoch [162/300], Loss: 0.0094\n",
      "Epoch [163/300], Loss: 0.0057\n",
      "Epoch [164/300], Loss: 0.0057\n",
      "Epoch [165/300], Loss: 0.0050\n",
      "Epoch [166/300], Loss: 0.0034\n",
      "Epoch [167/300], Loss: 0.0040\n",
      "Epoch [168/300], Loss: 0.0034\n",
      "Epoch [169/300], Loss: 0.0047\n",
      "Epoch [170/300], Loss: 0.0048\n",
      "Epoch [171/300], Loss: 0.0091\n",
      "Epoch [172/300], Loss: 0.0045\n",
      "Epoch [173/300], Loss: 0.0043\n",
      "Epoch [174/300], Loss: 0.0058\n",
      "Epoch [175/300], Loss: 0.0036\n",
      "Epoch [176/300], Loss: 0.0055\n",
      "Epoch [177/300], Loss: 0.0059\n",
      "Epoch [178/300], Loss: 0.0057\n",
      "Epoch [179/300], Loss: 0.0037\n",
      "Epoch [180/300], Loss: 0.0062\n",
      "Epoch [181/300], Loss: 0.0048\n",
      "Epoch [182/300], Loss: 0.0073\n",
      "Epoch [183/300], Loss: 0.0091\n",
      "Epoch [184/300], Loss: 0.0037\n",
      "Epoch [185/300], Loss: 0.0044\n",
      "Epoch [186/300], Loss: 0.0057\n",
      "Epoch [187/300], Loss: 0.0046\n",
      "Epoch [188/300], Loss: 0.0067\n",
      "Epoch [189/300], Loss: 0.0030\n",
      "Epoch [190/300], Loss: 0.0038\n",
      "Epoch [191/300], Loss: 0.0062\n",
      "Epoch [192/300], Loss: 0.0046\n",
      "Epoch [193/300], Loss: 0.0045\n",
      "Epoch [194/300], Loss: 0.0044\n",
      "Epoch [195/300], Loss: 0.0049\n",
      "Epoch [196/300], Loss: 0.0038\n",
      "Epoch [197/300], Loss: 0.0037\n",
      "Epoch [198/300], Loss: 0.0055\n",
      "Epoch [199/300], Loss: 0.0032\n",
      "Epoch [200/300], Loss: 0.0040\n",
      "Epoch [201/300], Loss: 0.0037\n",
      "Epoch [202/300], Loss: 0.0084\n",
      "Epoch [203/300], Loss: 0.0036\n",
      "Epoch [204/300], Loss: 0.0042\n",
      "Epoch [205/300], Loss: 0.0055\n",
      "Epoch [206/300], Loss: 0.0045\n",
      "Epoch [207/300], Loss: 0.0053\n",
      "Epoch [208/300], Loss: 0.0047\n",
      "Epoch [209/300], Loss: 0.0033\n",
      "Epoch [210/300], Loss: 0.0050\n",
      "Epoch [211/300], Loss: 0.0038\n",
      "Epoch [212/300], Loss: 0.0039\n",
      "Epoch [213/300], Loss: 0.0051\n",
      "Epoch [214/300], Loss: 0.0073\n",
      "Epoch [215/300], Loss: 0.0049\n",
      "Epoch [216/300], Loss: 0.0057\n",
      "Epoch [217/300], Loss: 0.0044\n",
      "Epoch [218/300], Loss: 0.0043\n",
      "Epoch [219/300], Loss: 0.0067\n",
      "Epoch [220/300], Loss: 0.0044\n",
      "Epoch [221/300], Loss: 0.0048\n",
      "Epoch [222/300], Loss: 0.0046\n",
      "Epoch [223/300], Loss: 0.0040\n",
      "Epoch [224/300], Loss: 0.0049\n",
      "Epoch [225/300], Loss: 0.0086\n",
      "Epoch [226/300], Loss: 0.0051\n",
      "Epoch [227/300], Loss: 0.0037\n",
      "Epoch [228/300], Loss: 0.0075\n",
      "Epoch [229/300], Loss: 0.0029\n",
      "Epoch [230/300], Loss: 0.0028\n",
      "Epoch [231/300], Loss: 0.0038\n",
      "Epoch [232/300], Loss: 0.0033\n",
      "Epoch [233/300], Loss: 0.0045\n",
      "Epoch [234/300], Loss: 0.0039\n",
      "Epoch [235/300], Loss: 0.0042\n",
      "Epoch [236/300], Loss: 0.0049\n",
      "Epoch [237/300], Loss: 0.0041\n",
      "Epoch [238/300], Loss: 0.0042\n",
      "Epoch [239/300], Loss: 0.0031\n",
      "Epoch [240/300], Loss: 0.0037\n",
      "Epoch [241/300], Loss: 0.0050\n",
      "Epoch [242/300], Loss: 0.0058\n",
      "Epoch [243/300], Loss: 0.0056\n",
      "Epoch [244/300], Loss: 0.0031\n",
      "Epoch [245/300], Loss: 0.0039\n",
      "Epoch [246/300], Loss: 0.0071\n",
      "Epoch [247/300], Loss: 0.0052\n",
      "Epoch [248/300], Loss: 0.0037\n",
      "Epoch [249/300], Loss: 0.0058\n",
      "Epoch [250/300], Loss: 0.0053\n",
      "Epoch [251/300], Loss: 0.0066\n",
      "Epoch [252/300], Loss: 0.0043\n",
      "Epoch [253/300], Loss: 0.0049\n",
      "Epoch [254/300], Loss: 0.0048\n",
      "Epoch [255/300], Loss: 0.0027\n",
      "Epoch [256/300], Loss: 0.0049\n",
      "Epoch [257/300], Loss: 0.0032\n",
      "Epoch [258/300], Loss: 0.0033\n",
      "Epoch [259/300], Loss: 0.0031\n",
      "Epoch [260/300], Loss: 0.0048\n",
      "Epoch [261/300], Loss: 0.0030\n",
      "Epoch [262/300], Loss: 0.0051\n",
      "Epoch [263/300], Loss: 0.0075\n",
      "Epoch [264/300], Loss: 0.0043\n",
      "Epoch [265/300], Loss: 0.0028\n",
      "Epoch [266/300], Loss: 0.0045\n",
      "Epoch [267/300], Loss: 0.0030\n",
      "Epoch [268/300], Loss: 0.0040\n",
      "Epoch [269/300], Loss: 0.0052\n",
      "Epoch [270/300], Loss: 0.0039\n",
      "Epoch [271/300], Loss: 0.0028\n",
      "Epoch [272/300], Loss: 0.0063\n",
      "Epoch [273/300], Loss: 0.0044\n",
      "Epoch [274/300], Loss: 0.0031\n",
      "Epoch [275/300], Loss: 0.0043\n",
      "Epoch [276/300], Loss: 0.0039\n",
      "Epoch [277/300], Loss: 0.0046\n",
      "Epoch [278/300], Loss: 0.0050\n",
      "Epoch [279/300], Loss: 0.0047\n",
      "Epoch [280/300], Loss: 0.0037\n",
      "Epoch [281/300], Loss: 0.0023\n",
      "Epoch [282/300], Loss: 0.0036\n",
      "Epoch [283/300], Loss: 0.0053\n",
      "Epoch [284/300], Loss: 0.0054\n",
      "Epoch [285/300], Loss: 0.0054\n",
      "Epoch [286/300], Loss: 0.0040\n",
      "Epoch [287/300], Loss: 0.0035\n",
      "Epoch [288/300], Loss: 0.0054\n",
      "Epoch [289/300], Loss: 0.0036\n",
      "Epoch [290/300], Loss: 0.0060\n",
      "Epoch [291/300], Loss: 0.0042\n",
      "Epoch [292/300], Loss: 0.0048\n",
      "Epoch [293/300], Loss: 0.0047\n",
      "Epoch [294/300], Loss: 0.0046\n",
      "Epoch [295/300], Loss: 0.0033\n",
      "Epoch [296/300], Loss: 0.0036\n",
      "Epoch [297/300], Loss: 0.0043\n",
      "Epoch [298/300], Loss: 0.0047\n",
      "Epoch [299/300], Loss: 0.0032\n",
      "Epoch [300/300], Loss: 0.0038\n"
     ]
    }
   ],
   "source": [
    "# Example training loop\n",
    "num_epochs = 300\n",
    "for epoch in range(num_epochs):\n",
    "    for batch_features, in train_loader:  # DataLoader will unpack the features\n",
    "        # Forward pass\n",
    "        outputs = model(batch_features)\n",
    "        loss = criterion(outputs, batch_features)\n",
    "\n",
    "        # Backward pass and optimization\n",
    "        optimizer.zero_grad()\n",
    "        loss.backward()\n",
    "        optimizer.step()\n",
    "\n",
    "    print(f'Epoch [{epoch+1}/{num_epochs}], Loss: {loss.item():.4f}')\n"
   ]
  },
  {
   "cell_type": "markdown",
   "source": [
    "### Calculate Reconstruction Errors"
   ],
   "metadata": {
    "collapsed": false
   },
   "id": "f0e127152d2b0805"
  },
  {
   "cell_type": "code",
   "execution_count": 15,
   "outputs": [],
   "source": [
    "model.eval()\n",
    "normal_losses = []\n",
    "test_losses = []\n",
    "# anomaly_losses = []\n",
    "\n",
    "with torch.no_grad():\n",
    "    for normal in tensor_data_normal:\n",
    "        reconstruction = model(normal.unsqueeze(0))\n",
    "        loss = criterion(reconstruction, normal.unsqueeze(0))\n",
    "        normal_losses.append(loss.item())\n",
    "\n",
    "    for test in tensor_data_test:\n",
    "        reconstruction = model(test.unsqueeze(0))\n",
    "        loss = criterion(reconstruction, test.unsqueeze(0))\n",
    "        test_losses.append(loss.item())\n",
    "\n",
    "    '''\n",
    "    for anomaly in tensor_data_anomaly:\n",
    "        reconstruction = model(anomaly.unsqueeze(0))\n",
    "        loss = criterion(reconstruction, anomaly.unsqueeze(0))\n",
    "        anomaly_losses.append(loss.item())\n",
    "    '''\n"
   ],
   "metadata": {
    "collapsed": false,
    "ExecuteTime": {
     "end_time": "2023-11-24T12:25:58.184584Z",
     "start_time": "2023-11-24T12:25:52.790609Z"
    }
   },
   "id": "1aaf356ad402d61c"
  },
  {
   "cell_type": "markdown",
   "source": [
    "### Separate Errors Based on Labels"
   ],
   "metadata": {
    "collapsed": false
   },
   "id": "3d36f61dfd195e84"
  },
  {
   "cell_type": "code",
   "execution_count": 16,
   "outputs": [],
   "source": [
    "normal_test_errors = [test_losses[i] for i in range(len(y_test)) if not y_test[i]]\n",
    "anomaly_test_errors = [test_losses[i] for i in range(len(y_test)) if y_test[i]]"
   ],
   "metadata": {
    "collapsed": false,
    "ExecuteTime": {
     "end_time": "2023-11-24T12:26:04.463183Z",
     "start_time": "2023-11-24T12:26:04.445916Z"
    }
   },
   "id": "4e589c8be496c4e"
  },
  {
   "cell_type": "markdown",
   "source": [
    "### Plot the Distribution"
   ],
   "metadata": {
    "collapsed": false
   },
   "id": "7d16c6aef96ce1c2"
  },
  {
   "cell_type": "code",
   "execution_count": 21,
   "outputs": [
    {
     "data": {
      "text/plain": "<Figure size 1000x600 with 1 Axes>",
      "image/png": "[encoded data removed]"
     },
     "metadata": {},
     "output_type": "display_data"
    }
   ],
   "source": [
    "import matplotlib.pyplot as plt\n",
    "\n",
    "plt.figure(figsize=(10, 6))\n",
    "plt.hist(normal_losses, bins=50, alpha=0.5, color=\"blue\", label=\"Normal\")\n",
    "plt.xlabel(\"Reconstruction Error\")\n",
    "plt.ylabel(\"Frequency\")\n",
    "plt.title(\"Distribution of Reconstruction Errors\")\n",
    "plt.legend()\n",
    "plt.savefig('temp/normal.png')"
   ],
   "metadata": {
    "collapsed": false,
    "ExecuteTime": {
     "end_time": "2023-11-24T12:32:21.731212Z",
     "start_time": "2023-11-24T12:32:21.483084Z"
    }
   },
   "id": "ccffa2268f7d4cef"
  },
  {
   "cell_type": "code",
   "execution_count": 20,
   "outputs": [
    {
     "data": {
      "text/plain": "<Figure size 1000x600 with 1 Axes>",
      "image/png": "[encoded data removed]"
     },
     "metadata": {},
     "output_type": "display_data"
    }
   ],
   "source": [
    "import matplotlib.pyplot as plt\n",
    "\n",
    "plt.figure(figsize=(10, 6))\n",
    "plt.hist(normal_test_errors, bins=50, alpha=0.5, color=\"blue\", label=\"Test\")\n",
    "plt.hist(anomaly_test_errors, bins=50, alpha=0.5, color=\"red\", label=\"Anomaly\")\n",
    "plt.xlabel(\"Reconstruction Error\")\n",
    "plt.ylabel(\"Frequency\")\n",
    "plt.title(\"Distribution of Reconstruction Errors\")\n",
    "plt.legend()\n",
    "plt.savefig('temp/test.png')"
   ],
   "metadata": {
    "collapsed": false,
    "ExecuteTime": {
     "end_time": "2023-11-24T12:27:34.631722Z",
     "start_time": "2023-11-24T12:27:34.007853Z"
    }
   },
   "id": "640d492e2145bd77"
  },
  {
   "cell_type": "code",
   "execution_count": null,
   "outputs": [],
   "source": [],
   "metadata": {
    "collapsed": false
   },
   "id": "dd3333f8a135942"
  }
 ],
 "metadata": {
  "kernelspec": {
   "display_name": "Python 3 (ipykernel)",
   "language": "python",
   "name": "python3"
  },
  "language_info": {
   "codemirror_mode": {
    "name": "ipython",
    "version": 3
   },
   "file_extension": ".py",
   "mimetype": "text/x-python",
   "name": "python",
   "nbconvert_exporter": "python",
   "pygments_lexer": "ipython3",
   "version": "3.11.4"
  }
 },
 "nbformat": 4,
 "nbformat_minor": 5
}
