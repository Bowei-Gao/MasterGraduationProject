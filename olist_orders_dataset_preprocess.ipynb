{
 "cells": [
  {
   "attachments": {},
   "cell_type": "markdown",
   "id": "7c8f877458dbf7c4",
   "metadata": {},
   "source": [
    "# Preprocess"
   ]
  },
  {
   "cell_type": "code",
   "execution_count": 90,
   "id": "initial_id",
   "metadata": {
    "ExecuteTime": {
     "end_time": "2023-11-08T23:55:30.670934Z",
     "start_time": "2023-11-08T23:55:30.600761Z"
    }
   },
   "outputs": [],
   "source": [
    "import pandas as pd\n",
    "import numpy as np"
   ]
  },
  {
   "attachments": {},
   "cell_type": "markdown",
   "id": "a6aeee0eb0d512f1",
   "metadata": {},
   "source": [
    "### Read the csv file."
   ]
  },
  {
   "cell_type": "code",
   "execution_count": 91,
   "id": "d7842173bb697085",
   "metadata": {
    "ExecuteTime": {
     "end_time": "2023-11-08T23:55:31.385839Z",
     "start_time": "2023-11-08T23:55:30.605440Z"
    }
   },
   "outputs": [],
   "source": [
    "orders_df = pd.read_csv(\"data/archive/olist_orders_dataset.csv\")\n",
    "customers_df = pd.read_csv(\"data/archive/olist_customers_dataset.csv\")\n",
    "geolocation_df = pd.read_csv(\"data/archive/olist_geolocation_dataset.csv\")\n",
    "order_items_df = pd.read_csv(\"data/archive/olist_order_items_dataset.csv\")\n",
    "products_df = pd.read_csv(\"data/archive/olist_products_dataset.csv\")\n",
    "sellers_df = pd.read_csv(\"data/archive/olist_sellers_dataset.csv\")"
   ]
  },
  {
   "attachments": {},
   "cell_type": "markdown",
   "id": "74641395ed5b2aef",
   "metadata": {},
   "source": [
    "### Get the label column by comparing df['order_estimated_delivery_date'] and  df['order_delivered_customer_date']"
   ]
  },
  {
   "cell_type": "code",
   "execution_count": 92,
   "id": "3cc08a2e035a0a8a",
   "metadata": {
    "ExecuteTime": {
     "end_time": "2023-11-08T23:55:31.525209Z",
     "start_time": "2023-11-08T23:55:31.417622Z"
    }
   },
   "outputs": [],
   "source": [
    "orders_df.order_purchase_timestamp = pd.to_datetime(pd.to_datetime(orders_df.order_purchase_timestamp, format='%Y-%m-%d %H:%M:%S').dt.date)\n",
    "orders_df.order_approved_at = pd.to_datetime(pd.to_datetime(orders_df.order_approved_at, format='%Y-%m-%d %H:%M:%S').dt.date)\n",
    "orders_df.order_delivered_carrier_date = pd.to_datetime(pd.to_datetime(orders_df.order_delivered_carrier_date, format='%Y-%m-%d %H:%M:%S').dt.date)\n",
    "orders_df.order_delivered_customer_date = pd.to_datetime(pd.to_datetime(orders_df.order_delivered_customer_date, format='%Y-%m-%d %H:%M:%S').dt.date)\n",
    "orders_df.order_estimated_delivery_date = pd.to_datetime(pd.to_datetime(orders_df.order_estimated_delivery_date, format='%Y-%m-%d %H:%M:%S').dt.date)"
   ]
  },
  {
   "cell_type": "code",
   "execution_count": 93,
   "id": "5a0eb50d118d7d6",
   "metadata": {
    "ExecuteTime": {
     "end_time": "2023-11-08T23:55:31.542720Z",
     "start_time": "2023-11-08T23:55:31.529016Z"
    }
   },
   "outputs": [],
   "source": [
    "orders_df = orders_df[orders_df['order_status'] == 'delivered']\n",
    "orders_df.drop('order_status', axis=1, inplace=True)\n",
    "orders_df['anomaly'] = orders_df['order_estimated_delivery_date'] < orders_df['order_delivered_customer_date']"
   ]
  },
  {
   "attachments": {},
   "cell_type": "markdown",
   "id": "2ebd644ea41e539d",
   "metadata": {},
   "source": [
    "### Enforce a rule: order_purchase_timestamp <= order_approved_at <= order_delivered_carrier_date <= order_delivered_customer_date"
   ]
  },
  {
   "cell_type": "code",
   "execution_count": 94,
   "id": "de5e121746b9339c",
   "metadata": {
    "ExecuteTime": {
     "end_time": "2023-11-08T23:55:31.561167Z",
     "start_time": "2023-11-08T23:55:31.543898Z"
    }
   },
   "outputs": [],
   "source": [
    "orders_df = orders_df[orders_df['order_purchase_timestamp'] <= orders_df['order_approved_at']]\n",
    "orders_df = orders_df[orders_df['order_approved_at'] <= orders_df['order_delivered_carrier_date']]\n",
    "orders_df = orders_df[orders_df['order_delivered_carrier_date'] <= orders_df['order_delivered_customer_date']]"
   ]
  },
  {
   "attachments": {},
   "cell_type": "markdown",
   "id": "30e6ca014f78d613",
   "metadata": {},
   "source": [
    "Time to approve an order and to deliver an order to a carrier influences delivery time."
   ]
  },
  {
   "cell_type": "code",
   "execution_count": 95,
   "id": "40a98fd0268d186c",
   "metadata": {
    "ExecuteTime": {
     "end_time": "2023-11-08T23:55:31.566736Z",
     "start_time": "2023-11-08T23:55:31.562065Z"
    }
   },
   "outputs": [],
   "source": [
    "orders_df['time_estimate_delivery'] = (orders_df['order_estimated_delivery_date'] - orders_df['order_delivered_carrier_date']).dt.days"
   ]
  },
  {
   "cell_type": "code",
   "execution_count": 96,
   "id": "e55c7ae23717c9bd",
   "metadata": {
    "ExecuteTime": {
     "end_time": "2023-11-08T23:55:31.577177Z",
     "start_time": "2023-11-08T23:55:31.565363Z"
    }
   },
   "outputs": [],
   "source": [
    "orders_df['year'] = orders_df['order_purchase_timestamp'].dt.year\n",
    "orders_df['month'] = orders_df['order_purchase_timestamp'].dt.month\n",
    "orders_df['day'] = orders_df['order_purchase_timestamp'].dt.day"
   ]
  },
  {
   "cell_type": "code",
   "execution_count": 97,
   "id": "bf19d17f4395d341",
   "metadata": {
    "ExecuteTime": {
     "end_time": "2023-11-08T23:55:31.587029Z",
     "start_time": "2023-11-08T23:55:31.579562Z"
    }
   },
   "outputs": [],
   "source": [
    "orders_df.drop(['order_approved_at', 'order_delivered_customer_date', 'order_estimated_delivery_date'], axis=1, inplace=True)"
   ]
  },
  {
   "cell_type": "code",
   "execution_count": 98,
   "id": "2a6cceeed829a77c",
   "metadata": {
    "ExecuteTime": {
     "end_time": "2023-11-08T23:55:31.587227Z",
     "start_time": "2023-11-08T23:55:31.583658Z"
    }
   },
   "outputs": [
    {
     "data": {
      "text/plain": "0.06807573020331868"
     },
     "execution_count": 98,
     "metadata": {},
     "output_type": "execute_result"
    }
   ],
   "source": [
    "orders_df['anomaly'].sum() / orders_df.shape[0]"
   ]
  },
  {
   "attachments": {},
   "cell_type": "markdown",
   "id": "3b05c04d4da06570",
   "metadata": {},
   "source": [
    "About 6.8% of the records are anomalies."
   ]
  },
  {
   "attachments": {},
   "cell_type": "markdown",
   "id": "df37db7762d95257",
   "metadata": {},
   "source": [
    "### Preprocess the customers dataset."
   ]
  },
  {
   "cell_type": "code",
   "execution_count": 99,
   "id": "2cff74256b7d2cd7",
   "metadata": {
    "ExecuteTime": {
     "end_time": "2023-11-08T23:55:31.596303Z",
     "start_time": "2023-11-08T23:55:31.589599Z"
    }
   },
   "outputs": [],
   "source": [
    "customers_df.drop(['customer_unique_id', 'customer_city', 'customer_state'], axis=1, inplace=True)"
   ]
  },
  {
   "attachments": {},
   "cell_type": "markdown",
   "id": "25d3d74511623e79",
   "metadata": {},
   "source": [
    "### Preprocess the sellers dataset."
   ]
  },
  {
   "cell_type": "code",
   "execution_count": 100,
   "id": "4ba20479d6b4dc97",
   "metadata": {
    "ExecuteTime": {
     "end_time": "2023-11-08T23:55:31.602210Z",
     "start_time": "2023-11-08T23:55:31.595110Z"
    }
   },
   "outputs": [
    {
     "data": {
      "text/plain": "                          seller_id  seller_zip_code_prefix\n0  3442f8959a84dea7ee197c632cb2df15                   13023\n1  d1b65fc7debc3361ea86b5f14c68d2e2                   13844\n2  ce3ad9de960102d0677a81f5d0bb7b2d                   20031\n3  c0f3eea2e14555b6faeea3dd58c1b1c3                    4195\n4  51a04a8a6bdcb23deccc82b0b80742cf                   12914",
      "text/html": "<div>\n<style scoped>\n    .dataframe tbody tr th:only-of-type {\n        vertical-align: middle;\n    }\n\n    .dataframe tbody tr th {\n        vertical-align: top;\n    }\n\n    .dataframe thead th {\n        text-align: right;\n    }\n</style>\n<table border=\"1\" class=\"dataframe\">\n  <thead>\n    <tr style=\"text-align: right;\">\n      <th></th>\n      <th>seller_id</th>\n      <th>seller_zip_code_prefix</th>\n    </tr>\n  </thead>\n  <tbody>\n    <tr>\n      <th>0</th>\n      <td>3442f8959a84dea7ee197c632cb2df15</td>\n      <td>13023</td>\n    </tr>\n    <tr>\n      <th>1</th>\n      <td>d1b65fc7debc3361ea86b5f14c68d2e2</td>\n      <td>13844</td>\n    </tr>\n    <tr>\n      <th>2</th>\n      <td>ce3ad9de960102d0677a81f5d0bb7b2d</td>\n      <td>20031</td>\n    </tr>\n    <tr>\n      <th>3</th>\n      <td>c0f3eea2e14555b6faeea3dd58c1b1c3</td>\n      <td>4195</td>\n    </tr>\n    <tr>\n      <th>4</th>\n      <td>51a04a8a6bdcb23deccc82b0b80742cf</td>\n      <td>12914</td>\n    </tr>\n  </tbody>\n</table>\n</div>"
     },
     "execution_count": 100,
     "metadata": {},
     "output_type": "execute_result"
    }
   ],
   "source": [
    "sellers_df.drop(['seller_city', 'seller_state'], axis=1, inplace=True)\n",
    "sellers_df.head()"
   ]
  },
  {
   "attachments": {},
   "cell_type": "markdown",
   "id": "d302d8ab51ccde3c",
   "metadata": {},
   "source": [
    "### Preprocess the geolocation dataset."
   ]
  },
  {
   "cell_type": "code",
   "execution_count": 101,
   "id": "20a086586360c2bd",
   "metadata": {
    "ExecuteTime": {
     "end_time": "2023-11-08T23:55:31.638027Z",
     "start_time": "2023-11-08T23:55:31.600085Z"
    }
   },
   "outputs": [],
   "source": [
    "geolocation_df.drop(['geolocation_city', 'geolocation_state'], axis=1, inplace=True)\n",
    "geolocation_df = geolocation_df.groupby(['geolocation_zip_code_prefix']).mean()"
   ]
  },
  {
   "cell_type": "code",
   "execution_count": 102,
   "id": "6f56ebe817aab277",
   "metadata": {
    "ExecuteTime": {
     "end_time": "2023-11-08T23:55:31.638428Z",
     "start_time": "2023-11-08T23:55:31.623330Z"
    }
   },
   "outputs": [
    {
     "data": {
      "text/plain": "                             geolocation_lat  geolocation_lng\ngeolocation_zip_code_prefix                                  \n1001                              -23.550190       -46.634024\n1002                              -23.548146       -46.634979\n1003                              -23.548994       -46.635731\n1004                              -23.549799       -46.634757\n1005                              -23.549456       -46.636733",
      "text/html": "<div>\n<style scoped>\n    .dataframe tbody tr th:only-of-type {\n        vertical-align: middle;\n    }\n\n    .dataframe tbody tr th {\n        vertical-align: top;\n    }\n\n    .dataframe thead th {\n        text-align: right;\n    }\n</style>\n<table border=\"1\" class=\"dataframe\">\n  <thead>\n    <tr style=\"text-align: right;\">\n      <th></th>\n      <th>geolocation_lat</th>\n      <th>geolocation_lng</th>\n    </tr>\n    <tr>\n      <th>geolocation_zip_code_prefix</th>\n      <th></th>\n      <th></th>\n    </tr>\n  </thead>\n  <tbody>\n    <tr>\n      <th>1001</th>\n      <td>-23.550190</td>\n      <td>-46.634024</td>\n    </tr>\n    <tr>\n      <th>1002</th>\n      <td>-23.548146</td>\n      <td>-46.634979</td>\n    </tr>\n    <tr>\n      <th>1003</th>\n      <td>-23.548994</td>\n      <td>-46.635731</td>\n    </tr>\n    <tr>\n      <th>1004</th>\n      <td>-23.549799</td>\n      <td>-46.634757</td>\n    </tr>\n    <tr>\n      <th>1005</th>\n      <td>-23.549456</td>\n      <td>-46.636733</td>\n    </tr>\n  </tbody>\n</table>\n</div>"
     },
     "execution_count": 102,
     "metadata": {},
     "output_type": "execute_result"
    }
   ],
   "source": [
    "geolocation_df.head()"
   ]
  },
  {
   "attachments": {},
   "cell_type": "markdown",
   "id": "1302730230715f03",
   "metadata": {},
   "source": [
    "### Merge customers and sellers data with geolocation information."
   ]
  },
  {
   "cell_type": "code",
   "execution_count": 103,
   "id": "a3e1459bf8e7bb09",
   "metadata": {
    "ExecuteTime": {
     "end_time": "2023-11-08T23:55:31.654246Z",
     "start_time": "2023-11-08T23:55:31.626780Z"
    }
   },
   "outputs": [],
   "source": [
    "customers_geolocation_df = pd.merge(customers_df, geolocation_df, how=\"left\", left_on='customer_zip_code_prefix', right_on='geolocation_zip_code_prefix')\n",
    "customers_geolocation_df.dropna(inplace=True)\n",
    "customers_geolocation_df.rename(columns={\"geolocation_lat\": \"customer_geolocation_lat\", \"geolocation_lng\": \"customer_geolocation_lng\"}, inplace=True)"
   ]
  },
  {
   "cell_type": "code",
   "execution_count": 104,
   "id": "2e0013c5ab50ab03",
   "metadata": {
    "ExecuteTime": {
     "end_time": "2023-11-08T23:55:31.661481Z",
     "start_time": "2023-11-08T23:55:31.639976Z"
    }
   },
   "outputs": [
    {
     "data": {
      "text/plain": "                        customer_id  customer_zip_code_prefix  \\\n0  06b8999e2fba1a1fbc88172c00ba8bc7                     14409   \n1  18955e83d337fd6b2def6b18a428ac77                      9790   \n2  4e7b3e00288586ebd08712fdd0374a03                      1151   \n3  b2b6027bc5c5109e529d4dc6358b12c3                      8775   \n4  4f2d8ab171c80ec8364f7c12e35b23ad                     13056   \n\n   customer_geolocation_lat  customer_geolocation_lng  \n0                -20.498489                -47.396929  \n1                -23.727992                -46.542848  \n2                -23.531642                -46.656289  \n3                -23.499702                -46.185233  \n4                -22.975100                -47.142925  ",
      "text/html": "<div>\n<style scoped>\n    .dataframe tbody tr th:only-of-type {\n        vertical-align: middle;\n    }\n\n    .dataframe tbody tr th {\n        vertical-align: top;\n    }\n\n    .dataframe thead th {\n        text-align: right;\n    }\n</style>\n<table border=\"1\" class=\"dataframe\">\n  <thead>\n    <tr style=\"text-align: right;\">\n      <th></th>\n      <th>customer_id</th>\n      <th>customer_zip_code_prefix</th>\n      <th>customer_geolocation_lat</th>\n      <th>customer_geolocation_lng</th>\n    </tr>\n  </thead>\n  <tbody>\n    <tr>\n      <th>0</th>\n      <td>06b8999e2fba1a1fbc88172c00ba8bc7</td>\n      <td>14409</td>\n      <td>-20.498489</td>\n      <td>-47.396929</td>\n    </tr>\n    <tr>\n      <th>1</th>\n      <td>18955e83d337fd6b2def6b18a428ac77</td>\n      <td>9790</td>\n      <td>-23.727992</td>\n      <td>-46.542848</td>\n    </tr>\n    <tr>\n      <th>2</th>\n      <td>4e7b3e00288586ebd08712fdd0374a03</td>\n      <td>1151</td>\n      <td>-23.531642</td>\n      <td>-46.656289</td>\n    </tr>\n    <tr>\n      <th>3</th>\n      <td>b2b6027bc5c5109e529d4dc6358b12c3</td>\n      <td>8775</td>\n      <td>-23.499702</td>\n      <td>-46.185233</td>\n    </tr>\n    <tr>\n      <th>4</th>\n      <td>4f2d8ab171c80ec8364f7c12e35b23ad</td>\n      <td>13056</td>\n      <td>-22.975100</td>\n      <td>-47.142925</td>\n    </tr>\n  </tbody>\n</table>\n</div>"
     },
     "execution_count": 104,
     "metadata": {},
     "output_type": "execute_result"
    }
   ],
   "source": [
    "customers_geolocation_df.head()"
   ]
  },
  {
   "cell_type": "code",
   "execution_count": 105,
   "id": "aa42be6a413e3904",
   "metadata": {
    "ExecuteTime": {
     "end_time": "2023-11-08T23:55:31.661565Z",
     "start_time": "2023-11-08T23:55:31.642593Z"
    }
   },
   "outputs": [],
   "source": [
    "sellers_geolocation_df = pd.merge(sellers_df, geolocation_df, how=\"left\", left_on='seller_zip_code_prefix', right_on='geolocation_zip_code_prefix')\n",
    "sellers_geolocation_df.dropna(inplace=True)\n",
    "sellers_geolocation_df.rename(columns={\"geolocation_lat\": \"seller_geolocation_lat\", \"geolocation_lng\": \"seller_geolocation_lng\"}, inplace=True)"
   ]
  },
  {
   "cell_type": "code",
   "execution_count": 106,
   "id": "8eb298cea5341a05",
   "metadata": {
    "ExecuteTime": {
     "end_time": "2023-11-08T23:55:31.661876Z",
     "start_time": "2023-11-08T23:55:31.649298Z"
    }
   },
   "outputs": [
    {
     "data": {
      "text/plain": "                          seller_id  seller_zip_code_prefix  \\\n0  3442f8959a84dea7ee197c632cb2df15                   13023   \n1  d1b65fc7debc3361ea86b5f14c68d2e2                   13844   \n2  ce3ad9de960102d0677a81f5d0bb7b2d                   20031   \n3  c0f3eea2e14555b6faeea3dd58c1b1c3                    4195   \n4  51a04a8a6bdcb23deccc82b0b80742cf                   12914   \n\n   seller_geolocation_lat  seller_geolocation_lng  \n0              -22.893848              -47.061337  \n1              -22.383437              -46.947927  \n2              -22.909572              -43.177703  \n3              -23.657242              -46.612831  \n4              -22.964803              -46.534419  ",
      "text/html": "<div>\n<style scoped>\n    .dataframe tbody tr th:only-of-type {\n        vertical-align: middle;\n    }\n\n    .dataframe tbody tr th {\n        vertical-align: top;\n    }\n\n    .dataframe thead th {\n        text-align: right;\n    }\n</style>\n<table border=\"1\" class=\"dataframe\">\n  <thead>\n    <tr style=\"text-align: right;\">\n      <th></th>\n      <th>seller_id</th>\n      <th>seller_zip_code_prefix</th>\n      <th>seller_geolocation_lat</th>\n      <th>seller_geolocation_lng</th>\n    </tr>\n  </thead>\n  <tbody>\n    <tr>\n      <th>0</th>\n      <td>3442f8959a84dea7ee197c632cb2df15</td>\n      <td>13023</td>\n      <td>-22.893848</td>\n      <td>-47.061337</td>\n    </tr>\n    <tr>\n      <th>1</th>\n      <td>d1b65fc7debc3361ea86b5f14c68d2e2</td>\n      <td>13844</td>\n      <td>-22.383437</td>\n      <td>-46.947927</td>\n    </tr>\n    <tr>\n      <th>2</th>\n      <td>ce3ad9de960102d0677a81f5d0bb7b2d</td>\n      <td>20031</td>\n      <td>-22.909572</td>\n      <td>-43.177703</td>\n    </tr>\n    <tr>\n      <th>3</th>\n      <td>c0f3eea2e14555b6faeea3dd58c1b1c3</td>\n      <td>4195</td>\n      <td>-23.657242</td>\n      <td>-46.612831</td>\n    </tr>\n    <tr>\n      <th>4</th>\n      <td>51a04a8a6bdcb23deccc82b0b80742cf</td>\n      <td>12914</td>\n      <td>-22.964803</td>\n      <td>-46.534419</td>\n    </tr>\n  </tbody>\n</table>\n</div>"
     },
     "execution_count": 106,
     "metadata": {},
     "output_type": "execute_result"
    }
   ],
   "source": [
    "sellers_geolocation_df.head()"
   ]
  },
  {
   "attachments": {},
   "cell_type": "markdown",
   "id": "afba5cfa6dc877de",
   "metadata": {},
   "source": [
    "### Preprocess products data"
   ]
  },
  {
   "cell_type": "code",
   "execution_count": 107,
   "id": "f4a70a87917c83f6",
   "metadata": {
    "ExecuteTime": {
     "end_time": "2023-11-08T23:55:31.673368Z",
     "start_time": "2023-11-08T23:55:31.652933Z"
    }
   },
   "outputs": [],
   "source": [
    "products_df.drop(['product_name_lenght', 'product_description_lenght', 'product_photos_qty'], axis=1, inplace=True)\n",
    "products_df.product_category_name = products_df.product_category_name.astype(str)\n",
    "products_df.dropna(inplace=True)"
   ]
  },
  {
   "cell_type": "code",
   "execution_count": 108,
   "id": "5e4e03d3ca78dc49",
   "metadata": {
    "ExecuteTime": {
     "end_time": "2023-11-08T23:55:31.699225Z",
     "start_time": "2023-11-08T23:55:31.660798Z"
    }
   },
   "outputs": [
    {
     "data": {
      "text/plain": "                         product_id  product_category_name  product_weight_g  \\\n0  1e9e8ef04dbcff4541ed26657ea517e5             perfumaria             225.0   \n1  3aa071139cb16b67ca9e5dea641aaa2f                  artes            1000.0   \n2  96bd76ec8810374ed1b65e291975717f          esporte_lazer             154.0   \n3  cef67bcfe19066a932b7673e239eb23d                  bebes             371.0   \n4  9dc1a7de274444849c219cff195d0b71  utilidades_domesticas             625.0   \n\n   product_length_cm  product_height_cm  product_width_cm  \n0               16.0               10.0              14.0  \n1               30.0               18.0              20.0  \n2               18.0                9.0              15.0  \n3               26.0                4.0              26.0  \n4               20.0               17.0              13.0  ",
      "text/html": "<div>\n<style scoped>\n    .dataframe tbody tr th:only-of-type {\n        vertical-align: middle;\n    }\n\n    .dataframe tbody tr th {\n        vertical-align: top;\n    }\n\n    .dataframe thead th {\n        text-align: right;\n    }\n</style>\n<table border=\"1\" class=\"dataframe\">\n  <thead>\n    <tr style=\"text-align: right;\">\n      <th></th>\n      <th>product_id</th>\n      <th>product_category_name</th>\n      <th>product_weight_g</th>\n      <th>product_length_cm</th>\n      <th>product_height_cm</th>\n      <th>product_width_cm</th>\n    </tr>\n  </thead>\n  <tbody>\n    <tr>\n      <th>0</th>\n      <td>1e9e8ef04dbcff4541ed26657ea517e5</td>\n      <td>perfumaria</td>\n      <td>225.0</td>\n      <td>16.0</td>\n      <td>10.0</td>\n      <td>14.0</td>\n    </tr>\n    <tr>\n      <th>1</th>\n      <td>3aa071139cb16b67ca9e5dea641aaa2f</td>\n      <td>artes</td>\n      <td>1000.0</td>\n      <td>30.0</td>\n      <td>18.0</td>\n      <td>20.0</td>\n    </tr>\n    <tr>\n      <th>2</th>\n      <td>96bd76ec8810374ed1b65e291975717f</td>\n      <td>esporte_lazer</td>\n      <td>154.0</td>\n      <td>18.0</td>\n      <td>9.0</td>\n      <td>15.0</td>\n    </tr>\n    <tr>\n      <th>3</th>\n      <td>cef67bcfe19066a932b7673e239eb23d</td>\n      <td>bebes</td>\n      <td>371.0</td>\n      <td>26.0</td>\n      <td>4.0</td>\n      <td>26.0</td>\n    </tr>\n    <tr>\n      <th>4</th>\n      <td>9dc1a7de274444849c219cff195d0b71</td>\n      <td>utilidades_domesticas</td>\n      <td>625.0</td>\n      <td>20.0</td>\n      <td>17.0</td>\n      <td>13.0</td>\n    </tr>\n  </tbody>\n</table>\n</div>"
     },
     "execution_count": 108,
     "metadata": {},
     "output_type": "execute_result"
    }
   ],
   "source": [
    "products_df.head()"
   ]
  },
  {
   "attachments": {},
   "cell_type": "markdown",
   "id": "8075e66381adc369",
   "metadata": {},
   "source": [
    "### Merge order items data with sellers and product information"
   ]
  },
  {
   "cell_type": "code",
   "execution_count": 109,
   "id": "91c9a6d799287242",
   "metadata": {
    "ExecuteTime": {
     "end_time": "2023-11-08T23:55:31.785592Z",
     "start_time": "2023-11-08T23:55:31.697211Z"
    }
   },
   "outputs": [],
   "source": [
    "order_items_df.shipping_limit_date = pd.to_datetime(pd.to_datetime(order_items_df.shipping_limit_date, format='%Y-%m-%d %H:%M:%S').dt.date)\n",
    "order_items_sellers_geolocation_df = pd.merge(order_items_df, sellers_geolocation_df, how='left', on='seller_id')\n",
    "order_items_sellers_geolocation_df.dropna(inplace=True)\n",
    "order_items_sellers_geolocation_products_df = pd.merge(order_items_sellers_geolocation_df, products_df, how='left', on='product_id')\n",
    "order_items_sellers_geolocation_products_df.dropna(inplace=True)"
   ]
  },
  {
   "cell_type": "code",
   "execution_count": 110,
   "id": "9acfa77ea8d18c9d",
   "metadata": {
    "ExecuteTime": {
     "end_time": "2023-11-08T23:55:31.796863Z",
     "start_time": "2023-11-08T23:55:31.760588Z"
    }
   },
   "outputs": [
    {
     "data": {
      "text/plain": "                                order_id  order_item_id  \\\n0       00010242fe8c5a6d1ba2dd792cb16214              1   \n1       00018f77f2f0320c557190d7a144bdd3              1   \n2       000229ec398224ef6ca0657da4fc703e              1   \n3       00024acbcdf0a6daa1e931b038114c75              1   \n4       00042b26cf59d7ce69dfabb4e55b4fd9              1   \n...                                  ...            ...   \n112392  fffc94f6ce00a00581880bf54a75a037              1   \n112393  fffcd46ef2263f404302a634eb57f7eb              1   \n112394  fffce4705a9662cd70adb13d4a31832d              1   \n112395  fffe18544ffabc95dfada21779c9644f              1   \n112396  fffe41c64501cc87c801fd61db3f6244              1   \n\n                              product_id                         seller_id  \\\n0       4244733e06e7ecb4970a6e2683c13e61  48436dade18ac8b2bce089ec2a041202   \n1       e5f2d52b802189ee658865ca93d83a8f  dd7ddc04e1b6c2c614352b383efe2d36   \n2       c777355d18b72b67abbeef9df44fd0fd  5b51032eddd242adc84c38acab88f23d   \n3       7634da152a4610f1595efa32f14722fc  9d7a1d34a5052409006425275ba1c2b4   \n4       ac6c3623068f30de03045865e4e10089  df560393f3a51e74553ab94004ba5c87   \n...                                  ...                               ...   \n112392  4aa6014eceb682077f9dc4bffebc05b0  b8bc237ba3788b23da09c0f1f3a3288c   \n112393  32e07fd915822b0765e448c4dd74c828  f3c38ab652836d21de61fb8314b69182   \n112394  72a30483855e2eafc67aee5dc2560482  c3cfdc648177fdbbbb35635a37472c53   \n112395  9c422a519119dcad7575db5af1ba540e  2b3e4a2a3ea8e01938cabda2a3e5cc79   \n112396  350688d9dc1e75ff97be326363655e01  f7ccf836d21b2fb1de37564105216cc1   \n\n       shipping_limit_date   price  freight_value  seller_zip_code_prefix  \\\n0               2017-09-19   58.90          13.29                 27277.0   \n1               2017-05-03  239.90          19.93                  3471.0   \n2               2018-01-18  199.00          17.87                 37564.0   \n3               2018-08-15   12.99          12.79                 14403.0   \n4               2017-02-13  199.90          18.14                 87900.0   \n...                    ...     ...            ...                     ...   \n112392          2018-05-02  299.99          43.41                 88303.0   \n112393          2018-07-20  350.00          36.53                  1206.0   \n112394          2017-10-30   99.90          16.95                 80610.0   \n112395          2017-08-21   55.99           8.72                  4733.0   \n112396          2018-06-12   43.00          12.79                 14940.0   \n\n        seller_geolocation_lat  seller_geolocation_lng  \\\n0                   -22.496953              -44.127492   \n1                   -23.565096              -46.518565   \n2                   -22.262584              -46.171124   \n3                   -20.553624              -47.387359   \n4                   -22.929384              -53.135873   \n...                        ...                     ...   \n112392              -26.912574              -48.673980   \n112393              -23.535864              -46.642819   \n112394              -25.469955              -49.289821   \n112395              -23.635530              -46.694031   \n112396              -21.757321              -48.829744   \n\n         product_category_name  product_weight_g  product_length_cm  \\\n0                   cool_stuff             650.0               28.0   \n1                     pet_shop           30000.0               50.0   \n2             moveis_decoracao            3050.0               33.0   \n3                   perfumaria             200.0               16.0   \n4           ferramentas_jardim            3750.0               35.0   \n...                        ...               ...                ...   \n112392   utilidades_domesticas           10150.0               89.0   \n112393  informatica_acessorios            8950.0               45.0   \n112394           esporte_lazer             967.0               21.0   \n112395  informatica_acessorios             100.0               20.0   \n112396         cama_mesa_banho             600.0               30.0   \n\n        product_height_cm  product_width_cm  \n0                     9.0              14.0  \n1                    30.0              40.0  \n2                    13.0              33.0  \n3                    10.0              15.0  \n4                    40.0              30.0  \n...                   ...               ...  \n112392               15.0              40.0  \n112393               26.0              38.0  \n112394               24.0              19.0  \n112395               20.0              20.0  \n112396                3.0              19.0  \n\n[112379 rows x 15 columns]",
      "text/html": "<div>\n<style scoped>\n    .dataframe tbody tr th:only-of-type {\n        vertical-align: middle;\n    }\n\n    .dataframe tbody tr th {\n        vertical-align: top;\n    }\n\n    .dataframe thead th {\n        text-align: right;\n    }\n</style>\n<table border=\"1\" class=\"dataframe\">\n  <thead>\n    <tr style=\"text-align: right;\">\n      <th></th>\n      <th>order_id</th>\n      <th>order_item_id</th>\n      <th>product_id</th>\n      <th>seller_id</th>\n      <th>shipping_limit_date</th>\n      <th>price</th>\n      <th>freight_value</th>\n      <th>seller_zip_code_prefix</th>\n      <th>seller_geolocation_lat</th>\n      <th>seller_geolocation_lng</th>\n      <th>product_category_name</th>\n      <th>product_weight_g</th>\n      <th>product_length_cm</th>\n      <th>product_height_cm</th>\n      <th>product_width_cm</th>\n    </tr>\n  </thead>\n  <tbody>\n    <tr>\n      <th>0</th>\n      <td>00010242fe8c5a6d1ba2dd792cb16214</td>\n      <td>1</td>\n      <td>4244733e06e7ecb4970a6e2683c13e61</td>\n      <td>48436dade18ac8b2bce089ec2a041202</td>\n      <td>2017-09-19</td>\n      <td>58.90</td>\n      <td>13.29</td>\n      <td>27277.0</td>\n      <td>-22.496953</td>\n      <td>-44.127492</td>\n      <td>cool_stuff</td>\n      <td>650.0</td>\n      <td>28.0</td>\n      <td>9.0</td>\n      <td>14.0</td>\n    </tr>\n    <tr>\n      <th>1</th>\n      <td>00018f77f2f0320c557190d7a144bdd3</td>\n      <td>1</td>\n      <td>e5f2d52b802189ee658865ca93d83a8f</td>\n      <td>dd7ddc04e1b6c2c614352b383efe2d36</td>\n      <td>2017-05-03</td>\n      <td>239.90</td>\n      <td>19.93</td>\n      <td>3471.0</td>\n      <td>-23.565096</td>\n      <td>-46.518565</td>\n      <td>pet_shop</td>\n      <td>30000.0</td>\n      <td>50.0</td>\n      <td>30.0</td>\n      <td>40.0</td>\n    </tr>\n    <tr>\n      <th>2</th>\n      <td>000229ec398224ef6ca0657da4fc703e</td>\n      <td>1</td>\n      <td>c777355d18b72b67abbeef9df44fd0fd</td>\n      <td>5b51032eddd242adc84c38acab88f23d</td>\n      <td>2018-01-18</td>\n      <td>199.00</td>\n      <td>17.87</td>\n      <td>37564.0</td>\n      <td>-22.262584</td>\n      <td>-46.171124</td>\n      <td>moveis_decoracao</td>\n      <td>3050.0</td>\n      <td>33.0</td>\n      <td>13.0</td>\n      <td>33.0</td>\n    </tr>\n    <tr>\n      <th>3</th>\n      <td>00024acbcdf0a6daa1e931b038114c75</td>\n      <td>1</td>\n      <td>7634da152a4610f1595efa32f14722fc</td>\n      <td>9d7a1d34a5052409006425275ba1c2b4</td>\n      <td>2018-08-15</td>\n      <td>12.99</td>\n      <td>12.79</td>\n      <td>14403.0</td>\n      <td>-20.553624</td>\n      <td>-47.387359</td>\n      <td>perfumaria</td>\n      <td>200.0</td>\n      <td>16.0</td>\n      <td>10.0</td>\n      <td>15.0</td>\n    </tr>\n    <tr>\n      <th>4</th>\n      <td>00042b26cf59d7ce69dfabb4e55b4fd9</td>\n      <td>1</td>\n      <td>ac6c3623068f30de03045865e4e10089</td>\n      <td>df560393f3a51e74553ab94004ba5c87</td>\n      <td>2017-02-13</td>\n      <td>199.90</td>\n      <td>18.14</td>\n      <td>87900.0</td>\n      <td>-22.929384</td>\n      <td>-53.135873</td>\n      <td>ferramentas_jardim</td>\n      <td>3750.0</td>\n      <td>35.0</td>\n      <td>40.0</td>\n      <td>30.0</td>\n    </tr>\n    <tr>\n      <th>...</th>\n      <td>...</td>\n      <td>...</td>\n      <td>...</td>\n      <td>...</td>\n      <td>...</td>\n      <td>...</td>\n      <td>...</td>\n      <td>...</td>\n      <td>...</td>\n      <td>...</td>\n      <td>...</td>\n      <td>...</td>\n      <td>...</td>\n      <td>...</td>\n      <td>...</td>\n    </tr>\n    <tr>\n      <th>112392</th>\n      <td>fffc94f6ce00a00581880bf54a75a037</td>\n      <td>1</td>\n      <td>4aa6014eceb682077f9dc4bffebc05b0</td>\n      <td>b8bc237ba3788b23da09c0f1f3a3288c</td>\n      <td>2018-05-02</td>\n      <td>299.99</td>\n      <td>43.41</td>\n      <td>88303.0</td>\n      <td>-26.912574</td>\n      <td>-48.673980</td>\n      <td>utilidades_domesticas</td>\n      <td>10150.0</td>\n      <td>89.0</td>\n      <td>15.0</td>\n      <td>40.0</td>\n    </tr>\n    <tr>\n      <th>112393</th>\n      <td>fffcd46ef2263f404302a634eb57f7eb</td>\n      <td>1</td>\n      <td>32e07fd915822b0765e448c4dd74c828</td>\n      <td>f3c38ab652836d21de61fb8314b69182</td>\n      <td>2018-07-20</td>\n      <td>350.00</td>\n      <td>36.53</td>\n      <td>1206.0</td>\n      <td>-23.535864</td>\n      <td>-46.642819</td>\n      <td>informatica_acessorios</td>\n      <td>8950.0</td>\n      <td>45.0</td>\n      <td>26.0</td>\n      <td>38.0</td>\n    </tr>\n    <tr>\n      <th>112394</th>\n      <td>fffce4705a9662cd70adb13d4a31832d</td>\n      <td>1</td>\n      <td>72a30483855e2eafc67aee5dc2560482</td>\n      <td>c3cfdc648177fdbbbb35635a37472c53</td>\n      <td>2017-10-30</td>\n      <td>99.90</td>\n      <td>16.95</td>\n      <td>80610.0</td>\n      <td>-25.469955</td>\n      <td>-49.289821</td>\n      <td>esporte_lazer</td>\n      <td>967.0</td>\n      <td>21.0</td>\n      <td>24.0</td>\n      <td>19.0</td>\n    </tr>\n    <tr>\n      <th>112395</th>\n      <td>fffe18544ffabc95dfada21779c9644f</td>\n      <td>1</td>\n      <td>9c422a519119dcad7575db5af1ba540e</td>\n      <td>2b3e4a2a3ea8e01938cabda2a3e5cc79</td>\n      <td>2017-08-21</td>\n      <td>55.99</td>\n      <td>8.72</td>\n      <td>4733.0</td>\n      <td>-23.635530</td>\n      <td>-46.694031</td>\n      <td>informatica_acessorios</td>\n      <td>100.0</td>\n      <td>20.0</td>\n      <td>20.0</td>\n      <td>20.0</td>\n    </tr>\n    <tr>\n      <th>112396</th>\n      <td>fffe41c64501cc87c801fd61db3f6244</td>\n      <td>1</td>\n      <td>350688d9dc1e75ff97be326363655e01</td>\n      <td>f7ccf836d21b2fb1de37564105216cc1</td>\n      <td>2018-06-12</td>\n      <td>43.00</td>\n      <td>12.79</td>\n      <td>14940.0</td>\n      <td>-21.757321</td>\n      <td>-48.829744</td>\n      <td>cama_mesa_banho</td>\n      <td>600.0</td>\n      <td>30.0</td>\n      <td>3.0</td>\n      <td>19.0</td>\n    </tr>\n  </tbody>\n</table>\n<p>112379 rows × 15 columns</p>\n</div>"
     },
     "execution_count": 110,
     "metadata": {},
     "output_type": "execute_result"
    }
   ],
   "source": [
    "order_items_sellers_geolocation_products_df"
   ]
  },
  {
   "attachments": {},
   "cell_type": "markdown",
   "id": "5adccbcca408241f",
   "metadata": {},
   "source": [
    "### Merge orders with order items and customers_geolocation"
   ]
  },
  {
   "cell_type": "code",
   "execution_count": 111,
   "id": "94adcfb0583edc69",
   "metadata": {
    "ExecuteTime": {
     "end_time": "2023-11-08T23:55:31.898357Z",
     "start_time": "2023-11-08T23:55:31.765438Z"
    }
   },
   "outputs": [],
   "source": [
    "orders_order_items_sellers_geolocation_products_df = pd.merge(orders_df, order_items_sellers_geolocation_products_df, how='left', on='order_id')\n",
    "df = pd.merge(orders_order_items_sellers_geolocation_products_df, customers_geolocation_df, how='left', on='customer_id')\n",
    "df.dropna(inplace=True)"
   ]
  },
  {
   "cell_type": "code",
   "execution_count": 112,
   "id": "a92240252dc8ad6c",
   "metadata": {
    "ExecuteTime": {
     "end_time": "2023-11-08T23:55:31.910151Z",
     "start_time": "2023-11-08T23:55:31.899288Z"
    }
   },
   "outputs": [],
   "source": [
    "df = df[df.shipping_limit_date >= df.order_delivered_carrier_date]"
   ]
  },
  {
   "cell_type": "code",
   "execution_count": 113,
   "id": "38802780368213dc",
   "metadata": {
    "ExecuteTime": {
     "end_time": "2023-11-08T23:55:31.916543Z",
     "start_time": "2023-11-08T23:55:31.911449Z"
    }
   },
   "outputs": [],
   "source": [
    "df.drop(['order_id', 'customer_id', 'order_purchase_timestamp', 'order_delivered_carrier_date', 'order_item_id', 'product_id', 'seller_id', 'shipping_limit_date'], axis=1, inplace=True)"
   ]
  },
  {
   "cell_type": "code",
   "execution_count": 114,
   "id": "9916681bbbde5d72",
   "metadata": {
    "ExecuteTime": {
     "end_time": "2023-11-08T23:55:31.925042Z",
     "start_time": "2023-11-08T23:55:31.917212Z"
    }
   },
   "outputs": [
    {
     "data": {
      "text/plain": "False"
     },
     "execution_count": 114,
     "metadata": {},
     "output_type": "execute_result"
    }
   ],
   "source": [
    "df.isnull().values.any()"
   ]
  },
  {
   "cell_type": "code",
   "execution_count": 115,
   "id": "26cb6a131d8fa9f1",
   "metadata": {
    "ExecuteTime": {
     "end_time": "2023-11-08T23:55:31.925267Z",
     "start_time": "2023-11-08T23:55:31.922675Z"
    }
   },
   "outputs": [
    {
     "data": {
      "text/plain": "0.05381306218224482"
     },
     "execution_count": 115,
     "metadata": {},
     "output_type": "execute_result"
    }
   ],
   "source": [
    "df['anomaly'].sum() / df.shape[0]"
   ]
  },
  {
   "attachments": {},
   "cell_type": "markdown",
   "id": "d55dc1361bc769ff",
   "metadata": {},
   "source": [
    "Percentage of anomalies remains to be around 6.6%."
   ]
  },
  {
   "cell_type": "code",
   "execution_count": 116,
   "id": "c72ed982db151108",
   "metadata": {
    "ExecuteTime": {
     "end_time": "2023-11-08T23:55:31.936292Z",
     "start_time": "2023-11-08T23:55:31.925949Z"
    }
   },
   "outputs": [],
   "source": [
    "def haversine(customer_lng, customer_lat, seller_lng, seller_lat):\n",
    "    lon1, lat1, lon2, lat2 = map(np.radians, [customer_lng, customer_lat, seller_lng, seller_lat])\n",
    "\n",
    "    lon = seller_lng - customer_lng\n",
    "    lat = seller_lat - customer_lat\n",
    "\n",
    "    r = np.sin(lat / 2.0) ** 2 + np.cos(customer_lat) * np.cos(seller_lat) * np.sin(lon / 2.0) ** 2\n",
    "\n",
    "    distance = 6371 * 2 * np.arcsin(np.sqrt(r))\n",
    "    return distance\n",
    "\n",
    "df['distance'] = haversine(df['customer_geolocation_lng'], df['customer_geolocation_lat'], df['seller_geolocation_lng'], df['seller_geolocation_lat'])"
   ]
  },
  {
   "cell_type": "code",
   "execution_count": 117,
   "outputs": [],
   "source": [
    "from sklearn.preprocessing import OrdinalEncoder\n",
    "encoder = OrdinalEncoder()\n",
    "df[['product_category_name']] = encoder.fit_transform(df[['product_category_name']])"
   ],
   "metadata": {
    "collapsed": false,
    "ExecuteTime": {
     "end_time": "2023-11-08T23:55:31.961605Z",
     "start_time": "2023-11-08T23:55:31.934262Z"
    }
   },
   "id": "91d652e414351640"
  },
  {
   "cell_type": "code",
   "execution_count": 118,
   "outputs": [],
   "source": [
    "df.to_csv('temp/olist_orders_dataset_df.csv', index=False)"
   ],
   "metadata": {
    "collapsed": false,
    "ExecuteTime": {
     "end_time": "2023-11-08T23:55:32.562359Z",
     "start_time": "2023-11-08T23:55:31.948838Z"
    }
   },
   "id": "49cf23343d2b2b43"
  },
  {
   "cell_type": "code",
   "execution_count": null,
   "outputs": [],
   "source": [],
   "metadata": {
    "collapsed": false
   },
   "id": "13642f7bb647368"
  }
 ],
 "metadata": {
  "kernelspec": {
   "display_name": "Python 3 (ipykernel)",
   "language": "python",
   "name": "python3"
  },
  "language_info": {
   "codemirror_mode": {
    "name": "ipython",
    "version": 3
   },
   "file_extension": ".py",
   "mimetype": "text/x-python",
   "name": "python",
   "nbconvert_exporter": "python",
   "pygments_lexer": "ipython3",
   "version": "3.11.4"
  }
 },
 "nbformat": 4,
 "nbformat_minor": 5
}
