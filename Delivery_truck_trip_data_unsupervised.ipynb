{
 "cells": [
  {
   "attachments": {},
   "cell_type": "markdown",
   "id": "af5a0dc7f918e71f",
   "metadata": {
    "collapsed": false
   },
   "source": [
    "# Unsupervised methods"
   ]
  },
  {
   "attachments": {},
   "cell_type": "markdown",
   "id": "8e784feee5c55a48",
   "metadata": {
    "collapsed": false
   },
   "source": [
    "### Preprocess the dataset for clustering algorithms."
   ]
  },
  {
   "attachments": {},
   "cell_type": "markdown",
   "id": "8bcdf26c36984353",
   "metadata": {
    "collapsed": false
   },
   "source": [
    "Using only selected features\n",
    "\n",
    "Transform the features to follow a normal distribution"
   ]
  },
  {
   "cell_type": "code",
   "execution_count": 13,
   "outputs": [],
   "source": [
    "import pandas as pd\n",
    "\n",
    "df = pd.read_csv('temp/Delivery_truck_trip_data_df.csv')"
   ],
   "metadata": {
    "collapsed": false,
    "ExecuteTime": {
     "end_time": "2023-11-20T15:06:27.433947Z",
     "start_time": "2023-11-20T15:06:27.359119Z"
    }
   },
   "id": "c1cae7363e9ba2ff"
  },
  {
   "cell_type": "code",
   "execution_count": 14,
   "id": "74e41e6b4165ce57",
   "metadata": {
    "collapsed": false,
    "ExecuteTime": {
     "end_time": "2023-11-20T15:06:27.709957Z",
     "start_time": "2023-11-20T15:06:27.370985Z"
    }
   },
   "outputs": [],
   "source": [
    "df.reset_index(drop=True, inplace=True)\n",
    "X = df.drop(['ontime'], axis=1)\n",
    "y = df['ontime']\n",
    "\n",
    "from sklearn.preprocessing import QuantileTransformer\n",
    "\n",
    "qt = QuantileTransformer(output_distribution='normal')\n",
    "X = qt.fit_transform(X)"
   ]
  },
  {
   "cell_type": "markdown",
   "source": [
    "### Create a Table of performance"
   ],
   "metadata": {
    "collapsed": false
   },
   "id": "63fb2d31094e8280"
  },
  {
   "cell_type": "code",
   "execution_count": 15,
   "outputs": [],
   "source": [
    "from sklearn.metrics import confusion_matrix, accuracy_score, precision_score, recall_score, rand_score, adjusted_mutual_info_score, homogeneity_score, completeness_score, v_measure_score\n",
    "\n",
    "table_of_performance = pd.DataFrame(columns=['algorithm', 'confusion matrix', 'accuracy', 'precision', 'recall', 'rand index', 'mutual information based score', 'homogeneity', 'completeness', 'v-measure'])\n",
    "\n",
    "def add_performance(algorithm, y, y_predict):\n",
    "    global table_of_performance\n",
    "\n",
    "    cm = confusion_matrix(y, y_predict)\n",
    "    accuracy = accuracy_score(y, y_predict)\n",
    "    precision = precision_score(y, y_predict)\n",
    "    recall = recall_score(y, y_predict)\n",
    "    rand_index = rand_score(y, y_predict)\n",
    "    mutual_info_score = adjusted_mutual_info_score(y, y_predict)\n",
    "    homogeneity = homogeneity_score(y, y_predict)\n",
    "    completeness = completeness_score(y, y_predict)\n",
    "    v_measure = v_measure_score(y, y_predict)\n",
    "    \n",
    "    new_row = {'algorithm': algorithm, 'confusion matrix': cm, 'accuracy': accuracy, 'precision': precision, 'recall': recall, 'rand index': rand_index, 'mutual information based score': mutual_info_score, 'homogeneity': homogeneity, 'completeness': completeness, 'v-measure': v_measure}\n",
    "\n",
    "    table_of_performance.loc[len(table_of_performance)] = new_row"
   ],
   "metadata": {
    "collapsed": false,
    "ExecuteTime": {
     "end_time": "2023-11-20T15:06:27.711581Z",
     "start_time": "2023-11-20T15:06:27.404574Z"
    }
   },
   "id": "eee683563644aa0b"
  },
  {
   "attachments": {},
   "cell_type": "markdown",
   "id": "17d4d1078afe257c",
   "metadata": {
    "collapsed": false
   },
   "source": [
    "### Visualization of clustering after PCA"
   ]
  },
  {
   "cell_type": "code",
   "execution_count": 16,
   "id": "edee8b4a73ab3b1",
   "metadata": {
    "collapsed": false,
    "ExecuteTime": {
     "end_time": "2023-11-20T15:06:27.711837Z",
     "start_time": "2023-11-20T15:06:27.407465Z"
    }
   },
   "outputs": [
    {
     "data": {
      "text/plain": "'\\nfrom sklearn.decomposition import  PCA\\nimport numpy as np\\n\\npca = PCA(n_components=2)\\npct = pca.fit_transform(X)\\n\\npct = np.delete(pct, 6745, 0)\\ny_new = np.delete(y.to_numpy(), 6745, 0)\\n\\ny_new = [\\'yellow\\' if elem else \\'blue\\' for elem in y_new]\\n\\ndata = pd.concat([pd.DataFrame(pct), pd.DataFrame(y_new)], axis=1)\\n\\ndata.columns = [\\'x\\', \\'y\\', \\'label\\']\\nimport seaborn as sns\\n\\nsns.scatterplot(data=data, x=\"x\", y=\"y\", hue=\"label\")\\n'"
     },
     "execution_count": 16,
     "metadata": {},
     "output_type": "execute_result"
    }
   ],
   "source": [
    "'''\n",
    "from sklearn.decomposition import  PCA\n",
    "import numpy as np\n",
    "\n",
    "pca = PCA(n_components=2)\n",
    "pct = pca.fit_transform(X)\n",
    "\n",
    "pct = np.delete(pct, 6745, 0)\n",
    "y_new = np.delete(y.to_numpy(), 6745, 0)\n",
    "\n",
    "y_new = ['yellow' if elem else 'blue' for elem in y_new]\n",
    "\n",
    "data = pd.concat([pd.DataFrame(pct), pd.DataFrame(y_new)], axis=1)\n",
    "\n",
    "data.columns = ['x', 'y', 'label']\n",
    "import seaborn as sns\n",
    "\n",
    "sns.scatterplot(data=data, x=\"x\", y=\"y\", hue=\"label\")\n",
    "'''"
   ]
  },
  {
   "attachments": {},
   "cell_type": "markdown",
   "id": "80e818adc66807c3",
   "metadata": {
    "collapsed": false
   },
   "source": [
    "### KMeans"
   ]
  },
  {
   "cell_type": "code",
   "execution_count": 17,
   "id": "d7f1d68f4f0f85b4",
   "metadata": {
    "collapsed": false,
    "ExecuteTime": {
     "end_time": "2023-11-20T15:06:27.712225Z",
     "start_time": "2023-11-20T15:06:27.411056Z"
    }
   },
   "outputs": [
    {
     "data": {
      "text/plain": "'\\nfrom yellowbrick.cluster import KElbowVisualizer\\n\\n# Instantiate the clustering model and visualizer\\nmodel = KMeans()\\nvisualizer = KElbowVisualizer(model, k=(2, 12))\\n\\nvisualizer.fit(X)        # Fit the data to the visualizer\\nvisualizer.show()\\n'"
     },
     "execution_count": 17,
     "metadata": {},
     "output_type": "execute_result"
    }
   ],
   "source": [
    "from sklearn.cluster import KMeans\n",
    "'''\n",
    "from yellowbrick.cluster import KElbowVisualizer\n",
    "\n",
    "# Instantiate the clustering model and visualizer\n",
    "model = KMeans()\n",
    "visualizer = KElbowVisualizer(model, k=(2, 12))\n",
    "\n",
    "visualizer.fit(X)        # Fit the data to the visualizer\n",
    "visualizer.show()\n",
    "'''"
   ]
  },
  {
   "attachments": {},
   "cell_type": "markdown",
   "id": "3594cd2301214a97",
   "metadata": {
    "collapsed": false
   },
   "source": [
    "The optimal number of clusters is 5."
   ]
  },
  {
   "cell_type": "code",
   "execution_count": 18,
   "id": "dd14a2255b10ff8a",
   "metadata": {
    "collapsed": false,
    "ExecuteTime": {
     "end_time": "2023-11-20T15:06:27.713318Z",
     "start_time": "2023-11-20T15:06:27.413890Z"
    }
   },
   "outputs": [
    {
     "data": {
      "text/plain": "cluster  ontime\n0.0      True      2209\n1.0      True      2021\n         False     1482\n0.0      False     1038\nName: count, dtype: int64"
     },
     "execution_count": 18,
     "metadata": {},
     "output_type": "execute_result"
    }
   ],
   "source": [
    "k_means = KMeans(init=\"k-means++\", n_clusters=2, n_init=10, random_state=103)\n",
    "k_means.fit(X)\n",
    "\n",
    "from sklearn.metrics.pairwise import pairwise_distances_argmin\n",
    "\n",
    "k_means_cluster_centers = k_means.cluster_centers_\n",
    "\n",
    "k_means_labels = pairwise_distances_argmin(X, k_means_cluster_centers)\n",
    "\n",
    "from sklearn.metrics.pairwise import pairwise_distances_argmin_min\n",
    "\n",
    "k_means_distances_df = pd.DataFrame(pairwise_distances_argmin_min(X, k_means_cluster_centers)).T\n",
    "k_means_distances_df.columns = ['cluster', 'distance']\n",
    "k_means_distances_df = pd.concat([k_means_distances_df, y], axis=1)\n",
    "k_means_distances_df.value_counts(['cluster', 'ontime'])\n"
   ]
  },
  {
   "cell_type": "code",
   "execution_count": 19,
   "outputs": [],
   "source": [
    "y_predict = k_means_distances_df['cluster'].map({1: False, 0: True})\n",
    "add_performance('KMeans', y, y_predict)\n"
   ],
   "metadata": {
    "collapsed": false,
    "ExecuteTime": {
     "end_time": "2023-11-20T15:06:27.713411Z",
     "start_time": "2023-11-20T15:06:27.549634Z"
    }
   },
   "id": "144ef1af6a884d8b"
  },
  {
   "attachments": {},
   "cell_type": "markdown",
   "id": "41abb8b3203bd9e9",
   "metadata": {
    "collapsed": false
   },
   "source": [
    "### Affinity Propagation"
   ]
  },
  {
   "cell_type": "code",
   "execution_count": 20,
   "id": "1a13d08e89c67ec0",
   "metadata": {
    "collapsed": false,
    "ExecuteTime": {
     "end_time": "2023-11-20T15:06:27.713519Z",
     "start_time": "2023-11-20T15:06:27.571119Z"
    }
   },
   "outputs": [
    {
     "data": {
      "text/plain": "'\\nfrom scipy.spatial.distance import pdist\\n\\nmax(pdist(X))\\n'"
     },
     "execution_count": 20,
     "metadata": {},
     "output_type": "execute_result"
    }
   ],
   "source": [
    "'''\n",
    "from scipy.spatial.distance import pdist\n",
    "\n",
    "max(pdist(X))\n",
    "'''"
   ]
  },
  {
   "cell_type": "code",
   "execution_count": 21,
   "id": "83aeebf4fae5f190",
   "metadata": {
    "collapsed": false,
    "ExecuteTime": {
     "end_time": "2023-11-20T15:06:27.713688Z",
     "start_time": "2023-11-20T15:06:27.584172Z"
    }
   },
   "outputs": [
    {
     "data": {
      "text/plain": "'\\nfrom sklearn.cluster import AffinityPropagation\\n\\npca = PCA(n_components=3)\\npct = pca.fit_transform(X)\\naf = AffinityPropagation(random_state=0).fit(pct)\\ncluster_centers_indices = af.cluster_centers_indices_\\nlabels = af.labels_\\nlen(cluster_centers_indices)\\n'"
     },
     "execution_count": 21,
     "metadata": {},
     "output_type": "execute_result"
    }
   ],
   "source": [
    "'''\n",
    "from sklearn.cluster import AffinityPropagation\n",
    "\n",
    "pca = PCA(n_components=3)\n",
    "pct = pca.fit_transform(X)\n",
    "af = AffinityPropagation(random_state=0).fit(pct)\n",
    "cluster_centers_indices = af.cluster_centers_indices_\n",
    "labels = af.labels_\n",
    "len(cluster_centers_indices)\n",
    "'''"
   ]
  },
  {
   "attachments": {},
   "cell_type": "markdown",
   "id": "eb41338438d30383",
   "metadata": {
    "collapsed": false
   },
   "source": [
    "Can't specify the number of clusters"
   ]
  },
  {
   "attachments": {},
   "cell_type": "markdown",
   "id": "b43c049fab84bd57",
   "metadata": {
    "collapsed": false
   },
   "source": [
    "### Mean Shift"
   ]
  },
  {
   "cell_type": "code",
   "execution_count": 22,
   "id": "cf0608e36578f96a",
   "metadata": {
    "collapsed": false,
    "ExecuteTime": {
     "end_time": "2023-11-20T15:06:27.713842Z",
     "start_time": "2023-11-20T15:06:27.593071Z"
    }
   },
   "outputs": [
    {
     "data": {
      "text/plain": "'\\nfrom sklearn.cluster import MeanShift, estimate_bandwidth\\n\\nbandwidth = estimate_bandwidth(X, quantile=0.3)\\n\\nms = MeanShift(bandwidth=bandwidth, bin_seeding=True)\\nms.fit(X)\\nlabels = ms.labels_\\ncluster_centers = ms.cluster_centers_\\n'"
     },
     "execution_count": 22,
     "metadata": {},
     "output_type": "execute_result"
    }
   ],
   "source": [
    "'''\n",
    "from sklearn.cluster import MeanShift, estimate_bandwidth\n",
    "\n",
    "bandwidth = estimate_bandwidth(X, quantile=0.3)\n",
    "\n",
    "ms = MeanShift(bandwidth=bandwidth, bin_seeding=True)\n",
    "ms.fit(X)\n",
    "labels = ms.labels_\n",
    "cluster_centers = ms.cluster_centers_\n",
    "'''"
   ]
  },
  {
   "cell_type": "code",
   "execution_count": 23,
   "id": "a75b6996f5deac65",
   "metadata": {
    "collapsed": false,
    "ExecuteTime": {
     "end_time": "2023-11-20T15:06:27.714073Z",
     "start_time": "2023-11-20T15:06:27.600765Z"
    }
   },
   "outputs": [
    {
     "data": {
      "text/plain": "\"\\nmean_shift_distances_df = pd.DataFrame(pairwise_distances_argmin_min(X, cluster_centers)).T\\nmean_shift_distances_df.columns = ['cluster', 'distance']\\nmean_shift_distances_df = pd.concat([mean_shift_distances_df, y], axis=1)\\nprint(mean_shift_distances_df.groupby(['cluster', 'ontime']).mean())\\nprint(mean_shift_distances_df.groupby(['cluster', 'ontime']).count())\\n\""
     },
     "execution_count": 23,
     "metadata": {},
     "output_type": "execute_result"
    }
   ],
   "source": [
    "'''\n",
    "mean_shift_distances_df = pd.DataFrame(pairwise_distances_argmin_min(X, cluster_centers)).T\n",
    "mean_shift_distances_df.columns = ['cluster', 'distance']\n",
    "mean_shift_distances_df = pd.concat([mean_shift_distances_df, y], axis=1)\n",
    "print(mean_shift_distances_df.groupby(['cluster', 'ontime']).mean())\n",
    "print(mean_shift_distances_df.groupby(['cluster', 'ontime']).count())\n",
    "'''"
   ]
  },
  {
   "attachments": {},
   "cell_type": "markdown",
   "id": "1219b392e88534e4",
   "metadata": {
    "collapsed": false
   },
   "source": [
    "In cluster 1 and 3, most are on time. In cluster 2, most are not on time. In clusters 0, almost half of the points are anomalies."
   ]
  },
  {
   "attachments": {},
   "cell_type": "markdown",
   "id": "3d6d33a4f73efe76",
   "metadata": {
    "collapsed": false
   },
   "source": [
    "In cluster 2, almost half are anomalies. In cluster 0 and 3, most are not anomalies. In cluster 1 most are anomalies."
   ]
  },
  {
   "attachments": {},
   "cell_type": "markdown",
   "id": "7c4cd533e01dc21c",
   "metadata": {
    "collapsed": false
   },
   "source": [
    "### Hierarchical clustering"
   ]
  },
  {
   "cell_type": "code",
   "execution_count": 24,
   "id": "56450ecfc98e3128",
   "metadata": {
    "collapsed": false,
    "ExecuteTime": {
     "end_time": "2023-11-20T15:06:28.084924Z",
     "start_time": "2023-11-20T15:06:27.609583Z"
    }
   },
   "outputs": [],
   "source": [
    "from sklearn.cluster import AgglomerativeClustering\n",
    "\n",
    "hierarchical_clustering = AgglomerativeClustering(n_clusters=2).fit(X)"
   ]
  },
  {
   "cell_type": "code",
   "execution_count": 25,
   "id": "497e88dd3b3f11cb",
   "metadata": {
    "collapsed": false,
    "ExecuteTime": {
     "end_time": "2023-11-20T15:06:28.089642Z",
     "start_time": "2023-11-20T15:06:28.085674Z"
    }
   },
   "outputs": [
    {
     "data": {
      "text/plain": "                count\ncluster ontime       \n1       True     2358\n0       False    2119\n        True     1872\n1       False     401",
      "text/html": "<div>\n<style scoped>\n    .dataframe tbody tr th:only-of-type {\n        vertical-align: middle;\n    }\n\n    .dataframe tbody tr th {\n        vertical-align: top;\n    }\n\n    .dataframe thead th {\n        text-align: right;\n    }\n</style>\n<table border=\"1\" class=\"dataframe\">\n  <thead>\n    <tr style=\"text-align: right;\">\n      <th></th>\n      <th></th>\n      <th>count</th>\n    </tr>\n    <tr>\n      <th>cluster</th>\n      <th>ontime</th>\n      <th></th>\n    </tr>\n  </thead>\n  <tbody>\n    <tr>\n      <th>1</th>\n      <th>True</th>\n      <td>2358</td>\n    </tr>\n    <tr>\n      <th rowspan=\"2\" valign=\"top\">0</th>\n      <th>False</th>\n      <td>2119</td>\n    </tr>\n    <tr>\n      <th>True</th>\n      <td>1872</td>\n    </tr>\n    <tr>\n      <th>1</th>\n      <th>False</th>\n      <td>401</td>\n    </tr>\n  </tbody>\n</table>\n</div>"
     },
     "execution_count": 25,
     "metadata": {},
     "output_type": "execute_result"
    }
   ],
   "source": [
    "hierarchical_clustering_labels_df = pd.DataFrame(hierarchical_clustering.labels_, columns=['cluster'])\n",
    "hierarchical_clustering_labels_df = pd.concat([hierarchical_clustering_labels_df, y], axis=1)\n",
    "pd.DataFrame(hierarchical_clustering_labels_df.value_counts())\n"
   ]
  },
  {
   "cell_type": "code",
   "execution_count": 26,
   "outputs": [],
   "source": [
    "y_predict = hierarchical_clustering_labels_df['cluster'].map({0: False, 1: True})\n",
    "add_performance('hierarchical clustering', y, y_predict)\n"
   ],
   "metadata": {
    "collapsed": false,
    "ExecuteTime": {
     "end_time": "2023-11-20T15:06:28.104114Z",
     "start_time": "2023-11-20T15:06:28.091802Z"
    }
   },
   "id": "bf19232cf5fe7318"
  },
  {
   "attachments": {},
   "cell_type": "markdown",
   "id": "a97bdb4a4e93f966",
   "metadata": {
    "collapsed": false
   },
   "source": [
    "### HDBSCAN"
   ]
  },
  {
   "cell_type": "code",
   "execution_count": 27,
   "id": "c184dfa8fe5e050a",
   "metadata": {
    "collapsed": false,
    "ExecuteTime": {
     "end_time": "2023-11-20T15:06:28.549937Z",
     "start_time": "2023-11-20T15:06:28.104753Z"
    }
   },
   "outputs": [
    {
     "data": {
      "text/plain": "HDBSCAN(min_cluster_size=20)",
      "text/html": "<style>#sk-container-id-1 {color: black;}#sk-container-id-1 pre{padding: 0;}#sk-container-id-1 div.sk-toggleable {background-color: white;}#sk-container-id-1 label.sk-toggleable__label {cursor: pointer;display: block;width: 100%;margin-bottom: 0;padding: 0.3em;box-sizing: border-box;text-align: center;}#sk-container-id-1 label.sk-toggleable__label-arrow:before {content: \"▸\";float: left;margin-right: 0.25em;color: #696969;}#sk-container-id-1 label.sk-toggleable__label-arrow:hover:before {color: black;}#sk-container-id-1 div.sk-estimator:hover label.sk-toggleable__label-arrow:before {color: black;}#sk-container-id-1 div.sk-toggleable__content {max-height: 0;max-width: 0;overflow: hidden;text-align: left;background-color: #f0f8ff;}#sk-container-id-1 div.sk-toggleable__content pre {margin: 0.2em;color: black;border-radius: 0.25em;background-color: #f0f8ff;}#sk-container-id-1 input.sk-toggleable__control:checked~div.sk-toggleable__content {max-height: 200px;max-width: 100%;overflow: auto;}#sk-container-id-1 input.sk-toggleable__control:checked~label.sk-toggleable__label-arrow:before {content: \"▾\";}#sk-container-id-1 div.sk-estimator input.sk-toggleable__control:checked~label.sk-toggleable__label {background-color: #d4ebff;}#sk-container-id-1 div.sk-label input.sk-toggleable__control:checked~label.sk-toggleable__label {background-color: #d4ebff;}#sk-container-id-1 input.sk-hidden--visually {border: 0;clip: rect(1px 1px 1px 1px);clip: rect(1px, 1px, 1px, 1px);height: 1px;margin: -1px;overflow: hidden;padding: 0;position: absolute;width: 1px;}#sk-container-id-1 div.sk-estimator {font-family: monospace;background-color: #f0f8ff;border: 1px dotted black;border-radius: 0.25em;box-sizing: border-box;margin-bottom: 0.5em;}#sk-container-id-1 div.sk-estimator:hover {background-color: #d4ebff;}#sk-container-id-1 div.sk-parallel-item::after {content: \"\";width: 100%;border-bottom: 1px solid gray;flex-grow: 1;}#sk-container-id-1 div.sk-label:hover label.sk-toggleable__label {background-color: #d4ebff;}#sk-container-id-1 div.sk-serial::before {content: \"\";position: absolute;border-left: 1px solid gray;box-sizing: border-box;top: 0;bottom: 0;left: 50%;z-index: 0;}#sk-container-id-1 div.sk-serial {display: flex;flex-direction: column;align-items: center;background-color: white;padding-right: 0.2em;padding-left: 0.2em;position: relative;}#sk-container-id-1 div.sk-item {position: relative;z-index: 1;}#sk-container-id-1 div.sk-parallel {display: flex;align-items: stretch;justify-content: center;background-color: white;position: relative;}#sk-container-id-1 div.sk-item::before, #sk-container-id-1 div.sk-parallel-item::before {content: \"\";position: absolute;border-left: 1px solid gray;box-sizing: border-box;top: 0;bottom: 0;left: 50%;z-index: -1;}#sk-container-id-1 div.sk-parallel-item {display: flex;flex-direction: column;z-index: 1;position: relative;background-color: white;}#sk-container-id-1 div.sk-parallel-item:first-child::after {align-self: flex-end;width: 50%;}#sk-container-id-1 div.sk-parallel-item:last-child::after {align-self: flex-start;width: 50%;}#sk-container-id-1 div.sk-parallel-item:only-child::after {width: 0;}#sk-container-id-1 div.sk-dashed-wrapped {border: 1px dashed gray;margin: 0 0.4em 0.5em 0.4em;box-sizing: border-box;padding-bottom: 0.4em;background-color: white;}#sk-container-id-1 div.sk-label label {font-family: monospace;font-weight: bold;display: inline-block;line-height: 1.2em;}#sk-container-id-1 div.sk-label-container {text-align: center;}#sk-container-id-1 div.sk-container {/* jupyter's `normalize.less` sets `[hidden] { display: none; }` but bootstrap.min.css set `[hidden] { display: none !important; }` so we also need the `!important` here to be able to override the default hidden behavior on the sphinx rendered scikit-learn.org. See: https://github.com/scikit-learn/scikit-learn/issues/21755 */display: inline-block !important;position: relative;}#sk-container-id-1 div.sk-text-repr-fallback {display: none;}</style><div id=\"sk-container-id-1\" class=\"sk-top-container\"><div class=\"sk-text-repr-fallback\"><pre>HDBSCAN(min_cluster_size=20)</pre><b>In a Jupyter environment, please rerun this cell to show the HTML representation or trust the notebook. <br />On GitHub, the HTML representation is unable to render, please try loading this page with nbviewer.org.</b></div><div class=\"sk-container\" hidden><div class=\"sk-item\"><div class=\"sk-estimator sk-toggleable\"><input class=\"sk-toggleable__control sk-hidden--visually\" id=\"sk-estimator-id-1\" type=\"checkbox\" checked><label for=\"sk-estimator-id-1\" class=\"sk-toggleable__label sk-toggleable__label-arrow\">HDBSCAN</label><div class=\"sk-toggleable__content\"><pre>HDBSCAN(min_cluster_size=20)</pre></div></div></div></div></div>"
     },
     "execution_count": 27,
     "metadata": {},
     "output_type": "execute_result"
    }
   ],
   "source": [
    "from sklearn.cluster import HDBSCAN\n",
    "\n",
    "hdb = HDBSCAN(min_cluster_size=20)\n",
    "hdb.fit(X)"
   ]
  },
  {
   "cell_type": "code",
   "execution_count": 28,
   "id": "4761e2a37b72744a",
   "metadata": {
    "collapsed": false,
    "ExecuteTime": {
     "end_time": "2023-11-20T15:06:28.554825Z",
     "start_time": "2023-11-20T15:06:28.552844Z"
    }
   },
   "outputs": [
    {
     "data": {
      "text/plain": "clusters  ontime\n-1        True      557\n          False     223\nName: count, dtype: int64"
     },
     "execution_count": 28,
     "metadata": {},
     "output_type": "execute_result"
    }
   ],
   "source": [
    "hdbscan_labels_df = pd.DataFrame(hdb.labels_, columns=['clusters'])\n",
    "hdbscan_labels_df = pd.concat([hdbscan_labels_df, y], axis=1)\n",
    "hdbscan_labels_df[hdbscan_labels_df.clusters==-1].value_counts()"
   ]
  },
  {
   "cell_type": "code",
   "execution_count": 29,
   "outputs": [],
   "source": [
    "y_predict = hdbscan_labels_df['clusters'].map(lambda x: x >= 0)\n",
    "add_performance('HDBSCAN', y, y_predict)"
   ],
   "metadata": {
    "collapsed": false,
    "ExecuteTime": {
     "end_time": "2023-11-20T15:06:28.568317Z",
     "start_time": "2023-11-20T15:06:28.557035Z"
    }
   },
   "id": "16e73967e5aed84b"
  },
  {
   "attachments": {},
   "cell_type": "markdown",
   "id": "1a0d31fa1c62c417",
   "metadata": {
    "collapsed": false
   },
   "source": [
    "### OPTICS"
   ]
  },
  {
   "cell_type": "code",
   "execution_count": 30,
   "id": "206fafe86f6769ac",
   "metadata": {
    "collapsed": false,
    "ExecuteTime": {
     "end_time": "2023-11-20T15:06:33.699266Z",
     "start_time": "2023-11-20T15:06:28.569056Z"
    }
   },
   "outputs": [
    {
     "name": "stderr",
     "output_type": "stream",
     "text": [
      "/Users/boweigao/miniconda3/lib/python3.11/site-packages/sklearn/cluster/_optics.py:995: RuntimeWarning: divide by zero encountered in divide\n",
      "  ratio = reachability_plot[:-1] / reachability_plot[1:]\n"
     ]
    }
   ],
   "source": [
    "from sklearn.cluster import OPTICS\n",
    "\n",
    "optics = OPTICS(min_samples=2).fit(X)"
   ]
  },
  {
   "cell_type": "code",
   "execution_count": 31,
   "id": "ce7130136a3aefa8",
   "metadata": {
    "collapsed": false,
    "ExecuteTime": {
     "end_time": "2023-11-20T15:06:33.704825Z",
     "start_time": "2023-11-20T15:06:33.700545Z"
    }
   },
   "outputs": [
    {
     "data": {
      "text/plain": "clusters  ontime\n-1        True      1185\n          False      715\n 1298     True         8\n 181      False        8\n 911      True         8\n                    ... \n 238      True         1\n 1370     False        1\n 460      True         1\n 463      False        1\n 279      False        1\nName: count, Length: 1958, dtype: int64"
     },
     "execution_count": 31,
     "metadata": {},
     "output_type": "execute_result"
    }
   ],
   "source": [
    "optics_labels_df = pd.DataFrame(optics.labels_, columns=['clusters'])\n",
    "optics_labels_df = pd.concat([optics_labels_df, y], axis=1)\n",
    "optics_labels_df.value_counts()"
   ]
  },
  {
   "cell_type": "code",
   "execution_count": 32,
   "outputs": [],
   "source": [
    "y_predict = optics_labels_df['clusters'].map(lambda x: x >= 0)\n",
    "add_performance('OPTICS', y, y_predict)"
   ],
   "metadata": {
    "collapsed": false,
    "ExecuteTime": {
     "end_time": "2023-11-20T15:06:33.719558Z",
     "start_time": "2023-11-20T15:06:33.706532Z"
    }
   },
   "id": "faaf86e0df3ba3fc"
  },
  {
   "attachments": {},
   "cell_type": "markdown",
   "id": "8a93749ffdee23ee",
   "metadata": {
    "collapsed": false
   },
   "source": [
    "### BIRCH"
   ]
  },
  {
   "cell_type": "code",
   "execution_count": 33,
   "id": "696c6f72289c3ed9",
   "metadata": {
    "collapsed": false,
    "ExecuteTime": {
     "end_time": "2023-11-20T15:06:34.306104Z",
     "start_time": "2023-11-20T15:06:33.720236Z"
    }
   },
   "outputs": [
    {
     "data": {
      "text/plain": "array([0, 0, 0, ..., 0, 0, 0])"
     },
     "execution_count": 33,
     "metadata": {},
     "output_type": "execute_result"
    }
   ],
   "source": [
    "from sklearn.cluster import Birch\n",
    "\n",
    "brc = Birch(n_clusters=2)\n",
    "brc.fit(X)\n",
    "brc.predict(X)"
   ]
  },
  {
   "cell_type": "code",
   "execution_count": 34,
   "id": "3f489b23d0d04c29",
   "metadata": {
    "collapsed": false,
    "ExecuteTime": {
     "end_time": "2023-11-20T15:06:34.336354Z",
     "start_time": "2023-11-20T15:06:34.314404Z"
    }
   },
   "outputs": [
    {
     "data": {
      "text/plain": "cluster  ontime\n1        True      2358\n0        False     2119\n         True      1872\n1        False      401\nName: count, dtype: int64"
     },
     "execution_count": 34,
     "metadata": {},
     "output_type": "execute_result"
    }
   ],
   "source": [
    "brc_labels_df = pd.DataFrame(brc.labels_, columns=['cluster'])\n",
    "brc_labels_df = pd.concat([brc_labels_df, y], axis=1)\n",
    "brc_labels_df.value_counts()\n"
   ]
  },
  {
   "cell_type": "code",
   "execution_count": 35,
   "outputs": [],
   "source": [
    "y_predict = brc_labels_df['cluster'].map({0: False, 1: True})\n",
    "add_performance('BIRCH', y, y_predict)\n"
   ],
   "metadata": {
    "collapsed": false,
    "ExecuteTime": {
     "end_time": "2023-11-20T15:06:34.354289Z",
     "start_time": "2023-11-20T15:06:34.333354Z"
    }
   },
   "id": "ec780f69bea9ed10"
  },
  {
   "cell_type": "markdown",
   "source": [
    "### Spectral clustering"
   ],
   "metadata": {
    "collapsed": false
   },
   "id": "a8b164589870600d"
  },
  {
   "cell_type": "code",
   "execution_count": 36,
   "outputs": [
    {
     "data": {
      "text/plain": "\"\\nfrom sklearn.cluster import SpectralClustering\\nimport joblib\\n\\nspectral_clustering = SpectralClustering(n_clusters=4, assign_labels='discretize', random_state=0).fit(X)\\njoblib.dump(spectral_clustering, 'temp/Delivery_truck_trip_data_spectral_clustering_model.pkl')\\n\""
     },
     "execution_count": 36,
     "metadata": {},
     "output_type": "execute_result"
    }
   ],
   "source": [
    "'''\n",
    "from sklearn.cluster import SpectralClustering\n",
    "import joblib\n",
    "\n",
    "spectral_clustering = SpectralClustering(n_clusters=4, assign_labels='discretize', random_state=0).fit(X)\n",
    "joblib.dump(spectral_clustering, 'temp/Delivery_truck_trip_data_spectral_clustering_model.pkl')\n",
    "'''"
   ],
   "metadata": {
    "collapsed": false,
    "ExecuteTime": {
     "end_time": "2023-11-20T15:06:34.367088Z",
     "start_time": "2023-11-20T15:06:34.355087Z"
    }
   },
   "id": "ee99b6a6160e4a9c"
  },
  {
   "cell_type": "code",
   "execution_count": 37,
   "outputs": [],
   "source": [
    "# loaded_model = joblib.load('temp/Delivery_truck_trip_data_spectral_clustering_model.pkl')"
   ],
   "metadata": {
    "collapsed": false,
    "ExecuteTime": {
     "end_time": "2023-11-20T15:06:34.374157Z",
     "start_time": "2023-11-20T15:06:34.366129Z"
    }
   },
   "id": "58055057080f0f22"
  },
  {
   "cell_type": "code",
   "execution_count": 38,
   "outputs": [
    {
     "data": {
      "text/plain": "\"\\nprint(pd.DataFrame(loaded_model.labels_).value_counts())\\nspectral_clustering_labels_df = pd.DataFrame(spectral_clustering.labels_, columns=['cluster'])\\nspectral_clustering_labels_df = pd.concat([spectral_clustering_labels_df, y], axis=1)\\nprint(spectral_clustering_labels_df['cluster'].value_counts())\\nprint(spectral_clustering_labels_df.value_counts())\\nprint(spectral_df.value_counts())\\n\""
     },
     "execution_count": 38,
     "metadata": {},
     "output_type": "execute_result"
    }
   ],
   "source": [
    "'''\n",
    "print(pd.DataFrame(loaded_model.labels_).value_counts())\n",
    "spectral_clustering_labels_df = pd.DataFrame(spectral_clustering.labels_, columns=['cluster'])\n",
    "spectral_clustering_labels_df = pd.concat([spectral_clustering_labels_df, y], axis=1)\n",
    "print(spectral_clustering_labels_df['cluster'].value_counts())\n",
    "print(spectral_clustering_labels_df.value_counts())\n",
    "print(spectral_df.value_counts())\n",
    "'''"
   ],
   "metadata": {
    "collapsed": false,
    "ExecuteTime": {
     "end_time": "2023-11-20T15:06:34.381059Z",
     "start_time": "2023-11-20T15:06:34.372292Z"
    }
   },
   "id": "cd7ff3b4adec3f68"
  },
  {
   "cell_type": "markdown",
   "source": [
    "### Performance"
   ],
   "metadata": {
    "collapsed": false
   },
   "id": "e42881bf9dca5ae1"
  },
  {
   "cell_type": "code",
   "execution_count": 39,
   "outputs": [],
   "source": [
    "table_of_performance.to_csv('temp/Delivery_truck_trip_data_unsupervised_performance.csv', index=False)"
   ],
   "metadata": {
    "collapsed": false,
    "ExecuteTime": {
     "end_time": "2023-11-20T15:06:34.422169Z",
     "start_time": "2023-11-20T15:06:34.383898Z"
    }
   },
   "id": "f56cf6bea68c5ea"
  },
  {
   "cell_type": "code",
   "execution_count": 39,
   "outputs": [],
   "source": [],
   "metadata": {
    "collapsed": false,
    "ExecuteTime": {
     "end_time": "2023-11-20T15:06:34.422908Z",
     "start_time": "2023-11-20T15:06:34.395556Z"
    }
   },
   "id": "b4a85c758c55d870"
  }
 ],
 "metadata": {
  "kernelspec": {
   "display_name": "Python 3 (ipykernel)",
   "language": "python",
   "name": "python3"
  },
  "language_info": {
   "codemirror_mode": {
    "name": "ipython",
    "version": 3
   },
   "file_extension": ".py",
   "mimetype": "text/x-python",
   "name": "python",
   "nbconvert_exporter": "python",
   "pygments_lexer": "ipython3",
   "version": "3.11.4"
  }
 },
 "nbformat": 4,
 "nbformat_minor": 5
}
